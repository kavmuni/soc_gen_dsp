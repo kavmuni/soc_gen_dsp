{
 "cells": [
  {
   "cell_type": "code",
   "execution_count": 1,
   "metadata": {},
   "outputs": [],
   "source": [
    "import pandas as pd"
   ]
  },
  {
   "cell_type": "code",
   "execution_count": 2,
   "metadata": {},
   "outputs": [],
   "source": [
    "path=\"/Users/gunnvantsaini/excel_example.xlsx\""
   ]
  },
  {
   "cell_type": "code",
   "execution_count": 4,
   "metadata": {},
   "outputs": [],
   "source": [
    "d=pd.read_excel(path,sheet_name=\"Sheet1\")"
   ]
  },
  {
   "cell_type": "code",
   "execution_count": 5,
   "metadata": {},
   "outputs": [
    {
     "data": {
      "text/html": [
       "<div>\n",
       "<style scoped>\n",
       "    .dataframe tbody tr th:only-of-type {\n",
       "        vertical-align: middle;\n",
       "    }\n",
       "\n",
       "    .dataframe tbody tr th {\n",
       "        vertical-align: top;\n",
       "    }\n",
       "\n",
       "    .dataframe thead th {\n",
       "        text-align: right;\n",
       "    }\n",
       "</style>\n",
       "<table border=\"1\" class=\"dataframe\">\n",
       "  <thead>\n",
       "    <tr style=\"text-align: right;\">\n",
       "      <th></th>\n",
       "      <th>Name</th>\n",
       "      <th>Age</th>\n",
       "    </tr>\n",
       "  </thead>\n",
       "  <tbody>\n",
       "    <tr>\n",
       "      <th>0</th>\n",
       "      <td>A</td>\n",
       "      <td>10</td>\n",
       "    </tr>\n",
       "    <tr>\n",
       "      <th>1</th>\n",
       "      <td>B</td>\n",
       "      <td>20</td>\n",
       "    </tr>\n",
       "    <tr>\n",
       "      <th>2</th>\n",
       "      <td>C</td>\n",
       "      <td>30</td>\n",
       "    </tr>\n",
       "  </tbody>\n",
       "</table>\n",
       "</div>"
      ],
      "text/plain": [
       "  Name  Age\n",
       "0    A   10\n",
       "1    B   20\n",
       "2    C   30"
      ]
     },
     "execution_count": 5,
     "metadata": {},
     "output_type": "execute_result"
    }
   ],
   "source": [
    "d"
   ]
  },
  {
   "cell_type": "code",
   "execution_count": 6,
   "metadata": {},
   "outputs": [],
   "source": [
    "b=pd.read_excel(path,sheet_name=\"Sheet2\")"
   ]
  },
  {
   "cell_type": "code",
   "execution_count": 7,
   "metadata": {},
   "outputs": [
    {
     "data": {
      "text/html": [
       "<div>\n",
       "<style scoped>\n",
       "    .dataframe tbody tr th:only-of-type {\n",
       "        vertical-align: middle;\n",
       "    }\n",
       "\n",
       "    .dataframe tbody tr th {\n",
       "        vertical-align: top;\n",
       "    }\n",
       "\n",
       "    .dataframe thead th {\n",
       "        text-align: right;\n",
       "    }\n",
       "</style>\n",
       "<table border=\"1\" class=\"dataframe\">\n",
       "  <thead>\n",
       "    <tr style=\"text-align: right;\">\n",
       "      <th></th>\n",
       "      <th>Name</th>\n",
       "      <th>Location</th>\n",
       "    </tr>\n",
       "  </thead>\n",
       "  <tbody>\n",
       "    <tr>\n",
       "      <th>0</th>\n",
       "      <td>A</td>\n",
       "      <td>D</td>\n",
       "    </tr>\n",
       "    <tr>\n",
       "      <th>1</th>\n",
       "      <td>B</td>\n",
       "      <td>E</td>\n",
       "    </tr>\n",
       "    <tr>\n",
       "      <th>2</th>\n",
       "      <td>C</td>\n",
       "      <td>F</td>\n",
       "    </tr>\n",
       "  </tbody>\n",
       "</table>\n",
       "</div>"
      ],
      "text/plain": [
       "  Name Location\n",
       "0    A        D\n",
       "1    B        E\n",
       "2    C        F"
      ]
     },
     "execution_count": 7,
     "metadata": {},
     "output_type": "execute_result"
    }
   ],
   "source": [
    "b"
   ]
  },
  {
   "cell_type": "code",
   "execution_count": 9,
   "metadata": {},
   "outputs": [],
   "source": [
    "### API calls with python"
   ]
  },
  {
   "cell_type": "code",
   "execution_count": 10,
   "metadata": {},
   "outputs": [],
   "source": [
    "import requests"
   ]
  },
  {
   "cell_type": "code",
   "execution_count": 11,
   "metadata": {},
   "outputs": [],
   "source": [
    "url=\"https://earthquake.usgs.gov/fdsnws/event/1/query?format=geojson&starttime=2016-10-03&endtime=2016-10-04\""
   ]
  },
  {
   "cell_type": "code",
   "execution_count": 12,
   "metadata": {},
   "outputs": [],
   "source": [
    "a=requests.get(url)"
   ]
  },
  {
   "cell_type": "code",
   "execution_count": 14,
   "metadata": {},
   "outputs": [
    {
     "data": {
      "text/plain": [
       "'{\"type\":\"FeatureCollection\",\"metadata\":{\"generated\":1561525131000,\"url\":\"https://earthquake.usgs.gov/fdsnws/event/1/query?format=geojson&starttime=2016-10-03&endtime=2016-10-04\",\"title\":\"USGS Earthquakes\",\"status\":200,\"api\":\"1.8.1\",\"count\":293},\"features\":[{\"type\":\"Feature\",\"properties\":{\"mag\":0.71,\"place\":\"8km SW of Idyllwild, CA\",\"time\":1475538825200,\"updated\":1475544293288,\"tz\":-420,\"url\":\"https://earthquake.usgs.gov/earthquakes/eventpage/ci37709368\",\"detail\":\"https://earthquake.usgs.gov/fdsnws/event/1/query?eventid=ci37709368&format=geojson\",\"felt\":null,\"cdi\":null,\"mmi\":null,\"alert\":null,\"status\":\"reviewed\",\"tsunami\":0,\"sig\":8,\"net\":\"ci\",\"code\":\"37709368\",\"ids\":\",ci37709368,\",\"sources\":\",ci,\",\"types\":\",cap,general-link,geoserve,nearby-cities,origin,phase-data,scitech-link,\",\"nst\":26,\"dmin\":0.06173,\"rms\":0.13,\"gap\":100,\"magType\":\"ml\",\"type\":\"earthquake\",\"title\":\"M 0.7 - 8km SW of Idyllwild, CA\"},\"geometry\":{\"type\":\"Point\",\"coordinates\":[-116.7825,33.6873333,16.71]},\"id\":\"ci37709368\"},\\n{\"type\":\"Feature\",\"properties\":{\"mag\":2.1,\"place\":\"39km SSW of Redoubt Volcano, Alaska\",\"time\":1475538294843,\"updated\":1560794181227,\"tz\":-480,\"url\":\"https://earthquake.usgs.gov/earthquakes/eventpage/ak016cqhtnfw\",\"detail\":\"https://earthquake.usgs.gov/fdsnws/event/1/query?eventid=ak016cqhtnfw&format=geojson\",\"felt\":null,\"cdi\":null,\"mmi\":null,\"alert\":null,\"status\":\"reviewed\",\"tsunami\":0,\"sig\":68,\"net\":\"ak\",\"code\":\"016cqhtnfw\",\"ids\":\",ak14165786,ak016cqhtnfw,\",\"sources\":\",ak,ak,\",\"types\":\",associate,geoserve,origin,phase-data,\",\"nst\":null,\"dmin\":null,\"rms\":0.33,\"gap\":null,\"magType\":\"ml\",\"type\":\"earthquake\",\"title\":\"M 2.1 - 39km SSW of Redoubt Volcano, Alaska\"},\"geometry\":{\"type\":\"Point\",\"coordinates\":[-153.093,60.1744,128.2]},\"id\":\"ak016cqhtnfw\"},\\n{\"type\":\"Feature\",\"properties\":{\"mag\":2.3,\"place\":\"9km WNW of Cobb, California\",\"time\":1475537874500,\"updated\":1486779959800,\"tz\":-420,\"url\":\"https://earthquake.usgs.gov/earthquakes/eventpage/nc72707026\",\"detail\":\"https://earthquake.usgs.gov/fdsnws/event/1/query?eventid=nc72707026&format=geojson\",\"felt\":2,\"cdi\":2.2,\"mmi\":null,\"alert\":null,\"status\":\"reviewed\",\"tsunami\":0,\"sig\":82,\"net\":\"nc\",\"code\":\"72707026\",\"ids\":\",nc72707026,\",\"sources\":\",nc,\",\"types\":\",cap,dyfi,focal-mechanism,geoserve,nearby-cities,origin,phase-data,scitech-link,\",\"nst\":60,\"dmin\":0.007207,\"rms\":0.05,\"gap\":36,\"magType\":\"md\",\"type\":\"earthquake\",\"title\":\"M 2.3 - 9km WNW of Cobb, California\"},\"geometry\":{\"type\":\"Point\",\"coordinates\":[-122.827,38.84,1.96]},\"id\":\"nc72707026\"},\\n{\"type\":\"Feature\",\"properties\":{\"mag\":0.78,\"place\":\"9km WNW of Cobb, California\",\"time\":1475537852050,\"updated\":1486779951230,\"tz\":-420,\"url\":\"https://earthquake.usgs.gov/earthquakes/eventpage/nc72707031\",\"detail\":\"https://earthquake.usgs.gov/fdsnws/event/1/query?eventid=nc72707031&format=geojson\",\"felt\":null,\"cdi\":null,\"mmi\":null,\"alert\":null,\"status\":\"automatic\",\"tsunami\":0,\"sig\":9,\"net\":\"nc\",\"code\":\"72707031\",\"ids\":\",nc72707031,\",\"sources\":\",nc,\",\"types\":\",geoserve,nearby-cities,origin,phase-data,\",\"nst\":13,\"dmin\":0.008108,\"rms\":0.02,\"gap\":59,\"magType\":\"md\",\"type\":\"earthquake\",\"title\":\"M 0.8 - 9km WNW of Cobb, California\"},\"geometry\":{\"type\":\"Point\",\"coordinates\":[-122.8261642,38.8416672,1.29]},\"id\":\"nc72707031\"},\\n{\"type\":\"Feature\",\"properties\":{\"mag\":0.8,\"place\":\"112km W of Healy, Alaska\",\"time\":1475537601534,\"updated\":1560794180795,\"tz\":-480,\"url\":\"https://earthquake.usgs.gov/earthquakes/eventpage/ak016cqhr7zt\",\"detail\":\"https://earthquake.usgs.gov/fdsnws/event/1/query?eventid=ak016cqhr7zt&format=geojson\",\"felt\":null,\"cdi\":null,\"mmi\":null,\"alert\":null,\"status\":\"reviewed\",\"tsunami\":0,\"sig\":10,\"net\":\"ak\",\"code\":\"016cqhr7zt\",\"ids\":\",ak14165784,ak016cqhr7zt,\",\"sources\":\",ak,ak,\",\"types\":\",associate,geoserve,origin,phase-data,\",\"nst\":null,\"dmin\":null,\"rms\":0.5,\"gap\":null,\"magType\":\"ml\",\"type\":\"earthquake\",\"title\":\"M 0.8 - 112km W of Healy, Alaska\"},\"geometry\":{\"type\":\"Point\",\"coordinates\":[-151.1947,63.6612,3.9]},\"id\":\"ak016cqhr7zt\"},\\n{\"type\":\"Feature\",\"properties\":{\"mag\":3.9,\"place\":\"15km NE of Agrihan, Northern Mariana Islands\",\"time\":1475537384210,\"updated\":1483477843040,\"tz\":600,\"url\":\"https://earthquake.usgs.gov/earthquakes/eventpage/us20007dp5\",\"detail\":\"https://earthquake.usgs.gov/fdsnws/event/1/query?eventid=us20007dp5&format=geojson\",\"felt\":null,\"cdi\":null,\"mmi\":null,\"alert\":null,\"status\":\"reviewed\",\"tsunami\":0,\"sig\":234,\"net\":\"us\",\"code\":\"20007dp5\",\"ids\":\",us20007dp5,\",\"sources\":\",us,\",\"types\":\",geoserve,origin,phase-data,\",\"nst\":null,\"dmin\":3.6,\"rms\":0.47,\"gap\":219,\"magType\":\"mb\",\"type\":\"earthquake\",\"title\":\"M 3.9 - 15km NE of Agrihan, Northern Mariana Islands\"},\"geometry\":{\"type\":\"Point\",\"coordinates\":[145.7717,18.861,192.85]},\"id\":\"us20007dp5\"},\\n{\"type\":\"Feature\",\"properties\":{\"mag\":1.3,\"place\":\"48km W of Talkeetna, Alaska\",\"time\":1475537216754,\"updated\":1560794180294,\"tz\":-480,\"url\":\"https://earthquake.usgs.gov/earthquakes/eventpage/ak016cqhpsp7\",\"detail\":\"https://earthquake.usgs.gov/fdsnws/event/1/query?eventid=ak016cqhpsp7&format=geojson\",\"felt\":null,\"cdi\":null,\"mmi\":null,\"alert\":null,\"status\":\"reviewed\",\"tsunami\":0,\"sig\":26,\"net\":\"ak\",\"code\":\"016cqhpsp7\",\"ids\":\",ak14165782,ak016cqhpsp7,\",\"sources\":\",ak,ak,\",\"types\":\",associate,geoserve,origin,phase-data,\",\"nst\":null,\"dmin\":null,\"rms\":0.37,\"gap\":null,\"magType\":\"ml\",\"type\":\"earthquake\",\"title\":\"M 1.3 - 48km W of Talkeetna, Alaska\"},\"geometry\":{\"type\":\"Point\",\"coordinates\":[-151.0425,62.3735,2.9]},\"id\":\"ak016cqhpsp7\"},\\n{\"type\":\"Feature\",\"properties\":{\"mag\":0.76,\"place\":\"12km N of Banning, CA\",\"time\":1475536032720,\"updated\":1475537835678,\"tz\":-420,\"url\":\"https://earthquake.usgs.gov/earthquakes/eventpage/ci37709344\",\"detail\":\"https://earthquake.usgs.gov/fdsnws/event/1/query?eventid=ci37709344&format=geojson\",\"felt\":null,\"cdi\":null,\"mmi\":null,\"alert\":null,\"status\":\"reviewed\",\"tsunami\":0,\"sig\":9,\"net\":\"ci\",\"code\":\"37709344\",\"ids\":\",ci37709344,\",\"sources\":\",ci,\",\"types\":\",cap,general-link,geoserve,nearby-cities,origin,phase-data,scitech-link,\",\"nst\":27,\"dmin\":0.04157,\"rms\":0.14,\"gap\":97,\"magType\":\"ml\",\"type\":\"earthquake\",\"title\":\"M 0.8 - 12km N of Banning, CA\"},\"geometry\":{\"type\":\"Point\",\"coordinates\":[-116.8578333,34.0358333,13.98]},\"id\":\"ci37709344\"},\\n{\"type\":\"Feature\",\"properties\":{\"mag\":1.1,\"place\":\"22km NNE of Badger, Alaska\",\"time\":1475535934373,\"updated\":1560794179835,\"tz\":-480,\"url\":\"https://earthquake.usgs.gov/earthquakes/eventpage/ak016cqhl8xp\",\"detail\":\"https://earthquake.usgs.gov/fdsnws/event/1/query?eventid=ak016cqhl8xp&format=geojson\",\"felt\":null,\"cdi\":null,\"mmi\":null,\"alert\":null,\"status\":\"reviewed\",\"tsunami\":0,\"sig\":19,\"net\":\"ak\",\"code\":\"016cqhl8xp\",\"ids\":\",ak14164602,ak016cqhl8xp,\",\"sources\":\",ak,ak,\",\"types\":\",associate,geoserve,origin,phase-data,\",\"nst\":null,\"dmin\":null,\"rms\":0.43,\"gap\":null,\"magType\":\"ml\",\"type\":\"explosion\",\"title\":\"M 1.1 Explosion - 22km NNE of Badger, Alaska\"},\"geometry\":{\"type\":\"Point\",\"coordinates\":[-147.3124,64.9781,0]},\"id\":\"ak016cqhl8xp\"},\\n{\"type\":\"Feature\",\"properties\":{\"mag\":0.7,\"place\":\"20km WNW of North Nenana, Alaska\",\"time\":1475535481423,\"updated\":1560794179409,\"tz\":-480,\"url\":\"https://earthquake.usgs.gov/earthquakes/eventpage/ak016cqhb3qm\",\"detail\":\"https://earthquake.usgs.gov/fdsnws/event/1/query?eventid=ak016cqhb3qm&format=geojson\",\"felt\":null,\"cdi\":null,\"mmi\":null,\"alert\":null,\"status\":\"reviewed\",\"tsunami\":0,\"sig\":8,\"net\":\"ak\",\"code\":\"016cqhb3qm\",\"ids\":\",ak14164599,ak016cqhb3qm,\",\"sources\":\",ak,ak,\",\"types\":\",associate,geoserve,origin,phase-data,\",\"nst\":null,\"dmin\":null,\"rms\":0.49,\"gap\":null,\"magType\":\"ml\",\"type\":\"earthquake\",\"title\":\"M 0.7 - 20km WNW of North Nenana, Alaska\"},\"geometry\":{\"type\":\"Point\",\"coordinates\":[-149.5215,64.6374,20.9]},\"id\":\"ak016cqhb3qm\"},\\n{\"type\":\"Feature\",\"properties\":{\"mag\":2.5,\"place\":\"85km NW of Atka, Alaska\",\"time\":1475534758000,\"updated\":1560794179016,\"tz\":-720,\"url\":\"https://earthquake.usgs.gov/earthquakes/eventpage/us20007cqt\",\"detail\":\"https://earthquake.usgs.gov/fdsnws/event/1/query?eventid=us20007cqt&format=geojson\",\"felt\":null,\"cdi\":null,\"mmi\":null,\"alert\":null,\"status\":\"reviewed\",\"tsunami\":0,\"sig\":96,\"net\":\"us\",\"code\":\"20007cqt\",\"ids\":\",ak14164598,us20007cqt,ak016cqh8fuc,\",\"sources\":\",ak,us,ak,\",\"types\":\",associate,geoserve,origin,phase-data,\",\"nst\":null,\"dmin\":null,\"rms\":1.87,\"gap\":334,\"magType\":\"ml\",\"type\":\"earthquake\",\"title\":\"M 2.5 - 85km NW of Atka, Alaska\"},\"geometry\":{\"type\":\"Point\",\"coordinates\":[-175.0474,52.767,183.7]},\"id\":\"us20007cqt\"},\\n{\"type\":\"Feature\",\"properties\":{\"mag\":0.4,\"place\":\"17km WNW of North Nenana, Alaska\",\"time\":1475534233775,\"updated\":1560794178618,\"tz\":-480,\"url\":\"https://earthquake.usgs.gov/earthquakes/eventpage/ak016cqh6mnl\",\"detail\":\"https://earthquake.usgs.gov/fdsnws/event/1/query?eventid=ak016cqh6mnl&format=geojson\",\"felt\":null,\"cdi\":null,\"mmi\":null,\"alert\":null,\"status\":\"reviewed\",\"tsunami\":0,\"sig\":2,\"net\":\"ak\",\"code\":\"016cqh6mnl\",\"ids\":\",ak14164595,ak016cqh6mnl,\",\"sources\":\",ak,ak,\",\"types\":\",associate,geoserve,origin,phase-data,\",\"nst\":null,\"dmin\":null,\"rms\":0.51,\"gap\":null,\"magType\":\"ml\",\"type\":\"earthquake\",\"title\":\"M 0.4 - 17km WNW of North Nenana, Alaska\"},\"geometry\":{\"type\":\"Point\",\"coordinates\":[-149.4546,64.629,21.8]},\"id\":\"ak016cqh6mnl\"},\\n{\"type\":\"Feature\",\"properties\":{\"mag\":4.5,\"place\":\"8km WNW of Kainantu, Papua New Guinea\",\"time\":1475534021670,\"updated\":1483477843040,\"tz\":600,\"url\":\"https://earthquake.usgs.gov/earthquakes/eventpage/us10006uv5\",\"detail\":\"https://earthquake.usgs.gov/fdsnws/event/1/query?eventid=us10006uv5&format=geojson\",\"felt\":1,\"cdi\":2.7,\"mmi\":null,\"alert\":null,\"status\":\"reviewed\",\"tsunami\":0,\"sig\":312,\"net\":\"us\",\"code\":\"10006uv5\",\"ids\":\",us10006uv5,\",\"sources\":\",us,\",\"types\":\",cap,dyfi,geoserve,impact-text,origin,phase-data,\",\"nst\":null,\"dmin\":3.414,\"rms\":0.79,\"gap\":58,\"magType\":\"mb\",\"type\":\"earthquake\",\"title\":\"M 4.5 - 8km WNW of Kainantu, Papua New Guinea\"},\"geometry\":{\"type\":\"Point\",\"coordinates\":[145.7951,-6.2484,121.24]},\"id\":\"us10006uv5\"},\\n{\"type\":\"Feature\",\"properties\":{\"mag\":2.4,\"place\":\"114km W of Craig, Alaska\",\"time\":1475533936894,\"updated\":1557843983062,\"tz\":-540,\"url\":\"https://earthquake.usgs.gov/earthquakes/eventpage/ak016cqh5kbd\",\"detail\":\"https://earthquake.usgs.gov/fdsnws/event/1/query?eventid=ak016cqh5kbd&format=geojson\",\"felt\":null,\"cdi\":null,\"mmi\":null,\"alert\":null,\"status\":\"reviewed\",\"tsunami\":0,\"sig\":89,\"net\":\"ak\",\"code\":\"016cqh5kbd\",\"ids\":\",us20007g9p,ak016cqh5kbd,\",\"sources\":\",us,ak,\",\"types\":\",geoserve,origin,phase-data,\",\"nst\":null,\"dmin\":null,\"rms\":1.12,\"gap\":null,\"magType\":\"ml\",\"type\":\"earthquake\",\"title\":\"M 2.4 - 114km W of Craig, Alaska\"},\"geometry\":{\"type\":\"Point\",\"coordinates\":[-134.9092,55.6104,6.6]},\"id\":\"ak016cqh5kbd\"},\\n{\"type\":\"Feature\",\"properties\":{\"mag\":1.98,\"place\":\"17km NW of Caldwell, Kansas\",\"time\":1475533818730,\"updated\":1475886363260,\"tz\":-300,\"url\":\"https://earthquake.usgs.gov/earthquakes/eventpage/ismpkansas70209298\",\"detail\":\"https://earthquake.usgs.gov/fdsnws/event/1/query?eventid=ismpkansas70209298&format=geojson\",\"felt\":null,\"cdi\":null,\"mmi\":null,\"alert\":null,\"status\":\"reviewed\",\"tsunami\":0,\"sig\":60,\"net\":\"ismpkansas\",\"code\":\"70209298\",\"ids\":\",ismpkansas70209298,\",\"sources\":\",ismpkansas,\",\"types\":\",general-link,geoserve,origin,phase-data,\",\"nst\":12,\"dmin\":0.02728,\"rms\":0.02,\"gap\":108,\"magType\":\"ml\",\"type\":\"earthquake\",\"title\":\"M 2.0 - 17km NW of Caldwell, Kansas\"},\"geometry\":{\"type\":\"Point\",\"coordinates\":[-97.7248333,37.153,2.96]},\"id\":\"ismpkansas70209298\"},\\n{\"type\":\"Feature\",\"properties\":{\"mag\":1.2,\"place\":\"18km WNW of North Nenana, Alaska\",\"time\":1475533555552,\"updated\":1560794178150,\"tz\":-480,\"url\":\"https://earthquake.usgs.gov/earthquakes/eventpage/ak016cqh45ab\",\"detail\":\"https://earthquake.usgs.gov/fdsnws/event/1/query?eventid=ak016cqh45ab&format=geojson\",\"felt\":null,\"cdi\":null,\"mmi\":null,\"alert\":null,\"status\":\"reviewed\",\"tsunami\":0,\"sig\":22,\"net\":\"ak\",\"code\":\"016cqh45ab\",\"ids\":\",ak14164587,ak016cqh45ab,\",\"sources\":\",ak,ak,\",\"types\":\",associate,geoserve,origin,phase-data,\",\"nst\":null,\"dmin\":null,\"rms\":0.54,\"gap\":null,\"magType\":\"ml\",\"type\":\"earthquake\",\"title\":\"M 1.2 - 18km WNW of North Nenana, Alaska\"},\"geometry\":{\"type\":\"Point\",\"coordinates\":[-149.4961,64.6139,22.9]},\"id\":\"ak016cqh45ab\"},\\n{\"type\":\"Feature\",\"properties\":{\"mag\":0.7,\"place\":\"18km WNW of North Nenana, Alaska\",\"time\":1475533022610,\"updated\":1560794177737,\"tz\":-480,\"url\":\"https://earthquake.usgs.gov/earthquakes/eventpage/ak016cqh2bh1\",\"detail\":\"https://earthquake.usgs.gov/fdsnws/event/1/query?eventid=ak016cqh2bh1&format=geojson\",\"felt\":null,\"cdi\":null,\"mmi\":null,\"alert\":null,\"status\":\"reviewed\",\"tsunami\":0,\"sig\":8,\"net\":\"ak\",\"code\":\"016cqh2bh1\",\"ids\":\",ak14164584,ak016cqh2bh1,\",\"sources\":\",ak,ak,\",\"types\":\",associate,cap,geoserve,origin,phase-data,\",\"nst\":null,\"dmin\":null,\"rms\":0.52,\"gap\":null,\"magType\":\"ml\",\"type\":\"earthquake\",\"title\":\"M 0.7 - 18km WNW of North Nenana, Alaska\"},\"geometry\":{\"type\":\"Point\",\"coordinates\":[-149.4845,64.6372,23.1]},\"id\":\"ak016cqh2bh1\"},\\n{\"type\":\"Feature\",\"properties\":{\"mag\":1.73,\"place\":\"6km NE of Enterprise, Oregon\",\"time\":1475532877800,\"updated\":1475606111550,\"tz\":-420,\"url\":\"https://earthquake.usgs.gov/earthquakes/eventpage/uw61201882\",\"detail\":\"https://earthquake.usgs.gov/fdsnws/event/1/query?eventid=uw61201882&format=geojson\",\"felt\":null,\"cdi\":null,\"mmi\":null,\"alert\":null,\"status\":\"reviewed\",\"tsunami\":0,\"sig\":46,\"net\":\"uw\",\"code\":\"61201882\",\"ids\":\",uw61201882,\",\"sources\":\",uw,\",\"types\":\",cap,general-link,geoserve,origin,phase-data,\",\"nst\":5,\"dmin\":0.5073,\"rms\":0.56,\"gap\":186,\"magType\":\"ml\",\"type\":\"explosion\",\"title\":\"M 1.7 Explosion - 6km NE of Enterprise, Oregon\"},\"geometry\":{\"type\":\"Point\",\"coordinates\":[-117.2223333,45.4661667,3.7]},\"id\":\"uw61201882\"},\\n{\"type\":\"Feature\",\"properties\":{\"mag\":0.7,\"place\":\"Central Alaska\",\"time\":1475532867502,\"updated\":1557843968215,\"tz\":null,\"url\":\"https://earthquake.usgs.gov/earthquakes/eventpage/ak016cqh1q8u\",\"detail\":\"https://earthquake.usgs.gov/fdsnws/event/1/query?eventid=ak016cqh1q8u&format=geojson\",\"felt\":null,\"cdi\":null,\"mmi\":null,\"alert\":null,\"status\":\"reviewed\",\"tsunami\":0,\"sig\":8,\"net\":\"ak\",\"code\":\"016cqh1q8u\",\"ids\":\",ak016cqh1q8u,\",\"sources\":\",ak,\",\"types\":\",origin,phase-data,\",\"nst\":null,\"dmin\":null,\"rms\":0.43,\"gap\":null,\"magType\":\"ml\",\"type\":\"earthquake\",\"title\":\"M 0.7 - Central Alaska\"},\"geometry\":{\"type\":\"Point\",\"coordinates\":[-149.4518,64.6445,21.4]},\"id\":\"ak016cqh1q8u\"},\\n{\"type\":\"Feature\",\"properties\":{\"mag\":0.9,\"place\":\"18km WNW of North Nenana, Alaska\",\"time\":1475532810995,\"updated\":1558430258494,\"tz\":-480,\"url\":\"https://earthquake.usgs.gov/earthquakes/eventpage/ak016cqh1isr\",\"detail\":\"https://earthquake.usgs.gov/fdsnws/event/1/query?eventid=ak016cqh1isr&format=geojson\",\"felt\":null,\"cdi\":null,\"mmi\":null,\"alert\":null,\"status\":\"reviewed\",\"tsunami\":0,\"sig\":12,\"net\":\"ak\",\"code\":\"016cqh1isr\",\"ids\":\",ak14164579,ak016cqh1isr,\",\"sources\":\",ak,ak,\",\"types\":\",associate,geoserve,origin,phase-data,\",\"nst\":null,\"dmin\":null,\"rms\":0.54,\"gap\":null,\"magType\":\"ml\",\"type\":\"earthquake\",\"title\":\"M 0.9 - 18km WNW of North Nenana, Alaska\"},\"geometry\":{\"type\":\"Point\",\"coordinates\":[-149.4812,64.6228,22.9]},\"id\":\"ak016cqh1isr\"},\\n{\"type\":\"Feature\",\"properties\":{\"mag\":2,\"place\":\"43km NE of Road Town, British Virgin Islands\",\"time\":1475532140200,\"updated\":1475542540129,\"tz\":-240,\"url\":\"https://earthquake.usgs.gov/earthquakes/eventpage/pr16277005\",\"detail\":\"https://earthquake.usgs.gov/fdsnws/event/1/query?eventid=pr16277005&format=geojson\",\"felt\":null,\"cdi\":null,\"mmi\":null,\"alert\":null,\"status\":\"REVIEWED\",\"tsunami\":0,\"sig\":62,\"net\":\"pr\",\"code\":\"16277005\",\"ids\":\",pr16277005,\",\"sources\":\",pr,\",\"types\":\",cap,geoserve,origin,\",\"nst\":4,\"dmin\":0.39256378,\"rms\":0.1,\"gap\":342,\"magType\":\"Md\",\"type\":\"earthquake\",\"title\":\"M 2.0 - 43km NE of Road Town, British Virgin Islands\"},\"geometry\":{\"type\":\"Point\",\"coordinates\":[-64.275,18.6404,43]},\"id\":\"pr16277005\"},\\n{\"type\":\"Feature\",\"properties\":{\"mag\":1.6,\"place\":\"24km W of Anchorage, Alaska\",\"time\":1475532128716,\"updated\":1560794177332,\"tz\":-480,\"url\":\"https://earthquake.usgs.gov/earthquakes/eventpage/ak016cqgz47b\",\"detail\":\"https://earthquake.usgs.gov/fdsnws/event/1/query?eventid=ak016cqgz47b&format=geojson\",\"felt\":null,\"cdi\":null,\"mmi\":null,\"alert\":null,\"status\":\"reviewed\",\"tsunami\":0,\"sig\":39,\"net\":\"ak\",\"code\":\"016cqgz47b\",\"ids\":\",ak14164573,ak016cqgz47b,\",\"sources\":\",ak,ak,\",\"types\":\",associate,geoserve,origin,phase-data,\",\"nst\":null,\"dmin\":null,\"rms\":0.75,\"gap\":null,\"magType\":\"ml\",\"type\":\"earthquake\",\"title\":\"M 1.6 - 24km W of Anchorage, Alaska\"},\"geometry\":{\"type\":\"Point\",\"coordinates\":[-150.34,61.1758,21]},\"id\":\"ak016cqgz47b\"},\\n{\"type\":\"Feature\",\"properties\":{\"mag\":0.86,\"place\":\"12km NNE of Thousand Palms, CA\",\"time\":1475532033670,\"updated\":1475541187165,\"tz\":-420,\"url\":\"https://earthquake.usgs.gov/earthquakes/eventpage/ci37709288\",\"detail\":\"https://earthquake.usgs.gov/fdsnws/event/1/query?eventid=ci37709288&format=geojson\",\"felt\":null,\"cdi\":null,\"mmi\":null,\"alert\":null,\"status\":\"reviewed\",\"tsunami\":0,\"sig\":11,\"net\":\"ci\",\"code\":\"37709288\",\"ids\":\",ci37709288,\",\"sources\":\",ci,\",\"types\":\",cap,general-link,geoserve,nearby-cities,origin,phase-data,scitech-link,\",\"nst\":24,\"dmin\":0.04165,\"rms\":0.12,\"gap\":83,\"magType\":\"ml\",\"type\":\"earthquake\",\"title\":\"M 0.9 - 12km NNE of Thousand Palms, CA\"},\"geometry\":{\"type\":\"Point\",\"coordinates\":[-116.3625,33.9246667,6.9]},\"id\":\"ci37709288\"},\\n{\"type\":\"Feature\",\"properties\":{\"mag\":1.02,\"place\":\"14km W of Morongo Valley, CA\",\"time\":1475531852810,\"updated\":1475596506592,\"tz\":-420,\"url\":\"https://earthquake.usgs.gov/earthquakes/eventpage/ci37709280\",\"detail\":\"https://earthquake.usgs.gov/fdsnws/event/1/query?eventid=ci37709280&format=geojson\",\"felt\":null,\"cdi\":null,\"mmi\":null,\"alert\":null,\"status\":\"reviewed\",\"tsunami\":0,\"sig\":16,\"net\":\"ci\",\"code\":\"37709280\",\"ids\":\",ci37709280,\",\"sources\":\",ci,\",\"types\":\",cap,general-link,geoserve,nearby-cities,origin,phase-data,scitech-link,\",\"nst\":25,\"dmin\":0.06577,\"rms\":0.21,\"gap\":152,\"magType\":\"ml\",\"type\":\"earthquake\",\"title\":\"M 1.0 - 14km W of Morongo Valley, CA\"},\"geometry\":{\"type\":\"Point\",\"coordinates\":[-116.7268333,34.0326667,10.35]},\"id\":\"ci37709280\"},\\n{\"type\":\"Feature\",\"properties\":{\"mag\":1.5,\"place\":\"6km NNW of Sterling, Alaska\",\"time\":1475531841696,\"updated\":1560794176905,\"tz\":-480,\"url\":\"https://earthquake.usgs.gov/earthquakes/eventpage/ak016cqgphzd\",\"detail\":\"https://earthquake.usgs.gov/fdsnws/event/1/query?eventid=ak016cqgphzd&format=geojson\",\"felt\":null,\"cdi\":null,\"mmi\":null,\"alert\":null,\"status\":\"reviewed\",\"tsunami\":0,\"sig\":35,\"net\":\"ak\",\"code\":\"016cqgphzd\",\"ids\":\",ak14164571,ak016cqgphzd,\",\"sources\":\",ak,ak,\",\"types\":\",associate,geoserve,origin,phase-data,\",\"nst\":null,\"dmin\":null,\"rms\":0.42,\"gap\":null,\"magType\":\"ml\",\"type\":\"earthquake\",\"title\":\"M 1.5 - 6km NNW of Sterling, Alaska\"},\"geometry\":{\"type\":\"Point\",\"coordinates\":[-150.8142,60.5877,52.7]},\"id\":\"ak016cqgphzd\"},\\n{\"type\":\"Feature\",\"properties\":{\"mag\":4.4,\"place\":\"33km E of Luganville, Vanuatu\",\"time\":1475531781900,\"updated\":1483477843040,\"tz\":660,\"url\":\"https://earthquake.usgs.gov/earthquakes/eventpage/us20007dp6\",\"detail\":\"https://earthquake.usgs.gov/fdsnws/event/1/query?eventid=us20007dp6&format=geojson\",\"felt\":null,\"cdi\":null,\"mmi\":null,\"alert\":null,\"status\":\"reviewed\",\"tsunami\":0,\"sig\":298,\"net\":\"us\",\"code\":\"20007dp6\",\"ids\":\",us20007dp6,\",\"sources\":\",us,\",\"types\":\",geoserve,origin,phase-data,\",\"nst\":null,\"dmin\":5.277,\"rms\":0.65,\"gap\":165,\"magType\":\"mb\",\"type\":\"earthquake\",\"title\":\"M 4.4 - 33km E of Luganville, Vanuatu\"},\"geometry\":{\"type\":\"Point\",\"coordinates\":[167.4774,-15.4758,114.32]},\"id\":\"us20007dp6\"},\\n{\"type\":\"Feature\",\"properties\":{\"mag\":1.31,\"place\":\"19km NNE of Upper Lake, California\",\"time\":1475531499670,\"updated\":1486779946185,\"tz\":-420,\"url\":\"https://earthquake.usgs.gov/earthquakes/eventpage/nc72707001\",\"detail\":\"https://earthquake.usgs.gov/fdsnws/event/1/query?eventid=nc72707001&format=geojson\",\"felt\":null,\"cdi\":null,\"mmi\":null,\"alert\":null,\"status\":\"reviewed\",\"tsunami\":0,\"sig\":26,\"net\":\"nc\",\"code\":\"72707001\",\"ids\":\",nc72707001,\",\"sources\":\",nc,\",\"types\":\",cap,geoserve,nearby-cities,origin,phase-data,\",\"nst\":9,\"dmin\":0.1892,\"rms\":0.03,\"gap\":115,\"magType\":\"md\",\"type\":\"earthquake\",\"title\":\"M 1.3 - 19km NNE of Upper Lake, California\"},\"geometry\":{\"type\":\"Point\",\"coordinates\":[-122.7931667,39.3155,8.55]},\"id\":\"nc72707001\"},\\n{\"type\":\"Feature\",\"properties\":{\"mag\":0.63,\"place\":\"17km NW of Cloverdale, California\",\"time\":1475531485350,\"updated\":1486779940867,\"tz\":-420,\"url\":\"https://earthquake.usgs.gov/earthquakes/eventpage/nc71016427\",\"detail\":\"https://earthquake.usgs.gov/fdsnws/event/1/query?eventid=nc71016427&format=geojson\",\"felt\":null,\"cdi\":null,\"mmi\":null,\"alert\":null,\"status\":\"reviewed\",\"tsunami\":0,\"sig\":6,\"net\":\"nc\",\"code\":\"71016427\",\"ids\":\",nc71016427,\",\"sources\":\",nc,\",\"types\":\",cap,geoserve,nearby-cities,origin,phase-data,\",\"nst\":4,\"dmin\":0.07297,\"rms\":0.01,\"gap\":292,\"magType\":\"md\",\"type\":\"earthquake\",\"title\":\"M 0.6 - 17km NW of Cloverdale, California\"},\"geometry\":{\"type\":\"Point\",\"coordinates\":[-123.1311667,38.9371667,3.88]},\"id\":\"nc71016427\"},\\n{\"type\":\"Feature\",\"properties\":{\"mag\":2.5,\"place\":\"110km W of Willow, Alaska\",\"time\":1475530616101,\"updated\":1560794176447,\"tz\":-480,\"url\":\"https://earthquake.usgs.gov/earthquakes/eventpage/ak016cqgl2lm\",\"detail\":\"https://earthquake.usgs.gov/fdsnws/event/1/query?eventid=ak016cqgl2lm&format=geojson\",\"felt\":null,\"cdi\":null,\"mmi\":null,\"alert\":null,\"status\":\"reviewed\",\"tsunami\":0,\"sig\":96,\"net\":\"ak\",\"code\":\"016cqgl2lm\",\"ids\":\",ak14163385,us10006uun,ak016cqgl2lm,\",\"sources\":\",ak,us,ak,\",\"types\":\",associate,geoserve,origin,phase-data,\",\"nst\":null,\"dmin\":null,\"rms\":0.51,\"gap\":null,\"magType\":\"ml\",\"type\":\"earthquake\",\"title\":\"M 2.5 - 110km W of Willow, Alaska\"},\"geometry\":{\"type\":\"Point\",\"coordinates\":[-152.0984,61.9138,121.6]},\"id\":\"ak016cqgl2lm\"},\\n{\"type\":\"Feature\",\"properties\":{\"mag\":1.7,\"place\":\"61km NNW of Cape Yakataga, Alaska\",\"time\":1475530336534,\"updated\":1560794176038,\"tz\":-480,\"url\":\"https://earthquake.usgs.gov/earthquakes/eventpage/ak016cqgk4ol\",\"detail\":\"https://earthquake.usgs.gov/fdsnws/event/1/query?eventid=ak016cqgk4ol&format=geojson\",\"felt\":null,\"cdi\":null,\"mmi\":null,\"alert\":null,\"status\":\"reviewed\",\"tsunami\":0,\"sig\":44,\"net\":\"ak\",\"code\":\"016cqgk4ol\",\"ids\":\",ak14163382,ak016cqgk4ol,\",\"sources\":\",ak,ak,\",\"types\":\",associate,geoserve,origin,phase-data,\",\"nst\":null,\"dmin\":null,\"rms\":0.51,\"gap\":null,\"magType\":\"ml\",\"type\":\"earthquake\",\"title\":\"M 1.7 - 61km NNW of Cape Yakataga, Alaska\"},\"geometry\":{\"type\":\"Point\",\"coordinates\":[-143.0437,60.5297,3.9]},\"id\":\"ak016cqgk4ol\"},\\n{\"type\":\"Feature\",\"properties\":{\"mag\":4.1,\"place\":\"46km SSW of Nemuro, Japan\",\"time\":1475529736420,\"updated\":1483477843040,\"tz\":540,\"url\":\"https://earthquake.usgs.gov/earthquakes/eventpage/us20007dp4\",\"detail\":\"https://earthquake.usgs.gov/fdsnws/event/1/query?eventid=us20007dp4&format=geojson\",\"felt\":null,\"cdi\":null,\"mmi\":null,\"alert\":null,\"status\":\"reviewed\",\"tsunami\":0,\"sig\":259,\"net\":\"us\",\"code\":\"20007dp4\",\"ids\":\",us20007dp4,\",\"sources\":\",us,\",\"types\":\",geoserve,origin,phase-data,\",\"nst\":null,\"dmin\":1.866,\"rms\":0.43,\"gap\":200,\"magType\":\"mb\",\"type\":\"earthquake\",\"title\":\"M 4.1 - 46km SSW of Nemuro, Japan\"},\"geometry\":{\"type\":\"Point\",\"coordinates\":[145.3479,42.9424,56.45]},\"id\":\"us20007dp4\"},\\n{\"type\":\"Feature\",\"properties\":{\"mag\":0.68,\"place\":\"5km WSW of Volcano, Hawaii\",\"time\":1475529538260,\"updated\":1475549426620,\"tz\":-600,\"url\":\"https://earthquake.usgs.gov/earthquakes/eventpage/hv61432636\",\"detail\":\"https://earthquake.usgs.gov/fdsnws/event/1/query?eventid=hv61432636&format=geojson\",\"felt\":null,\"cdi\":null,\"mmi\":null,\"alert\":null,\"status\":\"reviewed\",\"tsunami\":0,\"sig\":7,\"net\":\"hv\",\"code\":\"61432636\",\"ids\":\",hv61432636,\",\"sources\":\",hv,\",\"types\":\",general-link,geoserve,origin,phase-data,\",\"nst\":20,\"dmin\":0.007835,\"rms\":0.07,\"gap\":36,\"magType\":\"md\",\"type\":\"earthquake\",\"title\":\"M 0.7 - 5km WSW of Volcano, Hawaii\"},\"geometry\":{\"type\":\"Point\",\"coordinates\":[-155.2813333,19.4041667,1.22]},\"id\":\"hv61432636\"},\\n{\"type\":\"Feature\",\"properties\":{\"mag\":0.1,\"place\":\"29km ESE of Hawthorne, Nevada\",\"time\":1475529389059,\"updated\":1530554687670,\"tz\":-420,\"url\":\"https://earthquake.usgs.gov/earthquakes/eventpage/nn00562419\",\"detail\":\"https://earthquake.usgs.gov/fdsnws/event/1/query?eventid=nn00562419&format=geojson\",\"felt\":null,\"cdi\":null,\"mmi\":null,\"alert\":null,\"status\":\"reviewed\",\"tsunami\":0,\"sig\":0,\"net\":\"nn\",\"code\":\"00562419\",\"ids\":\",nn00562419,\",\"sources\":\",nn,\",\"types\":\",cap,geoserve,origin,phase-data,\",\"nst\":5,\"dmin\":0.024,\"rms\":0.0776,\"gap\":130.63,\"magType\":\"ml\",\"type\":\"earthquake\",\"title\":\"M 0.1 - 29km ESE of Hawthorne, Nevada\"},\"geometry\":{\"type\":\"Point\",\"coordinates\":[-118.3064,38.4326,5.6]},\"id\":\"nn00562419\"},\\n{\"type\":\"Feature\",\"properties\":{\"mag\":1.4,\"place\":\"19km SSW of Badger, Alaska\",\"time\":1475528852677,\"updated\":1560794175635,\"tz\":-480,\"url\":\"https://earthquake.usgs.gov/earthquakes/eventpage/ak016cqget0z\",\"detail\":\"https://earthquake.usgs.gov/fdsnws/event/1/query?eventid=ak016cqget0z&format=geojson\",\"felt\":null,\"cdi\":null,\"mmi\":null,\"alert\":null,\"status\":\"reviewed\",\"tsunami\":0,\"sig\":30,\"net\":\"ak\",\"code\":\"016cqget0z\",\"ids\":\",ak14163377,ak016cqget0z,\",\"sources\":\",ak,ak,\",\"types\":\",associate,geoserve,origin,phase-data,\",\"nst\":null,\"dmin\":null,\"rms\":0.5,\"gap\":null,\"magType\":\"ml\",\"type\":\"earthquake\",\"title\":\"M 1.4 - 19km SSW of Badger, Alaska\"},\"geometry\":{\"type\":\"Point\",\"coordinates\":[-147.7013,64.6433,11.7]},\"id\":\"ak016cqget0z\"},\\n{\"type\":\"Feature\",\"properties\":{\"mag\":1.5,\"place\":\"11km NW of Pawnee, Oklahoma\",\"time\":1475528580130,\"updated\":1483477843040,\"tz\":-300,\"url\":\"https://earthquake.usgs.gov/earthquakes/eventpage/us10006uud\",\"detail\":\"https://earthquake.usgs.gov/fdsnws/event/1/query?eventid=us10006uud&format=geojson\",\"felt\":null,\"cdi\":null,\"mmi\":null,\"alert\":null,\"status\":\"reviewed\",\"tsunami\":0,\"sig\":35,\"net\":\"us\",\"code\":\"10006uud\",\"ids\":\",us10006uud,\",\"sources\":\",us,\",\"types\":\",cap,geoserve,origin,phase-data,\",\"nst\":null,\"dmin\":0.022,\"rms\":0.17,\"gap\":95,\"magType\":\"ml\",\"type\":\"earthquake\",\"title\":\"M 1.5 - 11km NW of Pawnee, Oklahoma\"},\"geometry\":{\"type\":\"Point\",\"coordinates\":[-96.8884,36.4176,5.9]},\"id\":\"us10006uud\"},\\n{\"type\":\"Feature\",\"properties\":{\"mag\":1.11,\"place\":\"23km NNW of Lima, Montana\",\"time\":1475528508910,\"updated\":1475622165680,\"tz\":-360,\"url\":\"https://earthquake.usgs.gov/earthquakes/eventpage/mb80179339\",\"detail\":\"https://earthquake.usgs.gov/fdsnws/event/1/query?eventid=mb80179339&format=geojson\",\"felt\":null,\"cdi\":null,\"mmi\":null,\"alert\":null,\"status\":\"reviewed\",\"tsunami\":0,\"sig\":19,\"net\":\"mb\",\"code\":\"80179339\",\"ids\":\",mb80179339,\",\"sources\":\",mb,\",\"types\":\",cap,general-link,geoserve,origin,phase-data,\",\"nst\":9,\"dmin\":0.07,\"rms\":0.12,\"gap\":94,\"magType\":\"ml\",\"type\":\"earthquake\",\"title\":\"M 1.1 - 23km NNW of Lima, Montana\"},\"geometry\":{\"type\":\"Point\",\"coordinates\":[-112.751,44.8198333,6.16]},\"id\":\"mb80179339\"},\\n{\"type\":\"Feature\",\"properties\":{\"mag\":-0.5,\"place\":\"Nevada\",\"time\":1475528441066,\"updated\":1530554687583,\"tz\":null,\"url\":\"https://earthquake.usgs.gov/earthquakes/eventpage/nn00562417\",\"detail\":\"https://earthquake.usgs.gov/fdsnws/event/1/query?eventid=nn00562417&format=geojson\",\"felt\":null,\"cdi\":null,\"mmi\":null,\"alert\":null,\"status\":\"reviewed\",\"tsunami\":0,\"sig\":0,\"net\":\"nn\",\"code\":\"00562417\",\"ids\":\",nn00562417,\",\"sources\":\",nn,\",\"types\":\",origin,phase-data,\",\"nst\":7,\"dmin\":0.013,\"rms\":0.0786,\"gap\":135.71,\"magType\":\"ml\",\"type\":\"earthquake\",\"title\":\"M -0.5 - Nevada\"},\"geometry\":{\"type\":\"Point\",\"coordinates\":[-116.1157,36.701,4.2]},\"id\":\"nn00562417\"},\\n{\"type\":\"Feature\",\"properties\":{\"mag\":1.04,\"place\":\"11km WSW of Salton City, CA\",\"time\":1475527735120,\"updated\":1475541275410,\"tz\":-420,\"url\":\"https://earthquake.usgs.gov/earthquakes/eventpage/ci37709240\",\"detail\":\"https://earthquake.usgs.gov/fdsnws/event/1/query?eventid=ci37709240&format=geojson\",\"felt\":null,\"cdi\":null,\"mmi\":null,\"alert\":null,\"status\":\"reviewed\",\"tsunami\":0,\"sig\":17,\"net\":\"ci\",\"code\":\"37709240\",\"ids\":\",ci37709240,\",\"sources\":\",ci,\",\"types\":\",cap,general-link,geoserve,nearby-cities,origin,phase-data,scitech-link,\",\"nst\":20,\"dmin\":0.07252,\"rms\":0.19,\"gap\":109,\"magType\":\"ml\",\"type\":\"earthquake\",\"title\":\"M 1.0 - 11km WSW of Salton City, CA\"},\"geometry\":{\"type\":\"Point\",\"coordinates\":[-116.0723333,33.2768333,1.51]},\"id\":\"ci37709240\"},\\n{\"type\":\"Feature\",\"properties\":{\"mag\":0.8,\"place\":\"41km WSW of Willow, Alaska\",\"time\":1475527535837,\"updated\":1560794175141,\"tz\":-480,\"url\":\"https://earthquake.usgs.gov/earthquakes/eventpage/ak016cqg1ivj\",\"detail\":\"https://earthquake.usgs.gov/fdsnws/event/1/query?eventid=ak016cqg1ivj&format=geojson\",\"felt\":null,\"cdi\":null,\"mmi\":null,\"alert\":null,\"status\":\"reviewed\",\"tsunami\":0,\"sig\":10,\"net\":\"ak\",\"code\":\"016cqg1ivj\",\"ids\":\",ak14162203,ak016cqg1ivj,\",\"sources\":\",ak,ak,\",\"types\":\",associate,geoserve,origin,phase-data,\",\"nst\":null,\"dmin\":null,\"rms\":0.44,\"gap\":null,\"magType\":\"ml\",\"type\":\"earthquake\",\"title\":\"M 0.8 - 41km WSW of Willow, Alaska\"},\"geometry\":{\"type\":\"Point\",\"coordinates\":[-150.7362,61.5856,19]},\"id\":\"ak016cqg1ivj\"},\\n{\"type\":\"Feature\",\"properties\":{\"mag\":2,\"place\":\"78km WSW of Cantwell, Alaska\",\"time\":1475526704189,\"updated\":1560794174693,\"tz\":-480,\"url\":\"https://earthquake.usgs.gov/earthquakes/eventpage/ak016cqfyjhu\",\"detail\":\"https://earthquake.usgs.gov/fdsnws/event/1/query?eventid=ak016cqfyjhu&format=geojson\",\"felt\":null,\"cdi\":null,\"mmi\":null,\"alert\":null,\"status\":\"reviewed\",\"tsunami\":0,\"sig\":62,\"net\":\"ak\",\"code\":\"016cqfyjhu\",\"ids\":\",ak14162197,ak016cqfyjhu,\",\"sources\":\",ak,ak,\",\"types\":\",associate,geoserve,origin,phase-data,\",\"nst\":null,\"dmin\":null,\"rms\":0.32,\"gap\":null,\"magType\":\"ml\",\"type\":\"earthquake\",\"title\":\"M 2.0 - 78km WSW of Cantwell, Alaska\"},\"geometry\":{\"type\":\"Point\",\"coordinates\":[-150.4609,63.2042,119.6]},\"id\":\"ak016cqfyjhu\"},\\n{\"type\":\"Feature\",\"properties\":{\"mag\":-0.4,\"place\":\"Nevada\",\"time\":1475526310647,\"updated\":1530554687493,\"tz\":null,\"url\":\"https://earthquake.usgs.gov/earthquakes/eventpage/nn00562414\",\"detail\":\"https://earthquake.usgs.gov/fdsnws/event/1/query?eventid=nn00562414&format=geojson\",\"felt\":null,\"cdi\":null,\"mmi\":null,\"alert\":null,\"status\":\"reviewed\",\"tsunami\":0,\"sig\":0,\"net\":\"nn\",\"code\":\"00562414\",\"ids\":\",nn00562414,\",\"sources\":\",nn,\",\"types\":\",origin,phase-data,\",\"nst\":7,\"dmin\":0.014,\"rms\":0.0717,\"gap\":136.54,\"magType\":\"ml\",\"type\":\"earthquake\",\"title\":\"M -0.4 - Nevada\"},\"geometry\":{\"type\":\"Point\",\"coordinates\":[-116.1184,36.701,3.9]},\"id\":\"nn00562414\"},\\n{\"type\":\"Feature\",\"properties\":{\"mag\":2.32,\"place\":\"68km ENE of Old Faithful Geyser, Wyoming\",\"time\":1475526113310,\"updated\":1475527779130,\"tz\":-360,\"url\":\"https://earthquake.usgs.gov/earthquakes/eventpage/uu60164012\",\"detail\":\"https://earthquake.usgs.gov/fdsnws/event/1/query?eventid=uu60164012&format=geojson\",\"felt\":null,\"cdi\":null,\"mmi\":null,\"alert\":null,\"status\":\"reviewed\",\"tsunami\":0,\"sig\":83,\"net\":\"uu\",\"code\":\"60164012\",\"ids\":\",uu60164012,\",\"sources\":\",uu,\",\"types\":\",cap,general-link,geoserve,origin,phase-data,\",\"nst\":14,\"dmin\":0.09849,\"rms\":0.16,\"gap\":178,\"magType\":\"ml\",\"type\":\"earthquake\",\"title\":\"M 2.3 - 68km ENE of Old Faithful Geyser, Wyoming\"},\"geometry\":{\"type\":\"Point\",\"coordinates\":[-110.0098333,44.6558333,11.47]},\"id\":\"uu60164012\"},\\n{\"type\":\"Feature\",\"properties\":{\"mag\":1.19,\"place\":\"67km ENE of Old Faithful Geyser, Wyoming\",\"time\":1475526019900,\"updated\":1475598669000,\"tz\":-360,\"url\":\"https://earthquake.usgs.gov/earthquakes/eventpage/uu60164007\",\"detail\":\"https://earthquake.usgs.gov/fdsnws/event/1/query?eventid=uu60164007&format=geojson\",\"felt\":null,\"cdi\":null,\"mmi\":null,\"alert\":null,\"status\":\"reviewed\",\"tsunami\":0,\"sig\":22,\"net\":\"uu\",\"code\":\"60164007\",\"ids\":\",uu60164007,\",\"sources\":\",uu,\",\"types\":\",cap,general-link,geoserve,origin,phase-data,\",\"nst\":6,\"dmin\":0.1015,\"rms\":0.1,\"gap\":165,\"magType\":\"md\",\"type\":\"earthquake\",\"title\":\"M 1.2 - 67km ENE of Old Faithful Geyser, Wyoming\"},\"geometry\":{\"type\":\"Point\",\"coordinates\":[-110.0296667,44.6655,15.55]},\"id\":\"uu60164007\"},\\n{\"type\":\"Feature\",\"properties\":{\"mag\":1.2,\"place\":\"62km E of Cape Yakataga, Alaska\",\"time\":1475525865139,\"updated\":1560794174240,\"tz\":-480,\"url\":\"https://earthquake.usgs.gov/earthquakes/eventpage/ak016cqfvjjl\",\"detail\":\"https://earthquake.usgs.gov/fdsnws/event/1/query?eventid=ak016cqfvjjl&format=geojson\",\"felt\":null,\"cdi\":null,\"mmi\":null,\"alert\":null,\"status\":\"reviewed\",\"tsunami\":0,\"sig\":22,\"net\":\"ak\",\"code\":\"016cqfvjjl\",\"ids\":\",ak14162195,ak016cqfvjjl,\",\"sources\":\",ak,ak,\",\"types\":\",associate,geoserve,origin,phase-data,\",\"nst\":null,\"dmin\":null,\"rms\":0.58,\"gap\":null,\"magType\":\"ml\",\"type\":\"ice quake\",\"title\":\"M 1.2 Ice Quake - 62km E of Cape Yakataga, Alaska\"},\"geometry\":{\"type\":\"Point\",\"coordinates\":[-141.3341,60.168,0]},\"id\":\"ak016cqfvjjl\"},\\n{\"type\":\"Feature\",\"properties\":{\"mag\":4.3,\"place\":\"63km SE of Contamana, Peru\",\"time\":1475525818440,\"updated\":1483477843040,\"tz\":-300,\"url\":\"https://earthquake.usgs.gov/earthquakes/eventpage/us20007dp2\",\"detail\":\"https://earthquake.usgs.gov/fdsnws/event/1/query?eventid=us20007dp2&format=geojson\",\"felt\":null,\"cdi\":null,\"mmi\":null,\"alert\":null,\"status\":\"reviewed\",\"tsunami\":0,\"sig\":284,\"net\":\"us\",\"code\":\"20007dp2\",\"ids\":\",us20007dp2,\",\"sources\":\",us,\",\"types\":\",geoserve,origin,phase-data,\",\"nst\":null,\"dmin\":1.932,\"rms\":0.96,\"gap\":72,\"magType\":\"mb\",\"type\":\"earthquake\",\"title\":\"M 4.3 - 63km SE of Contamana, Peru\"},\"geometry\":{\"type\":\"Point\",\"coordinates\":[-74.6539,-7.7782,150.15]},\"id\":\"us20007dp2\"},\\n{\"type\":\"Feature\",\"properties\":{\"mag\":2.18,\"place\":\"69km ENE of Old Faithful Geyser, Wyoming\",\"time\":1475525712790,\"updated\":1475533767660,\"tz\":-360,\"url\":\"https://earthquake.usgs.gov/earthquakes/eventpage/uu60164002\",\"detail\":\"https://earthquake.usgs.gov/fdsnws/event/1/query?eventid=uu60164002&format=geojson\",\"felt\":null,\"cdi\":null,\"mmi\":null,\"alert\":null,\"status\":\"reviewed\",\"tsunami\":0,\"sig\":73,\"net\":\"uu\",\"code\":\"60164002\",\"ids\":\",uu60164002,\",\"sources\":\",uu,\",\"types\":\",cap,general-link,geoserve,origin,phase-data,\",\"nst\":11,\"dmin\":0.08732,\"rms\":0.2,\"gap\":167,\"magType\":\"ml\",\"type\":\"earthquake\",\"title\":\"M 2.2 - 69km ENE of Old Faithful Geyser, Wyoming\"},\"geometry\":{\"type\":\"Point\",\"coordinates\":[-110.0075,44.6693333,14.45]},\"id\":\"uu60164002\"},\\n{\"type\":\"Feature\",\"properties\":{\"mag\":-0.23,\"place\":\"7km NW of The Geysers, California\",\"time\":1475525006360,\"updated\":1486779935880,\"tz\":-420,\"url\":\"https://earthquake.usgs.gov/earthquakes/eventpage/nc72706981\",\"detail\":\"https://earthquake.usgs.gov/fdsnws/event/1/query?eventid=nc72706981&format=geojson\",\"felt\":null,\"cdi\":null,\"mmi\":null,\"alert\":null,\"status\":\"reviewed\",\"tsunami\":0,\"sig\":0,\"net\":\"nc\",\"code\":\"72706981\",\"ids\":\",nc72706981,\",\"sources\":\",nc,\",\"types\":\",geoserve,nearby-cities,origin,phase-data,\",\"nst\":4,\"dmin\":0.007207,\"rms\":0.01,\"gap\":173,\"magType\":\"md\",\"type\":\"earthquake\",\"title\":\"M -0.2 - 7km NW of The Geysers, California\"},\"geometry\":{\"type\":\"Point\",\"coordinates\":[-122.8263333,38.8206667,0.83]},\"id\":\"nc72706981\"},\\n{\"type\":\"Feature\",\"properties\":{\"mag\":0.91,\"place\":\"2km WNW of Home Gardens, CA\",\"time\":1475524866190,\"updated\":1475537337995,\"tz\":-420,\"url\":\"https://earthquake.usgs.gov/earthquakes/eventpage/ci37709208\",\"detail\":\"https://earthquake.usgs.gov/fdsnws/event/1/query?eventid=ci37709208&format=geojson\",\"felt\":null,\"cdi\":null,\"mmi\":null,\"alert\":null,\"status\":\"reviewed\",\"tsunami\":0,\"sig\":13,\"net\":\"ci\",\"code\":\"37709208\",\"ids\":\",ci37709208,\",\"sources\":\",ci,\",\"types\":\",general-link,geoserve,nearby-cities,origin,phase-data,scitech-link,\",\"nst\":11,\"dmin\":0.1028,\"rms\":0.14,\"gap\":235,\"magType\":\"ml\",\"type\":\"quarry blast\",\"title\":\"M 0.9 Quarry Blast - 2km WNW of Home Gardens, CA\"},\"geometry\":{\"type\":\"Point\",\"coordinates\":[-117.5431667,33.8825,-0.67]},\"id\":\"ci37709208\"},\\n{\"type\":\"Feature\",\"properties\":{\"mag\":1.09,\"place\":\"8km N of Murrieta Hot Springs, CA\",\"time\":1475524717360,\"updated\":1475534680854,\"tz\":-420,\"url\":\"https://earthquake.usgs.gov/earthquakes/eventpage/ci37709200\",\"detail\":\"https://earthquake.usgs.gov/fdsnws/event/1/query?eventid=ci37709200&format=geojson\",\"felt\":1,\"cdi\":2.2,\"mmi\":null,\"alert\":null,\"status\":\"reviewed\",\"tsunami\":0,\"sig\":18,\"net\":\"ci\",\"code\":\"37709200\",\"ids\":\",ci37709200,\",\"sources\":\",ci,\",\"types\":\",dyfi,general-link,geoserve,nearby-cities,origin,phase-data,scitech-link,\",\"nst\":31,\"dmin\":0.04522,\"rms\":0.23,\"gap\":47,\"magType\":\"ml\",\"type\":\"quarry blast\",\"title\":\"M 1.1 Quarry Blast - 8km N of Murrieta Hot Springs, CA\"},\"geometry\":{\"type\":\"Point\",\"coordinates\":[-117.1526667,33.6278333,-0.49]},\"id\":\"ci37709200\"},\\n{\"type\":\"Feature\",\"properties\":{\"mag\":4.4,\"place\":\"62km S of Paracas, Peru\",\"time\":1475523908000,\"updated\":1483477843040,\"tz\":-300,\"url\":\"https://earthquake.usgs.gov/earthquakes/eventpage/us10006ut1\",\"detail\":\"https://earthquake.usgs.gov/fdsnws/event/1/query?eventid=us10006ut1&format=geojson\",\"felt\":1,\"cdi\":2,\"mmi\":null,\"alert\":null,\"status\":\"reviewed\",\"tsunami\":0,\"sig\":298,\"net\":\"us\",\"code\":\"10006ut1\",\"ids\":\",us10006ut1,\",\"sources\":\",us,\",\"types\":\",cap,dyfi,geoserve,impact-text,origin,phase-data,\",\"nst\":null,\"dmin\":null,\"rms\":1.2,\"gap\":null,\"magType\":\"mb\",\"type\":\"earthquake\",\"title\":\"M 4.4 - 62km S of Paracas, Peru\"},\"geometry\":{\"type\":\"Point\",\"coordinates\":[-76.32,-14.43,18]},\"id\":\"us10006ut1\"},\\n{\"type\":\"Feature\",\"properties\":{\"mag\":2.3,\"place\":\"128km NNW of Chirikof Island, Alaska\",\"time\":1475523682426,\"updated\":1560794173790,\"tz\":-480,\"url\":\"https://earthquake.usgs.gov/earthquakes/eventpage/ak016cqff7de\",\"detail\":\"https://earthquake.usgs.gov/fdsnws/event/1/query?eventid=ak016cqff7de&format=geojson\",\"felt\":null,\"cdi\":null,\"mmi\":null,\"alert\":null,\"status\":\"reviewed\",\"tsunami\":0,\"sig\":81,\"net\":\"ak\",\"code\":\"016cqff7de\",\"ids\":\",ak14162008,ak016cqff7de,\",\"sources\":\",ak,ak,\",\"types\":\",associate,geoserve,origin,phase-data,\",\"nst\":null,\"dmin\":null,\"rms\":0.5,\"gap\":null,\"magType\":\"ml\",\"type\":\"earthquake\",\"title\":\"M 2.3 - 128km NNW of Chirikof Island, Alaska\"},\"geometry\":{\"type\":\"Point\",\"coordinates\":[-156.2475,56.9221,70.4]},\"id\":\"ak016cqff7de\"},\\n{\"type\":\"Feature\",\"properties\":{\"mag\":1.99,\"place\":\"8km ENE of Terrebonne, Oregon\",\"time\":1475523474040,\"updated\":1475526162060,\"tz\":-420,\"url\":\"https://earthquake.usgs.gov/earthquakes/eventpage/uw61201852\",\"detail\":\"https://earthquake.usgs.gov/fdsnws/event/1/query?eventid=uw61201852&format=geojson\",\"felt\":null,\"cdi\":null,\"mmi\":null,\"alert\":null,\"status\":\"reviewed\",\"tsunami\":0,\"sig\":61,\"net\":\"uw\",\"code\":\"61201852\",\"ids\":\",uw61201852,\",\"sources\":\",uw,\",\"types\":\",general-link,geoserve,origin,phase-data,\",\"nst\":5,\"dmin\":0.606,\"rms\":0.15,\"gap\":291,\"magType\":\"ml\",\"type\":\"explosion\",\"title\":\"M 2.0 Explosion - 8km ENE of Terrebonne, Oregon\"},\"geometry\":{\"type\":\"Point\",\"coordinates\":[-121.082,44.3905,-1.71]},\"id\":\"uw61201852\"},\\n{\"type\":\"Feature\",\"properties\":{\"mag\":2.42,\"place\":\"5km WSW of Imperial, CA\",\"time\":1475523467550,\"updated\":1475540848335,\"tz\":-420,\"url\":\"https://earthquake.usgs.gov/earthquakes/eventpage/ci37709192\",\"detail\":\"https://earthquake.usgs.gov/fdsnws/event/1/query?eventid=ci37709192&format=geojson\",\"felt\":9,\"cdi\":3.7,\"mmi\":null,\"alert\":null,\"status\":\"reviewed\",\"tsunami\":0,\"sig\":93,\"net\":\"ci\",\"code\":\"37709192\",\"ids\":\",ci37709192,\",\"sources\":\",ci,\",\"types\":\",cap,dyfi,general-link,geoserve,nearby-cities,origin,phase-data,scitech-link,\",\"nst\":33,\"dmin\":0.05981,\"rms\":0.27,\"gap\":44,\"magType\":\"ml\",\"type\":\"earthquake\",\"title\":\"M 2.4 - 5km WSW of Imperial, CA\"},\"geometry\":{\"type\":\"Point\",\"coordinates\":[-115.6131667,32.8258333,11.87]},\"id\":\"ci37709192\"},\\n{\"type\":\"Feature\",\"properties\":{\"mag\":1.77,\"place\":\"5km WSW of Imperial, CA\",\"time\":1475523464890,\"updated\":1475540048913,\"tz\":-420,\"url\":\"https://earthquake.usgs.gov/earthquakes/eventpage/ci37709184\",\"detail\":\"https://earthquake.usgs.gov/fdsnws/event/1/query?eventid=ci37709184&format=geojson\",\"felt\":null,\"cdi\":null,\"mmi\":null,\"alert\":null,\"status\":\"reviewed\",\"tsunami\":0,\"sig\":48,\"net\":\"ci\",\"code\":\"37709184\",\"ids\":\",ci37709184,\",\"sources\":\",ci,\",\"types\":\",cap,general-link,geoserve,nearby-cities,origin,phase-data,scitech-link,\",\"nst\":24,\"dmin\":0.06944,\"rms\":0.2,\"gap\":81,\"magType\":\"ml\",\"type\":\"earthquake\",\"title\":\"M 1.8 - 5km WSW of Imperial, CA\"},\"geometry\":{\"type\":\"Point\",\"coordinates\":[-115.619,32.8358333,10.32]},\"id\":\"ci37709184\"},\\n{\"type\":\"Feature\",\"properties\":{\"mag\":1.03,\"place\":\"6km NW of Port Ludlow, Washington\",\"time\":1475523437070,\"updated\":1475525776500,\"tz\":-420,\"url\":\"https://earthquake.usgs.gov/earthquakes/eventpage/uw61201847\",\"detail\":\"https://earthquake.usgs.gov/fdsnws/event/1/query?eventid=uw61201847&format=geojson\",\"felt\":null,\"cdi\":null,\"mmi\":null,\"alert\":null,\"status\":\"reviewed\",\"tsunami\":0,\"sig\":16,\"net\":\"uw\",\"code\":\"61201847\",\"ids\":\",uw61201847,\",\"sources\":\",uw,\",\"types\":\",general-link,geoserve,origin,phase-data,\",\"nst\":2,\"dmin\":0.2981,\"rms\":0.06,\"gap\":359,\"magType\":\"md\",\"type\":\"explosion\",\"title\":\"M 1.0 Explosion - 6km NW of Port Ludlow, Washington\"},\"geometry\":{\"type\":\"Point\",\"coordinates\":[-122.7365,47.9695,-0.51]},\"id\":\"uw61201847\"},\\n{\"type\":\"Feature\",\"properties\":{\"mag\":0.69,\"place\":\"5km WNW of Cobb, California\",\"time\":1475522548320,\"updated\":1486779930900,\"tz\":-420,\"url\":\"https://earthquake.usgs.gov/earthquakes/eventpage/nc72706971\",\"detail\":\"https://earthquake.usgs.gov/fdsnws/event/1/query?eventid=nc72706971&format=geojson\",\"felt\":null,\"cdi\":null,\"mmi\":null,\"alert\":null,\"status\":\"automatic\",\"tsunami\":0,\"sig\":7,\"net\":\"nc\",\"code\":\"72706971\",\"ids\":\",nc72706971,\",\"sources\":\",nc,\",\"types\":\",geoserve,nearby-cities,origin,phase-data,\",\"nst\":15,\"dmin\":0.007207,\"rms\":0.03,\"gap\":102,\"magType\":\"md\",\"type\":\"earthquake\",\"title\":\"M 0.7 - 5km WNW of Cobb, California\"},\"geometry\":{\"type\":\"Point\",\"coordinates\":[-122.7828369,38.8370018,1.64]},\"id\":\"nc72706971\"},\\n{\"type\":\"Feature\",\"properties\":{\"mag\":3.5,\"place\":\"78km SSE of Buldir Island, Alaska\",\"time\":1475521713000,\"updated\":1560794173310,\"tz\":720,\"url\":\"https://earthquake.usgs.gov/earthquakes/eventpage/us20007cq3\",\"detail\":\"https://earthquake.usgs.gov/fdsnws/event/1/query?eventid=us20007cq3&format=geojson\",\"felt\":null,\"cdi\":null,\"mmi\":null,\"alert\":null,\"status\":\"reviewed\",\"tsunami\":0,\"sig\":188,\"net\":\"us\",\"code\":\"20007cq3\",\"ids\":\",ak14190073,us20007cq3,ak016cqf85mj,\",\"sources\":\",ak,us,ak,\",\"types\":\",associate,geoserve,origin,phase-data,\",\"nst\":null,\"dmin\":null,\"rms\":0.47,\"gap\":null,\"magType\":\"ml\",\"type\":\"earthquake\",\"title\":\"M 3.5 - 78km SSE of Buldir Island, Alaska\"},\"geometry\":{\"type\":\"Point\",\"coordinates\":[176.4518,51.7345,25.7]},\"id\":\"us20007cq3\"},\\n{\"type\":\"Feature\",\"properties\":{\"mag\":2.14,\"place\":\"59km E of Maneadero, B.C., MX\",\"time\":1475521194470,\"updated\":1475533600320,\"tz\":-420,\"url\":\"https://earthquake.usgs.gov/earthquakes/eventpage/ci37709176\",\"detail\":\"https://earthquake.usgs.gov/fdsnws/event/1/query?eventid=ci37709176&format=geojson\",\"felt\":null,\"cdi\":null,\"mmi\":null,\"alert\":null,\"status\":\"reviewed\",\"tsunami\":0,\"sig\":70,\"net\":\"ci\",\"code\":\"37709176\",\"ids\":\",ci37709176,\",\"sources\":\",ci,\",\"types\":\",cap,geoserve,nearby-cities,origin,phase-data,scitech-link,\",\"nst\":12,\"dmin\":0.3189,\"rms\":0.16,\"gap\":163,\"magType\":\"ml\",\"type\":\"earthquake\",\"title\":\"M 2.1 - 59km E of Maneadero, B.C., MX\"},\"geometry\":{\"type\":\"Point\",\"coordinates\":[-115.945,31.68,7.45]},\"id\":\"ci37709176\"},\\n{\"type\":\"Feature\",\"properties\":{\"mag\":4.1,\"place\":\"59km W of Agrihan, Northern Mariana Islands\",\"time\":1475521165500,\"updated\":1483477843040,\"tz\":600,\"url\":\"https://earthquake.usgs.gov/earthquakes/eventpage/us20007dp0\",\"detail\":\"https://earthquake.usgs.gov/fdsnws/event/1/query?eventid=us20007dp0&format=geojson\",\"felt\":null,\"cdi\":null,\"mmi\":null,\"alert\":null,\"status\":\"reviewed\",\"tsunami\":0,\"sig\":259,\"net\":\"us\",\"code\":\"20007dp0\",\"ids\":\",us20007dp0,\",\"sources\":\",us,\",\"types\":\",geoserve,origin,phase-data,\",\"nst\":null,\"dmin\":3.55,\"rms\":1.14,\"gap\":114,\"magType\":\"mb\",\"type\":\"earthquake\",\"title\":\"M 4.1 - 59km W of Agrihan, Northern Mariana Islands\"},\"geometry\":{\"type\":\"Point\",\"coordinates\":[145.1007,18.7493,185.58]},\"id\":\"us20007dp0\"},\\n{\"type\":\"Feature\",\"properties\":{\"mag\":4.3,\"place\":\"160km S of L\\'Esperance Rock, New Zealand\",\"time\":1475520344180,\"updated\":1483477843040,\"tz\":-720,\"url\":\"https://earthquake.usgs.gov/earthquakes/eventpage/us20007dny\",\"detail\":\"https://earthquake.usgs.gov/fdsnws/event/1/query?eventid=us20007dny&format=geojson\",\"felt\":null,\"cdi\":null,\"mmi\":null,\"alert\":null,\"status\":\"reviewed\",\"tsunami\":0,\"sig\":284,\"net\":\"us\",\"code\":\"20007dny\",\"ids\":\",us20007dny,\",\"sources\":\",us,\",\"types\":\",geoserve,origin,phase-data,\",\"nst\":null,\"dmin\":6.747,\"rms\":0.35,\"gap\":189,\"magType\":\"mb\",\"type\":\"earthquake\",\"title\":\"M 4.3 - 160km S of L\\'Esperance Rock, New Zealand\"},\"geometry\":{\"type\":\"Point\",\"coordinates\":[-178.7762,-32.8797,10]},\"id\":\"us20007dny\"},\\n{\"type\":\"Feature\",\"properties\":{\"mag\":1.12,\"place\":\"9km ENE of Woodland, Washington\",\"time\":1475520018690,\"updated\":1475524834220,\"tz\":-420,\"url\":\"https://earthquake.usgs.gov/earthquakes/eventpage/uw61201827\",\"detail\":\"https://earthquake.usgs.gov/fdsnws/event/1/query?eventid=uw61201827&format=geojson\",\"felt\":null,\"cdi\":null,\"mmi\":null,\"alert\":null,\"status\":\"reviewed\",\"tsunami\":0,\"sig\":19,\"net\":\"uw\",\"code\":\"61201827\",\"ids\":\",uw61201827,\",\"sources\":\",uw,\",\"types\":\",general-link,general-link,geoserve,origin,phase-data,\",\"nst\":15,\"dmin\":0.2207,\"rms\":0.23,\"gap\":267,\"magType\":\"ml\",\"type\":\"explosion\",\"title\":\"M 1.1 Explosion - 9km ENE of Woodland, Washington\"},\"geometry\":{\"type\":\"Point\",\"coordinates\":[-122.6321667,45.9413333,-1.02]},\"id\":\"uw61201827\"},\\n{\"type\":\"Feature\",\"properties\":{\"mag\":4.7,\"place\":\"South of the Fiji Islands\",\"time\":1475519312650,\"updated\":1483477843040,\"tz\":-720,\"url\":\"https://earthquake.usgs.gov/earthquakes/eventpage/us10006us5\",\"detail\":\"https://earthquake.usgs.gov/fdsnws/event/1/query?eventid=us10006us5&format=geojson\",\"felt\":null,\"cdi\":null,\"mmi\":null,\"alert\":null,\"status\":\"reviewed\",\"tsunami\":0,\"sig\":340,\"net\":\"us\",\"code\":\"10006us5\",\"ids\":\",us10006us5,\",\"sources\":\",us,\",\"types\":\",cap,geoserve,origin,phase-data,\",\"nst\":null,\"dmin\":5.737,\"rms\":0.84,\"gap\":102,\"magType\":\"mb\",\"type\":\"earthquake\",\"title\":\"M 4.7 - South of the Fiji Islands\"},\"geometry\":{\"type\":\"Point\",\"coordinates\":[-179.4535,-23.6499,516.81]},\"id\":\"us10006us5\"},\\n{\"type\":\"Feature\",\"properties\":{\"mag\":2.6,\"place\":\"13km SSW of Honoka\\'a, Hawaii\",\"time\":1475519306590,\"updated\":1483477843040,\"tz\":-600,\"url\":\"https://earthquake.usgs.gov/earthquakes/eventpage/hv61432531\",\"detail\":\"https://earthquake.usgs.gov/fdsnws/event/1/query?eventid=hv61432531&format=geojson\",\"felt\":0,\"cdi\":1,\"mmi\":null,\"alert\":null,\"status\":\"automatic\",\"tsunami\":0,\"sig\":104,\"net\":\"hv\",\"code\":\"61432531\",\"ids\":\",hv61432531,us100076y6,\",\"sources\":\",hv,us,\",\"types\":\",dyfi,geoserve,impact-text,origin,phase-data,\",\"nst\":40,\"dmin\":0.169,\"rms\":0.16,\"gap\":175,\"magType\":\"md\",\"type\":\"earthquake\",\"title\":\"M 2.6 - 13km SSW of Honoka\\'a, Hawaii\"},\"geometry\":{\"type\":\"Point\",\"coordinates\":[-155.5209961,19.9673328,40.69]},\"id\":\"hv61432531\"},\\n{\"type\":\"Feature\",\"properties\":{\"mag\":1.4,\"place\":\"13km SE of Redoubt Volcano, Alaska\",\"time\":1475518737795,\"updated\":1560794172884,\"tz\":-480,\"url\":\"https://earthquake.usgs.gov/earthquakes/eventpage/ak016cqeox0z\",\"detail\":\"https://earthquake.usgs.gov/fdsnws/event/1/query?eventid=ak016cqeox0z&format=geojson\",\"felt\":null,\"cdi\":null,\"mmi\":null,\"alert\":null,\"status\":\"reviewed\",\"tsunami\":0,\"sig\":30,\"net\":\"ak\",\"code\":\"016cqeox0z\",\"ids\":\",ak14160834,ak016cqeox0z,\",\"sources\":\",ak,ak,\",\"types\":\",associate,geoserve,origin,phase-data,\",\"nst\":null,\"dmin\":null,\"rms\":0.41,\"gap\":null,\"magType\":\"ml\",\"type\":\"earthquake\",\"title\":\"M 1.4 - 13km SE of Redoubt Volcano, Alaska\"},\"geometry\":{\"type\":\"Point\",\"coordinates\":[-152.5761,60.3978,96.6]},\"id\":\"ak016cqeox0z\"},\\n{\"type\":\"Feature\",\"properties\":{\"mag\":1.35,\"place\":\"11km E of Quarry near Portola Valley, CA\",\"time\":1475518386030,\"updated\":1486779925676,\"tz\":-420,\"url\":\"https://earthquake.usgs.gov/earthquakes/eventpage/nc72706956\",\"detail\":\"https://earthquake.usgs.gov/fdsnws/event/1/query?eventid=nc72706956&format=geojson\",\"felt\":null,\"cdi\":null,\"mmi\":null,\"alert\":null,\"status\":\"reviewed\",\"tsunami\":0,\"sig\":28,\"net\":\"nc\",\"code\":\"72706956\",\"ids\":\",nc72706956,\",\"sources\":\",nc,\",\"types\":\",geoserve,nearby-cities,origin,phase-data,\",\"nst\":15,\"dmin\":0.01261,\"rms\":0.07,\"gap\":60,\"magType\":\"md\",\"type\":\"quarry blast\",\"title\":\"M 1.4 Quarry Blast - 11km E of Quarry near Portola Valley, CA\"},\"geometry\":{\"type\":\"Point\",\"coordinates\":[-122.1035,37.3243333,-0.31]},\"id\":\"nc72706956\"},\\n{\"type\":\"Feature\",\"properties\":{\"mag\":5.2,\"place\":\"261km SSW of `Ohonua, Tonga\",\"time\":1475518060900,\"updated\":1483477843040,\"tz\":-720,\"url\":\"https://earthquake.usgs.gov/earthquakes/eventpage/us10006ury\",\"detail\":\"https://earthquake.usgs.gov/fdsnws/event/1/query?eventid=us10006ury&format=geojson\",\"felt\":null,\"cdi\":null,\"mmi\":null,\"alert\":null,\"status\":\"reviewed\",\"tsunami\":0,\"sig\":416,\"net\":\"us\",\"code\":\"10006ury\",\"ids\":\",us10006ury,\",\"sources\":\",us,\",\"types\":\",cap,geoserve,origin,phase-data,\",\"nst\":null,\"dmin\":5.991,\"rms\":0.93,\"gap\":56,\"magType\":\"mb\",\"type\":\"earthquake\",\"title\":\"M 5.2 - 261km SSW of `Ohonua, Tonga\"},\"geometry\":{\"type\":\"Point\",\"coordinates\":[-175.4754,-23.6483,10]},\"id\":\"us10006ury\"},\\n{\"type\":\"Feature\",\"properties\":{\"mag\":1.5,\"place\":\"52km NNE of Yakutat, Alaska\",\"time\":1475517719655,\"updated\":1560794172460,\"tz\":-480,\"url\":\"https://earthquake.usgs.gov/earthquakes/eventpage/ak016cqel9zx\",\"detail\":\"https://earthquake.usgs.gov/fdsnws/event/1/query?eventid=ak016cqel9zx&format=geojson\",\"felt\":null,\"cdi\":null,\"mmi\":null,\"alert\":null,\"status\":\"reviewed\",\"tsunami\":0,\"sig\":35,\"net\":\"ak\",\"code\":\"016cqel9zx\",\"ids\":\",ak14160833,ak016cqel9zx,\",\"sources\":\",ak,ak,\",\"types\":\",associate,geoserve,origin,phase-data,\",\"nst\":null,\"dmin\":null,\"rms\":0.66,\"gap\":null,\"magType\":\"ml\",\"type\":\"ice quake\",\"title\":\"M 1.5 Ice Quake - 52km NNE of Yakutat, Alaska\"},\"geometry\":{\"type\":\"Point\",\"coordinates\":[-139.4145,59.9936,0]},\"id\":\"ak016cqel9zx\"},\\n{\"type\":\"Feature\",\"properties\":{\"mag\":-0.05,\"place\":\"28km WNW of West Yellowstone, Montana\",\"time\":1475517668960,\"updated\":1475524714480,\"tz\":-360,\"url\":\"https://earthquake.usgs.gov/earthquakes/eventpage/mb80177339\",\"detail\":\"https://earthquake.usgs.gov/fdsnws/event/1/query?eventid=mb80177339&format=geojson\",\"felt\":null,\"cdi\":null,\"mmi\":null,\"alert\":null,\"status\":\"reviewed\",\"tsunami\":0,\"sig\":0,\"net\":\"mb\",\"code\":\"80177339\",\"ids\":\",mb80177339,\",\"sources\":\",mb,\",\"types\":\",general-link,geoserve,origin,phase-data,\",\"nst\":5,\"dmin\":0.071,\"rms\":0.03,\"gap\":123,\"magType\":\"ml\",\"type\":\"earthquake\",\"title\":\"M -0.1 - 28km WNW of West Yellowstone, Montana\"},\"geometry\":{\"type\":\"Point\",\"coordinates\":[-111.437,44.7596667,6.58]},\"id\":\"mb80177339\"},\\n{\"type\":\"Feature\",\"properties\":{\"mag\":1.4,\"place\":\"95km NNW of Talkeetna, Alaska\",\"time\":1475517439343,\"updated\":1560794172073,\"tz\":-480,\"url\":\"https://earthquake.usgs.gov/earthquakes/eventpage/ak016cqebrdq\",\"detail\":\"https://earthquake.usgs.gov/fdsnws/event/1/query?eventid=ak016cqebrdq&format=geojson\",\"felt\":null,\"cdi\":null,\"mmi\":null,\"alert\":null,\"status\":\"reviewed\",\"tsunami\":0,\"sig\":30,\"net\":\"ak\",\"code\":\"016cqebrdq\",\"ids\":\",ak14160831,ak016cqebrdq,\",\"sources\":\",ak,ak,\",\"types\":\",associate,geoserve,origin,phase-data,\",\"nst\":null,\"dmin\":null,\"rms\":0.3,\"gap\":null,\"magType\":\"ml\",\"type\":\"earthquake\",\"title\":\"M 1.4 - 95km NNW of Talkeetna, Alaska\"},\"geometry\":{\"type\":\"Point\",\"coordinates\":[-150.9012,63.0961,120.8]},\"id\":\"ak016cqebrdq\"},\\n{\"type\":\"Feature\",\"properties\":{\"mag\":2.07,\"place\":\"6km NNW of Hayfork, California\",\"time\":1475517171260,\"updated\":1486779920664,\"tz\":-420,\"url\":\"https://earthquake.usgs.gov/earthquakes/eventpage/nc72706951\",\"detail\":\"https://earthquake.usgs.gov/fdsnws/event/1/query?eventid=nc72706951&format=geojson\",\"felt\":1,\"cdi\":2.7,\"mmi\":null,\"alert\":null,\"status\":\"reviewed\",\"tsunami\":0,\"sig\":66,\"net\":\"nc\",\"code\":\"72706951\",\"ids\":\",nc72706951,\",\"sources\":\",nc,\",\"types\":\",cap,dyfi,geoserve,nearby-cities,origin,phase-data,\",\"nst\":14,\"dmin\":0.04775,\"rms\":0.06,\"gap\":92,\"magType\":\"md\",\"type\":\"earthquake\",\"title\":\"M 2.1 - 6km NNW of Hayfork, California\"},\"geometry\":{\"type\":\"Point\",\"coordinates\":[-123.1991667,40.6148333,30.97]},\"id\":\"nc72706951\"},\\n{\"type\":\"Feature\",\"properties\":{\"mag\":0.9,\"place\":\"5km WNW of Cobb, California\",\"time\":1475517003150,\"updated\":1486779915452,\"tz\":-420,\"url\":\"https://earthquake.usgs.gov/earthquakes/eventpage/nc72706946\",\"detail\":\"https://earthquake.usgs.gov/fdsnws/event/1/query?eventid=nc72706946&format=geojson\",\"felt\":null,\"cdi\":null,\"mmi\":null,\"alert\":null,\"status\":\"automatic\",\"tsunami\":0,\"sig\":12,\"net\":\"nc\",\"code\":\"72706946\",\"ids\":\",nc72706946,\",\"sources\":\",nc,\",\"types\":\",geoserve,nearby-cities,origin,phase-data,\",\"nst\":14,\"dmin\":0.006306,\"rms\":0.04,\"gap\":81,\"magType\":\"md\",\"type\":\"earthquake\",\"title\":\"M 0.9 - 5km WNW of Cobb, California\"},\"geometry\":{\"type\":\"Point\",\"coordinates\":[-122.7826691,38.8381653,1.49]},\"id\":\"nc72706946\"},\\n{\"type\":\"Feature\",\"properties\":{\"mag\":1.14,\"place\":\"26km SE of Covelo, California\",\"time\":1475516613140,\"updated\":1486779910755,\"tz\":-420,\"url\":\"https://earthquake.usgs.gov/earthquakes/eventpage/nc72706941\",\"detail\":\"https://earthquake.usgs.gov/fdsnws/event/1/query?eventid=nc72706941&format=geojson\",\"felt\":null,\"cdi\":null,\"mmi\":null,\"alert\":null,\"status\":\"reviewed\",\"tsunami\":0,\"sig\":20,\"net\":\"nc\",\"code\":\"72706941\",\"ids\":\",nc72706941,\",\"sources\":\",nc,\",\"types\":\",cap,geoserve,nearby-cities,origin,phase-data,\",\"nst\":6,\"dmin\":0.1495,\"rms\":0.06,\"gap\":178,\"magType\":\"md\",\"type\":\"earthquake\",\"title\":\"M 1.1 - 26km SE of Covelo, California\"},\"geometry\":{\"type\":\"Point\",\"coordinates\":[-123.037,39.6205,4.18]},\"id\":\"nc72706941\"},\\n{\"type\":\"Feature\",\"properties\":{\"mag\":0.6,\"place\":\"88km NNE of Tanana, Alaska\",\"time\":1475516283843,\"updated\":1560794171607,\"tz\":-480,\"url\":\"https://earthquake.usgs.gov/earthquakes/eventpage/ak016cqe7nkw\",\"detail\":\"https://earthquake.usgs.gov/fdsnws/event/1/query?eventid=ak016cqe7nkw&format=geojson\",\"felt\":null,\"cdi\":null,\"mmi\":null,\"alert\":null,\"status\":\"reviewed\",\"tsunami\":0,\"sig\":6,\"net\":\"ak\",\"code\":\"016cqe7nkw\",\"ids\":\",ak14160830,ak016cqe7nkw,\",\"sources\":\",ak,ak,\",\"types\":\",associate,geoserve,origin,phase-data,\",\"nst\":null,\"dmin\":null,\"rms\":0.72,\"gap\":null,\"magType\":\"ml\",\"type\":\"earthquake\",\"title\":\"M 0.6 - 88km NNE of Tanana, Alaska\"},\"geometry\":{\"type\":\"Point\",\"coordinates\":[-151.0034,65.828,9.2]},\"id\":\"ak016cqe7nkw\"},\\n{\"type\":\"Feature\",\"properties\":{\"mag\":1.19,\"place\":\"5km WNW of Cobb, California\",\"time\":1475516236830,\"updated\":1486779905643,\"tz\":-420,\"url\":\"https://earthquake.usgs.gov/earthquakes/eventpage/nc72706936\",\"detail\":\"https://earthquake.usgs.gov/fdsnws/event/1/query?eventid=nc72706936&format=geojson\",\"felt\":null,\"cdi\":null,\"mmi\":null,\"alert\":null,\"status\":\"automatic\",\"tsunami\":0,\"sig\":22,\"net\":\"nc\",\"code\":\"72706936\",\"ids\":\",nc72706936,\",\"sources\":\",nc,\",\"types\":\",geoserve,nearby-cities,origin,phase-data,\",\"nst\":16,\"dmin\":0.009009,\"rms\":0.03,\"gap\":65,\"magType\":\"md\",\"type\":\"earthquake\",\"title\":\"M 1.2 - 5km WNW of Cobb, California\"},\"geometry\":{\"type\":\"Point\",\"coordinates\":[-122.7828369,38.8354988,1.87]},\"id\":\"nc72706936\"},\\n{\"type\":\"Feature\",\"properties\":{\"mag\":4.9,\"place\":\"Central Mid-Atlantic Ridge\",\"time\":1475515445800,\"updated\":1483477843040,\"tz\":-120,\"url\":\"https://earthquake.usgs.gov/earthquakes/eventpage/us10006urn\",\"detail\":\"https://earthquake.usgs.gov/fdsnws/event/1/query?eventid=us10006urn&format=geojson\",\"felt\":null,\"cdi\":null,\"mmi\":null,\"alert\":null,\"status\":\"reviewed\",\"tsunami\":0,\"sig\":369,\"net\":\"us\",\"code\":\"10006urn\",\"ids\":\",us10006urn,\",\"sources\":\",us,\",\"types\":\",cap,geoserve,origin,phase-data,\",\"nst\":null,\"dmin\":13.076,\"rms\":0.8,\"gap\":98,\"magType\":\"mb\",\"type\":\"earthquake\",\"title\":\"M 4.9 - Central Mid-Atlantic Ridge\"},\"geometry\":{\"type\":\"Point\",\"coordinates\":[-34.4777,7.3473,10]},\"id\":\"us10006urn\"},\\n{\"type\":\"Feature\",\"properties\":{\"mag\":0.7,\"place\":\"96km W of Cantwell, Alaska\",\"time\":1475514709212,\"updated\":1560794171135,\"tz\":-480,\"url\":\"https://earthquake.usgs.gov/earthquakes/eventpage/ak016cqe1yqx\",\"detail\":\"https://earthquake.usgs.gov/fdsnws/event/1/query?eventid=ak016cqe1yqx&format=geojson\",\"felt\":null,\"cdi\":null,\"mmi\":null,\"alert\":null,\"status\":\"reviewed\",\"tsunami\":0,\"sig\":8,\"net\":\"ak\",\"code\":\"016cqe1yqx\",\"ids\":\",ak14160827,ak016cqe1yqx,\",\"sources\":\",ak,ak,\",\"types\":\",associate,geoserve,origin,phase-data,\",\"nst\":null,\"dmin\":null,\"rms\":0.44,\"gap\":null,\"magType\":\"ml\",\"type\":\"earthquake\",\"title\":\"M 0.7 - 96km W of Cantwell, Alaska\"},\"geometry\":{\"type\":\"Point\",\"coordinates\":[-150.8691,63.5321,10.2]},\"id\":\"ak016cqe1yqx\"},\\n{\"type\":\"Feature\",\"properties\":{\"mag\":1.4,\"place\":\"4km SE of Home Gardens, CA\",\"time\":1475514173550,\"updated\":1475543334822,\"tz\":-420,\"url\":\"https://earthquake.usgs.gov/earthquakes/eventpage/ci37709112\",\"detail\":\"https://earthquake.usgs.gov/fdsnws/event/1/query?eventid=ci37709112&format=geojson\",\"felt\":null,\"cdi\":null,\"mmi\":null,\"alert\":null,\"status\":\"reviewed\",\"tsunami\":0,\"sig\":30,\"net\":\"ci\",\"code\":\"37709112\",\"ids\":\",ci37709112,\",\"sources\":\",ci,\",\"types\":\",general-link,geoserve,nearby-cities,origin,phase-data,scitech-link,\",\"nst\":51,\"dmin\":0.05511,\"rms\":0.2,\"gap\":74,\"magType\":\"ml\",\"type\":\"quarry blast\",\"title\":\"M 1.4 Quarry Blast - 4km SE of Home Gardens, CA\"},\"geometry\":{\"type\":\"Point\",\"coordinates\":[-117.4961667,33.8525,-0.57]},\"id\":\"ci37709112\"},\\n{\"type\":\"Feature\",\"properties\":{\"mag\":1.75,\"place\":\"66km ENE of Old Faithful Geyser, Wyoming\",\"time\":1475513855760,\"updated\":1475531701040,\"tz\":-360,\"url\":\"https://earthquake.usgs.gov/earthquakes/eventpage/uu60163962\",\"detail\":\"https://earthquake.usgs.gov/fdsnws/event/1/query?eventid=uu60163962&format=geojson\",\"felt\":null,\"cdi\":null,\"mmi\":null,\"alert\":null,\"status\":\"reviewed\",\"tsunami\":0,\"sig\":47,\"net\":\"uu\",\"code\":\"60163962\",\"ids\":\",uu60163962,\",\"sources\":\",uu,\",\"types\":\",cap,general-link,geoserve,origin,phase-data,\",\"nst\":12,\"dmin\":0.1118,\"rms\":0.15,\"gap\":156,\"magType\":\"ml\",\"type\":\"earthquake\",\"title\":\"M 1.8 - 66km ENE of Old Faithful Geyser, Wyoming\"},\"geometry\":{\"type\":\"Point\",\"coordinates\":[-110.0361667,44.6551667,8.32]},\"id\":\"uu60163962\"},\\n{\"type\":\"Feature\",\"properties\":{\"mag\":1.81,\"place\":\"70km ENE of Old Faithful Geyser, Wyoming\",\"time\":1475513855320,\"updated\":1475531606020,\"tz\":-360,\"url\":\"https://earthquake.usgs.gov/earthquakes/eventpage/uu60163957\",\"detail\":\"https://earthquake.usgs.gov/fdsnws/event/1/query?eventid=uu60163957&format=geojson\",\"felt\":null,\"cdi\":null,\"mmi\":null,\"alert\":null,\"status\":\"reviewed\",\"tsunami\":0,\"sig\":50,\"net\":\"uu\",\"code\":\"60163957\",\"ids\":\",uu60163957,\",\"sources\":\",uu,\",\"types\":\",cap,general-link,geoserve,origin,phase-data,\",\"nst\":15,\"dmin\":0.08195,\"rms\":0.21,\"gap\":147,\"magType\":\"ml\",\"type\":\"earthquake\",\"title\":\"M 1.8 - 70km ENE of Old Faithful Geyser, Wyoming\"},\"geometry\":{\"type\":\"Point\",\"coordinates\":[-109.9963333,44.6693333,14.66]},\"id\":\"uu60163957\"},\\n{\"type\":\"Feature\",\"properties\":{\"mag\":4.2,\"place\":\"Owen Fracture Zone region\",\"time\":1475513604200,\"updated\":1483477842040,\"tz\":240,\"url\":\"https://earthquake.usgs.gov/earthquakes/eventpage/us20007dnu\",\"detail\":\"https://earthquake.usgs.gov/fdsnws/event/1/query?eventid=us20007dnu&format=geojson\",\"felt\":null,\"cdi\":null,\"mmi\":null,\"alert\":null,\"status\":\"reviewed\",\"tsunami\":0,\"sig\":271,\"net\":\"us\",\"code\":\"20007dnu\",\"ids\":\",us20007dnu,\",\"sources\":\",us,\",\"types\":\",geoserve,origin,phase-data,\",\"nst\":null,\"dmin\":10.531,\"rms\":1.44,\"gap\":195,\"magType\":\"mb\",\"type\":\"earthquake\",\"title\":\"M 4.2 - Owen Fracture Zone region\"},\"geometry\":{\"type\":\"Point\",\"coordinates\":[58.1592,12.66,10]},\"id\":\"us20007dnu\"},\\n{\"type\":\"Feature\",\"properties\":{\"mag\":2.7,\"place\":\"74km NNW of Larsen Bay, Alaska\",\"time\":1475513164149,\"updated\":1560794170728,\"tz\":-480,\"url\":\"https://earthquake.usgs.gov/earthquakes/eventpage/ak016cqdnxq6\",\"detail\":\"https://earthquake.usgs.gov/fdsnws/event/1/query?eventid=ak016cqdnxq6&format=geojson\",\"felt\":null,\"cdi\":null,\"mmi\":null,\"alert\":null,\"status\":\"reviewed\",\"tsunami\":0,\"sig\":112,\"net\":\"ak\",\"code\":\"016cqdnxq6\",\"ids\":\",ak14160818,us10006urj,ak016cqdnxq6,\",\"sources\":\",ak,us,ak,\",\"types\":\",associate,geoserve,origin,phase-data,\",\"nst\":null,\"dmin\":null,\"rms\":0.53,\"gap\":null,\"magType\":\"ml\",\"type\":\"earthquake\",\"title\":\"M 2.7 - 74km NNW of Larsen Bay, Alaska\"},\"geometry\":{\"type\":\"Point\",\"coordinates\":[-154.6659,58.0944,88.6]},\"id\":\"ak016cqdnxq6\"},\\n{\"type\":\"Feature\",\"properties\":{\"mag\":1.5,\"place\":\"56km E of Cape Yakataga, Alaska\",\"time\":1475513092543,\"updated\":1560794170326,\"tz\":-480,\"url\":\"https://earthquake.usgs.gov/earthquakes/eventpage/ak016cqdnm12\",\"detail\":\"https://earthquake.usgs.gov/fdsnws/event/1/query?eventid=ak016cqdnm12&format=geojson\",\"felt\":null,\"cdi\":null,\"mmi\":null,\"alert\":null,\"status\":\"reviewed\",\"tsunami\":0,\"sig\":35,\"net\":\"ak\",\"code\":\"016cqdnm12\",\"ids\":\",ak14160819,ak016cqdnm12,\",\"sources\":\",ak,ak,\",\"types\":\",associate,geoserve,origin,phase-data,\",\"nst\":null,\"dmin\":null,\"rms\":0.9,\"gap\":null,\"magType\":\"ml\",\"type\":\"ice quake\",\"title\":\"M 1.5 Ice Quake - 56km E of Cape Yakataga, Alaska\"},\"geometry\":{\"type\":\"Point\",\"coordinates\":[-141.4256,60.0865,0]},\"id\":\"ak016cqdnm12\"},\\n{\"type\":\"Feature\",\"properties\":{\"mag\":1.1,\"place\":\"33km E of Anchorage, Alaska\",\"time\":1475512814203,\"updated\":1560794169822,\"tz\":-480,\"url\":\"https://earthquake.usgs.gov/earthquakes/eventpage/ak016cqdmo7g\",\"detail\":\"https://earthquake.usgs.gov/fdsnws/event/1/query?eventid=ak016cqdmo7g&format=geojson\",\"felt\":null,\"cdi\":null,\"mmi\":null,\"alert\":null,\"status\":\"reviewed\",\"tsunami\":0,\"sig\":19,\"net\":\"ak\",\"code\":\"016cqdmo7g\",\"ids\":\",ak14159648,ak016cqdmo7g,\",\"sources\":\",ak,ak,\",\"types\":\",associate,geoserve,origin,phase-data,\",\"nst\":null,\"dmin\":null,\"rms\":0.44,\"gap\":null,\"magType\":\"ml\",\"type\":\"earthquake\",\"title\":\"M 1.1 - 33km E of Anchorage, Alaska\"},\"geometry\":{\"type\":\"Point\",\"coordinates\":[-149.2848,61.222,31.5]},\"id\":\"ak016cqdmo7g\"},\\n{\"type\":\"Feature\",\"properties\":{\"mag\":0.56,\"place\":\"10km S of Idyllwild, CA\",\"time\":1475512579930,\"updated\":1475524252560,\"tz\":-420,\"url\":\"https://earthquake.usgs.gov/earthquakes/eventpage/ci37709096\",\"detail\":\"https://earthquake.usgs.gov/fdsnws/event/1/query?eventid=ci37709096&format=geojson\",\"felt\":null,\"cdi\":null,\"mmi\":null,\"alert\":null,\"status\":\"reviewed\",\"tsunami\":0,\"sig\":5,\"net\":\"ci\",\"code\":\"37709096\",\"ids\":\",ci37709096,\",\"sources\":\",ci,\",\"types\":\",cap,focal-mechanism,general-link,geoserve,nearby-cities,origin,phase-data,scitech-link,\",\"nst\":24,\"dmin\":0.05721,\"rms\":0.14,\"gap\":88,\"magType\":\"ml\",\"type\":\"earthquake\",\"title\":\"M 0.6 - 10km S of Idyllwild, CA\"},\"geometry\":{\"type\":\"Point\",\"coordinates\":[-116.7218333,33.6541667,12.23]},\"id\":\"ci37709096\"},\\n{\"type\":\"Feature\",\"properties\":{\"mag\":0.92,\"place\":\"10km WNW of Cobb, California\",\"time\":1475512364220,\"updated\":1486779900537,\"tz\":-420,\"url\":\"https://earthquake.usgs.gov/earthquakes/eventpage/nc72706911\",\"detail\":\"https://earthquake.usgs.gov/fdsnws/event/1/query?eventid=nc72706911&format=geojson\",\"felt\":null,\"cdi\":null,\"mmi\":null,\"alert\":null,\"status\":\"automatic\",\"tsunami\":0,\"sig\":13,\"net\":\"nc\",\"code\":\"72706911\",\"ids\":\",nc72706911,\",\"sources\":\",nc,\",\"types\":\",geoserve,nearby-cities,origin,phase-data,\",\"nst\":10,\"dmin\":0.00991,\"rms\":0.03,\"gap\":148,\"magType\":\"md\",\"type\":\"earthquake\",\"title\":\"M 0.9 - 10km WNW of Cobb, California\"},\"geometry\":{\"type\":\"Point\",\"coordinates\":[-122.8225021,38.8730011,0.33]},\"id\":\"nc72706911\"},\\n{\"type\":\"Feature\",\"properties\":{\"mag\":1.3,\"place\":\"10km S of Circle Hot Springs Station, Alaska\",\"time\":1475511094030,\"updated\":1560794169376,\"tz\":-480,\"url\":\"https://earthquake.usgs.gov/earthquakes/eventpage/ak016cqdghyz\",\"detail\":\"https://earthquake.usgs.gov/fdsnws/event/1/query?eventid=ak016cqdghyz&format=geojson\",\"felt\":null,\"cdi\":null,\"mmi\":null,\"alert\":null,\"status\":\"reviewed\",\"tsunami\":0,\"sig\":26,\"net\":\"ak\",\"code\":\"016cqdghyz\",\"ids\":\",ak14159644,ak016cqdghyz,\",\"sources\":\",ak,ak,\",\"types\":\",associate,geoserve,origin,phase-data,\",\"nst\":null,\"dmin\":null,\"rms\":0.81,\"gap\":null,\"magType\":\"ml\",\"type\":\"earthquake\",\"title\":\"M 1.3 - 10km S of Circle Hot Springs Station, Alaska\"},\"geometry\":{\"type\":\"Point\",\"coordinates\":[-144.663,65.3809,0.2]},\"id\":\"ak016cqdghyz\"},\\n{\"type\":\"Feature\",\"properties\":{\"mag\":4,\"place\":\"35km N of Santo Domingo Zanatepec, Mexico\",\"time\":1475510690400,\"updated\":1483477842040,\"tz\":-300,\"url\":\"https://earthquake.usgs.gov/earthquakes/eventpage/us100074ki\",\"detail\":\"https://earthquake.usgs.gov/fdsnws/event/1/query?eventid=us100074ki&format=geojson\",\"felt\":null,\"cdi\":null,\"mmi\":null,\"alert\":null,\"status\":\"reviewed\",\"tsunami\":0,\"sig\":246,\"net\":\"us\",\"code\":\"100074ki\",\"ids\":\",us100074ki,\",\"sources\":\",us,\",\"types\":\",geoserve,origin,phase-data,\",\"nst\":null,\"dmin\":null,\"rms\":1.25,\"gap\":null,\"magType\":\"mb\",\"type\":\"earthquake\",\"title\":\"M 4.0 - 35km N of Santo Domingo Zanatepec, Mexico\"},\"geometry\":{\"type\":\"Point\",\"coordinates\":[-94.392,16.8009,71.4]},\"id\":\"us100074ki\"},\\n{\"type\":\"Feature\",\"properties\":{\"mag\":-0.6,\"place\":\"Nevada\",\"time\":1475510545176,\"updated\":1530554687233,\"tz\":null,\"url\":\"https://earthquake.usgs.gov/earthquakes/eventpage/nn00562382\",\"detail\":\"https://earthquake.usgs.gov/fdsnws/event/1/query?eventid=nn00562382&format=geojson\",\"felt\":null,\"cdi\":null,\"mmi\":null,\"alert\":null,\"status\":\"reviewed\",\"tsunami\":0,\"sig\":0,\"net\":\"nn\",\"code\":\"00562382\",\"ids\":\",nn00562382,\",\"sources\":\",nn,\",\"types\":\",origin,phase-data,\",\"nst\":3,\"dmin\":0.035,\"rms\":0.126,\"gap\":247.63,\"magType\":\"ml\",\"type\":\"earthquake\",\"title\":\"M -0.6 - Nevada\"},\"geometry\":{\"type\":\"Point\",\"coordinates\":[-116.7204,37.1788,0]},\"id\":\"nn00562382\"},\\n{\"type\":\"Feature\",\"properties\":{\"mag\":0.97,\"place\":\"8km ENE of Murrieta Hot Springs, CA\",\"time\":1475510434520,\"updated\":1475524262200,\"tz\":-420,\"url\":\"https://earthquake.usgs.gov/earthquakes/eventpage/ci37709072\",\"detail\":\"https://earthquake.usgs.gov/fdsnws/event/1/query?eventid=ci37709072&format=geojson\",\"felt\":null,\"cdi\":null,\"mmi\":null,\"alert\":null,\"status\":\"reviewed\",\"tsunami\":0,\"sig\":14,\"net\":\"ci\",\"code\":\"37709072\",\"ids\":\",ci37709072,\",\"sources\":\",ci,\",\"types\":\",cap,focal-mechanism,general-link,geoserve,nearby-cities,origin,phase-data,scitech-link,\",\"nst\":27,\"dmin\":0.0415,\"rms\":0.2,\"gap\":63,\"magType\":\"ml\",\"type\":\"earthquake\",\"title\":\"M 1.0 - 8km ENE of Murrieta Hot Springs, CA\"},\"geometry\":{\"type\":\"Point\",\"coordinates\":[-117.0835,33.5911667,12.04]},\"id\":\"ci37709072\"},\\n{\"type\":\"Feature\",\"properties\":{\"mag\":0.89,\"place\":\"66km ENE of Old Faithful Geyser, Wyoming\",\"time\":1475510155800,\"updated\":1475534941880,\"tz\":-360,\"url\":\"https://earthquake.usgs.gov/earthquakes/eventpage/uu60163947\",\"detail\":\"https://earthquake.usgs.gov/fdsnws/event/1/query?eventid=uu60163947&format=geojson\",\"felt\":null,\"cdi\":null,\"mmi\":null,\"alert\":null,\"status\":\"reviewed\",\"tsunami\":0,\"sig\":12,\"net\":\"uu\",\"code\":\"60163947\",\"ids\":\",uu60163947,\",\"sources\":\",uu,\",\"types\":\",cap,general-link,geoserve,origin,phase-data,\",\"nst\":4,\"dmin\":0.1219,\"rms\":0.12,\"gap\":175,\"magType\":\"md\",\"type\":\"earthquake\",\"title\":\"M 0.9 - 66km ENE of Old Faithful Geyser, Wyoming\"},\"geometry\":{\"type\":\"Point\",\"coordinates\":[-110.0356667,44.6408333,5.86]},\"id\":\"uu60163947\"},\\n{\"type\":\"Feature\",\"properties\":{\"mag\":4.3,\"place\":\"127km SW of Hihifo, Tonga\",\"time\":1475510111270,\"updated\":1483477842040,\"tz\":-720,\"url\":\"https://earthquake.usgs.gov/earthquakes/eventpage/us20007dnt\",\"detail\":\"https://earthquake.usgs.gov/fdsnws/event/1/query?eventid=us20007dnt&format=geojson\",\"felt\":null,\"cdi\":null,\"mmi\":null,\"alert\":null,\"status\":\"reviewed\",\"tsunami\":0,\"sig\":284,\"net\":\"us\",\"code\":\"20007dnt\",\"ids\":\",us20007dnt,\",\"sources\":\",us,\",\"types\":\",geoserve,origin,phase-data,\",\"nst\":null,\"dmin\":3.929,\"rms\":0.65,\"gap\":72,\"magType\":\"mb\",\"type\":\"earthquake\",\"title\":\"M 4.3 - 127km SW of Hihifo, Tonga\"},\"geometry\":{\"type\":\"Point\",\"coordinates\":[-174.5923,-16.7658,176.08]},\"id\":\"us20007dnt\"},\\n{\"type\":\"Feature\",\"properties\":{\"mag\":4.4,\"place\":\"219km WNW of Saumlaki, Indonesia\",\"time\":1475509932560,\"updated\":1483477842040,\"tz\":540,\"url\":\"https://earthquake.usgs.gov/earthquakes/eventpage/us10006ur3\",\"detail\":\"https://earthquake.usgs.gov/fdsnws/event/1/query?eventid=us10006ur3&format=geojson\",\"felt\":null,\"cdi\":null,\"mmi\":null,\"alert\":null,\"status\":\"reviewed\",\"tsunami\":0,\"sig\":298,\"net\":\"us\",\"code\":\"10006ur3\",\"ids\":\",us10006ur3,\",\"sources\":\",us,\",\"types\":\",cap,geoserve,origin,phase-data,\",\"nst\":null,\"dmin\":1.977,\"rms\":1.05,\"gap\":89,\"magType\":\"mb\",\"type\":\"earthquake\",\"title\":\"M 4.4 - 219km WNW of Saumlaki, Indonesia\"},\"geometry\":{\"type\":\"Point\",\"coordinates\":[129.6122,-6.9203,160.12]},\"id\":\"us10006ur3\"},\\n{\"type\":\"Feature\",\"properties\":{\"mag\":1.4,\"place\":\"44km W of Willow, Alaska\",\"time\":1475509814141,\"updated\":1560794168975,\"tz\":-480,\"url\":\"https://earthquake.usgs.gov/earthquakes/eventpage/ak016cqd3dra\",\"detail\":\"https://earthquake.usgs.gov/fdsnws/event/1/query?eventid=ak016cqd3dra&format=geojson\",\"felt\":null,\"cdi\":null,\"mmi\":null,\"alert\":null,\"status\":\"reviewed\",\"tsunami\":0,\"sig\":30,\"net\":\"ak\",\"code\":\"016cqd3dra\",\"ids\":\",ak14159642,ak016cqd3dra,\",\"sources\":\",ak,ak,\",\"types\":\",associate,geoserve,origin,phase-data,\",\"nst\":null,\"dmin\":null,\"rms\":0.32,\"gap\":null,\"magType\":\"ml\",\"type\":\"earthquake\",\"title\":\"M 1.4 - 44km W of Willow, Alaska\"},\"geometry\":{\"type\":\"Point\",\"coordinates\":[-150.8737,61.7284,57.6]},\"id\":\"ak016cqd3dra\"},\\n{\"type\":\"Feature\",\"properties\":{\"mag\":0.62,\"place\":\"18km S of Whitehall, Montana\",\"time\":1475509675420,\"updated\":1475621853920,\"tz\":-360,\"url\":\"https://earthquake.usgs.gov/earthquakes/eventpage/mb80179334\",\"detail\":\"https://earthquake.usgs.gov/fdsnws/event/1/query?eventid=mb80179334&format=geojson\",\"felt\":null,\"cdi\":null,\"mmi\":null,\"alert\":null,\"status\":\"reviewed\",\"tsunami\":0,\"sig\":6,\"net\":\"mb\",\"code\":\"80179334\",\"ids\":\",mb80179334,\",\"sources\":\",mb,\",\"types\":\",cap,general-link,geoserve,origin,phase-data,\",\"nst\":4,\"dmin\":0.225,\"rms\":0.17,\"gap\":178,\"magType\":\"ml\",\"type\":\"earthquake\",\"title\":\"M 0.6 - 18km S of Whitehall, Montana\"},\"geometry\":{\"type\":\"Point\",\"coordinates\":[-112.141,45.7085,5.95]},\"id\":\"mb80179334\"},\\n{\"type\":\"Feature\",\"properties\":{\"mag\":1.2,\"place\":\"67km NW of Yakutat, Alaska\",\"time\":1475509651637,\"updated\":1560794168488,\"tz\":-480,\"url\":\"https://earthquake.usgs.gov/earthquakes/eventpage/ak016cqd2ryj\",\"detail\":\"https://earthquake.usgs.gov/fdsnws/event/1/query?eventid=ak016cqd2ryj&format=geojson\",\"felt\":null,\"cdi\":null,\"mmi\":null,\"alert\":null,\"status\":\"reviewed\",\"tsunami\":0,\"sig\":22,\"net\":\"ak\",\"code\":\"016cqd2ryj\",\"ids\":\",ak14159641,ak016cqd2ryj,\",\"sources\":\",ak,ak,\",\"types\":\",associate,geoserve,origin,phase-data,\",\"nst\":null,\"dmin\":null,\"rms\":0.47,\"gap\":null,\"magType\":\"ml\",\"type\":\"earthquake\",\"title\":\"M 1.2 - 67km NW of Yakutat, Alaska\"},\"geometry\":{\"type\":\"Point\",\"coordinates\":[-140.6712,59.9166,8.2]},\"id\":\"ak016cqd2ryj\"},\\n{\"type\":\"Feature\",\"properties\":{\"mag\":3.4,\"place\":\"74km NNW of Road Town, British Virgin Islands\",\"time\":1475509557200,\"updated\":1483477842040,\"tz\":-240,\"url\":\"https://earthquake.usgs.gov/earthquakes/eventpage/pr16277003\",\"detail\":\"https://earthquake.usgs.gov/fdsnws/event/1/query?eventid=pr16277003&format=geojson\",\"felt\":null,\"cdi\":null,\"mmi\":null,\"alert\":null,\"status\":\"REVIEWED\",\"tsunami\":0,\"sig\":178,\"net\":\"pr\",\"code\":\"16277003\",\"ids\":\",pr16277003,us10006ur4,\",\"sources\":\",pr,us,\",\"types\":\",cap,geoserve,origin,phase-data,\",\"nst\":16,\"dmin\":0.66475331,\"rms\":0.4,\"gap\":266.4,\"magType\":\"Md\",\"type\":\"earthquake\",\"title\":\"M 3.4 - 74km NNW of Road Town, British Virgin Islands\"},\"geometry\":{\"type\":\"Point\",\"coordinates\":[-64.8123,19.059,13]},\"id\":\"pr16277003\"},\\n{\"type\":\"Feature\",\"properties\":{\"mag\":1,\"place\":\"19km ESE of Y, Alaska\",\"time\":1475509404703,\"updated\":1560794167969,\"tz\":-480,\"url\":\"https://earthquake.usgs.gov/earthquakes/eventpage/ak016cqd1wk6\",\"detail\":\"https://earthquake.usgs.gov/fdsnws/event/1/query?eventid=ak016cqd1wk6&format=geojson\",\"felt\":null,\"cdi\":null,\"mmi\":null,\"alert\":null,\"status\":\"reviewed\",\"tsunami\":0,\"sig\":15,\"net\":\"ak\",\"code\":\"016cqd1wk6\",\"ids\":\",ak14159639,ak016cqd1wk6,\",\"sources\":\",ak,ak,\",\"types\":\",associate,geoserve,origin,phase-data,\",\"nst\":null,\"dmin\":null,\"rms\":0.37,\"gap\":null,\"magType\":\"ml\",\"type\":\"earthquake\",\"title\":\"M 1.0 - 19km ESE of Y, Alaska\"},\"geometry\":{\"type\":\"Point\",\"coordinates\":[-149.4978,62.0983,53.8]},\"id\":\"ak016cqd1wk6\"},\\n{\"type\":\"Feature\",\"properties\":{\"mag\":1.4,\"place\":\"86km WSW of Cantwell, Alaska\",\"time\":1475509315030,\"updated\":1560794167542,\"tz\":-480,\"url\":\"https://earthquake.usgs.gov/earthquakes/eventpage/ak016cqd1jgv\",\"detail\":\"https://earthquake.usgs.gov/fdsnws/event/1/query?eventid=ak016cqd1jgv&format=geojson\",\"felt\":null,\"cdi\":null,\"mmi\":null,\"alert\":null,\"status\":\"reviewed\",\"tsunami\":0,\"sig\":30,\"net\":\"ak\",\"code\":\"016cqd1jgv\",\"ids\":\",ak14159637,ak016cqd1jgv,\",\"sources\":\",ak,ak,\",\"types\":\",associate,geoserve,origin,phase-data,\",\"nst\":null,\"dmin\":null,\"rms\":0.27,\"gap\":null,\"magType\":\"ml\",\"type\":\"earthquake\",\"title\":\"M 1.4 - 86km WSW of Cantwell, Alaska\"},\"geometry\":{\"type\":\"Point\",\"coordinates\":[-150.6018,63.1691,115.5]},\"id\":\"ak016cqd1jgv\"},\\n{\"type\":\"Feature\",\"properties\":{\"mag\":2.14,\"place\":\"32km E of Ensenada, B.C., MX\",\"time\":1475509125750,\"updated\":1475537017110,\"tz\":-420,\"url\":\"https://earthquake.usgs.gov/earthquakes/eventpage/ci37709056\",\"detail\":\"https://earthquake.usgs.gov/fdsnws/event/1/query?eventid=ci37709056&format=geojson\",\"felt\":null,\"cdi\":null,\"mmi\":null,\"alert\":null,\"status\":\"reviewed\",\"tsunami\":0,\"sig\":70,\"net\":\"ci\",\"code\":\"37709056\",\"ids\":\",ci37709056,\",\"sources\":\",ci,\",\"types\":\",cap,geoserve,nearby-cities,origin,phase-data,scitech-link,\",\"nst\":16,\"dmin\":0.3019,\"rms\":0.2,\"gap\":122,\"magType\":\"ml\",\"type\":\"earthquake\",\"title\":\"M 2.1 - 32km E of Ensenada, B.C., MX\"},\"geometry\":{\"type\":\"Point\",\"coordinates\":[-116.2875,31.9158333,18.6]},\"id\":\"ci37709056\"},\\n{\"type\":\"Feature\",\"properties\":{\"mag\":0.06,\"place\":\"Northern California\",\"time\":1475509000530,\"updated\":1486779895495,\"tz\":null,\"url\":\"https://earthquake.usgs.gov/earthquakes/eventpage/nc72706901\",\"detail\":\"https://earthquake.usgs.gov/fdsnws/event/1/query?eventid=nc72706901&format=geojson\",\"felt\":null,\"cdi\":null,\"mmi\":null,\"alert\":null,\"status\":\"automatic\",\"tsunami\":0,\"sig\":0,\"net\":\"nc\",\"code\":\"72706901\",\"ids\":\",nc72706901,\",\"sources\":\",nc,\",\"types\":\",nearby-cities,origin,phase-data,\",\"nst\":7,\"dmin\":0.006306,\"rms\":0,\"gap\":83,\"magType\":\"md\",\"type\":\"earthquake\",\"title\":\"M 0.1 - Northern California\"},\"geometry\":{\"type\":\"Point\",\"coordinates\":[-122.8068314,38.8293343,0.04]},\"id\":\"nc72706901\"},\\n{\"type\":\"Feature\",\"properties\":{\"mag\":1.8,\"place\":\"6km SSE of Circle Hot Springs Station, Alaska\",\"time\":1475508919240,\"updated\":1560794167066,\"tz\":-480,\"url\":\"https://earthquake.usgs.gov/earthquakes/eventpage/ak016cqd06es\",\"detail\":\"https://earthquake.usgs.gov/fdsnws/event/1/query?eventid=ak016cqd06es&format=geojson\",\"felt\":null,\"cdi\":null,\"mmi\":null,\"alert\":null,\"status\":\"reviewed\",\"tsunami\":0,\"sig\":50,\"net\":\"ak\",\"code\":\"016cqd06es\",\"ids\":\",ak14159634,ak016cqd06es,\",\"sources\":\",ak,ak,\",\"types\":\",associate,geoserve,origin,phase-data,\",\"nst\":null,\"dmin\":null,\"rms\":0.63,\"gap\":null,\"magType\":\"ml\",\"type\":\"earthquake\",\"title\":\"M 1.8 - 6km SSE of Circle Hot Springs Station, Alaska\"},\"geometry\":{\"type\":\"Point\",\"coordinates\":[-144.6427,65.415,3.4]},\"id\":\"ak016cqd06es\"},\\n{\"type\":\"Feature\",\"properties\":{\"mag\":0.7,\"place\":\"82km N of College, Alaska\",\"time\":1475508883490,\"updated\":1560794166645,\"tz\":-480,\"url\":\"https://earthquake.usgs.gov/earthquakes/eventpage/ak016cqd00kd\",\"detail\":\"https://earthquake.usgs.gov/fdsnws/event/1/query?eventid=ak016cqd00kd&format=geojson\",\"felt\":null,\"cdi\":null,\"mmi\":null,\"alert\":null,\"status\":\"reviewed\",\"tsunami\":0,\"sig\":8,\"net\":\"ak\",\"code\":\"016cqd00kd\",\"ids\":\",ak14159633,ak016cqd00kd,\",\"sources\":\",ak,ak,\",\"types\":\",associate,geoserve,origin,phase-data,\",\"nst\":null,\"dmin\":null,\"rms\":0.4,\"gap\":null,\"magType\":\"ml\",\"type\":\"earthquake\",\"title\":\"M 0.7 - 82km N of College, Alaska\"},\"geometry\":{\"type\":\"Point\",\"coordinates\":[-147.9673,65.5899,13.9]},\"id\":\"ak016cqd00kd\"},\\n{\"type\":\"Feature\",\"properties\":{\"mag\":4.4,\"place\":\"191km NE of Amsterdam Island, France\",\"time\":1475508783910,\"updated\":1483477842040,\"tz\":300,\"url\":\"https://earthquake.usgs.gov/earthquakes/eventpage/us20007dns\",\"detail\":\"https://earthquake.usgs.gov/fdsnws/event/1/query?eventid=us20007dns&format=geojson\",\"felt\":null,\"cdi\":null,\"mmi\":null,\"alert\":null,\"status\":\"reviewed\",\"tsunami\":0,\"sig\":298,\"net\":\"us\",\"code\":\"20007dns\",\"ids\":\",us20007dns,\",\"sources\":\",us,\",\"types\":\",geoserve,origin,phase-data,\",\"nst\":null,\"dmin\":1.665,\"rms\":0.73,\"gap\":226,\"magType\":\"mb\",\"type\":\"earthquake\",\"title\":\"M 4.4 - 191km NE of Amsterdam Island, France\"},\"geometry\":{\"type\":\"Point\",\"coordinates\":[78.9409,-36.5394,10]},\"id\":\"us20007dns\"},\\n{\"type\":\"Feature\",\"properties\":{\"mag\":0.3,\"place\":\"27km NE of Portola, California\",\"time\":1475507294369,\"updated\":1530554687153,\"tz\":-420,\"url\":\"https://earthquake.usgs.gov/earthquakes/eventpage/nn00562377\",\"detail\":\"https://earthquake.usgs.gov/fdsnws/event/1/query?eventid=nn00562377&format=geojson\",\"felt\":null,\"cdi\":null,\"mmi\":null,\"alert\":null,\"status\":\"reviewed\",\"tsunami\":0,\"sig\":1,\"net\":\"nn\",\"code\":\"00562377\",\"ids\":\",nn00562377,\",\"sources\":\",nn,\",\"types\":\",cap,geoserve,origin,phase-data,\",\"nst\":5,\"dmin\":0.13,\"rms\":0.0489,\"gap\":121.16,\"magType\":\"ml\",\"type\":\"earthquake\",\"title\":\"M 0.3 - 27km NE of Portola, California\"},\"geometry\":{\"type\":\"Point\",\"coordinates\":[-120.2367,39.9855,2]},\"id\":\"nn00562377\"},\\n{\"type\":\"Feature\",\"properties\":{\"mag\":1.9,\"place\":\"119km SE of Old Iliamna, Alaska\",\"time\":1475507149390,\"updated\":1560794166236,\"tz\":-480,\"url\":\"https://earthquake.usgs.gov/earthquakes/eventpage/ak016cqctt97\",\"detail\":\"https://earthquake.usgs.gov/fdsnws/event/1/query?eventid=ak016cqctt97&format=geojson\",\"felt\":null,\"cdi\":null,\"mmi\":null,\"alert\":null,\"status\":\"reviewed\",\"tsunami\":0,\"sig\":56,\"net\":\"ak\",\"code\":\"016cqctt97\",\"ids\":\",ak14158459,ak016cqctt97,\",\"sources\":\",ak,ak,\",\"types\":\",associate,geoserve,origin,phase-data,\",\"nst\":null,\"dmin\":null,\"rms\":0.84,\"gap\":null,\"magType\":\"ml\",\"type\":\"earthquake\",\"title\":\"M 1.9 - 119km SE of Old Iliamna, Alaska\"},\"geometry\":{\"type\":\"Point\",\"coordinates\":[-153.6232,58.9088,7.5]},\"id\":\"ak016cqctt97\"},\\n{\"type\":\"Feature\",\"properties\":{\"mag\":1.2,\"place\":\"57km N of Valdez, Alaska\",\"time\":1475507096115,\"updated\":1560794165801,\"tz\":-480,\"url\":\"https://earthquake.usgs.gov/earthquakes/eventpage/ak016cqctm23\",\"detail\":\"https://earthquake.usgs.gov/fdsnws/event/1/query?eventid=ak016cqctm23&format=geojson\",\"felt\":null,\"cdi\":null,\"mmi\":null,\"alert\":null,\"status\":\"reviewed\",\"tsunami\":0,\"sig\":22,\"net\":\"ak\",\"code\":\"016cqctm23\",\"ids\":\",ak14158461,ak016cqctm23,\",\"sources\":\",ak,ak,\",\"types\":\",associate,geoserve,origin,phase-data,\",\"nst\":null,\"dmin\":null,\"rms\":0.44,\"gap\":null,\"magType\":\"ml\",\"type\":\"earthquake\",\"title\":\"M 1.2 - 57km N of Valdez, Alaska\"},\"geometry\":{\"type\":\"Point\",\"coordinates\":[-146.5069,61.6409,36.1]},\"id\":\"ak016cqctm23\"},\\n{\"type\":\"Feature\",\"properties\":{\"mag\":1.4,\"place\":\"49km NW of Nikiski, Alaska\",\"time\":1475507015309,\"updated\":1560794165359,\"tz\":-480,\"url\":\"https://earthquake.usgs.gov/earthquakes/eventpage/ak016cqctcqi\",\"detail\":\"https://earthquake.usgs.gov/fdsnws/event/1/query?eventid=ak016cqctcqi&format=geojson\",\"felt\":null,\"cdi\":null,\"mmi\":null,\"alert\":null,\"status\":\"reviewed\",\"tsunami\":0,\"sig\":30,\"net\":\"ak\",\"code\":\"016cqctcqi\",\"ids\":\",ak14158458,ak016cqctcqi,\",\"sources\":\",ak,ak,\",\"types\":\",associate,geoserve,origin,phase-data,\",\"nst\":null,\"dmin\":null,\"rms\":0.41,\"gap\":null,\"magType\":\"ml\",\"type\":\"earthquake\",\"title\":\"M 1.4 - 49km NW of Nikiski, Alaska\"},\"geometry\":{\"type\":\"Point\",\"coordinates\":[-151.8598,61.0357,78]},\"id\":\"ak016cqctcqi\"},\\n{\"type\":\"Feature\",\"properties\":{\"mag\":5.1,\"place\":\"34km ESE of Parapat, Indonesia\",\"time\":1475506933910,\"updated\":1483477842040,\"tz\":420,\"url\":\"https://earthquake.usgs.gov/earthquakes/eventpage/us10006uqn\",\"detail\":\"https://earthquake.usgs.gov/fdsnws/event/1/query?eventid=us10006uqn&format=geojson\",\"felt\":null,\"cdi\":null,\"mmi\":null,\"alert\":null,\"status\":\"reviewed\",\"tsunami\":1,\"sig\":400,\"net\":\"us\",\"code\":\"10006uqn\",\"ids\":\",us10006uqn,\",\"sources\":\",us,\",\"types\":\",cap,geoserve,origin,phase-data,\",\"nst\":null,\"dmin\":0.335,\"rms\":0.77,\"gap\":38,\"magType\":\"mb\",\"type\":\"earthquake\",\"title\":\"M 5.1 - 34km ESE of Parapat, Indonesia\"},\"geometry\":{\"type\":\"Point\",\"coordinates\":[99.1943,2.4941,158.4]},\"id\":\"us10006uqn\"},\\n{\"type\":\"Feature\",\"properties\":{\"mag\":2,\"place\":\"32km SSW of Esperanza, Puerto Rico\",\"time\":1475506855800,\"updated\":1475513265906,\"tz\":-240,\"url\":\"https://earthquake.usgs.gov/earthquakes/eventpage/pr16277004\",\"detail\":\"https://earthquake.usgs.gov/fdsnws/event/1/query?eventid=pr16277004&format=geojson\",\"felt\":null,\"cdi\":null,\"mmi\":null,\"alert\":null,\"status\":\"REVIEWED\",\"tsunami\":0,\"sig\":62,\"net\":\"pr\",\"code\":\"16277004\",\"ids\":\",pr16277004,\",\"sources\":\",pr,\",\"types\":\",cap,geoserve,origin,\",\"nst\":3,\"dmin\":0.26679964,\"rms\":0.2,\"gap\":288,\"magType\":\"Md\",\"type\":\"earthquake\",\"title\":\"M 2.0 - 32km SSW of Esperanza, Puerto Rico\"},\"geometry\":{\"type\":\"Point\",\"coordinates\":[-65.6191,17.836,10]},\"id\":\"pr16277004\"},\\n{\"type\":\"Feature\",\"properties\":{\"mag\":1.55,\"place\":\"8km WSW of Niland, CA\",\"time\":1475506498710,\"updated\":1475527666930,\"tz\":-420,\"url\":\"https://earthquake.usgs.gov/earthquakes/eventpage/ci37709040\",\"detail\":\"https://earthquake.usgs.gov/fdsnws/event/1/query?eventid=ci37709040&format=geojson\",\"felt\":null,\"cdi\":null,\"mmi\":null,\"alert\":null,\"status\":\"reviewed\",\"tsunami\":0,\"sig\":37,\"net\":\"ci\",\"code\":\"37709040\",\"ids\":\",ci37709040,\",\"sources\":\",ci,\",\"types\":\",cap,general-link,geoserve,nearby-cities,origin,phase-data,scitech-link,\",\"nst\":14,\"dmin\":0.03301,\"rms\":0.2,\"gap\":96,\"magType\":\"ml\",\"type\":\"earthquake\",\"title\":\"M 1.6 - 8km WSW of Niland, CA\"},\"geometry\":{\"type\":\"Point\",\"coordinates\":[-115.589,33.2018333,1.38]},\"id\":\"ci37709040\"},\\n{\"type\":\"Feature\",\"properties\":{\"mag\":1.49,\"place\":\"60km S of Park Valley, Utah\",\"time\":1475506162090,\"updated\":1475534723950,\"tz\":-360,\"url\":\"https://earthquake.usgs.gov/earthquakes/eventpage/uu60163937\",\"detail\":\"https://earthquake.usgs.gov/fdsnws/event/1/query?eventid=uu60163937&format=geojson\",\"felt\":null,\"cdi\":null,\"mmi\":null,\"alert\":null,\"status\":\"reviewed\",\"tsunami\":0,\"sig\":34,\"net\":\"uu\",\"code\":\"60163937\",\"ids\":\",uu60163937,\",\"sources\":\",uu,\",\"types\":\",cap,general-link,geoserve,origin,phase-data,\",\"nst\":6,\"dmin\":0.4639,\"rms\":0.05,\"gap\":153,\"magType\":\"ml\",\"type\":\"earthquake\",\"title\":\"M 1.5 - 60km S of Park Valley, Utah\"},\"geometry\":{\"type\":\"Point\",\"coordinates\":[-113.422,41.278,2.12]},\"id\":\"uu60163937\"},\\n{\"type\":\"Feature\",\"properties\":{\"mag\":4.2,\"place\":\"239km ESE of Lambasa, Fiji\",\"time\":1475506160620,\"updated\":1483477842040,\"tz\":-720,\"url\":\"https://earthquake.usgs.gov/earthquakes/eventpage/us20007dnq\",\"detail\":\"https://earthquake.usgs.gov/fdsnws/event/1/query?eventid=us20007dnq&format=geojson\",\"felt\":null,\"cdi\":null,\"mmi\":null,\"alert\":null,\"status\":\"reviewed\",\"tsunami\":0,\"sig\":271,\"net\":\"us\",\"code\":\"20007dnq\",\"ids\":\",us20007dnq,\",\"sources\":\",us,\",\"types\":\",geoserve,origin,phase-data,\",\"nst\":null,\"dmin\":3.5,\"rms\":0.48,\"gap\":232,\"magType\":\"mb\",\"type\":\"earthquake\",\"title\":\"M 4.2 - 239km ESE of Lambasa, Fiji\"},\"geometry\":{\"type\":\"Point\",\"coordinates\":[-178.4097,-16.8261,530.36]},\"id\":\"us20007dnq\"},\\n{\"type\":\"Feature\",\"properties\":{\"mag\":1.5,\"place\":\"119km SE of Old Iliamna, Alaska\",\"time\":1475505811177,\"updated\":1560794164882,\"tz\":-480,\"url\":\"https://earthquake.usgs.gov/earthquakes/eventpage/ak016cqcghgd\",\"detail\":\"https://earthquake.usgs.gov/fdsnws/event/1/query?eventid=ak016cqcghgd&format=geojson\",\"felt\":null,\"cdi\":null,\"mmi\":null,\"alert\":null,\"status\":\"reviewed\",\"tsunami\":0,\"sig\":35,\"net\":\"ak\",\"code\":\"016cqcghgd\",\"ids\":\",ak14158454,ak016cqcghgd,\",\"sources\":\",ak,ak,\",\"types\":\",associate,geoserve,origin,phase-data,\",\"nst\":null,\"dmin\":null,\"rms\":0.9,\"gap\":null,\"magType\":\"ml\",\"type\":\"earthquake\",\"title\":\"M 1.5 - 119km SE of Old Iliamna, Alaska\"},\"geometry\":{\"type\":\"Point\",\"coordinates\":[-153.6203,58.9105,6.5]},\"id\":\"ak016cqcghgd\"},\\n{\"type\":\"Feature\",\"properties\":{\"mag\":1.4,\"place\":\"81km N of College, Alaska\",\"time\":1475505772445,\"updated\":1560794164458,\"tz\":-480,\"url\":\"https://earthquake.usgs.gov/earthquakes/eventpage/ak016cqcgbdo\",\"detail\":\"https://earthquake.usgs.gov/fdsnws/event/1/query?eventid=ak016cqcgbdo&format=geojson\",\"felt\":null,\"cdi\":null,\"mmi\":null,\"alert\":null,\"status\":\"reviewed\",\"tsunami\":0,\"sig\":30,\"net\":\"ak\",\"code\":\"016cqcgbdo\",\"ids\":\",ak14158451,ak016cqcgbdo,\",\"sources\":\",ak,ak,\",\"types\":\",associate,geoserve,origin,phase-data,\",\"nst\":null,\"dmin\":null,\"rms\":0.52,\"gap\":null,\"magType\":\"ml\",\"type\":\"earthquake\",\"title\":\"M 1.4 - 81km N of College, Alaska\"},\"geometry\":{\"type\":\"Point\",\"coordinates\":[-147.944,65.5865,3]},\"id\":\"ak016cqcgbdo\"},\\n{\"type\":\"Feature\",\"properties\":{\"mag\":1.49,\"place\":\"12km N of Borrego Springs, CA\",\"time\":1475505672530,\"updated\":1475524207559,\"tz\":-420,\"url\":\"https://earthquake.usgs.gov/earthquakes/eventpage/ci37709032\",\"detail\":\"https://earthquake.usgs.gov/fdsnws/event/1/query?eventid=ci37709032&format=geojson\",\"felt\":null,\"cdi\":null,\"mmi\":null,\"alert\":null,\"status\":\"reviewed\",\"tsunami\":0,\"sig\":34,\"net\":\"ci\",\"code\":\"37709032\",\"ids\":\",ci37709032,\",\"sources\":\",ci,\",\"types\":\",cap,general-link,geoserve,nearby-cities,origin,phase-data,scitech-link,\",\"nst\":50,\"dmin\":0.1021,\"rms\":0.19,\"gap\":84,\"magType\":\"ml\",\"type\":\"earthquake\",\"title\":\"M 1.5 - 12km N of Borrego Springs, CA\"},\"geometry\":{\"type\":\"Point\",\"coordinates\":[-116.3613333,33.3591667,10.46]},\"id\":\"ci37709032\"},\\n{\"type\":\"Feature\",\"properties\":{\"mag\":1.6,\"place\":\"91km E of Nikolski, Alaska\",\"time\":1475505510437,\"updated\":1560794163955,\"tz\":-660,\"url\":\"https://earthquake.usgs.gov/earthquakes/eventpage/ak016cqcfetf\",\"detail\":\"https://earthquake.usgs.gov/fdsnws/event/1/query?eventid=ak016cqcfetf&format=geojson\",\"felt\":null,\"cdi\":null,\"mmi\":null,\"alert\":null,\"status\":\"reviewed\",\"tsunami\":0,\"sig\":39,\"net\":\"ak\",\"code\":\"016cqcfetf\",\"ids\":\",ak14190052,ak016cqcfetf,\",\"sources\":\",ak,ak,\",\"types\":\",associate,geoserve,origin,phase-data,\",\"nst\":null,\"dmin\":null,\"rms\":0.43,\"gap\":null,\"magType\":\"ml\",\"type\":\"earthquake\",\"title\":\"M 1.6 - 91km E of Nikolski, Alaska\"},\"geometry\":{\"type\":\"Point\",\"coordinates\":[-167.5079,52.9892,34.4]},\"id\":\"ak016cqcfetf\"},\\n{\"type\":\"Feature\",\"properties\":{\"mag\":2.3,\"place\":\"69km E of Old Iliamna, Alaska\",\"time\":1475505282263,\"updated\":1560794163433,\"tz\":-480,\"url\":\"https://earthquake.usgs.gov/earthquakes/eventpage/ak016cqcekv6\",\"detail\":\"https://earthquake.usgs.gov/fdsnws/event/1/query?eventid=ak016cqcekv6&format=geojson\",\"felt\":null,\"cdi\":null,\"mmi\":null,\"alert\":null,\"status\":\"reviewed\",\"tsunami\":0,\"sig\":81,\"net\":\"ak\",\"code\":\"016cqcekv6\",\"ids\":\",ak14157283,ak016cqcekv6,\",\"sources\":\",ak,ak,\",\"types\":\",associate,geoserve,origin,phase-data,\",\"nst\":null,\"dmin\":null,\"rms\":0.53,\"gap\":null,\"magType\":\"ml\",\"type\":\"earthquake\",\"title\":\"M 2.3 - 69km E of Old Iliamna, Alaska\"},\"geometry\":{\"type\":\"Point\",\"coordinates\":[-153.6814,59.7437,137]},\"id\":\"ak016cqcekv6\"},\\n{\"type\":\"Feature\",\"properties\":{\"mag\":1.5,\"place\":\"18km SE of Redoubt Volcano, Alaska\",\"time\":1475505009418,\"updated\":1560794163023,\"tz\":-480,\"url\":\"https://earthquake.usgs.gov/earthquakes/eventpage/ak016cqcdngt\",\"detail\":\"https://earthquake.usgs.gov/fdsnws/event/1/query?eventid=ak016cqcdngt&format=geojson\",\"felt\":null,\"cdi\":null,\"mmi\":null,\"alert\":null,\"status\":\"reviewed\",\"tsunami\":0,\"sig\":35,\"net\":\"ak\",\"code\":\"016cqcdngt\",\"ids\":\",ak14157281,ak016cqcdngt,\",\"sources\":\",ak,ak,\",\"types\":\",associate,geoserve,origin,phase-data,\",\"nst\":null,\"dmin\":null,\"rms\":0.48,\"gap\":null,\"magType\":\"ml\",\"type\":\"earthquake\",\"title\":\"M 1.5 - 18km SE of Redoubt Volcano, Alaska\"},\"geometry\":{\"type\":\"Point\",\"coordinates\":[-152.506,60.3655,103.2]},\"id\":\"ak016cqcdngt\"},\\n{\"type\":\"Feature\",\"properties\":{\"mag\":0.87,\"place\":\"14km E of Julian, CA\",\"time\":1475504876070,\"updated\":1475779383635,\"tz\":-420,\"url\":\"https://earthquake.usgs.gov/earthquakes/eventpage/ci37709024\",\"detail\":\"https://earthquake.usgs.gov/fdsnws/event/1/query?eventid=ci37709024&format=geojson\",\"felt\":null,\"cdi\":null,\"mmi\":null,\"alert\":null,\"status\":\"reviewed\",\"tsunami\":0,\"sig\":12,\"net\":\"ci\",\"code\":\"37709024\",\"ids\":\",ci37709024,\",\"sources\":\",ci,\",\"types\":\",cap,general-link,geoserve,nearby-cities,origin,phase-data,scitech-link,\",\"nst\":24,\"dmin\":0.1234,\"rms\":0.17,\"gap\":61,\"magType\":\"ml\",\"type\":\"earthquake\",\"title\":\"M 0.9 - 14km E of Julian, CA\"},\"geometry\":{\"type\":\"Point\",\"coordinates\":[-116.4518333,33.0651667,6.3]},\"id\":\"ci37709024\"},\\n{\"type\":\"Feature\",\"properties\":{\"mag\":2.2,\"place\":\"5km WSW of Clayton, California\",\"time\":1475504625830,\"updated\":1486779888940,\"tz\":-420,\"url\":\"https://earthquake.usgs.gov/earthquakes/eventpage/nc72706876\",\"detail\":\"https://earthquake.usgs.gov/fdsnws/event/1/query?eventid=nc72706876&format=geojson\",\"felt\":4,\"cdi\":2,\"mmi\":null,\"alert\":null,\"status\":\"reviewed\",\"tsunami\":0,\"sig\":75,\"net\":\"nc\",\"code\":\"72706876\",\"ids\":\",nc72706876,\",\"sources\":\",nc,\",\"types\":\",cap,dyfi,focal-mechanism,geoserve,nearby-cities,origin,phase-data,scitech-link,\",\"nst\":105,\"dmin\":0.03514,\"rms\":0.11,\"gap\":40,\"magType\":\"md\",\"type\":\"earthquake\",\"title\":\"M 2.2 - 5km WSW of Clayton, California\"},\"geometry\":{\"type\":\"Point\",\"coordinates\":[-121.9905,37.9123333,11.51]},\"id\":\"nc72706876\"},\\n{\"type\":\"Feature\",\"properties\":{\"mag\":0.8,\"place\":\"134km W of Cantwell, Alaska\",\"time\":1475504348845,\"updated\":1560794162562,\"tz\":-480,\"url\":\"https://earthquake.usgs.gov/earthquakes/eventpage/ak016cqcbajo\",\"detail\":\"https://earthquake.usgs.gov/fdsnws/event/1/query?eventid=ak016cqcbajo&format=geojson\",\"felt\":null,\"cdi\":null,\"mmi\":null,\"alert\":null,\"status\":\"reviewed\",\"tsunami\":0,\"sig\":10,\"net\":\"ak\",\"code\":\"016cqcbajo\",\"ids\":\",ak14157279,ak016cqcbajo,\",\"sources\":\",ak,ak,\",\"types\":\",associate,geoserve,origin,phase-data,\",\"nst\":null,\"dmin\":null,\"rms\":0.42,\"gap\":null,\"magType\":\"ml\",\"type\":\"earthquake\",\"title\":\"M 0.8 - 134km W of Cantwell, Alaska\"},\"geometry\":{\"type\":\"Point\",\"coordinates\":[-151.6347,63.3733,3.9]},\"id\":\"ak016cqcbajo\"},\\n{\"type\":\"Feature\",\"properties\":{\"mag\":-0.1,\"place\":\"57km ENE of Beatty, Nevada\",\"time\":1475504135167,\"updated\":1530554687063,\"tz\":-420,\"url\":\"https://earthquake.usgs.gov/earthquakes/eventpage/nn00562376\",\"detail\":\"https://earthquake.usgs.gov/fdsnws/event/1/query?eventid=nn00562376&format=geojson\",\"felt\":null,\"cdi\":null,\"mmi\":null,\"alert\":null,\"status\":\"reviewed\",\"tsunami\":0,\"sig\":0,\"net\":\"nn\",\"code\":\"00562376\",\"ids\":\",nn00562376,\",\"sources\":\",nn,\",\"types\":\",geoserve,origin,phase-data,\",\"nst\":8,\"dmin\":0.071,\"rms\":0.0888,\"gap\":149.91,\"magType\":\"ml\",\"type\":\"earthquake\",\"title\":\"M -0.1 - 57km ENE of Beatty, Nevada\"},\"geometry\":{\"type\":\"Point\",\"coordinates\":[-116.2097,37.1858,2.8]},\"id\":\"nn00562376\"},\\n{\"type\":\"Feature\",\"properties\":{\"mag\":0.43,\"place\":\"Northern California\",\"time\":1475503495440,\"updated\":1486779879970,\"tz\":null,\"url\":\"https://earthquake.usgs.gov/earthquakes/eventpage/nc72706871\",\"detail\":\"https://earthquake.usgs.gov/fdsnws/event/1/query?eventid=nc72706871&format=geojson\",\"felt\":null,\"cdi\":null,\"mmi\":null,\"alert\":null,\"status\":\"automatic\",\"tsunami\":0,\"sig\":3,\"net\":\"nc\",\"code\":\"72706871\",\"ids\":\",nc72706871,\",\"sources\":\",nc,\",\"types\":\",nearby-cities,origin,phase-data,\",\"nst\":5,\"dmin\":0.002703,\"rms\":0,\"gap\":169,\"magType\":\"md\",\"type\":\"earthquake\",\"title\":\"M 0.4 - Northern California\"},\"geometry\":{\"type\":\"Point\",\"coordinates\":[-122.8131638,38.8250008,1.71]},\"id\":\"nc72706871\"},\\n{\"type\":\"Feature\",\"properties\":{\"mag\":1.8,\"place\":\"65km ESE of Whittier, Alaska\",\"time\":1475503375935,\"updated\":1560794162058,\"tz\":-480,\"url\":\"https://earthquake.usgs.gov/earthquakes/eventpage/ak016cqc7r09\",\"detail\":\"https://earthquake.usgs.gov/fdsnws/event/1/query?eventid=ak016cqc7r09&format=geojson\",\"felt\":null,\"cdi\":null,\"mmi\":null,\"alert\":null,\"status\":\"reviewed\",\"tsunami\":0,\"sig\":50,\"net\":\"ak\",\"code\":\"016cqc7r09\",\"ids\":\",ak14157275,ak016cqc7r09,\",\"sources\":\",ak,ak,\",\"types\":\",associate,geoserve,origin,phase-data,\",\"nst\":null,\"dmin\":null,\"rms\":0.64,\"gap\":null,\"magType\":\"ml\",\"type\":\"earthquake\",\"title\":\"M 1.8 - 65km ESE of Whittier, Alaska\"},\"geometry\":{\"type\":\"Point\",\"coordinates\":[-147.6971,60.4446,2.9]},\"id\":\"ak016cqc7r09\"},\\n{\"type\":\"Feature\",\"properties\":{\"mag\":2.5,\"place\":\"127km S of Unalaska, Alaska\",\"time\":1475503123657,\"updated\":1560794161546,\"tz\":-660,\"url\":\"https://earthquake.usgs.gov/earthquakes/eventpage/ak016cqbyajx\",\"detail\":\"https://earthquake.usgs.gov/fdsnws/event/1/query?eventid=ak016cqbyajx&format=geojson\",\"felt\":null,\"cdi\":null,\"mmi\":null,\"alert\":null,\"status\":\"reviewed\",\"tsunami\":0,\"sig\":96,\"net\":\"ak\",\"code\":\"016cqbyajx\",\"ids\":\",ak14157274,ak016cqbyajx,\",\"sources\":\",ak,ak,\",\"types\":\",associate,geoserve,origin,phase-data,\",\"nst\":null,\"dmin\":null,\"rms\":0.21,\"gap\":null,\"magType\":\"ml\",\"type\":\"earthquake\",\"title\":\"M 2.5 - 127km S of Unalaska, Alaska\"},\"geometry\":{\"type\":\"Point\",\"coordinates\":[-166.6066,52.7279,5.2]},\"id\":\"ak016cqbyajx\"},\\n{\"type\":\"Feature\",\"properties\":{\"mag\":1.4,\"place\":\"120km SE of Old Iliamna, Alaska\",\"time\":1475502933499,\"updated\":1560794161054,\"tz\":-480,\"url\":\"https://earthquake.usgs.gov/earthquakes/eventpage/ak016cqbxmmd\",\"detail\":\"https://earthquake.usgs.gov/fdsnws/event/1/query?eventid=ak016cqbxmmd&format=geojson\",\"felt\":null,\"cdi\":null,\"mmi\":null,\"alert\":null,\"status\":\"reviewed\",\"tsunami\":0,\"sig\":30,\"net\":\"ak\",\"code\":\"016cqbxmmd\",\"ids\":\",ak14206607,ak016cqbxmmd,\",\"sources\":\",ak,ak,\",\"types\":\",associate,geoserve,origin,phase-data,\",\"nst\":null,\"dmin\":null,\"rms\":0.76,\"gap\":null,\"magType\":\"ml\",\"type\":\"earthquake\",\"title\":\"M 1.4 - 120km SE of Old Iliamna, Alaska\"},\"geometry\":{\"type\":\"Point\",\"coordinates\":[-153.6448,58.8814,4.4]},\"id\":\"ak016cqbxmmd\"},\\n{\"type\":\"Feature\",\"properties\":{\"mag\":0.6,\"place\":\"137km NW of Talkeetna, Alaska\",\"time\":1475502704464,\"updated\":1560794160625,\"tz\":-480,\"url\":\"https://earthquake.usgs.gov/earthquakes/eventpage/ak016cqbwslq\",\"detail\":\"https://earthquake.usgs.gov/fdsnws/event/1/query?eventid=ak016cqbwslq&format=geojson\",\"felt\":null,\"cdi\":null,\"mmi\":null,\"alert\":null,\"status\":\"reviewed\",\"tsunami\":0,\"sig\":6,\"net\":\"ak\",\"code\":\"016cqbwslq\",\"ids\":\",ak14157273,ak016cqbwslq,\",\"sources\":\",ak,ak,\",\"types\":\",associate,geoserve,origin,phase-data,\",\"nst\":null,\"dmin\":null,\"rms\":0.63,\"gap\":null,\"magType\":\"ml\",\"type\":\"earthquake\",\"title\":\"M 0.6 - 137km NW of Talkeetna, Alaska\"},\"geometry\":{\"type\":\"Point\",\"coordinates\":[-151.7788,63.2908,6]},\"id\":\"ak016cqbwslq\"},\\n{\"type\":\"Feature\",\"properties\":{\"mag\":-0.2,\"place\":\"31km N of Beatty, Nevada\",\"time\":1475502557455,\"updated\":1530554686891,\"tz\":-420,\"url\":\"https://earthquake.usgs.gov/earthquakes/eventpage/nn00562366\",\"detail\":\"https://earthquake.usgs.gov/fdsnws/event/1/query?eventid=nn00562366&format=geojson\",\"felt\":null,\"cdi\":null,\"mmi\":null,\"alert\":null,\"status\":\"reviewed\",\"tsunami\":0,\"sig\":0,\"net\":\"nn\",\"code\":\"00562366\",\"ids\":\",nn00562366,\",\"sources\":\",nn,\",\"types\":\",geoserve,origin,phase-data,\",\"nst\":6,\"dmin\":0.046,\"rms\":0.199,\"gap\":191.57,\"magType\":\"ml\",\"type\":\"earthquake\",\"title\":\"M -0.2 - 31km N of Beatty, Nevada\"},\"geometry\":{\"type\":\"Point\",\"coordinates\":[-116.7039,37.1877,3.9]},\"id\":\"nn00562366\"},\\n{\"type\":\"Feature\",\"properties\":{\"mag\":0.36,\"place\":\"9km N of Anza, CA\",\"time\":1475502349800,\"updated\":1475519520667,\"tz\":-420,\"url\":\"https://earthquake.usgs.gov/earthquakes/eventpage/ci37709016\",\"detail\":\"https://earthquake.usgs.gov/fdsnws/event/1/query?eventid=ci37709016&format=geojson\",\"felt\":null,\"cdi\":null,\"mmi\":null,\"alert\":null,\"status\":\"reviewed\",\"tsunami\":0,\"sig\":2,\"net\":\"ci\",\"code\":\"37709016\",\"ids\":\",ci37709016,\",\"sources\":\",ci,\",\"types\":\",cap,general-link,geoserve,nearby-cities,origin,phase-data,scitech-link,\",\"nst\":19,\"dmin\":0.03131,\"rms\":0.08,\"gap\":72,\"magType\":\"ml\",\"type\":\"earthquake\",\"title\":\"M 0.4 - 9km N of Anza, CA\"},\"geometry\":{\"type\":\"Point\",\"coordinates\":[-116.6823333,33.6383333,15.66]},\"id\":\"ci37709016\"},\\n{\"type\":\"Feature\",\"properties\":{\"mag\":2.02,\"place\":\"7km ENE of Pahala, Hawaii\",\"time\":1475502260770,\"updated\":1475502454370,\"tz\":-600,\"url\":\"https://earthquake.usgs.gov/earthquakes/eventpage/hv61432431\",\"detail\":\"https://earthquake.usgs.gov/fdsnws/event/1/query?eventid=hv61432431&format=geojson\",\"felt\":null,\"cdi\":null,\"mmi\":null,\"alert\":null,\"status\":\"automatic\",\"tsunami\":0,\"sig\":63,\"net\":\"hv\",\"code\":\"61432431\",\"ids\":\",hv61432431,\",\"sources\":\",hv,\",\"types\":\",general-link,geoserve,origin,phase-data,\",\"nst\":41,\"dmin\":0.0151,\"rms\":0.19,\"gap\":132,\"magType\":\"md\",\"type\":\"earthquake\",\"title\":\"M 2.0 - 7km ENE of Pahala, Hawaii\"},\"geometry\":{\"type\":\"Point\",\"coordinates\":[-155.4131622,19.2345009,37.18]},\"id\":\"hv61432431\"},\\n{\"type\":\"Feature\",\"properties\":{\"mag\":1.3,\"place\":\"10km WNW of Greenville, California\",\"time\":1475501822310,\"updated\":1486779875078,\"tz\":-420,\"url\":\"https://earthquake.usgs.gov/earthquakes/eventpage/nc72706866\",\"detail\":\"https://earthquake.usgs.gov/fdsnws/event/1/query?eventid=nc72706866&format=geojson\",\"felt\":null,\"cdi\":null,\"mmi\":null,\"alert\":null,\"status\":\"reviewed\",\"tsunami\":0,\"sig\":26,\"net\":\"nc\",\"code\":\"72706866\",\"ids\":\",nn00562356,nc72706866,\",\"sources\":\",nn,nc,\",\"types\":\",cap,geoserve,nearby-cities,origin,phase-data,\",\"nst\":11,\"dmin\":0.3162,\"rms\":0.06,\"gap\":116,\"magType\":\"md\",\"type\":\"earthquake\",\"title\":\"M 1.3 - 10km WNW of Greenville, California\"},\"geometry\":{\"type\":\"Point\",\"coordinates\":[-121.0775,40.1453333,8.8]},\"id\":\"nc72706866\"},\\n{\"type\":\"Feature\",\"properties\":{\"mag\":4.4,\"place\":\"208km SSE of L\\'Esperance Rock, New Zealand\",\"time\":1475501766660,\"updated\":1483477842040,\"tz\":-720,\"url\":\"https://earthquake.usgs.gov/earthquakes/eventpage/us20007dnn\",\"detail\":\"https://earthquake.usgs.gov/fdsnws/event/1/query?eventid=us20007dnn&format=geojson\",\"felt\":null,\"cdi\":null,\"mmi\":null,\"alert\":null,\"status\":\"reviewed\",\"tsunami\":0,\"sig\":298,\"net\":\"us\",\"code\":\"20007dnn\",\"ids\":\",us20007dnn,\",\"sources\":\",us,\",\"types\":\",geoserve,origin,phase-data,\",\"nst\":null,\"dmin\":5.071,\"rms\":0.5,\"gap\":260,\"magType\":\"mb\",\"type\":\"earthquake\",\"title\":\"M 4.4 - 208km SSE of L\\'Esperance Rock, New Zealand\"},\"geometry\":{\"type\":\"Point\",\"coordinates\":[-178.3828,-33.2608,10]},\"id\":\"us20007dnn\"},\\n{\"type\":\"Feature\",\"properties\":{\"mag\":1.28,\"place\":\"9km WSW of Niland, CA\",\"time\":1475501269820,\"updated\":1475520271158,\"tz\":-420,\"url\":\"https://earthquake.usgs.gov/earthquakes/eventpage/ci37383141\",\"detail\":\"https://earthquake.usgs.gov/fdsnws/event/1/query?eventid=ci37383141&format=geojson\",\"felt\":null,\"cdi\":null,\"mmi\":null,\"alert\":null,\"status\":\"reviewed\",\"tsunami\":0,\"sig\":25,\"net\":\"ci\",\"code\":\"37383141\",\"ids\":\",ci37383141,\",\"sources\":\",ci,\",\"types\":\",cap,general-link,geoserve,nearby-cities,origin,phase-data,scitech-link,\",\"nst\":7,\"dmin\":0.02581,\"rms\":0.17,\"gap\":147,\"magType\":\"ml\",\"type\":\"earthquake\",\"title\":\"M 1.3 - 9km WSW of Niland, CA\"},\"geometry\":{\"type\":\"Point\",\"coordinates\":[-115.6005,33.2011667,1.47]},\"id\":\"ci37383141\"},\\n{\"type\":\"Feature\",\"properties\":{\"mag\":1.29,\"place\":\"12km WSW of Niland, CA\",\"time\":1475501226970,\"updated\":1475519485565,\"tz\":-420,\"url\":\"https://earthquake.usgs.gov/earthquakes/eventpage/ci37709008\",\"detail\":\"https://earthquake.usgs.gov/fdsnws/event/1/query?eventid=ci37709008&format=geojson\",\"felt\":null,\"cdi\":null,\"mmi\":null,\"alert\":null,\"status\":\"reviewed\",\"tsunami\":0,\"sig\":26,\"net\":\"ci\",\"code\":\"37709008\",\"ids\":\",ci37709008,\",\"sources\":\",ci,\",\"types\":\",cap,general-link,geoserve,nearby-cities,origin,phase-data,scitech-link,\",\"nst\":7,\"dmin\":0.01891,\"rms\":0.14,\"gap\":148,\"magType\":\"ml\",\"type\":\"earthquake\",\"title\":\"M 1.3 - 12km WSW of Niland, CA\"},\"geometry\":{\"type\":\"Point\",\"coordinates\":[-115.6396667,33.1955,4]},\"id\":\"ci37709008\"},\\n{\"type\":\"Feature\",\"properties\":{\"mag\":0.7,\"place\":\"117km NNW of Talkeetna, Alaska\",\"time\":1475501135252,\"updated\":1560794160209,\"tz\":-480,\"url\":\"https://earthquake.usgs.gov/earthquakes/eventpage/ak016cqbr79x\",\"detail\":\"https://earthquake.usgs.gov/fdsnws/event/1/query?eventid=ak016cqbr79x&format=geojson\",\"felt\":null,\"cdi\":null,\"mmi\":null,\"alert\":null,\"status\":\"reviewed\",\"tsunami\":0,\"sig\":8,\"net\":\"ak\",\"code\":\"016cqbr79x\",\"ids\":\",ak14156110,ak016cqbr79x,\",\"sources\":\",ak,ak,\",\"types\":\",associate,geoserve,origin,phase-data,\",\"nst\":null,\"dmin\":null,\"rms\":0.41,\"gap\":null,\"magType\":\"ml\",\"type\":\"earthquake\",\"title\":\"M 0.7 - 117km NNW of Talkeetna, Alaska\"},\"geometry\":{\"type\":\"Point\",\"coordinates\":[-151.3627,63.2128,6.4]},\"id\":\"ak016cqbr79x\"},\\n{\"type\":\"Feature\",\"properties\":{\"mag\":0.14,\"place\":\"26km SSW of Coalinga, California\",\"time\":1475500882980,\"updated\":1486779870188,\"tz\":-420,\"url\":\"https://earthquake.usgs.gov/earthquakes/eventpage/nc72706861\",\"detail\":\"https://earthquake.usgs.gov/fdsnws/event/1/query?eventid=nc72706861&format=geojson\",\"felt\":null,\"cdi\":null,\"mmi\":null,\"alert\":null,\"status\":\"reviewed\",\"tsunami\":0,\"sig\":0,\"net\":\"nc\",\"code\":\"72706861\",\"ids\":\",nc72706861,\",\"sources\":\",nc,\",\"types\":\",cap,geoserve,nearby-cities,origin,phase-data,\",\"nst\":14,\"dmin\":0.008108,\"rms\":0.09,\"gap\":136,\"magType\":\"md\",\"type\":\"earthquake\",\"title\":\"M 0.1 - 26km SSW of Coalinga, California\"},\"geometry\":{\"type\":\"Point\",\"coordinates\":[-120.4341667,35.9126667,7.13]},\"id\":\"nc72706861\"},\\n{\"type\":\"Feature\",\"properties\":{\"mag\":1.35,\"place\":\"3km W of Cobb, California\",\"time\":1475499701890,\"updated\":1486779863430,\"tz\":-420,\"url\":\"https://earthquake.usgs.gov/earthquakes/eventpage/nc72706856\",\"detail\":\"https://earthquake.usgs.gov/fdsnws/event/1/query?eventid=nc72706856&format=geojson\",\"felt\":null,\"cdi\":null,\"mmi\":null,\"alert\":null,\"status\":\"reviewed\",\"tsunami\":0,\"sig\":28,\"net\":\"nc\",\"code\":\"72706856\",\"ids\":\",nc72706856,\",\"sources\":\",nc,\",\"types\":\",cap,focal-mechanism,geoserve,nearby-cities,origin,phase-data,scitech-link,\",\"nst\":44,\"dmin\":0.01171,\"rms\":0.07,\"gap\":33,\"magType\":\"md\",\"type\":\"earthquake\",\"title\":\"M 1.4 - 3km W of Cobb, California\"},\"geometry\":{\"type\":\"Point\",\"coordinates\":[-122.7655,38.8195,1.78]},\"id\":\"nc72706856\"},\\n{\"type\":\"Feature\",\"properties\":{\"mag\":1.2,\"place\":\"42km NE of Whittier, Alaska\",\"time\":1475499335085,\"updated\":1558430244426,\"tz\":-480,\"url\":\"https://earthquake.usgs.gov/earthquakes/eventpage/ak016cqbc750\",\"detail\":\"https://earthquake.usgs.gov/fdsnws/event/1/query?eventid=ak016cqbc750&format=geojson\",\"felt\":null,\"cdi\":null,\"mmi\":null,\"alert\":null,\"status\":\"reviewed\",\"tsunami\":0,\"sig\":22,\"net\":\"ak\",\"code\":\"016cqbc750\",\"ids\":\",ak14156109,ak016cqbc750,\",\"sources\":\",ak,ak,\",\"types\":\",associate,geoserve,origin,phase-data,\",\"nst\":null,\"dmin\":null,\"rms\":0.49,\"gap\":null,\"magType\":\"ml\",\"type\":\"earthquake\",\"title\":\"M 1.2 - 42km NE of Whittier, Alaska\"},\"geometry\":{\"type\":\"Point\",\"coordinates\":[-148.1758,61.0661,26]},\"id\":\"ak016cqbc750\"},\\n{\"type\":\"Feature\",\"properties\":{\"mag\":1.6,\"place\":\"45km ESE of Adak, Alaska\",\"time\":1475499004673,\"updated\":1560794159802,\"tz\":-540,\"url\":\"https://earthquake.usgs.gov/earthquakes/eventpage/ak016cqbb27n\",\"detail\":\"https://earthquake.usgs.gov/fdsnws/event/1/query?eventid=ak016cqbb27n&format=geojson\",\"felt\":null,\"cdi\":null,\"mmi\":null,\"alert\":null,\"status\":\"reviewed\",\"tsunami\":0,\"sig\":39,\"net\":\"ak\",\"code\":\"016cqbb27n\",\"ids\":\",ak14156108,ak016cqbb27n,\",\"sources\":\",ak,ak,\",\"types\":\",associate,geoserve,origin,phase-data,\",\"nst\":null,\"dmin\":null,\"rms\":0.27,\"gap\":null,\"magType\":\"ml\",\"type\":\"earthquake\",\"title\":\"M 1.6 - 45km ESE of Adak, Alaska\"},\"geometry\":{\"type\":\"Point\",\"coordinates\":[-176.0769,51.6872,14.4]},\"id\":\"ak016cqbb27n\"},\\n{\"type\":\"Feature\",\"properties\":{\"mag\":4.3,\"place\":\"South of the Fiji Islands\",\"time\":1475498468900,\"updated\":1483477842040,\"tz\":-720,\"url\":\"https://earthquake.usgs.gov/earthquakes/eventpage/us20007dnm\",\"detail\":\"https://earthquake.usgs.gov/fdsnws/event/1/query?eventid=us20007dnm&format=geojson\",\"felt\":null,\"cdi\":null,\"mmi\":null,\"alert\":null,\"status\":\"reviewed\",\"tsunami\":0,\"sig\":284,\"net\":\"us\",\"code\":\"20007dnm\",\"ids\":\",us20007dnm,\",\"sources\":\",us,\",\"types\":\",geoserve,origin,phase-data,\",\"nst\":null,\"dmin\":6.572,\"rms\":1.22,\"gap\":197,\"magType\":\"mb\",\"type\":\"earthquake\",\"title\":\"M 4.3 - South of the Fiji Islands\"},\"geometry\":{\"type\":\"Point\",\"coordinates\":[-179.8664,-24.0541,508.54]},\"id\":\"us20007dnm\"},\\n{\"type\":\"Feature\",\"properties\":{\"mag\":1.67,\"place\":\"8km WSW of Niland, CA\",\"time\":1475498394430,\"updated\":1475529029218,\"tz\":-420,\"url\":\"https://earthquake.usgs.gov/earthquakes/eventpage/ci37709000\",\"detail\":\"https://earthquake.usgs.gov/fdsnws/event/1/query?eventid=ci37709000&format=geojson\",\"felt\":null,\"cdi\":null,\"mmi\":null,\"alert\":null,\"status\":\"reviewed\",\"tsunami\":0,\"sig\":43,\"net\":\"ci\",\"code\":\"37709000\",\"ids\":\",ci37709000,\",\"sources\":\",ci,\",\"types\":\",cap,general-link,geoserve,nearby-cities,origin,phase-data,scitech-link,\",\"nst\":28,\"dmin\":0.03015,\"rms\":0.19,\"gap\":89,\"magType\":\"ml\",\"type\":\"earthquake\",\"title\":\"M 1.7 - 8km WSW of Niland, CA\"},\"geometry\":{\"type\":\"Point\",\"coordinates\":[-115.596,33.2035,1.62]},\"id\":\"ci37709000\"},\\n{\"type\":\"Feature\",\"properties\":{\"mag\":1.4,\"place\":\"116km SE of Old Iliamna, Alaska\",\"time\":1475497703000,\"updated\":1560794159322,\"tz\":-480,\"url\":\"https://earthquake.usgs.gov/earthquakes/eventpage/ak016cqb6dvg\",\"detail\":\"https://earthquake.usgs.gov/fdsnws/event/1/query?eventid=ak016cqb6dvg&format=geojson\",\"felt\":null,\"cdi\":null,\"mmi\":null,\"alert\":null,\"status\":\"reviewed\",\"tsunami\":0,\"sig\":30,\"net\":\"ak\",\"code\":\"016cqb6dvg\",\"ids\":\",ak14206606,ak016cqb6dvg,\",\"sources\":\",ak,ak,\",\"types\":\",associate,geoserve,origin,phase-data,\",\"nst\":null,\"dmin\":null,\"rms\":0.89,\"gap\":null,\"magType\":\"ml\",\"type\":\"earthquake\",\"title\":\"M 1.4 - 116km SE of Old Iliamna, Alaska\"},\"geometry\":{\"type\":\"Point\",\"coordinates\":[-153.7128,58.9017,10]},\"id\":\"ak016cqb6dvg\"},\\n{\"type\":\"Feature\",\"properties\":{\"mag\":2.7,\"place\":\"10km ESE of Caldwell, Kansas\",\"time\":1475497191400,\"updated\":1483477842040,\"tz\":-300,\"url\":\"https://earthquake.usgs.gov/earthquakes/eventpage/us10006un1\",\"detail\":\"https://earthquake.usgs.gov/fdsnws/event/1/query?eventid=us10006un1&format=geojson\",\"felt\":null,\"cdi\":null,\"mmi\":null,\"alert\":null,\"status\":\"reviewed\",\"tsunami\":0,\"sig\":112,\"net\":\"us\",\"code\":\"10006un1\",\"ids\":\",ismpkansas70209283,us10006un1,\",\"sources\":\",ismpkansas,us,\",\"types\":\",geoserve,origin,phase-data,\",\"nst\":null,\"dmin\":null,\"rms\":0.61,\"gap\":55,\"magType\":\"ml\",\"type\":\"earthquake\",\"title\":\"M 2.7 - 10km ESE of Caldwell, Kansas\"},\"geometry\":{\"type\":\"Point\",\"coordinates\":[-97.5016,36.9898,6.048]},\"id\":\"us10006un1\"},\\n{\"type\":\"Feature\",\"properties\":{\"mag\":2.7,\"place\":\"15km SSW of Little Sitkin Island, Alaska\",\"time\":1475496636690,\"updated\":1560794158880,\"tz\":-540,\"url\":\"https://earthquake.usgs.gov/earthquakes/eventpage/us20007cqr\",\"detail\":\"https://earthquake.usgs.gov/fdsnws/event/1/query?eventid=us20007cqr&format=geojson\",\"felt\":null,\"cdi\":null,\"mmi\":null,\"alert\":null,\"status\":\"reviewed\",\"tsunami\":0,\"sig\":112,\"net\":\"us\",\"code\":\"20007cqr\",\"ids\":\",ak14156100,us20007cqr,ak016cqb2jzj,\",\"sources\":\",ak,us,ak,\",\"types\":\",associate,geoserve,origin,phase-data,\",\"nst\":null,\"dmin\":0.144,\"rms\":0.21,\"gap\":258,\"magType\":\"ml\",\"type\":\"earthquake\",\"title\":\"M 2.7 - 15km SSW of Little Sitkin Island, Alaska\"},\"geometry\":{\"type\":\"Point\",\"coordinates\":[178.3989,51.8218,94.29]},\"id\":\"us20007cqr\"},\\n{\"type\":\"Feature\",\"properties\":{\"mag\":3.8,\"place\":\"91km SW of Sand Point, Alaska\",\"time\":1475496587850,\"updated\":1560794158479,\"tz\":-660,\"url\":\"https://earthquake.usgs.gov/earthquakes/eventpage/us10006ure\",\"detail\":\"https://earthquake.usgs.gov/fdsnws/event/1/query?eventid=us10006ure&format=geojson\",\"felt\":null,\"cdi\":null,\"mmi\":null,\"alert\":null,\"status\":\"reviewed\",\"tsunami\":0,\"sig\":222,\"net\":\"us\",\"code\":\"10006ure\",\"ids\":\",ak14156096,us10006ure,ak016cqb2d1a,\",\"sources\":\",ak,us,ak,\",\"types\":\",associate,cap,geoserve,origin,phase-data,\",\"nst\":null,\"dmin\":0.638,\"rms\":0.69,\"gap\":169,\"magType\":\"ml\",\"type\":\"earthquake\",\"title\":\"M 3.8 - 91km SW of Sand Point, Alaska\"},\"geometry\":{\"type\":\"Point\",\"coordinates\":[-161.4163,54.709,37.73]},\"id\":\"us10006ure\"},\\n{\"type\":\"Feature\",\"properties\":{\"mag\":2.8,\"place\":\"124km ESE of Nikolski, Alaska\",\"time\":1475496419050,\"updated\":1560794158011,\"tz\":-660,\"url\":\"https://earthquake.usgs.gov/earthquakes/eventpage/us20007cqq\",\"detail\":\"https://earthquake.usgs.gov/fdsnws/event/1/query?eventid=us20007cqq&format=geojson\",\"felt\":null,\"cdi\":null,\"mmi\":null,\"alert\":null,\"status\":\"reviewed\",\"tsunami\":0,\"sig\":121,\"net\":\"us\",\"code\":\"20007cqq\",\"ids\":\",ak14156095,us20007cqq,ak016cqb1qst,\",\"sources\":\",ak,us,ak,\",\"types\":\",associate,geoserve,origin,phase-data,\",\"nst\":null,\"dmin\":0.911,\"rms\":0.31,\"gap\":256,\"magType\":\"ml\",\"type\":\"earthquake\",\"title\":\"M 2.8 - 124km ESE of Nikolski, Alaska\"},\"geometry\":{\"type\":\"Point\",\"coordinates\":[-167.0694,52.6878,21.38]},\"id\":\"us20007cqq\"},\\n{\"type\":\"Feature\",\"properties\":{\"mag\":1.99,\"place\":\"8km WSW of Niland, CA\",\"time\":1475496279220,\"updated\":1475514843046,\"tz\":-420,\"url\":\"https://earthquake.usgs.gov/earthquakes/eventpage/ci37708992\",\"detail\":\"https://earthquake.usgs.gov/fdsnws/event/1/query?eventid=ci37708992&format=geojson\",\"felt\":null,\"cdi\":null,\"mmi\":null,\"alert\":null,\"status\":\"reviewed\",\"tsunami\":0,\"sig\":61,\"net\":\"ci\",\"code\":\"37708992\",\"ids\":\",ci37708992,\",\"sources\":\",ci,\",\"types\":\",cap,general-link,geoserve,nearby-cities,origin,phase-data,scitech-link,\",\"nst\":37,\"dmin\":0.03536,\"rms\":0.2,\"gap\":90,\"magType\":\"ml\",\"type\":\"earthquake\",\"title\":\"M 2.0 - 8km WSW of Niland, CA\"},\"geometry\":{\"type\":\"Point\",\"coordinates\":[-115.5876667,33.204,1.41]},\"id\":\"ci37708992\"},\\n{\"type\":\"Feature\",\"properties\":{\"mag\":2,\"place\":\"47km NNW of Larsen Bay, Alaska\",\"time\":1475496267391,\"updated\":1560794157612,\"tz\":-480,\"url\":\"https://earthquake.usgs.gov/earthquakes/eventpage/ak016cqb190z\",\"detail\":\"https://earthquake.usgs.gov/fdsnws/event/1/query?eventid=ak016cqb190z&format=geojson\",\"felt\":null,\"cdi\":null,\"mmi\":null,\"alert\":null,\"status\":\"reviewed\",\"tsunami\":0,\"sig\":62,\"net\":\"ak\",\"code\":\"016cqb190z\",\"ids\":\",ak14156099,ak016cqb190z,\",\"sources\":\",ak,ak,\",\"types\":\",associate,geoserve,origin,phase-data,\",\"nst\":null,\"dmin\":null,\"rms\":0.41,\"gap\":null,\"magType\":\"ml\",\"type\":\"earthquake\",\"title\":\"M 2.0 - 47km NNW of Larsen Bay, Alaska\"},\"geometry\":{\"type\":\"Point\",\"coordinates\":[-154.1502,57.9521,57.2]},\"id\":\"ak016cqb190z\"},\\n{\"type\":\"Feature\",\"properties\":{\"mag\":0.7,\"place\":\"96km WNW of Cantwell, Alaska\",\"time\":1475496042562,\"updated\":1560794157107,\"tz\":-480,\"url\":\"https://earthquake.usgs.gov/earthquakes/eventpage/ak016cqb0fc0\",\"detail\":\"https://earthquake.usgs.gov/fdsnws/event/1/query?eventid=ak016cqb0fc0&format=geojson\",\"felt\":null,\"cdi\":null,\"mmi\":null,\"alert\":null,\"status\":\"reviewed\",\"tsunami\":0,\"sig\":8,\"net\":\"ak\",\"code\":\"016cqb0fc0\",\"ids\":\",ak14154935,ak016cqb0fc0,\",\"sources\":\",ak,ak,\",\"types\":\",associate,geoserve,origin,phase-data,\",\"nst\":null,\"dmin\":null,\"rms\":0.51,\"gap\":null,\"magType\":\"ml\",\"type\":\"earthquake\",\"title\":\"M 0.7 - 96km WNW of Cantwell, Alaska\"},\"geometry\":{\"type\":\"Point\",\"coordinates\":[-150.8483,63.5482,7.7]},\"id\":\"ak016cqb0fc0\"},\\n{\"type\":\"Feature\",\"properties\":{\"mag\":0.8,\"place\":\"26km SE of White Sulphur Springs, Montana\",\"time\":1475495986300,\"updated\":1475621639000,\"tz\":-360,\"url\":\"https://earthquake.usgs.gov/earthquakes/eventpage/mb80179329\",\"detail\":\"https://earthquake.usgs.gov/fdsnws/event/1/query?eventid=mb80179329&format=geojson\",\"felt\":null,\"cdi\":null,\"mmi\":null,\"alert\":null,\"status\":\"reviewed\",\"tsunami\":0,\"sig\":10,\"net\":\"mb\",\"code\":\"80179329\",\"ids\":\",mb80179329,\",\"sources\":\",mb,\",\"types\":\",cap,general-link,geoserve,origin,phase-data,\",\"nst\":8,\"dmin\":0.441,\"rms\":0.15,\"gap\":225,\"magType\":\"md\",\"type\":\"earthquake\",\"title\":\"M 0.8 - 26km SE of White Sulphur Springs, Montana\"},\"geometry\":{\"type\":\"Point\",\"coordinates\":[-110.6665,46.3796667,5]},\"id\":\"mb80179329\"},\\n{\"type\":\"Feature\",\"properties\":{\"mag\":1.9,\"place\":\"71km S of King Salmon, Alaska\",\"time\":1475495603906,\"updated\":1560794156681,\"tz\":-480,\"url\":\"https://earthquake.usgs.gov/earthquakes/eventpage/ak016cqaqb8m\",\"detail\":\"https://earthquake.usgs.gov/fdsnws/event/1/query?eventid=ak016cqaqb8m&format=geojson\",\"felt\":null,\"cdi\":null,\"mmi\":null,\"alert\":null,\"status\":\"reviewed\",\"tsunami\":0,\"sig\":56,\"net\":\"ak\",\"code\":\"016cqaqb8m\",\"ids\":\",ak14190037,ak016cqaqb8m,\",\"sources\":\",ak,ak,\",\"types\":\",associate,geoserve,origin,phase-data,\",\"nst\":null,\"dmin\":null,\"rms\":0.25,\"gap\":null,\"magType\":\"ml\",\"type\":\"earthquake\",\"title\":\"M 1.9 - 71km S of King Salmon, Alaska\"},\"geometry\":{\"type\":\"Point\",\"coordinates\":[-156.5055,58.0472,143.6]},\"id\":\"ak016cqaqb8m\"},\\n{\"type\":\"Feature\",\"properties\":{\"mag\":2.58,\"place\":\"25km W of Seabeck, Washington\",\"time\":1475495309650,\"updated\":1483477842040,\"tz\":-420,\"url\":\"https://earthquake.usgs.gov/earthquakes/eventpage/uw61201732\",\"detail\":\"https://earthquake.usgs.gov/fdsnws/event/1/query?eventid=uw61201732&format=geojson\",\"felt\":2,\"cdi\":2.2,\"mmi\":null,\"alert\":null,\"status\":\"reviewed\",\"tsunami\":0,\"sig\":103,\"net\":\"uw\",\"code\":\"61201732\",\"ids\":\",uw61201732,us10006umu,\",\"sources\":\",uw,us,\",\"types\":\",dyfi,geoserve,impact-text,origin,phase-data,\",\"nst\":36,\"dmin\":0.0724,\"rms\":0.17,\"gap\":48,\"magType\":\"ml\",\"type\":\"earthquake\",\"title\":\"M 2.6 - 25km W of Seabeck, Washington\"},\"geometry\":{\"type\":\"Point\",\"coordinates\":[-123.162,47.6408333,45.1]},\"id\":\"uw61201732\"},\\n{\"type\":\"Feature\",\"properties\":{\"mag\":1.6,\"place\":\"45km S of Redoubt Volcano, Alaska\",\"time\":1475494943693,\"updated\":1560794156256,\"tz\":-480,\"url\":\"https://earthquake.usgs.gov/earthquakes/eventpage/ak016cqanych\",\"detail\":\"https://earthquake.usgs.gov/fdsnws/event/1/query?eventid=ak016cqanych&format=geojson\",\"felt\":null,\"cdi\":null,\"mmi\":null,\"alert\":null,\"status\":\"reviewed\",\"tsunami\":0,\"sig\":39,\"net\":\"ak\",\"code\":\"016cqanych\",\"ids\":\",ak14154934,ak016cqanych,\",\"sources\":\",ak,ak,\",\"types\":\",associate,geoserve,origin,phase-data,\",\"nst\":null,\"dmin\":null,\"rms\":0.29,\"gap\":null,\"magType\":\"ml\",\"type\":\"earthquake\",\"title\":\"M 1.6 - 45km S of Redoubt Volcano, Alaska\"},\"geometry\":{\"type\":\"Point\",\"coordinates\":[-152.7468,60.075,111.8]},\"id\":\"ak016cqanych\"},\\n{\"type\":\"Feature\",\"properties\":{\"mag\":1.3,\"place\":\"56km N of Ruby, Alaska\",\"time\":1475494535280,\"updated\":1560794155819,\"tz\":-480,\"url\":\"https://earthquake.usgs.gov/earthquakes/eventpage/ak016cqamh88\",\"detail\":\"https://earthquake.usgs.gov/fdsnws/event/1/query?eventid=ak016cqamh88&format=geojson\",\"felt\":null,\"cdi\":null,\"mmi\":null,\"alert\":null,\"status\":\"reviewed\",\"tsunami\":0,\"sig\":26,\"net\":\"ak\",\"code\":\"016cqamh88\",\"ids\":\",ak14154933,ak016cqamh88,\",\"sources\":\",ak,ak,\",\"types\":\",associate,geoserve,origin,phase-data,\",\"nst\":null,\"dmin\":null,\"rms\":0.7,\"gap\":null,\"magType\":\"ml\",\"type\":\"earthquake\",\"title\":\"M 1.3 - 56km N of Ruby, Alaska\"},\"geometry\":{\"type\":\"Point\",\"coordinates\":[-155.6437,65.2376,4.9]},\"id\":\"ak016cqamh88\"},\\n{\"type\":\"Feature\",\"properties\":{\"mag\":0.12,\"place\":\"28km NNW of Packwood, Washington\",\"time\":1475493992340,\"updated\":1475517271270,\"tz\":-420,\"url\":\"https://earthquake.usgs.gov/earthquakes/eventpage/uw61201722\",\"detail\":\"https://earthquake.usgs.gov/fdsnws/event/1/query?eventid=uw61201722&format=geojson\",\"felt\":null,\"cdi\":null,\"mmi\":null,\"alert\":null,\"status\":\"reviewed\",\"tsunami\":0,\"sig\":0,\"net\":\"uw\",\"code\":\"61201722\",\"ids\":\",uw61201722,\",\"sources\":\",uw,\",\"types\":\",cap,general-link,geoserve,origin,phase-data,\",\"nst\":8,\"dmin\":0.02259,\"rms\":0.06,\"gap\":72,\"magType\":\"ml\",\"type\":\"earthquake\",\"title\":\"M 0.1 - 28km NNW of Packwood, Washington\"},\"geometry\":{\"type\":\"Point\",\"coordinates\":[-121.7556667,46.852,1.94]},\"id\":\"uw61201722\"},\\n{\"type\":\"Feature\",\"properties\":{\"mag\":0.7,\"place\":\"92km WNW of Cantwell, Alaska\",\"time\":1475493980448,\"updated\":1560794155398,\"tz\":-480,\"url\":\"https://earthquake.usgs.gov/earthquakes/eventpage/ak016cqakin0\",\"detail\":\"https://earthquake.usgs.gov/fdsnws/event/1/query?eventid=ak016cqakin0&format=geojson\",\"felt\":null,\"cdi\":null,\"mmi\":null,\"alert\":null,\"status\":\"reviewed\",\"tsunami\":0,\"sig\":8,\"net\":\"ak\",\"code\":\"016cqakin0\",\"ids\":\",ak14154932,ak016cqakin0,\",\"sources\":\",ak,ak,\",\"types\":\",associate,geoserve,origin,phase-data,\",\"nst\":null,\"dmin\":null,\"rms\":0.44,\"gap\":null,\"magType\":\"ml\",\"type\":\"earthquake\",\"title\":\"M 0.7 - 92km WNW of Cantwell, Alaska\"},\"geometry\":{\"type\":\"Point\",\"coordinates\":[-150.7777,63.5488,9.3]},\"id\":\"ak016cqakin0\"},\\n{\"type\":\"Feature\",\"properties\":{\"mag\":1.33,\"place\":\"10km W of Calipatria, CA\",\"time\":1475493775410,\"updated\":1475521133875,\"tz\":-420,\"url\":\"https://earthquake.usgs.gov/earthquakes/eventpage/ci37708976\",\"detail\":\"https://earthquake.usgs.gov/fdsnws/event/1/query?eventid=ci37708976&format=geojson\",\"felt\":null,\"cdi\":null,\"mmi\":null,\"alert\":null,\"status\":\"reviewed\",\"tsunami\":0,\"sig\":27,\"net\":\"ci\",\"code\":\"37708976\",\"ids\":\",ci37708976,\",\"sources\":\",ci,\",\"types\":\",cap,general-link,geoserve,nearby-cities,origin,phase-data,scitech-link,\",\"nst\":18,\"dmin\":0.03484,\"rms\":0.21,\"gap\":95,\"magType\":\"ml\",\"type\":\"earthquake\",\"title\":\"M 1.3 - 10km W of Calipatria, CA\"},\"geometry\":{\"type\":\"Point\",\"coordinates\":[-115.6141667,33.1411667,6.87]},\"id\":\"ci37708976\"},\\n{\"type\":\"Feature\",\"properties\":{\"mag\":-0.1,\"place\":\"57km SSW of Goldfield, Nevada\",\"time\":1475493398093,\"updated\":1530554687404,\"tz\":-420,\"url\":\"https://earthquake.usgs.gov/earthquakes/eventpage/nn00562392\",\"detail\":\"https://earthquake.usgs.gov/fdsnws/event/1/query?eventid=nn00562392&format=geojson\",\"felt\":null,\"cdi\":null,\"mmi\":null,\"alert\":null,\"status\":\"reviewed\",\"tsunami\":0,\"sig\":0,\"net\":\"nn\",\"code\":\"00562392\",\"ids\":\",nn00562392,\",\"sources\":\",nn,\",\"types\":\",geoserve,origin,phase-data,\",\"nst\":5,\"dmin\":0.195,\"rms\":0.1032,\"gap\":178.91,\"magType\":\"ml\",\"type\":\"earthquake\",\"title\":\"M -0.1 - 57km SSW of Goldfield, Nevada\"},\"geometry\":{\"type\":\"Point\",\"coordinates\":[-117.4033,37.2075,0]},\"id\":\"nn00562392\"},\\n{\"type\":\"Feature\",\"properties\":{\"mag\":2.1,\"place\":\"121km S of Unalaska, Alaska\",\"time\":1475493021107,\"updated\":1560794154927,\"tz\":-660,\"url\":\"https://earthquake.usgs.gov/earthquakes/eventpage/ak016cqah38e\",\"detail\":\"https://earthquake.usgs.gov/fdsnws/event/1/query?eventid=ak016cqah38e&format=geojson\",\"felt\":null,\"cdi\":null,\"mmi\":null,\"alert\":null,\"status\":\"reviewed\",\"tsunami\":0,\"sig\":68,\"net\":\"ak\",\"code\":\"016cqah38e\",\"ids\":\",ak14154930,ak016cqah38e,\",\"sources\":\",ak,ak,\",\"types\":\",associate,geoserve,origin,phase-data,\",\"nst\":null,\"dmin\":null,\"rms\":0.26,\"gap\":null,\"magType\":\"ml\",\"type\":\"earthquake\",\"title\":\"M 2.1 - 121km S of Unalaska, Alaska\"},\"geometry\":{\"type\":\"Point\",\"coordinates\":[-166.7247,52.7906,0.7]},\"id\":\"ak016cqah38e\"},\\n{\"type\":\"Feature\",\"properties\":{\"mag\":0.79,\"place\":\"2km SE of Hercules, California\",\"time\":1475492977420,\"updated\":1486779854688,\"tz\":-420,\"url\":\"https://earthquake.usgs.gov/earthquakes/eventpage/nc72706841\",\"detail\":\"https://earthquake.usgs.gov/fdsnws/event/1/query?eventid=nc72706841&format=geojson\",\"felt\":null,\"cdi\":null,\"mmi\":null,\"alert\":null,\"status\":\"reviewed\",\"tsunami\":0,\"sig\":10,\"net\":\"nc\",\"code\":\"72706841\",\"ids\":\",nc72706841,\",\"sources\":\",nc,\",\"types\":\",cap,geoserve,nearby-cities,origin,phase-data,\",\"nst\":16,\"dmin\":0.006306,\"rms\":0.07,\"gap\":88,\"magType\":\"md\",\"type\":\"earthquake\",\"title\":\"M 0.8 - 2km SE of Hercules, California\"},\"geometry\":{\"type\":\"Point\",\"coordinates\":[-122.2651667,38.0043333,7.46]},\"id\":\"nc72706841\"},\\n{\"type\":\"Feature\",\"properties\":{\"mag\":1.5,\"place\":\"50km SW of Unalaska, Alaska\",\"time\":1475492848881,\"updated\":1560794154512,\"tz\":-480,\"url\":\"https://earthquake.usgs.gov/earthquakes/eventpage/ak016cqaggoo\",\"detail\":\"https://earthquake.usgs.gov/fdsnws/event/1/query?eventid=ak016cqaggoo&format=geojson\",\"felt\":null,\"cdi\":null,\"mmi\":null,\"alert\":null,\"status\":\"reviewed\",\"tsunami\":0,\"sig\":35,\"net\":\"ak\",\"code\":\"016cqaggoo\",\"ids\":\",ak14154931,ak016cqaggoo,\",\"sources\":\",ak,ak,\",\"types\":\",associate,geoserve,origin,phase-data,\",\"nst\":null,\"dmin\":null,\"rms\":0.41,\"gap\":null,\"magType\":\"ml\",\"type\":\"earthquake\",\"title\":\"M 1.5 - 50km SW of Unalaska, Alaska\"},\"geometry\":{\"type\":\"Point\",\"coordinates\":[-167.0885,53.5551,13.2]},\"id\":\"ak016cqaggoo\"},\\n{\"type\":\"Feature\",\"properties\":{\"mag\":-0.4,\"place\":\"Nevada\",\"time\":1475492160029,\"updated\":1530554686732,\"tz\":null,\"url\":\"https://earthquake.usgs.gov/earthquakes/eventpage/nn00562363\",\"detail\":\"https://earthquake.usgs.gov/fdsnws/event/1/query?eventid=nn00562363&format=geojson\",\"felt\":null,\"cdi\":null,\"mmi\":null,\"alert\":null,\"status\":\"reviewed\",\"tsunami\":0,\"sig\":0,\"net\":\"nn\",\"code\":\"00562363\",\"ids\":\",nn00562363,\",\"sources\":\",nn,\",\"types\":\",origin,phase-data,\",\"nst\":3,\"dmin\":0.081,\"rms\":0.0848,\"gap\":262.53,\"magType\":\"ml\",\"type\":\"earthquake\",\"title\":\"M -0.4 - Nevada\"},\"geometry\":{\"type\":\"Point\",\"coordinates\":[-116.7269,37.2249,0]},\"id\":\"nn00562363\"},\\n{\"type\":\"Feature\",\"properties\":{\"mag\":0.9,\"place\":\"74km NW of Cape Yakataga, Alaska\",\"time\":1475492117535,\"updated\":1560794154119,\"tz\":-480,\"url\":\"https://earthquake.usgs.gov/earthquakes/eventpage/ak016cqa5akp\",\"detail\":\"https://earthquake.usgs.gov/fdsnws/event/1/query?eventid=ak016cqa5akp&format=geojson\",\"felt\":null,\"cdi\":null,\"mmi\":null,\"alert\":null,\"status\":\"reviewed\",\"tsunami\":0,\"sig\":12,\"net\":\"ak\",\"code\":\"016cqa5akp\",\"ids\":\",ak14154928,ak016cqa5akp,\",\"sources\":\",ak,ak,\",\"types\":\",associate,geoserve,origin,phase-data,\",\"nst\":null,\"dmin\":null,\"rms\":0.34,\"gap\":null,\"magType\":\"ml\",\"type\":\"other event\",\"title\":\"M 0.9 Other Event - 74km NW of Cape Yakataga, Alaska\"},\"geometry\":{\"type\":\"Point\",\"coordinates\":[-143.2674,60.5872,1.3]},\"id\":\"ak016cqa5akp\"},\\n{\"type\":\"Feature\",\"properties\":{\"mag\":-0.2,\"place\":\"20km NE of Hawthorne, Nevada\",\"time\":1475491927893,\"updated\":1530554685851,\"tz\":-420,\"url\":\"https://earthquake.usgs.gov/earthquakes/eventpage/nn00562357\",\"detail\":\"https://earthquake.usgs.gov/fdsnws/event/1/query?eventid=nn00562357&format=geojson\",\"felt\":null,\"cdi\":null,\"mmi\":null,\"alert\":null,\"status\":\"reviewed\",\"tsunami\":0,\"sig\":0,\"net\":\"nn\",\"code\":\"00562357\",\"ids\":\",nn00562357,\",\"sources\":\",nn,\",\"types\":\",geoserve,origin,phase-data,\",\"nst\":4,\"dmin\":0.068,\"rms\":0.0573,\"gap\":232.48,\"magType\":\"ml\",\"type\":\"earthquake\",\"title\":\"M -0.2 - 20km NE of Hawthorne, Nevada\"},\"geometry\":{\"type\":\"Point\",\"coordinates\":[-118.4368,38.6392,8.5]},\"id\":\"nn00562357\"},\\n{\"type\":\"Feature\",\"properties\":{\"mag\":1.5,\"place\":\"58km E of Cape Yakataga, Alaska\",\"time\":1475491553280,\"updated\":1560794153706,\"tz\":-480,\"url\":\"https://earthquake.usgs.gov/earthquakes/eventpage/ak016cqa3868\",\"detail\":\"https://earthquake.usgs.gov/fdsnws/event/1/query?eventid=ak016cqa3868&format=geojson\",\"felt\":null,\"cdi\":null,\"mmi\":null,\"alert\":null,\"status\":\"reviewed\",\"tsunami\":0,\"sig\":35,\"net\":\"ak\",\"code\":\"016cqa3868\",\"ids\":\",ak14154925,ak016cqa3868,\",\"sources\":\",ak,ak,\",\"types\":\",associate,geoserve,origin,phase-data,\",\"nst\":null,\"dmin\":null,\"rms\":0.63,\"gap\":null,\"magType\":\"ml\",\"type\":\"ice quake\",\"title\":\"M 1.5 Ice Quake - 58km E of Cape Yakataga, Alaska\"},\"geometry\":{\"type\":\"Point\",\"coordinates\":[-141.383,60.06,0]},\"id\":\"ak016cqa3868\"},\\n{\"type\":\"Feature\",\"properties\":{\"mag\":1.2,\"place\":\"64km ENE of Cape Yakataga, Alaska\",\"time\":1475491307080,\"updated\":1560794153310,\"tz\":-480,\"url\":\"https://earthquake.usgs.gov/earthquakes/eventpage/ak016cqa2ctw\",\"detail\":\"https://earthquake.usgs.gov/fdsnws/event/1/query?eventid=ak016cqa2ctw&format=geojson\",\"felt\":null,\"cdi\":null,\"mmi\":null,\"alert\":null,\"status\":\"reviewed\",\"tsunami\":0,\"sig\":22,\"net\":\"ak\",\"code\":\"016cqa2ctw\",\"ids\":\",ak14154924,ak016cqa2ctw,\",\"sources\":\",ak,ak,\",\"types\":\",associate,geoserve,origin,phase-data,\",\"nst\":null,\"dmin\":null,\"rms\":1.04,\"gap\":null,\"magType\":\"ml\",\"type\":\"ice quake\",\"title\":\"M 1.2 Ice Quake - 64km ENE of Cape Yakataga, Alaska\"},\"geometry\":{\"type\":\"Point\",\"coordinates\":[-141.3168,60.2215,0]},\"id\":\"ak016cqa2ctw\"},\\n{\"type\":\"Feature\",\"properties\":{\"mag\":2.5,\"place\":\"56km N of Ruby, Alaska\",\"time\":1475490916705,\"updated\":1560794152858,\"tz\":-480,\"url\":\"https://earthquake.usgs.gov/earthquakes/eventpage/ak016cqa106u\",\"detail\":\"https://earthquake.usgs.gov/fdsnws/event/1/query?eventid=ak016cqa106u&format=geojson\",\"felt\":null,\"cdi\":null,\"mmi\":null,\"alert\":null,\"status\":\"reviewed\",\"tsunami\":0,\"sig\":96,\"net\":\"ak\",\"code\":\"016cqa106u\",\"ids\":\",ak14154921,us10006umn,ak016cqa106u,\",\"sources\":\",ak,us,ak,\",\"types\":\",associate,geoserve,origin,phase-data,\",\"nst\":null,\"dmin\":null,\"rms\":0.75,\"gap\":null,\"magType\":\"ml\",\"type\":\"earthquake\",\"title\":\"M 2.5 - 56km N of Ruby, Alaska\"},\"geometry\":{\"type\":\"Point\",\"coordinates\":[-155.593,65.2446,0.7]},\"id\":\"ak016cqa106u\"},\\n{\"type\":\"Feature\",\"properties\":{\"mag\":0.5,\"place\":\"22km SE of Manley Hot Springs, Alaska\",\"time\":1475489453808,\"updated\":1560794152434,\"tz\":-480,\"url\":\"https://earthquake.usgs.gov/earthquakes/eventpage/ak016cq9vq5g\",\"detail\":\"https://earthquake.usgs.gov/fdsnws/event/1/query?eventid=ak016cq9vq5g&format=geojson\",\"felt\":null,\"cdi\":null,\"mmi\":null,\"alert\":null,\"status\":\"reviewed\",\"tsunami\":0,\"sig\":4,\"net\":\"ak\",\"code\":\"016cq9vq5g\",\"ids\":\",ak14154918,ak016cq9vq5g,\",\"sources\":\",ak,ak,\",\"types\":\",associate,geoserve,origin,phase-data,\",\"nst\":null,\"dmin\":null,\"rms\":0.29,\"gap\":null,\"magType\":\"ml\",\"type\":\"earthquake\",\"title\":\"M 0.5 - 22km SE of Manley Hot Springs, Alaska\"},\"geometry\":{\"type\":\"Point\",\"coordinates\":[-150.3649,64.8325,3.4]},\"id\":\"ak016cq9vq5g\"},\\n{\"type\":\"Feature\",\"properties\":{\"mag\":1.2,\"place\":\"60km E of Cape Yakataga, Alaska\",\"time\":1475488942116,\"updated\":1560794151965,\"tz\":-480,\"url\":\"https://earthquake.usgs.gov/earthquakes/eventpage/ak016cq9txz7\",\"detail\":\"https://earthquake.usgs.gov/fdsnws/event/1/query?eventid=ak016cq9txz7&format=geojson\",\"felt\":null,\"cdi\":null,\"mmi\":null,\"alert\":null,\"status\":\"reviewed\",\"tsunami\":0,\"sig\":22,\"net\":\"ak\",\"code\":\"016cq9txz7\",\"ids\":\",ak14154917,ak016cq9txz7,\",\"sources\":\",ak,ak,\",\"types\":\",associate,geoserve,origin,phase-data,\",\"nst\":null,\"dmin\":null,\"rms\":0.71,\"gap\":null,\"magType\":\"ml\",\"type\":\"ice quake\",\"title\":\"M 1.2 Ice Quake - 60km E of Cape Yakataga, Alaska\"},\"geometry\":{\"type\":\"Point\",\"coordinates\":[-141.3631,60.1472,0]},\"id\":\"ak016cq9txz7\"},\\n{\"type\":\"Feature\",\"properties\":{\"mag\":1.55,\"place\":\"7km NE of San Simeon, California\",\"time\":1475487524290,\"updated\":1486779847900,\"tz\":-420,\"url\":\"https://earthquake.usgs.gov/earthquakes/eventpage/nc72706836\",\"detail\":\"https://earthquake.usgs.gov/fdsnws/event/1/query?eventid=nc72706836&format=geojson\",\"felt\":null,\"cdi\":null,\"mmi\":null,\"alert\":null,\"status\":\"reviewed\",\"tsunami\":0,\"sig\":37,\"net\":\"nc\",\"code\":\"72706836\",\"ids\":\",nc72706836,\",\"sources\":\",nc,\",\"types\":\",cap,focal-mechanism,geoserve,nearby-cities,origin,phase-data,scitech-link,\",\"nst\":42,\"dmin\":0.02613,\"rms\":0.08,\"gap\":103,\"magType\":\"md\",\"type\":\"earthquake\",\"title\":\"M 1.6 - 7km NE of San Simeon, California\"},\"geometry\":{\"type\":\"Point\",\"coordinates\":[-121.1218333,35.6838333,6.18]},\"id\":\"nc72706836\"},\\n{\"type\":\"Feature\",\"properties\":{\"mag\":1.1,\"place\":\"154km NW of Talkeetna, Alaska\",\"time\":1475487077507,\"updated\":1560794151498,\"tz\":-480,\"url\":\"https://earthquake.usgs.gov/earthquakes/eventpage/ak016cq9eps6\",\"detail\":\"https://earthquake.usgs.gov/fdsnws/event/1/query?eventid=ak016cq9eps6&format=geojson\",\"felt\":null,\"cdi\":null,\"mmi\":null,\"alert\":null,\"status\":\"reviewed\",\"tsunami\":0,\"sig\":19,\"net\":\"ak\",\"code\":\"016cq9eps6\",\"ids\":\",ak14153761,ak016cq9eps6,\",\"sources\":\",ak,ak,\",\"types\":\",associate,geoserve,origin,phase-data,\",\"nst\":null,\"dmin\":null,\"rms\":0.39,\"gap\":null,\"magType\":\"ml\",\"type\":\"earthquake\",\"title\":\"M 1.1 - 154km NW of Talkeetna, Alaska\"},\"geometry\":{\"type\":\"Point\",\"coordinates\":[-152.2598,63.3015,0.3]},\"id\":\"ak016cq9eps6\"},\\n{\"type\":\"Feature\",\"properties\":{\"mag\":0.67,\"place\":\"13km ENE of East Foothills, California\",\"time\":1475486959080,\"updated\":1486779836254,\"tz\":-420,\"url\":\"https://earthquake.usgs.gov/earthquakes/eventpage/nc72706831\",\"detail\":\"https://earthquake.usgs.gov/fdsnws/event/1/query?eventid=nc72706831&format=geojson\",\"felt\":null,\"cdi\":null,\"mmi\":null,\"alert\":null,\"status\":\"reviewed\",\"tsunami\":0,\"sig\":7,\"net\":\"nc\",\"code\":\"72706831\",\"ids\":\",nc72706831,\",\"sources\":\",nc,\",\"types\":\",cap,geoserve,nearby-cities,origin,phase-data,\",\"nst\":16,\"dmin\":0.04595,\"rms\":0.06,\"gap\":47,\"magType\":\"md\",\"type\":\"earthquake\",\"title\":\"M 0.7 - 13km ENE of East Foothills, California\"},\"geometry\":{\"type\":\"Point\",\"coordinates\":[-121.6821667,37.438,5.98]},\"id\":\"nc72706831\"},\\n{\"type\":\"Feature\",\"properties\":{\"mag\":1.8,\"place\":\"39km SSW of Anchorage, Alaska\",\"time\":1475486788778,\"updated\":1560794151073,\"tz\":-480,\"url\":\"https://earthquake.usgs.gov/earthquakes/eventpage/ak016cq9do2l\",\"detail\":\"https://earthquake.usgs.gov/fdsnws/event/1/query?eventid=ak016cq9do2l&format=geojson\",\"felt\":null,\"cdi\":null,\"mmi\":null,\"alert\":null,\"status\":\"reviewed\",\"tsunami\":0,\"sig\":50,\"net\":\"ak\",\"code\":\"016cq9do2l\",\"ids\":\",ak14153758,ak016cq9do2l,\",\"sources\":\",ak,ak,\",\"types\":\",associate,geoserve,origin,phase-data,\",\"nst\":null,\"dmin\":null,\"rms\":0.45,\"gap\":null,\"magType\":\"ml\",\"type\":\"earthquake\",\"title\":\"M 1.8 - 39km SSW of Anchorage, Alaska\"},\"geometry\":{\"type\":\"Point\",\"coordinates\":[-150.156,60.8854,47.8]},\"id\":\"ak016cq9do2l\"},\\n{\"type\":\"Feature\",\"properties\":{\"mag\":1.72,\"place\":\"13km ENE of East Foothills, California\",\"time\":1475486553370,\"updated\":1486779829740,\"tz\":-420,\"url\":\"https://earthquake.usgs.gov/earthquakes/eventpage/nc72706826\",\"detail\":\"https://earthquake.usgs.gov/fdsnws/event/1/query?eventid=nc72706826&format=geojson\",\"felt\":null,\"cdi\":null,\"mmi\":null,\"alert\":null,\"status\":\"reviewed\",\"tsunami\":0,\"sig\":46,\"net\":\"nc\",\"code\":\"72706826\",\"ids\":\",nc72706826,\",\"sources\":\",nc,\",\"types\":\",cap,focal-mechanism,geoserve,nearby-cities,origin,phase-data,scitech-link,\",\"nst\":54,\"dmin\":0.04865,\"rms\":0.04,\"gap\":46,\"magType\":\"md\",\"type\":\"earthquake\",\"title\":\"M 1.7 - 13km ENE of East Foothills, California\"},\"geometry\":{\"type\":\"Point\",\"coordinates\":[-121.681,37.4346667,5.89]},\"id\":\"nc72706826\"},\\n{\"type\":\"Feature\",\"properties\":{\"mag\":1.2,\"place\":\"77km E of Cantwell, Alaska\",\"time\":1475486001782,\"updated\":1560794150636,\"tz\":-480,\"url\":\"https://earthquake.usgs.gov/earthquakes/eventpage/ak016cq9av82\",\"detail\":\"https://earthquake.usgs.gov/fdsnws/event/1/query?eventid=ak016cq9av82&format=geojson\",\"felt\":null,\"cdi\":null,\"mmi\":null,\"alert\":null,\"status\":\"reviewed\",\"tsunami\":0,\"sig\":22,\"net\":\"ak\",\"code\":\"016cq9av82\",\"ids\":\",ak14153755,ak016cq9av82,\",\"sources\":\",ak,ak,\",\"types\":\",associate,geoserve,origin,phase-data,\",\"nst\":null,\"dmin\":null,\"rms\":0.61,\"gap\":null,\"magType\":\"ml\",\"type\":\"earthquake\",\"title\":\"M 1.2 - 77km E of Cantwell, Alaska\"},\"geometry\":{\"type\":\"Point\",\"coordinates\":[-147.4054,63.4279,65.9]},\"id\":\"ak016cq9av82\"},\\n{\"type\":\"Feature\",\"properties\":{\"mag\":1.4,\"place\":\"79km NE of Dawson, Canada\",\"time\":1475485977044,\"updated\":1560794150210,\"tz\":-420,\"url\":\"https://earthquake.usgs.gov/earthquakes/eventpage/ak016cq9aq88\",\"detail\":\"https://earthquake.usgs.gov/fdsnws/event/1/query?eventid=ak016cq9aq88&format=geojson\",\"felt\":null,\"cdi\":null,\"mmi\":null,\"alert\":null,\"status\":\"reviewed\",\"tsunami\":0,\"sig\":30,\"net\":\"ak\",\"code\":\"016cq9aq88\",\"ids\":\",ak14153757,ak016cq9aq88,\",\"sources\":\",ak,ak,\",\"types\":\",associate,geoserve,origin,phase-data,\",\"nst\":null,\"dmin\":null,\"rms\":0.81,\"gap\":null,\"magType\":\"ml\",\"type\":\"earthquake\",\"title\":\"M 1.4 - 79km NE of Dawson, Canada\"},\"geometry\":{\"type\":\"Point\",\"coordinates\":[-138.3693,64.6056,6.1]},\"id\":\"ak016cq9aq88\"},\\n{\"type\":\"Feature\",\"properties\":{\"mag\":0.78,\"place\":\"10km S of Ridgemark, California\",\"time\":1475485362610,\"updated\":1486779821637,\"tz\":-420,\"url\":\"https://earthquake.usgs.gov/earthquakes/eventpage/nc72706821\",\"detail\":\"https://earthquake.usgs.gov/fdsnws/event/1/query?eventid=nc72706821&format=geojson\",\"felt\":null,\"cdi\":null,\"mmi\":null,\"alert\":null,\"status\":\"reviewed\",\"tsunami\":0,\"sig\":9,\"net\":\"nc\",\"code\":\"72706821\",\"ids\":\",nc72706821,\",\"sources\":\",nc,\",\"types\":\",cap,geoserve,nearby-cities,origin,phase-data,\",\"nst\":15,\"dmin\":0.05045,\"rms\":0.04,\"gap\":73,\"magType\":\"md\",\"type\":\"earthquake\",\"title\":\"M 0.8 - 10km S of Ridgemark, California\"},\"geometry\":{\"type\":\"Point\",\"coordinates\":[-121.3635,36.7181667,2.89]},\"id\":\"nc72706821\"},\\n{\"type\":\"Feature\",\"properties\":{\"mag\":0.82,\"place\":\"4km NE of Banning, CA\",\"time\":1475485155930,\"updated\":1475501726723,\"tz\":-420,\"url\":\"https://earthquake.usgs.gov/earthquakes/eventpage/ci37708960\",\"detail\":\"https://earthquake.usgs.gov/fdsnws/event/1/query?eventid=ci37708960&format=geojson\",\"felt\":null,\"cdi\":null,\"mmi\":null,\"alert\":null,\"status\":\"reviewed\",\"tsunami\":0,\"sig\":10,\"net\":\"ci\",\"code\":\"37708960\",\"ids\":\",ci37708960,\",\"sources\":\",ci,\",\"types\":\",cap,general-link,geoserve,nearby-cities,origin,phase-data,scitech-link,\",\"nst\":28,\"dmin\":0.0607,\"rms\":0.17,\"gap\":50,\"magType\":\"ml\",\"type\":\"earthquake\",\"title\":\"M 0.8 - 4km NE of Banning, CA\"},\"geometry\":{\"type\":\"Point\",\"coordinates\":[-116.8441667,33.9483333,1.58]},\"id\":\"ci37708960\"},\\n{\"type\":\"Feature\",\"properties\":{\"mag\":1.6,\"place\":\"127km NNW of Kodiak Station, Alaska\",\"time\":1475485100111,\"updated\":1560794149574,\"tz\":-480,\"url\":\"https://earthquake.usgs.gov/earthquakes/eventpage/ak016cq8z2pn\",\"detail\":\"https://earthquake.usgs.gov/fdsnws/event/1/query?eventid=ak016cq8z2pn&format=geojson\",\"felt\":null,\"cdi\":null,\"mmi\":null,\"alert\":null,\"status\":\"reviewed\",\"tsunami\":0,\"sig\":39,\"net\":\"ak\",\"code\":\"016cq8z2pn\",\"ids\":\",ak14206601,ak016cq8z2pn,\",\"sources\":\",ak,ak,\",\"types\":\",associate,geoserve,origin,phase-data,\",\"nst\":null,\"dmin\":null,\"rms\":0.77,\"gap\":null,\"magType\":\"ml\",\"type\":\"earthquake\",\"title\":\"M 1.6 - 127km NNW of Kodiak Station, Alaska\"},\"geometry\":{\"type\":\"Point\",\"coordinates\":[-153.6568,58.7646,5.5]},\"id\":\"ak016cq8z2pn\"},\\n{\"type\":\"Feature\",\"properties\":{\"mag\":2.7,\"place\":\"59km NE of Punta Cana, Dominican Republic\",\"time\":1475484692100,\"updated\":1483477842040,\"tz\":-300,\"url\":\"https://earthquake.usgs.gov/earthquakes/eventpage/pr16277002\",\"detail\":\"https://earthquake.usgs.gov/fdsnws/event/1/query?eventid=pr16277002&format=geojson\",\"felt\":null,\"cdi\":null,\"mmi\":null,\"alert\":null,\"status\":\"REVIEWED\",\"tsunami\":0,\"sig\":112,\"net\":\"pr\",\"code\":\"16277002\",\"ids\":\",pr16277002,us10006umw,\",\"sources\":\",pr,us,\",\"types\":\",cap,geoserve,origin,phase-data,\",\"nst\":7,\"dmin\":0.56773526,\"rms\":0.23,\"gap\":259.2,\"magType\":\"Md\",\"type\":\"earthquake\",\"title\":\"M 2.7 - 59km NE of Punta Cana, Dominican Republic\"},\"geometry\":{\"type\":\"Point\",\"coordinates\":[-68.0203,18.9705,48]},\"id\":\"pr16277002\"},\\n{\"type\":\"Feature\",\"properties\":{\"mag\":4.4,\"place\":\"45km S of Shizunai, Japan\",\"time\":1475484506020,\"updated\":1483477842040,\"tz\":540,\"url\":\"https://earthquake.usgs.gov/earthquakes/eventpage/us10006umc\",\"detail\":\"https://earthquake.usgs.gov/fdsnws/event/1/query?eventid=us10006umc&format=geojson\",\"felt\":3,\"cdi\":2.7,\"mmi\":null,\"alert\":null,\"status\":\"reviewed\",\"tsunami\":0,\"sig\":299,\"net\":\"us\",\"code\":\"10006umc\",\"ids\":\",us10006umc,\",\"sources\":\",us,\",\"types\":\",cap,dyfi,geoserve,impact-text,moment-tensor,origin,phase-data,\",\"nst\":null,\"dmin\":0.546,\"rms\":0.98,\"gap\":101,\"magType\":\"mwr\",\"type\":\"earthquake\",\"title\":\"M 4.4 - 45km S of Shizunai, Japan\"},\"geometry\":{\"type\":\"Point\",\"coordinates\":[142.4349,41.9234,66.89]},\"id\":\"us10006umc\"},\\n{\"type\":\"Feature\",\"properties\":{\"mag\":0.77,\"place\":\"17km ESE of Julian, CA\",\"time\":1475484128660,\"updated\":1475501742953,\"tz\":-420,\"url\":\"https://earthquake.usgs.gov/earthquakes/eventpage/ci37708952\",\"detail\":\"https://earthquake.usgs.gov/fdsnws/event/1/query?eventid=ci37708952&format=geojson\",\"felt\":null,\"cdi\":null,\"mmi\":null,\"alert\":null,\"status\":\"reviewed\",\"tsunami\":0,\"sig\":9,\"net\":\"ci\",\"code\":\"37708952\",\"ids\":\",ci37708952,\",\"sources\":\",ci,\",\"types\":\",cap,general-link,geoserve,nearby-cities,origin,phase-data,scitech-link,\",\"nst\":17,\"dmin\":0.1374,\"rms\":0.23,\"gap\":69,\"magType\":\"ml\",\"type\":\"earthquake\",\"title\":\"M 0.8 - 17km ESE of Julian, CA\"},\"geometry\":{\"type\":\"Point\",\"coordinates\":[-116.4283333,33.0296667,6.39]},\"id\":\"ci37708952\"},\\n{\"type\":\"Feature\",\"properties\":{\"mag\":1.75,\"place\":\"24km NE of Old Faithful Geyser, Wyoming\",\"time\":1475482829000,\"updated\":1475508328720,\"tz\":-360,\"url\":\"https://earthquake.usgs.gov/earthquakes/eventpage/uu60163902\",\"detail\":\"https://earthquake.usgs.gov/fdsnws/event/1/query?eventid=uu60163902&format=geojson\",\"felt\":null,\"cdi\":null,\"mmi\":null,\"alert\":null,\"status\":\"reviewed\",\"tsunami\":0,\"sig\":47,\"net\":\"uu\",\"code\":\"60163902\",\"ids\":\",uu60163902,\",\"sources\":\",uu,\",\"types\":\",cap,general-link,geoserve,origin,phase-data,\",\"nst\":15,\"dmin\":0.03155,\"rms\":0.21,\"gap\":69,\"magType\":\"ml\",\"type\":\"earthquake\",\"title\":\"M 1.8 - 24km NE of Old Faithful Geyser, Wyoming\"},\"geometry\":{\"type\":\"Point\",\"coordinates\":[-110.6406667,44.6368333,4.88]},\"id\":\"uu60163902\"},\\n{\"type\":\"Feature\",\"properties\":{\"mag\":1.07,\"place\":\"12km N of Borrego Springs, CA\",\"time\":1475482403020,\"updated\":1475501769340,\"tz\":-420,\"url\":\"https://earthquake.usgs.gov/earthquakes/eventpage/ci37708944\",\"detail\":\"https://earthquake.usgs.gov/fdsnws/event/1/query?eventid=ci37708944&format=geojson\",\"felt\":null,\"cdi\":null,\"mmi\":null,\"alert\":null,\"status\":\"reviewed\",\"tsunami\":0,\"sig\":18,\"net\":\"ci\",\"code\":\"37708944\",\"ids\":\",ci37708944,\",\"sources\":\",ci,\",\"types\":\",cap,focal-mechanism,general-link,geoserve,nearby-cities,origin,phase-data,scitech-link,\",\"nst\":35,\"dmin\":0.1042,\"rms\":0.17,\"gap\":83,\"magType\":\"ml\",\"type\":\"earthquake\",\"title\":\"M 1.1 - 12km N of Borrego Springs, CA\"},\"geometry\":{\"type\":\"Point\",\"coordinates\":[-116.3653333,33.3631667,10.82]},\"id\":\"ci37708944\"},\\n{\"type\":\"Feature\",\"properties\":{\"mag\":1.32,\"place\":\"7km W of Templeton, California\",\"time\":1475481573130,\"updated\":1486779815260,\"tz\":-420,\"url\":\"https://earthquake.usgs.gov/earthquakes/eventpage/nc72706816\",\"detail\":\"https://earthquake.usgs.gov/fdsnws/event/1/query?eventid=nc72706816&format=geojson\",\"felt\":null,\"cdi\":null,\"mmi\":null,\"alert\":null,\"status\":\"reviewed\",\"tsunami\":0,\"sig\":27,\"net\":\"nc\",\"code\":\"72706816\",\"ids\":\",nc72706816,\",\"sources\":\",nc,\",\"types\":\",cap,focal-mechanism,geoserve,nearby-cities,origin,phase-data,scitech-link,\",\"nst\":53,\"dmin\":0.09459,\"rms\":0.07,\"gap\":26,\"magType\":\"md\",\"type\":\"earthquake\",\"title\":\"M 1.3 - 7km W of Templeton, California\"},\"geometry\":{\"type\":\"Point\",\"coordinates\":[-120.792,35.5501667,3.92]},\"id\":\"nc72706816\"},\\n{\"type\":\"Feature\",\"properties\":{\"mag\":1.3,\"place\":\"36km SE of Lovelock, Nevada\",\"time\":1475481497871,\"updated\":1530554685767,\"tz\":-420,\"url\":\"https://earthquake.usgs.gov/earthquakes/eventpage/nn00562354\",\"detail\":\"https://earthquake.usgs.gov/fdsnws/event/1/query?eventid=nn00562354&format=geojson\",\"felt\":null,\"cdi\":null,\"mmi\":null,\"alert\":null,\"status\":\"reviewed\",\"tsunami\":0,\"sig\":26,\"net\":\"nn\",\"code\":\"00562354\",\"ids\":\",nn00562354,\",\"sources\":\",nn,\",\"types\":\",cap,geoserve,origin,phase-data,\",\"nst\":9,\"dmin\":0.643,\"rms\":0.2279,\"gap\":140.05,\"magType\":\"ml\",\"type\":\"earthquake\",\"title\":\"M 1.3 - 36km SE of Lovelock, Nevada\"},\"geometry\":{\"type\":\"Point\",\"coordinates\":[-118.1725,39.9514,4.5]},\"id\":\"nn00562354\"},\\n{\"type\":\"Feature\",\"properties\":{\"mag\":1.7,\"place\":\"20km NE of Upper Lake, California\",\"time\":1475481310660,\"updated\":1486779806488,\"tz\":-420,\"url\":\"https://earthquake.usgs.gov/earthquakes/eventpage/nc72706811\",\"detail\":\"https://earthquake.usgs.gov/fdsnws/event/1/query?eventid=nc72706811&format=geojson\",\"felt\":null,\"cdi\":null,\"mmi\":null,\"alert\":null,\"status\":\"reviewed\",\"tsunami\":0,\"sig\":44,\"net\":\"nc\",\"code\":\"72706811\",\"ids\":\",nc72706811,\",\"sources\":\",nc,\",\"types\":\",cap,geoserve,nearby-cities,origin,phase-data,\",\"nst\":12,\"dmin\":0.1937,\"rms\":0.04,\"gap\":158,\"magType\":\"md\",\"type\":\"earthquake\",\"title\":\"M 1.7 - 20km NE of Upper Lake, California\"},\"geometry\":{\"type\":\"Point\",\"coordinates\":[-122.7751667,39.3176667,10.97]},\"id\":\"nc72706811\"},\\n{\"type\":\"Feature\",\"properties\":{\"mag\":0.3,\"place\":\"20km S of Salcha, Alaska\",\"time\":1475481231399,\"updated\":1560794149032,\"tz\":-480,\"url\":\"https://earthquake.usgs.gov/earthquakes/eventpage/ak016cq8cmxv\",\"detail\":\"https://earthquake.usgs.gov/fdsnws/event/1/query?eventid=ak016cq8cmxv&format=geojson\",\"felt\":null,\"cdi\":null,\"mmi\":null,\"alert\":null,\"status\":\"reviewed\",\"tsunami\":0,\"sig\":1,\"net\":\"ak\",\"code\":\"016cq8cmxv\",\"ids\":\",ak14153741,ak016cq8cmxv,\",\"sources\":\",ak,ak,\",\"types\":\",associate,geoserve,origin,phase-data,\",\"nst\":null,\"dmin\":null,\"rms\":0.6,\"gap\":null,\"magType\":\"ml\",\"type\":\"earthquake\",\"title\":\"M 0.3 - 20km S of Salcha, Alaska\"},\"geometry\":{\"type\":\"Point\",\"coordinates\":[-146.943,64.338,11.8]},\"id\":\"ak016cq8cmxv\"},\\n{\"type\":\"Feature\",\"properties\":{\"mag\":0.82,\"place\":\"21km NE of Soledad, California\",\"time\":1475480436370,\"updated\":1486779801151,\"tz\":-420,\"url\":\"https://earthquake.usgs.gov/earthquakes/eventpage/nc72706806\",\"detail\":\"https://earthquake.usgs.gov/fdsnws/event/1/query?eventid=nc72706806&format=geojson\",\"felt\":null,\"cdi\":null,\"mmi\":null,\"alert\":null,\"status\":\"reviewed\",\"tsunami\":0,\"sig\":10,\"net\":\"nc\",\"code\":\"72706806\",\"ids\":\",nc72706806,\",\"sources\":\",nc,\",\"types\":\",cap,geoserve,nearby-cities,origin,phase-data,\",\"nst\":15,\"dmin\":0.009009,\"rms\":0.08,\"gap\":117,\"magType\":\"md\",\"type\":\"earthquake\",\"title\":\"M 0.8 - 21km NE of Soledad, California\"},\"geometry\":{\"type\":\"Point\",\"coordinates\":[-121.1833333,36.5823333,6.61]},\"id\":\"nc72706806\"},\\n{\"type\":\"Feature\",\"properties\":{\"mag\":0.9,\"place\":\"9km WNW of Sutton-Alpine, Alaska\",\"time\":1475480153980,\"updated\":1560794148598,\"tz\":-480,\"url\":\"https://earthquake.usgs.gov/earthquakes/eventpage/ak016cq88s92\",\"detail\":\"https://earthquake.usgs.gov/fdsnws/event/1/query?eventid=ak016cq88s92&format=geojson\",\"felt\":null,\"cdi\":null,\"mmi\":null,\"alert\":null,\"status\":\"reviewed\",\"tsunami\":0,\"sig\":12,\"net\":\"ak\",\"code\":\"016cq88s92\",\"ids\":\",ak14152600,ak016cq88s92,\",\"sources\":\",ak,ak,\",\"types\":\",associate,geoserve,origin,phase-data,\",\"nst\":null,\"dmin\":null,\"rms\":0.25,\"gap\":null,\"magType\":\"ml\",\"type\":\"earthquake\",\"title\":\"M 0.9 - 9km WNW of Sutton-Alpine, Alaska\"},\"geometry\":{\"type\":\"Point\",\"coordinates\":[-149.008,61.8411,41]},\"id\":\"ak016cq88s92\"},\\n{\"type\":\"Feature\",\"properties\":{\"mag\":4.3,\"place\":\"120km NNE of Lae, Papua New Guinea\",\"time\":1475479673380,\"updated\":1483477842040,\"tz\":600,\"url\":\"https://earthquake.usgs.gov/earthquakes/eventpage/us10006uma\",\"detail\":\"https://earthquake.usgs.gov/fdsnws/event/1/query?eventid=us10006uma&format=geojson\",\"felt\":null,\"cdi\":null,\"mmi\":null,\"alert\":null,\"status\":\"reviewed\",\"tsunami\":0,\"sig\":284,\"net\":\"us\",\"code\":\"10006uma\",\"ids\":\",us10006uma,\",\"sources\":\",us,\",\"types\":\",cap,geoserve,origin,phase-data,\",\"nst\":null,\"dmin\":3.593,\"rms\":1.02,\"gap\":105,\"magType\":\"mb\",\"type\":\"earthquake\",\"title\":\"M 4.3 - 120km NNE of Lae, Papua New Guinea\"},\"geometry\":{\"type\":\"Point\",\"coordinates\":[147.2006,-5.6566,169.01]},\"id\":\"us10006uma\"},\\n{\"type\":\"Feature\",\"properties\":{\"mag\":0.9,\"place\":\"8km NW of Houston, Alaska\",\"time\":1475479401341,\"updated\":1560794148157,\"tz\":-480,\"url\":\"https://earthquake.usgs.gov/earthquakes/eventpage/ak016cq86552\",\"detail\":\"https://earthquake.usgs.gov/fdsnws/event/1/query?eventid=ak016cq86552&format=geojson\",\"felt\":null,\"cdi\":null,\"mmi\":null,\"alert\":null,\"status\":\"reviewed\",\"tsunami\":0,\"sig\":12,\"net\":\"ak\",\"code\":\"016cq86552\",\"ids\":\",ak14152597,ak016cq86552,\",\"sources\":\",ak,ak,\",\"types\":\",associate,geoserve,origin,phase-data,\",\"nst\":null,\"dmin\":null,\"rms\":0.41,\"gap\":null,\"magType\":\"ml\",\"type\":\"earthquake\",\"title\":\"M 0.9 - 8km NW of Houston, Alaska\"},\"geometry\":{\"type\":\"Point\",\"coordinates\":[-149.9541,61.675,46.6]},\"id\":\"ak016cq86552\"},\\n{\"type\":\"Feature\",\"properties\":{\"mag\":0.7,\"place\":\"53km NNW of Gabbs, Nevada\",\"time\":1475479110210,\"updated\":1530554686555,\"tz\":-420,\"url\":\"https://earthquake.usgs.gov/earthquakes/eventpage/nn00562349\",\"detail\":\"https://earthquake.usgs.gov/fdsnws/event/1/query?eventid=nn00562349&format=geojson\",\"felt\":null,\"cdi\":null,\"mmi\":null,\"alert\":null,\"status\":\"reviewed\",\"tsunami\":0,\"sig\":8,\"net\":\"nn\",\"code\":\"00562349\",\"ids\":\",nn00562349,\",\"sources\":\",nn,\",\"types\":\",cap,geoserve,origin,phase-data,\",\"nst\":8,\"dmin\":0.044,\"rms\":0.1864,\"gap\":285.36,\"magType\":\"ml\",\"type\":\"earthquake\",\"title\":\"M 0.7 - 53km NNW of Gabbs, Nevada\"},\"geometry\":{\"type\":\"Point\",\"coordinates\":[-118.071,39.3332,9.8]},\"id\":\"nn00562349\"},\\n{\"type\":\"Feature\",\"properties\":{\"mag\":0.5,\"place\":\"43km WSW of Alamo, Nevada\",\"time\":1475478994557,\"updated\":1530554687313,\"tz\":-420,\"url\":\"https://earthquake.usgs.gov/earthquakes/eventpage/nn00562372\",\"detail\":\"https://earthquake.usgs.gov/fdsnws/event/1/query?eventid=nn00562372&format=geojson\",\"felt\":null,\"cdi\":null,\"mmi\":null,\"alert\":null,\"status\":\"reviewed\",\"tsunami\":0,\"sig\":4,\"net\":\"nn\",\"code\":\"00562372\",\"ids\":\",nn00562372,\",\"sources\":\",nn,\",\"types\":\",cap,geoserve,origin,phase-data,\",\"nst\":11,\"dmin\":0.314,\"rms\":0.1604,\"gap\":228.11,\"magType\":\"ml\",\"type\":\"earthquake\",\"title\":\"M 0.5 - 43km WSW of Alamo, Nevada\"},\"geometry\":{\"type\":\"Point\",\"coordinates\":[-115.6206,37.2143,0]},\"id\":\"nn00562372\"},\\n{\"type\":\"Feature\",\"properties\":{\"mag\":1.3,\"place\":\"66km NW of Yakutat, Alaska\",\"time\":1475478444485,\"updated\":1560794147733,\"tz\":-480,\"url\":\"https://earthquake.usgs.gov/earthquakes/eventpage/ak016cq82pxc\",\"detail\":\"https://earthquake.usgs.gov/fdsnws/event/1/query?eventid=ak016cq82pxc&format=geojson\",\"felt\":null,\"cdi\":null,\"mmi\":null,\"alert\":null,\"status\":\"reviewed\",\"tsunami\":0,\"sig\":26,\"net\":\"ak\",\"code\":\"016cq82pxc\",\"ids\":\",ak14190018,ak016cq82pxc,\",\"sources\":\",ak,ak,\",\"types\":\",associate,geoserve,origin,phase-data,\",\"nst\":null,\"dmin\":null,\"rms\":0.48,\"gap\":null,\"magType\":\"ml\",\"type\":\"earthquake\",\"title\":\"M 1.3 - 66km NW of Yakutat, Alaska\"},\"geometry\":{\"type\":\"Point\",\"coordinates\":[-140.6851,59.9023,6.7]},\"id\":\"ak016cq82pxc\"},\\n{\"type\":\"Feature\",\"properties\":{\"mag\":1.4,\"place\":\"14km SSW of Big Lake, Alaska\",\"time\":1475478363345,\"updated\":1560794147284,\"tz\":-480,\"url\":\"https://earthquake.usgs.gov/earthquakes/eventpage/ak016cq82gku\",\"detail\":\"https://earthquake.usgs.gov/fdsnws/event/1/query?eventid=ak016cq82gku&format=geojson\",\"felt\":null,\"cdi\":null,\"mmi\":null,\"alert\":null,\"status\":\"reviewed\",\"tsunami\":0,\"sig\":30,\"net\":\"ak\",\"code\":\"016cq82gku\",\"ids\":\",ak14152592,ak016cq82gku,\",\"sources\":\",ak,ak,\",\"types\":\",associate,geoserve,origin,phase-data,\",\"nst\":null,\"dmin\":null,\"rms\":0.47,\"gap\":null,\"magType\":\"ml\",\"type\":\"earthquake\",\"title\":\"M 1.4 - 14km SSW of Big Lake, Alaska\"},\"geometry\":{\"type\":\"Point\",\"coordinates\":[-150.066,61.3984,44.3]},\"id\":\"ak016cq82gku\"},\\n{\"type\":\"Feature\",\"properties\":{\"mag\":1.11,\"place\":\"6km W of Cobb, California\",\"time\":1475477999470,\"updated\":1486779795520,\"tz\":-420,\"url\":\"https://earthquake.usgs.gov/earthquakes/eventpage/nc72706801\",\"detail\":\"https://earthquake.usgs.gov/fdsnws/event/1/query?eventid=nc72706801&format=geojson\",\"felt\":null,\"cdi\":null,\"mmi\":null,\"alert\":null,\"status\":\"automatic\",\"tsunami\":0,\"sig\":19,\"net\":\"nc\",\"code\":\"72706801\",\"ids\":\",nc72706801,\",\"sources\":\",nc,\",\"types\":\",geoserve,nearby-cities,origin,phase-data,\",\"nst\":21,\"dmin\":0.01351,\"rms\":0.03,\"gap\":54,\"magType\":\"md\",\"type\":\"earthquake\",\"title\":\"M 1.1 - 6km W of Cobb, California\"},\"geometry\":{\"type\":\"Point\",\"coordinates\":[-122.7975006,38.8213348,1.65]},\"id\":\"nc72706801\"},\\n{\"type\":\"Feature\",\"properties\":{\"mag\":1.1,\"place\":\"46km W of Willow, Alaska\",\"time\":1475477723691,\"updated\":1560794146857,\"tz\":-480,\"url\":\"https://earthquake.usgs.gov/earthquakes/eventpage/ak016cq7rkmp\",\"detail\":\"https://earthquake.usgs.gov/fdsnws/event/1/query?eventid=ak016cq7rkmp&format=geojson\",\"felt\":null,\"cdi\":null,\"mmi\":null,\"alert\":null,\"status\":\"reviewed\",\"tsunami\":0,\"sig\":19,\"net\":\"ak\",\"code\":\"016cq7rkmp\",\"ids\":\",ak14152585,ak016cq7rkmp,\",\"sources\":\",ak,ak,\",\"types\":\",associate,geoserve,origin,phase-data,\",\"nst\":null,\"dmin\":null,\"rms\":0.41,\"gap\":null,\"magType\":\"ml\",\"type\":\"earthquake\",\"title\":\"M 1.1 - 46km W of Willow, Alaska\"},\"geometry\":{\"type\":\"Point\",\"coordinates\":[-150.9077,61.8113,60.3]},\"id\":\"ak016cq7rkmp\"},\\n{\"type\":\"Feature\",\"properties\":{\"mag\":1.2,\"place\":\"38km SW of Haines, Alaska\",\"time\":1475477663047,\"updated\":1560794146406,\"tz\":-480,\"url\":\"https://earthquake.usgs.gov/earthquakes/eventpage/ak016cq7rcv4\",\"detail\":\"https://earthquake.usgs.gov/fdsnws/event/1/query?eventid=ak016cq7rcv4&format=geojson\",\"felt\":null,\"cdi\":null,\"mmi\":null,\"alert\":null,\"status\":\"reviewed\",\"tsunami\":0,\"sig\":22,\"net\":\"ak\",\"code\":\"016cq7rcv4\",\"ids\":\",ak14190015,ak016cq7rcv4,\",\"sources\":\",ak,ak,\",\"types\":\",associate,geoserve,origin,phase-data,\",\"nst\":null,\"dmin\":null,\"rms\":0.73,\"gap\":null,\"magType\":\"ml\",\"type\":\"earthquake\",\"title\":\"M 1.2 - 38km SW of Haines, Alaska\"},\"geometry\":{\"type\":\"Point\",\"coordinates\":[-135.9893,59.0332,11.7]},\"id\":\"ak016cq7rcv4\"},\\n{\"type\":\"Feature\",\"properties\":{\"mag\":1.31,\"place\":\"14km WSW of Salton City, CA\",\"time\":1475477492430,\"updated\":1475702768320,\"tz\":-420,\"url\":\"https://earthquake.usgs.gov/earthquakes/eventpage/ci37708936\",\"detail\":\"https://earthquake.usgs.gov/fdsnws/event/1/query?eventid=ci37708936&format=geojson\",\"felt\":null,\"cdi\":null,\"mmi\":null,\"alert\":null,\"status\":\"reviewed\",\"tsunami\":0,\"sig\":26,\"net\":\"ci\",\"code\":\"37708936\",\"ids\":\",ci37708936,\",\"sources\":\",ci,\",\"types\":\",cap,focal-mechanism,general-link,geoserve,nearby-cities,origin,phase-data,scitech-link,\",\"nst\":40,\"dmin\":0.0949,\"rms\":0.19,\"gap\":60,\"magType\":\"ml\",\"type\":\"earthquake\",\"title\":\"M 1.3 - 14km WSW of Salton City, CA\"},\"geometry\":{\"type\":\"Point\",\"coordinates\":[-116.098,33.2666667,5.63]},\"id\":\"ci37708936\"},\\n{\"type\":\"Feature\",\"properties\":{\"mag\":0.6,\"place\":\"17km SE of Goldfield, Nevada\",\"time\":1475477207115,\"updated\":1530554686648,\"tz\":-420,\"url\":\"https://earthquake.usgs.gov/earthquakes/eventpage/nn00562348\",\"detail\":\"https://earthquake.usgs.gov/fdsnws/event/1/query?eventid=nn00562348&format=geojson\",\"felt\":null,\"cdi\":null,\"mmi\":null,\"alert\":null,\"status\":\"reviewed\",\"tsunami\":0,\"sig\":6,\"net\":\"nn\",\"code\":\"00562348\",\"ids\":\",nn00562348,\",\"sources\":\",nn,\",\"types\":\",cap,geoserve,origin,phase-data,\",\"nst\":9,\"dmin\":0.335,\"rms\":0.1493,\"gap\":150.34,\"magType\":\"ml\",\"type\":\"earthquake\",\"title\":\"M 0.6 - 17km SE of Goldfield, Nevada\"},\"geometry\":{\"type\":\"Point\",\"coordinates\":[-117.0869,37.6058,0]},\"id\":\"nn00562348\"},\\n{\"type\":\"Feature\",\"properties\":{\"mag\":0.5,\"place\":\"3km W of Cobb, California\",\"time\":1475476971160,\"updated\":1486779789965,\"tz\":-420,\"url\":\"https://earthquake.usgs.gov/earthquakes/eventpage/nc72706796\",\"detail\":\"https://earthquake.usgs.gov/fdsnws/event/1/query?eventid=nc72706796&format=geojson\",\"felt\":null,\"cdi\":null,\"mmi\":null,\"alert\":null,\"status\":\"automatic\",\"tsunami\":0,\"sig\":4,\"net\":\"nc\",\"code\":\"72706796\",\"ids\":\",nc72706796,\",\"sources\":\",nc,\",\"types\":\",geoserve,nearby-cities,origin,phase-data,\",\"nst\":7,\"dmin\":0.007207,\"rms\":0.01,\"gap\":121,\"magType\":\"md\",\"type\":\"earthquake\",\"title\":\"M 0.5 - 3km W of Cobb, California\"},\"geometry\":{\"type\":\"Point\",\"coordinates\":[-122.765831,38.8241653,1.87]},\"id\":\"nc72706796\"},\\n{\"type\":\"Feature\",\"properties\":{\"mag\":0.9,\"place\":\"9km WNW of Cobb, California\",\"time\":1475476933450,\"updated\":1486779784234,\"tz\":-420,\"url\":\"https://earthquake.usgs.gov/earthquakes/eventpage/nc72706791\",\"detail\":\"https://earthquake.usgs.gov/fdsnws/event/1/query?eventid=nc72706791&format=geojson\",\"felt\":null,\"cdi\":null,\"mmi\":null,\"alert\":null,\"status\":\"automatic\",\"tsunami\":0,\"sig\":12,\"net\":\"nc\",\"code\":\"72706791\",\"ids\":\",nc72706791,\",\"sources\":\",nc,\",\"types\":\",geoserve,nearby-cities,origin,phase-data,\",\"nst\":16,\"dmin\":0.009009,\"rms\":0.03,\"gap\":59,\"magType\":\"md\",\"type\":\"earthquake\",\"title\":\"M 0.9 - 9km WNW of Cobb, California\"},\"geometry\":{\"type\":\"Point\",\"coordinates\":[-122.8259964,38.8458328,1.45]},\"id\":\"nc72706791\"},\\n{\"type\":\"Feature\",\"properties\":{\"mag\":1.24,\"place\":\"7km WNW of The Geysers, California\",\"time\":1475476197120,\"updated\":1486779777060,\"tz\":-420,\"url\":\"https://earthquake.usgs.gov/earthquakes/eventpage/nc72706786\",\"detail\":\"https://earthquake.usgs.gov/fdsnws/event/1/query?eventid=nc72706786&format=geojson\",\"felt\":null,\"cdi\":null,\"mmi\":null,\"alert\":null,\"status\":\"reviewed\",\"tsunami\":0,\"sig\":24,\"net\":\"nc\",\"code\":\"72706786\",\"ids\":\",nc72706786,\",\"sources\":\",nc,\",\"types\":\",cap,focal-mechanism,geoserve,nearby-cities,origin,phase-data,scitech-link,\",\"nst\":37,\"dmin\":0.01622,\"rms\":0.04,\"gap\":48,\"magType\":\"md\",\"type\":\"earthquake\",\"title\":\"M 1.2 - 7km WNW of The Geysers, California\"},\"geometry\":{\"type\":\"Point\",\"coordinates\":[-122.8271667,38.8081667,0.37]},\"id\":\"nc72706786\"},\\n{\"type\":\"Feature\",\"properties\":{\"mag\":1.2,\"place\":\"66km N of Nikiski, Alaska\",\"time\":1475476179399,\"updated\":1560794146006,\"tz\":-480,\"url\":\"https://earthquake.usgs.gov/earthquakes/eventpage/ak016cq7m183\",\"detail\":\"https://earthquake.usgs.gov/fdsnws/event/1/query?eventid=ak016cq7m183&format=geojson\",\"felt\":null,\"cdi\":null,\"mmi\":null,\"alert\":null,\"status\":\"reviewed\",\"tsunami\":0,\"sig\":22,\"net\":\"ak\",\"code\":\"016cq7m183\",\"ids\":\",ak14190014,ak016cq7m183,\",\"sources\":\",ak,ak,\",\"types\":\",associate,geoserve,origin,phase-data,\",\"nst\":null,\"dmin\":null,\"rms\":0.4,\"gap\":null,\"magType\":\"ml\",\"type\":\"earthquake\",\"title\":\"M 1.2 - 66km N of Nikiski, Alaska\"},\"geometry\":{\"type\":\"Point\",\"coordinates\":[-151.2507,61.2871,65.9]},\"id\":\"ak016cq7m183\"},\\n{\"type\":\"Feature\",\"properties\":{\"mag\":0.1,\"place\":\"49km ESE of Beatty, Nevada\",\"time\":1475476081922,\"updated\":1530554686127,\"tz\":-420,\"url\":\"https://earthquake.usgs.gov/earthquakes/eventpage/nn00562347\",\"detail\":\"https://earthquake.usgs.gov/fdsnws/event/1/query?eventid=nn00562347&format=geojson\",\"felt\":null,\"cdi\":null,\"mmi\":null,\"alert\":null,\"status\":\"reviewed\",\"tsunami\":0,\"sig\":0,\"net\":\"nn\",\"code\":\"00562347\",\"ids\":\",nn00562347,\",\"sources\":\",nn,\",\"types\":\",cap,geoserve,origin,phase-data,\",\"nst\":19,\"dmin\":0.038,\"rms\":0.1391,\"gap\":69.51,\"magType\":\"ml\",\"type\":\"earthquake\",\"title\":\"M 0.1 - 49km ESE of Beatty, Nevada\"},\"geometry\":{\"type\":\"Point\",\"coordinates\":[-116.2577,36.7176,7.3]},\"id\":\"nn00562347\"},\\n{\"type\":\"Feature\",\"properties\":{\"mag\":1.2,\"place\":\"86km NNW of Talkeetna, Alaska\",\"time\":1475475934772,\"updated\":1560794145552,\"tz\":-480,\"url\":\"https://earthquake.usgs.gov/earthquakes/eventpage/ak016cq7l605\",\"detail\":\"https://earthquake.usgs.gov/fdsnws/event/1/query?eventid=ak016cq7l605&format=geojson\",\"felt\":null,\"cdi\":null,\"mmi\":null,\"alert\":null,\"status\":\"reviewed\",\"tsunami\":0,\"sig\":22,\"net\":\"ak\",\"code\":\"016cq7l605\",\"ids\":\",ak14190013,ak016cq7l605,\",\"sources\":\",ak,ak,\",\"types\":\",associate,geoserve,origin,phase-data,\",\"nst\":null,\"dmin\":null,\"rms\":0.38,\"gap\":null,\"magType\":\"ml\",\"type\":\"earthquake\",\"title\":\"M 1.2 - 86km NNW of Talkeetna, Alaska\"},\"geometry\":{\"type\":\"Point\",\"coordinates\":[-150.8598,63.0227,106.8]},\"id\":\"ak016cq7l605\"},\\n{\"type\":\"Feature\",\"properties\":{\"mag\":4.8,\"place\":\"207km NE of Gisborne, New Zealand\",\"time\":1475475924410,\"updated\":1483477842040,\"tz\":720,\"url\":\"https://earthquake.usgs.gov/earthquakes/eventpage/us10006ulx\",\"detail\":\"https://earthquake.usgs.gov/fdsnws/event/1/query?eventid=us10006ulx&format=geojson\",\"felt\":null,\"cdi\":null,\"mmi\":null,\"alert\":null,\"status\":\"reviewed\",\"tsunami\":0,\"sig\":354,\"net\":\"us\",\"code\":\"10006ulx\",\"ids\":\",us10006ulx,\",\"sources\":\",us,\",\"types\":\",cap,geoserve,origin,phase-data,\",\"nst\":null,\"dmin\":1.157,\"rms\":0.57,\"gap\":185,\"magType\":\"mb\",\"type\":\"earthquake\",\"title\":\"M 4.8 - 207km NE of Gisborne, New Zealand\"},\"geometry\":{\"type\":\"Point\",\"coordinates\":[179.743,-37.3812,10]},\"id\":\"us10006ulx\"},\\n{\"type\":\"Feature\",\"properties\":{\"mag\":1.59,\"place\":\"11km SSE of Bishop, California\",\"time\":1475475906920,\"updated\":1530554686457,\"tz\":-420,\"url\":\"https://earthquake.usgs.gov/earthquakes/eventpage/nc72706781\",\"detail\":\"https://earthquake.usgs.gov/fdsnws/event/1/query?eventid=nc72706781&format=geojson\",\"felt\":null,\"cdi\":null,\"mmi\":null,\"alert\":null,\"status\":\"reviewed\",\"tsunami\":0,\"sig\":39,\"net\":\"nc\",\"code\":\"72706781\",\"ids\":\",nn00562346,nc72706781,\",\"sources\":\",nn,nc,\",\"types\":\",cap,geoserve,nearby-cities,origin,phase-data,\",\"nst\":17,\"dmin\":0.1018,\"rms\":0.06,\"gap\":135,\"magType\":\"md\",\"type\":\"earthquake\",\"title\":\"M 1.6 - 11km SSE of Bishop, California\"},\"geometry\":{\"type\":\"Point\",\"coordinates\":[-118.3315,37.2693333,11.14]},\"id\":\"nc72706781\"},\\n{\"type\":\"Feature\",\"properties\":{\"mag\":1.1,\"place\":\"26km S of Gardnerville Ranchos, Nevada\",\"time\":1475475893711,\"updated\":1530554685686,\"tz\":-420,\"url\":\"https://earthquake.usgs.gov/earthquakes/eventpage/nn00562353\",\"detail\":\"https://earthquake.usgs.gov/fdsnws/event/1/query?eventid=nn00562353&format=geojson\",\"felt\":null,\"cdi\":null,\"mmi\":null,\"alert\":null,\"status\":\"reviewed\",\"tsunami\":0,\"sig\":19,\"net\":\"nn\",\"code\":\"00562353\",\"ids\":\",nn00562353,\",\"sources\":\",nn,\",\"types\":\",cap,geoserve,origin,phase-data,\",\"nst\":6,\"dmin\":0.29,\"rms\":0.1224,\"gap\":101.7,\"magType\":\"ml\",\"type\":\"earthquake\",\"title\":\"M 1.1 - 26km S of Gardnerville Ranchos, Nevada\"},\"geometry\":{\"type\":\"Point\",\"coordinates\":[-119.7588,38.6496,13.3]},\"id\":\"nn00562353\"},\\n{\"type\":\"Feature\",\"properties\":{\"mag\":0.5,\"place\":\"25km WSW of Manley Hot Springs, Alaska\",\"time\":1475475759010,\"updated\":1560794145102,\"tz\":-480,\"url\":\"https://earthquake.usgs.gov/earthquakes/eventpage/ak016cq7kj6l\",\"detail\":\"https://earthquake.usgs.gov/fdsnws/event/1/query?eventid=ak016cq7kj6l&format=geojson\",\"felt\":null,\"cdi\":null,\"mmi\":null,\"alert\":null,\"status\":\"reviewed\",\"tsunami\":0,\"sig\":4,\"net\":\"ak\",\"code\":\"016cq7kj6l\",\"ids\":\",ak14151445,ak016cq7kj6l,\",\"sources\":\",ak,ak,\",\"types\":\",associate,geoserve,origin,phase-data,\",\"nst\":null,\"dmin\":null,\"rms\":0.7,\"gap\":null,\"magType\":\"ml\",\"type\":\"earthquake\",\"title\":\"M 0.5 - 25km WSW of Manley Hot Springs, Alaska\"},\"geometry\":{\"type\":\"Point\",\"coordinates\":[-151.1441,64.9379,13]},\"id\":\"ak016cq7kj6l\"},\\n{\"type\":\"Feature\",\"properties\":{\"mag\":1.7,\"place\":\"13km W of Anchorage, Alaska\",\"time\":1475475510854,\"updated\":1560794144697,\"tz\":-480,\"url\":\"https://earthquake.usgs.gov/earthquakes/eventpage/ak016cq7jnot\",\"detail\":\"https://earthquake.usgs.gov/fdsnws/event/1/query?eventid=ak016cq7jnot&format=geojson\",\"felt\":null,\"cdi\":null,\"mmi\":null,\"alert\":null,\"status\":\"reviewed\",\"tsunami\":0,\"sig\":44,\"net\":\"ak\",\"code\":\"016cq7jnot\",\"ids\":\",ak14151442,ak016cq7jnot,\",\"sources\":\",ak,ak,\",\"types\":\",associate,geoserve,origin,phase-data,\",\"nst\":null,\"dmin\":null,\"rms\":0.53,\"gap\":null,\"magType\":\"ml\",\"type\":\"earthquake\",\"title\":\"M 1.7 - 13km W of Anchorage, Alaska\"},\"geometry\":{\"type\":\"Point\",\"coordinates\":[-150.1456,61.2233,41.2]},\"id\":\"ak016cq7jnot\"},\\n{\"type\":\"Feature\",\"properties\":{\"mag\":0.1,\"place\":\"45km N of Spanish Springs, Nevada\",\"time\":1475474757880,\"updated\":1530554685605,\"tz\":-420,\"url\":\"https://earthquake.usgs.gov/earthquakes/eventpage/nn00562352\",\"detail\":\"https://earthquake.usgs.gov/fdsnws/event/1/query?eventid=nn00562352&format=geojson\",\"felt\":null,\"cdi\":null,\"mmi\":null,\"alert\":null,\"status\":\"reviewed\",\"tsunami\":0,\"sig\":0,\"net\":\"nn\",\"code\":\"00562352\",\"ids\":\",nn00562352,\",\"sources\":\",nn,\",\"types\":\",cap,geoserve,origin,phase-data,\",\"nst\":5,\"dmin\":0.135,\"rms\":0.1079,\"gap\":294.21,\"magType\":\"ml\",\"type\":\"earthquake\",\"title\":\"M 0.1 - 45km N of Spanish Springs, Nevada\"},\"geometry\":{\"type\":\"Point\",\"coordinates\":[-119.7346,40.0606,16.3]},\"id\":\"nn00562352\"},\\n{\"type\":\"Feature\",\"properties\":{\"mag\":-0.2,\"place\":\"21km ESE of Hawthorne, Nevada\",\"time\":1475474627805,\"updated\":1530554685504,\"tz\":-420,\"url\":\"https://earthquake.usgs.gov/earthquakes/eventpage/nn00562345\",\"detail\":\"https://earthquake.usgs.gov/fdsnws/event/1/query?eventid=nn00562345&format=geojson\",\"felt\":null,\"cdi\":null,\"mmi\":null,\"alert\":null,\"status\":\"reviewed\",\"tsunami\":0,\"sig\":0,\"net\":\"nn\",\"code\":\"00562345\",\"ids\":\",nn00562345,\",\"sources\":\",nn,\",\"types\":\",geoserve,origin,phase-data,\",\"nst\":4,\"dmin\":0.051,\"rms\":0.1392,\"gap\":206.44,\"magType\":\"ml\",\"type\":\"earthquake\",\"title\":\"M -0.2 - 21km ESE of Hawthorne, Nevada\"},\"geometry\":{\"type\":\"Point\",\"coordinates\":[-118.3991,38.4493,1.9]},\"id\":\"nn00562345\"},\\n{\"type\":\"Feature\",\"properties\":{\"mag\":4.3,\"place\":\"269km ESE of Lambasa, Fiji\",\"time\":1475474146600,\"updated\":1483477842040,\"tz\":-720,\"url\":\"https://earthquake.usgs.gov/earthquakes/eventpage/us20007dnb\",\"detail\":\"https://earthquake.usgs.gov/fdsnws/event/1/query?eventid=us20007dnb&format=geojson\",\"felt\":null,\"cdi\":null,\"mmi\":null,\"alert\":null,\"status\":\"reviewed\",\"tsunami\":0,\"sig\":284,\"net\":\"us\",\"code\":\"20007dnb\",\"ids\":\",us20007dnb,\",\"sources\":\",us,\",\"types\":\",geoserve,origin,phase-data,\",\"nst\":null,\"dmin\":3.453,\"rms\":0.51,\"gap\":139,\"magType\":\"mb\",\"type\":\"earthquake\",\"title\":\"M 4.3 - 269km ESE of Lambasa, Fiji\"},\"geometry\":{\"type\":\"Point\",\"coordinates\":[-178.338,-17.4651,545.08]},\"id\":\"us20007dnb\"},\\n{\"type\":\"Feature\",\"properties\":{\"mag\":1.5,\"place\":\"88km NNW of Talkeetna, Alaska\",\"time\":1475473554145,\"updated\":1560794144277,\"tz\":-480,\"url\":\"https://earthquake.usgs.gov/earthquakes/eventpage/ak016cq7427q\",\"detail\":\"https://earthquake.usgs.gov/fdsnws/event/1/query?eventid=ak016cq7427q&format=geojson\",\"felt\":null,\"cdi\":null,\"mmi\":null,\"alert\":null,\"status\":\"reviewed\",\"tsunami\":0,\"sig\":35,\"net\":\"ak\",\"code\":\"016cq7427q\",\"ids\":\",ak14151433,ak016cq7427q,\",\"sources\":\",ak,ak,\",\"types\":\",associate,geoserve,origin,phase-data,\",\"nst\":null,\"dmin\":null,\"rms\":0.34,\"gap\":null,\"magType\":\"ml\",\"type\":\"earthquake\",\"title\":\"M 1.5 - 88km NNW of Talkeetna, Alaska\"},\"geometry\":{\"type\":\"Point\",\"coordinates\":[-150.995,63.0069,118.7]},\"id\":\"ak016cq7427q\"},\\n{\"type\":\"Feature\",\"properties\":{\"mag\":1.4,\"place\":\"54km N of Talkeetna, Alaska\",\"time\":1475473542686,\"updated\":1560794143876,\"tz\":-480,\"url\":\"https://earthquake.usgs.gov/earthquakes/eventpage/ak016cq741bw\",\"detail\":\"https://earthquake.usgs.gov/fdsnws/event/1/query?eventid=ak016cq741bw&format=geojson\",\"felt\":null,\"cdi\":null,\"mmi\":null,\"alert\":null,\"status\":\"reviewed\",\"tsunami\":0,\"sig\":30,\"net\":\"ak\",\"code\":\"016cq741bw\",\"ids\":\",ak14190009,ak016cq741bw,\",\"sources\":\",ak,ak,\",\"types\":\",associate,geoserve,origin,phase-data,\",\"nst\":null,\"dmin\":null,\"rms\":0.25,\"gap\":null,\"magType\":\"ml\",\"type\":\"earthquake\",\"title\":\"M 1.4 - 54km N of Talkeetna, Alaska\"},\"geometry\":{\"type\":\"Point\",\"coordinates\":[-150.1125,62.8141,72.5]},\"id\":\"ak016cq741bw\"},\\n{\"type\":\"Feature\",\"properties\":{\"mag\":1.4,\"place\":\"60km ENE of Cape Yakataga, Alaska\",\"time\":1475473082841,\"updated\":1560794143473,\"tz\":-480,\"url\":\"https://earthquake.usgs.gov/earthquakes/eventpage/ak016cq72g8s\",\"detail\":\"https://earthquake.usgs.gov/fdsnws/event/1/query?eventid=ak016cq72g8s&format=geojson\",\"felt\":null,\"cdi\":null,\"mmi\":null,\"alert\":null,\"status\":\"reviewed\",\"tsunami\":0,\"sig\":30,\"net\":\"ak\",\"code\":\"016cq72g8s\",\"ids\":\",ak14151430,ak016cq72g8s,\",\"sources\":\",ak,ak,\",\"types\":\",associate,geoserve,origin,phase-data,\",\"nst\":null,\"dmin\":null,\"rms\":0.92,\"gap\":null,\"magType\":\"ml\",\"type\":\"earthquake\",\"title\":\"M 1.4 - 60km ENE of Cape Yakataga, Alaska\"},\"geometry\":{\"type\":\"Point\",\"coordinates\":[-141.379,60.2165,0]},\"id\":\"ak016cq72g8s\"},\\n{\"type\":\"Feature\",\"properties\":{\"mag\":1.3,\"place\":\"50km WSW of Valdez, Alaska\",\"time\":1475472959004,\"updated\":1560794142855,\"tz\":-480,\"url\":\"https://earthquake.usgs.gov/earthquakes/eventpage/ak016cq71xfg\",\"detail\":\"https://earthquake.usgs.gov/fdsnws/event/1/query?eventid=ak016cq71xfg&format=geojson\",\"felt\":null,\"cdi\":null,\"mmi\":null,\"alert\":null,\"status\":\"reviewed\",\"tsunami\":0,\"sig\":26,\"net\":\"ak\",\"code\":\"016cq71xfg\",\"ids\":\",ak14151428,ak016cq71xfg,\",\"sources\":\",ak,ak,\",\"types\":\",associate,geoserve,origin,phase-data,\",\"nst\":null,\"dmin\":null,\"rms\":0.53,\"gap\":null,\"magType\":\"ml\",\"type\":\"earthquake\",\"title\":\"M 1.3 - 50km WSW of Valdez, Alaska\"},\"geometry\":{\"type\":\"Point\",\"coordinates\":[-147.2402,61.0069,21.1]},\"id\":\"ak016cq71xfg\"},\\n{\"type\":\"Feature\",\"properties\":{\"mag\":2.5,\"place\":\"86km NNW of Road Town, British Virgin Islands\",\"time\":1475472297200,\"updated\":1483477842040,\"tz\":-240,\"url\":\"https://earthquake.usgs.gov/earthquakes/eventpage/pr16277001\",\"detail\":\"https://earthquake.usgs.gov/fdsnws/event/1/query?eventid=pr16277001&format=geojson\",\"felt\":null,\"cdi\":null,\"mmi\":null,\"alert\":null,\"status\":\"REVIEWED\",\"tsunami\":0,\"sig\":96,\"net\":\"pr\",\"code\":\"16277001\",\"ids\":\",pr16277001,us10006um9,\",\"sources\":\",pr,us,\",\"types\":\",cap,geoserve,origin,phase-data,\",\"nst\":4,\"dmin\":0.8345349,\"rms\":0.28,\"gap\":320.4,\"magType\":\"Md\",\"type\":\"earthquake\",\"title\":\"M 2.5 - 86km NNW of Road Town, British Virgin Islands\"},\"geometry\":{\"type\":\"Point\",\"coordinates\":[-64.805,19.1786,50]},\"id\":\"pr16277001\"},\\n{\"type\":\"Feature\",\"properties\":{\"mag\":2.11,\"place\":\"2km ENE of Pahala, Hawaii\",\"time\":1475471766780,\"updated\":1475471959010,\"tz\":-600,\"url\":\"https://earthquake.usgs.gov/earthquakes/eventpage/hv61432161\",\"detail\":\"https://earthquake.usgs.gov/fdsnws/event/1/query?eventid=hv61432161&format=geojson\",\"felt\":null,\"cdi\":null,\"mmi\":null,\"alert\":null,\"status\":\"automatic\",\"tsunami\":0,\"sig\":68,\"net\":\"hv\",\"code\":\"61432161\",\"ids\":\",hv61432161,\",\"sources\":\",hv,\",\"types\":\",general-link,geoserve,origin,phase-data,\",\"nst\":30,\"dmin\":0.04695,\"rms\":0.17,\"gap\":101,\"magType\":\"md\",\"type\":\"earthquake\",\"title\":\"M 2.1 - 2km ENE of Pahala, Hawaii\"},\"geometry\":{\"type\":\"Point\",\"coordinates\":[-155.463501,19.2153339,40.33]},\"id\":\"hv61432161\"},\\n{\"type\":\"Feature\",\"properties\":{\"mag\":1.4,\"place\":\"61km E of Cape Yakataga, Alaska\",\"time\":1475471422789,\"updated\":1560794142434,\"tz\":-480,\"url\":\"https://earthquake.usgs.gov/earthquakes/eventpage/ak016cq6whqe\",\"detail\":\"https://earthquake.usgs.gov/fdsnws/event/1/query?eventid=ak016cq6whqe&format=geojson\",\"felt\":null,\"cdi\":null,\"mmi\":null,\"alert\":null,\"status\":\"reviewed\",\"tsunami\":0,\"sig\":30,\"net\":\"ak\",\"code\":\"016cq6whqe\",\"ids\":\",ak14150291,ak016cq6whqe,\",\"sources\":\",ak,ak,\",\"types\":\",associate,geoserve,origin,phase-data,\",\"nst\":null,\"dmin\":null,\"rms\":0.66,\"gap\":null,\"magType\":\"ml\",\"type\":\"ice quake\",\"title\":\"M 1.4 Ice Quake - 61km E of Cape Yakataga, Alaska\"},\"geometry\":{\"type\":\"Point\",\"coordinates\":[-141.3272,60.1351,0]},\"id\":\"ak016cq6whqe\"},\\n{\"type\":\"Feature\",\"properties\":{\"mag\":1.33,\"place\":\"24km NE of Greenfield, California\",\"time\":1475471244640,\"updated\":1486779762966,\"tz\":-420,\"url\":\"https://earthquake.usgs.gov/earthquakes/eventpage/nc72706776\",\"detail\":\"https://earthquake.usgs.gov/fdsnws/event/1/query?eventid=nc72706776&format=geojson\",\"felt\":null,\"cdi\":null,\"mmi\":null,\"alert\":null,\"status\":\"reviewed\",\"tsunami\":0,\"sig\":27,\"net\":\"nc\",\"code\":\"72706776\",\"ids\":\",nc72706776,\",\"sources\":\",nc,\",\"types\":\",cap,geoserve,nearby-cities,origin,phase-data,\",\"nst\":18,\"dmin\":0.03153,\"rms\":0.12,\"gap\":80,\"magType\":\"md\",\"type\":\"earthquake\",\"title\":\"M 1.3 - 24km NE of Greenfield, California\"},\"geometry\":{\"type\":\"Point\",\"coordinates\":[-121.031,36.4546667,7.43]},\"id\":\"nc72706776\"},\\n{\"type\":\"Feature\",\"properties\":{\"mag\":1.99,\"place\":\"2km SSE of Pahala, Hawaii\",\"time\":1475471182270,\"updated\":1475471384240,\"tz\":-600,\"url\":\"https://earthquake.usgs.gov/earthquakes/eventpage/hv61432151\",\"detail\":\"https://earthquake.usgs.gov/fdsnws/event/1/query?eventid=hv61432151&format=geojson\",\"felt\":null,\"cdi\":null,\"mmi\":null,\"alert\":null,\"status\":\"automatic\",\"tsunami\":0,\"sig\":61,\"net\":\"hv\",\"code\":\"61432151\",\"ids\":\",hv61432151,\",\"sources\":\",hv,\",\"types\":\",general-link,geoserve,origin,phase-data,\",\"nst\":31,\"dmin\":0.02765,\"rms\":0.15,\"gap\":230,\"magType\":\"md\",\"type\":\"earthquake\",\"title\":\"M 2.0 - 2km SSE of Pahala, Hawaii\"},\"geometry\":{\"type\":\"Point\",\"coordinates\":[-155.4726715,19.1813335,35.29]},\"id\":\"hv61432151\"},\\n{\"type\":\"Feature\",\"properties\":{\"mag\":0.41,\"place\":\"Northern California\",\"time\":1475470986590,\"updated\":1486779757369,\"tz\":null,\"url\":\"https://earthquake.usgs.gov/earthquakes/eventpage/nc72706771\",\"detail\":\"https://earthquake.usgs.gov/fdsnws/event/1/query?eventid=nc72706771&format=geojson\",\"felt\":null,\"cdi\":null,\"mmi\":null,\"alert\":null,\"status\":\"automatic\",\"tsunami\":0,\"sig\":3,\"net\":\"nc\",\"code\":\"72706771\",\"ids\":\",nc72706771,\",\"sources\":\",nc,\",\"types\":\",nearby-cities,origin,phase-data,\",\"nst\":7,\"dmin\":0.01712,\"rms\":0.01,\"gap\":96,\"magType\":\"md\",\"type\":\"earthquake\",\"title\":\"M 0.4 - Northern California\"},\"geometry\":{\"type\":\"Point\",\"coordinates\":[-122.7553329,38.8178329,1.11]},\"id\":\"nc72706771\"},\\n{\"type\":\"Feature\",\"properties\":{\"mag\":3.7,\"place\":\"179km SSE of Yunaska Island, Alaska\",\"time\":1475470917600,\"updated\":1560794142024,\"tz\":-660,\"url\":\"https://earthquake.usgs.gov/earthquakes/eventpage/us10006uqx\",\"detail\":\"https://earthquake.usgs.gov/fdsnws/event/1/query?eventid=us10006uqx&format=geojson\",\"felt\":null,\"cdi\":null,\"mmi\":null,\"alert\":null,\"status\":\"reviewed\",\"tsunami\":0,\"sig\":211,\"net\":\"us\",\"code\":\"10006uqx\",\"ids\":\",ak14150289,us10006uqx,ak016cq6un40,\",\"sources\":\",ak,us,ak,\",\"types\":\",associate,cap,geoserve,origin,phase-data,\",\"nst\":null,\"dmin\":1.675,\"rms\":0.54,\"gap\":194,\"magType\":\"mb\",\"type\":\"earthquake\",\"title\":\"M 3.7 - 179km SSE of Yunaska Island, Alaska\"},\"geometry\":{\"type\":\"Point\",\"coordinates\":[-169.8133,51.115,22.55]},\"id\":\"us10006uqx\"},\\n{\"type\":\"Feature\",\"properties\":{\"mag\":1.3,\"place\":\"63km ENE of Cape Yakataga, Alaska\",\"time\":1475470739905,\"updated\":1560794141624,\"tz\":-480,\"url\":\"https://earthquake.usgs.gov/earthquakes/eventpage/ak016cq6lfd2\",\"detail\":\"https://earthquake.usgs.gov/fdsnws/event/1/query?eventid=ak016cq6lfd2&format=geojson\",\"felt\":null,\"cdi\":null,\"mmi\":null,\"alert\":null,\"status\":\"reviewed\",\"tsunami\":0,\"sig\":26,\"net\":\"ak\",\"code\":\"016cq6lfd2\",\"ids\":\",ak14150288,ak016cq6lfd2,\",\"sources\":\",ak,ak,\",\"types\":\",associate,geoserve,origin,phase-data,\",\"nst\":null,\"dmin\":null,\"rms\":0.97,\"gap\":null,\"magType\":\"ml\",\"type\":\"ice quake\",\"title\":\"M 1.3 Ice Quake - 63km ENE of Cape Yakataga, Alaska\"},\"geometry\":{\"type\":\"Point\",\"coordinates\":[-141.3402,60.2363,0]},\"id\":\"ak016cq6lfd2\"},\\n{\"type\":\"Feature\",\"properties\":{\"mag\":0.86,\"place\":\"7km W of Cobb, California\",\"time\":1475469952610,\"updated\":1486779752158,\"tz\":-420,\"url\":\"https://earthquake.usgs.gov/earthquakes/eventpage/nc72706766\",\"detail\":\"https://earthquake.usgs.gov/fdsnws/event/1/query?eventid=nc72706766&format=geojson\",\"felt\":null,\"cdi\":null,\"mmi\":null,\"alert\":null,\"status\":\"automatic\",\"tsunami\":0,\"sig\":11,\"net\":\"nc\",\"code\":\"72706766\",\"ids\":\",nc72706766,\",\"sources\":\",nc,\",\"types\":\",geoserve,nearby-cities,origin,phase-data,\",\"nst\":9,\"dmin\":0.005405,\"rms\":0.01,\"gap\":83,\"magType\":\"md\",\"type\":\"earthquake\",\"title\":\"M 0.9 - 7km W of Cobb, California\"},\"geometry\":{\"type\":\"Point\",\"coordinates\":[-122.8063354,38.8278351,2.21]},\"id\":\"nc72706766\"},\\n{\"type\":\"Feature\",\"properties\":{\"mag\":1.7,\"place\":\"163km WNW of Haines Junction, Canada\",\"time\":1475469833000,\"updated\":1560794141187,\"tz\":-420,\"url\":\"https://earthquake.usgs.gov/earthquakes/eventpage/ak14150281\",\"detail\":\"https://earthquake.usgs.gov/fdsnws/event/1/query?eventid=ak14150281&format=geojson\",\"felt\":null,\"cdi\":null,\"mmi\":null,\"alert\":null,\"status\":\"reviewed\",\"tsunami\":0,\"sig\":44,\"net\":\"ak\",\"code\":\"14150281\",\"ids\":\",ak14150281,ak016cq6i75z,\",\"sources\":\",ak,ak,\",\"types\":\",associate,geoserve,origin,phase-data,\",\"nst\":null,\"dmin\":null,\"rms\":0.61,\"gap\":null,\"magType\":\"ml\",\"type\":\"earthquake\",\"title\":\"M 1.7 - 163km WNW of Haines Junction, Canada\"},\"geometry\":{\"type\":\"Point\",\"coordinates\":[-140.2174,61.4022,3.9]},\"id\":\"ak14150281\"},\\n{\"type\":\"Feature\",\"properties\":{\"mag\":1,\"place\":\"84km E of Sutton-Alpine, Alaska\",\"time\":1475469649325,\"updated\":1560794140753,\"tz\":-480,\"url\":\"https://earthquake.usgs.gov/earthquakes/eventpage/ak016cq6hjno\",\"detail\":\"https://earthquake.usgs.gov/fdsnws/event/1/query?eventid=ak016cq6hjno&format=geojson\",\"felt\":null,\"cdi\":null,\"mmi\":null,\"alert\":null,\"status\":\"reviewed\",\"tsunami\":0,\"sig\":15,\"net\":\"ak\",\"code\":\"016cq6hjno\",\"ids\":\",ak14190002,ak016cq6hjno,\",\"sources\":\",ak,ak,\",\"types\":\",associate,geoserve,origin,phase-data,\",\"nst\":null,\"dmin\":null,\"rms\":0.55,\"gap\":null,\"magType\":\"ml\",\"type\":\"earthquake\",\"title\":\"M 1.0 - 84km E of Sutton-Alpine, Alaska\"},\"geometry\":{\"type\":\"Point\",\"coordinates\":[-147.2651,61.8816,36.1]},\"id\":\"ak016cq6hjno\"},\\n{\"type\":\"Feature\",\"properties\":{\"mag\":4.8,\"place\":\"114km SSE of Raoul Island, New Zealand\",\"time\":1475469638540,\"updated\":1483477842040,\"tz\":-720,\"url\":\"https://earthquake.usgs.gov/earthquakes/eventpage/us10006ulk\",\"detail\":\"https://earthquake.usgs.gov/fdsnws/event/1/query?eventid=us10006ulk&format=geojson\",\"felt\":null,\"cdi\":null,\"mmi\":null,\"alert\":null,\"status\":\"reviewed\",\"tsunami\":0,\"sig\":354,\"net\":\"us\",\"code\":\"10006ulk\",\"ids\":\",us10006ulk,\",\"sources\":\",us,\",\"types\":\",cap,geoserve,origin,phase-data,\",\"nst\":null,\"dmin\":1.055,\"rms\":0.41,\"gap\":172,\"magType\":\"mb\",\"type\":\"earthquake\",\"title\":\"M 4.8 - 114km SSE of Raoul Island, New Zealand\"},\"geometry\":{\"type\":\"Point\",\"coordinates\":[-177.4446,-30.2163,10]},\"id\":\"us10006ulk\"},\\n{\"type\":\"Feature\",\"properties\":{\"mag\":4.5,\"place\":\"33km NW of Albardon, Argentina\",\"time\":1475469628970,\"updated\":1483477842040,\"tz\":-180,\"url\":\"https://earthquake.usgs.gov/earthquakes/eventpage/us10006uli\",\"detail\":\"https://earthquake.usgs.gov/fdsnws/event/1/query?eventid=us10006uli&format=geojson\",\"felt\":1,\"cdi\":2,\"mmi\":null,\"alert\":null,\"status\":\"reviewed\",\"tsunami\":0,\"sig\":312,\"net\":\"us\",\"code\":\"10006uli\",\"ids\":\",us10006uli,\",\"sources\":\",us,\",\"types\":\",cap,dyfi,geoserve,impact-text,origin,phase-data,\",\"nst\":null,\"dmin\":0.313,\"rms\":1.3,\"gap\":37,\"magType\":\"mb\",\"type\":\"earthquake\",\"title\":\"M 4.5 - 33km NW of Albardon, Argentina\"},\"geometry\":{\"type\":\"Point\",\"coordinates\":[-68.8068,-31.2491,102.59]},\"id\":\"us10006uli\"},\\n{\"type\":\"Feature\",\"properties\":{\"mag\":0.31,\"place\":\"3km E of Driggs, Idaho\",\"time\":1475469026390,\"updated\":1475504820840,\"tz\":-360,\"url\":\"https://earthquake.usgs.gov/earthquakes/eventpage/mb80177284\",\"detail\":\"https://earthquake.usgs.gov/fdsnws/event/1/query?eventid=mb80177284&format=geojson\",\"felt\":null,\"cdi\":null,\"mmi\":null,\"alert\":null,\"status\":\"reviewed\",\"tsunami\":0,\"sig\":1,\"net\":\"mb\",\"code\":\"80177284\",\"ids\":\",mb80177284,\",\"sources\":\",mb,\",\"types\":\",cap,general-link,geoserve,origin,phase-data,\",\"nst\":8,\"dmin\":0.088,\"rms\":0.13,\"gap\":192,\"magType\":\"ml\",\"type\":\"earthquake\",\"title\":\"M 0.3 - 3km E of Driggs, Idaho\"},\"geometry\":{\"type\":\"Point\",\"coordinates\":[-111.069,43.7208333,3.5]},\"id\":\"mb80177284\"},\\n{\"type\":\"Feature\",\"properties\":{\"mag\":1.1,\"place\":\"20km NW of Hawthorne, Nevada\",\"time\":1475468975636,\"updated\":1530554686351,\"tz\":-420,\"url\":\"https://earthquake.usgs.gov/earthquakes/eventpage/nn00562344\",\"detail\":\"https://earthquake.usgs.gov/fdsnws/event/1/query?eventid=nn00562344&format=geojson\",\"felt\":null,\"cdi\":null,\"mmi\":null,\"alert\":null,\"status\":\"reviewed\",\"tsunami\":0,\"sig\":19,\"net\":\"nn\",\"code\":\"00562344\",\"ids\":\",nn00562344,\",\"sources\":\",nn,\",\"types\":\",cap,geoserve,origin,phase-data,\",\"nst\":12,\"dmin\":0.214,\"rms\":0.0924,\"gap\":62.03,\"magType\":\"ml\",\"type\":\"earthquake\",\"title\":\"M 1.1 - 20km NW of Hawthorne, Nevada\"},\"geometry\":{\"type\":\"Point\",\"coordinates\":[-118.7928,38.6596,9.4]},\"id\":\"nn00562344\"},\\n{\"type\":\"Feature\",\"properties\":{\"mag\":-0.3,\"place\":\"36km N of Beatty, Nevada\",\"time\":1475468952111,\"updated\":1530554686977,\"tz\":-420,\"url\":\"https://earthquake.usgs.gov/earthquakes/eventpage/nn00562367\",\"detail\":\"https://earthquake.usgs.gov/fdsnws/event/1/query?eventid=nn00562367&format=geojson\",\"felt\":null,\"cdi\":null,\"mmi\":null,\"alert\":null,\"status\":\"reviewed\",\"tsunami\":0,\"sig\":0,\"net\":\"nn\",\"code\":\"00562367\",\"ids\":\",nn00562367,\",\"sources\":\",nn,\",\"types\":\",geoserve,origin,phase-data,\",\"nst\":4,\"dmin\":0.098,\"rms\":0.1384,\"gap\":231.86,\"magType\":\"ml\",\"type\":\"earthquake\",\"title\":\"M -0.3 - 36km N of Beatty, Nevada\"},\"geometry\":{\"type\":\"Point\",\"coordinates\":[-116.7399,37.2403,0]},\"id\":\"nn00562367\"},\\n{\"type\":\"Feature\",\"properties\":{\"mag\":0.43,\"place\":\"6km NW of The Geysers, California\",\"time\":1475468790590,\"updated\":1486779746762,\"tz\":-420,\"url\":\"https://earthquake.usgs.gov/earthquakes/eventpage/nc72706761\",\"detail\":\"https://earthquake.usgs.gov/fdsnws/event/1/query?eventid=nc72706761&format=geojson\",\"felt\":null,\"cdi\":null,\"mmi\":null,\"alert\":null,\"status\":\"automatic\",\"tsunami\":0,\"sig\":3,\"net\":\"nc\",\"code\":\"72706761\",\"ids\":\",nc72706761,\",\"sources\":\",nc,\",\"types\":\",geoserve,nearby-cities,origin,phase-data,\",\"nst\":8,\"dmin\":0.002703,\"rms\":0.02,\"gap\":130,\"magType\":\"md\",\"type\":\"earthquake\",\"title\":\"M 0.4 - 6km NW of The Geysers, California\"},\"geometry\":{\"type\":\"Point\",\"coordinates\":[-122.8108368,38.8209991,2.71]},\"id\":\"nc72706761\"},\\n{\"type\":\"Feature\",\"properties\":{\"mag\":0.1,\"place\":\"23km ESE of Hawthorne, Nevada\",\"time\":1475468730101,\"updated\":1530554686807,\"tz\":-420,\"url\":\"https://earthquake.usgs.gov/earthquakes/eventpage/nn00562365\",\"detail\":\"https://earthquake.usgs.gov/fdsnws/event/1/query?eventid=nn00562365&format=geojson\",\"felt\":null,\"cdi\":null,\"mmi\":null,\"alert\":null,\"status\":\"reviewed\",\"tsunami\":0,\"sig\":0,\"net\":\"nn\",\"code\":\"00562365\",\"ids\":\",nn00562365,\",\"sources\":\",nn,\",\"types\":\",cap,geoserve,origin,phase-data,\",\"nst\":5,\"dmin\":0.043,\"rms\":0.0726,\"gap\":139.57,\"magType\":\"ml\",\"type\":\"earthquake\",\"title\":\"M 0.1 - 23km ESE of Hawthorne, Nevada\"},\"geometry\":{\"type\":\"Point\",\"coordinates\":[-118.3695,38.4702,4.9]},\"id\":\"nn00562365\"},\\n{\"type\":\"Feature\",\"properties\":{\"mag\":1.56,\"place\":\"19km NNE of Nice, California\",\"time\":1475468504030,\"updated\":1486779741217,\"tz\":-420,\"url\":\"https://earthquake.usgs.gov/earthquakes/eventpage/nc72706756\",\"detail\":\"https://earthquake.usgs.gov/fdsnws/event/1/query?eventid=nc72706756&format=geojson\",\"felt\":null,\"cdi\":null,\"mmi\":null,\"alert\":null,\"status\":\"reviewed\",\"tsunami\":0,\"sig\":37,\"net\":\"nc\",\"code\":\"72706756\",\"ids\":\",nc72706756,\",\"sources\":\",nc,\",\"types\":\",cap,geoserve,nearby-cities,origin,phase-data,\",\"nst\":9,\"dmin\":0.1649,\"rms\":0.04,\"gap\":225,\"magType\":\"md\",\"type\":\"earthquake\",\"title\":\"M 1.6 - 19km NNE of Nice, California\"},\"geometry\":{\"type\":\"Point\",\"coordinates\":[-122.7245,39.2731667,12.32]},\"id\":\"nc72706756\"},\\n{\"type\":\"Feature\",\"properties\":{\"mag\":0.81,\"place\":\"4km NW of The Geysers, California\",\"time\":1475468480910,\"updated\":1486779735937,\"tz\":-420,\"url\":\"https://earthquake.usgs.gov/earthquakes/eventpage/nc72706751\",\"detail\":\"https://earthquake.usgs.gov/fdsnws/event/1/query?eventid=nc72706751&format=geojson\",\"felt\":null,\"cdi\":null,\"mmi\":null,\"alert\":null,\"status\":\"automatic\",\"tsunami\":0,\"sig\":10,\"net\":\"nc\",\"code\":\"72706751\",\"ids\":\",nc72706751,\",\"sources\":\",nc,\",\"types\":\",geoserve,nearby-cities,origin,phase-data,\",\"nst\":16,\"dmin\":0.01171,\"rms\":0.05,\"gap\":78,\"magType\":\"md\",\"type\":\"earthquake\",\"title\":\"M 0.8 - 4km NW of The Geysers, California\"},\"geometry\":{\"type\":\"Point\",\"coordinates\":[-122.7941666,38.8078346,3]},\"id\":\"nc72706751\"},\\n{\"type\":\"Feature\",\"properties\":{\"mag\":1,\"place\":\"33km W of Anchorage, Alaska\",\"time\":1475468315715,\"updated\":1558430228761,\"tz\":-480,\"url\":\"https://earthquake.usgs.gov/earthquakes/eventpage/ak016cq6csur\",\"detail\":\"https://earthquake.usgs.gov/fdsnws/event/1/query?eventid=ak016cq6csur&format=geojson\",\"felt\":null,\"cdi\":null,\"mmi\":null,\"alert\":null,\"status\":\"reviewed\",\"tsunami\":0,\"sig\":15,\"net\":\"ak\",\"code\":\"016cq6csur\",\"ids\":\",ak14149145,ak016cq6csur,\",\"sources\":\",ak,ak,\",\"types\":\",associate,geoserve,origin,phase-data,\",\"nst\":null,\"dmin\":null,\"rms\":0.34,\"gap\":null,\"magType\":\"ml\",\"type\":\"earthquake\",\"title\":\"M 1.0 - 33km W of Anchorage, Alaska\"},\"geometry\":{\"type\":\"Point\",\"coordinates\":[-150.5194,61.2463,49.5]},\"id\":\"ak016cq6csur\"},\\n{\"type\":\"Feature\",\"properties\":{\"mag\":2.01,\"place\":\"6km NW of The Geysers, California\",\"time\":1475468221940,\"updated\":1486779729280,\"tz\":-420,\"url\":\"https://earthquake.usgs.gov/earthquakes/eventpage/nc72706746\",\"detail\":\"https://earthquake.usgs.gov/fdsnws/event/1/query?eventid=nc72706746&format=geojson\",\"felt\":null,\"cdi\":null,\"mmi\":null,\"alert\":null,\"status\":\"reviewed\",\"tsunami\":0,\"sig\":62,\"net\":\"nc\",\"code\":\"72706746\",\"ids\":\",nc72706746,\",\"sources\":\",nc,\",\"types\":\",cap,focal-mechanism,geoserve,nearby-cities,origin,phase-data,scitech-link,\",\"nst\":51,\"dmin\":0.006306,\"rms\":0.07,\"gap\":40,\"magType\":\"md\",\"type\":\"earthquake\",\"title\":\"M 2.0 - 6km NW of The Geysers, California\"},\"geometry\":{\"type\":\"Point\",\"coordinates\":[-122.8141667,38.8183333,2.72]},\"id\":\"nc72706746\"},\\n{\"type\":\"Feature\",\"properties\":{\"mag\":1.4,\"place\":\"115km ESE of Yakutat, Alaska\",\"time\":1475468112629,\"updated\":1560794140336,\"tz\":-480,\"url\":\"https://earthquake.usgs.gov/earthquakes/eventpage/ak016cq6c3xa\",\"detail\":\"https://earthquake.usgs.gov/fdsnws/event/1/query?eventid=ak016cq6c3xa&format=geojson\",\"felt\":null,\"cdi\":null,\"mmi\":null,\"alert\":null,\"status\":\"reviewed\",\"tsunami\":0,\"sig\":30,\"net\":\"ak\",\"code\":\"016cq6c3xa\",\"ids\":\",ak14190000,ak016cq6c3xa,\",\"sources\":\",ak,ak,\",\"types\":\",associate,geoserve,origin,phase-data,\",\"nst\":null,\"dmin\":null,\"rms\":0.33,\"gap\":null,\"magType\":\"ml\",\"type\":\"earthquake\",\"title\":\"M 1.4 - 115km ESE of Yakutat, Alaska\"},\"geometry\":{\"type\":\"Point\",\"coordinates\":[-137.86,59.144,17.9]},\"id\":\"ak016cq6c3xa\"},\\n{\"type\":\"Feature\",\"properties\":{\"mag\":1.66,\"place\":\"3km WSW of Borrego Springs, CA\",\"time\":1475468108970,\"updated\":1475501841800,\"tz\":-420,\"url\":\"https://earthquake.usgs.gov/earthquakes/eventpage/ci37708928\",\"detail\":\"https://earthquake.usgs.gov/fdsnws/event/1/query?eventid=ci37708928&format=geojson\",\"felt\":null,\"cdi\":null,\"mmi\":null,\"alert\":null,\"status\":\"reviewed\",\"tsunami\":0,\"sig\":42,\"net\":\"ci\",\"code\":\"37708928\",\"ids\":\",ci37708928,\",\"sources\":\",ci,\",\"types\":\",cap,focal-mechanism,general-link,geoserve,nearby-cities,origin,phase-data,scitech-link,\",\"nst\":50,\"dmin\":0.02177,\"rms\":0.18,\"gap\":66,\"magType\":\"ml\",\"type\":\"earthquake\",\"title\":\"M 1.7 - 3km WSW of Borrego Springs, CA\"},\"geometry\":{\"type\":\"Point\",\"coordinates\":[-116.4083333,33.2476667,4.63]},\"id\":\"ci37708928\"},\\n{\"type\":\"Feature\",\"properties\":{\"mag\":1.4,\"place\":\"117km ESE of Yakutat, Alaska\",\"time\":1475467865505,\"updated\":1560794139903,\"tz\":-480,\"url\":\"https://earthquake.usgs.gov/earthquakes/eventpage/ak016cq6b8ie\",\"detail\":\"https://earthquake.usgs.gov/fdsnws/event/1/query?eventid=ak016cq6b8ie&format=geojson\",\"felt\":null,\"cdi\":null,\"mmi\":null,\"alert\":null,\"status\":\"reviewed\",\"tsunami\":0,\"sig\":30,\"net\":\"ak\",\"code\":\"016cq6b8ie\",\"ids\":\",ak14189999,ak016cq6b8ie,\",\"sources\":\",ak,ak,\",\"types\":\",associate,geoserve,origin,phase-data,\",\"nst\":null,\"dmin\":null,\"rms\":0.36,\"gap\":null,\"magType\":\"ml\",\"type\":\"earthquake\",\"title\":\"M 1.4 - 117km ESE of Yakutat, Alaska\"},\"geometry\":{\"type\":\"Point\",\"coordinates\":[-137.84,59.1283,20]},\"id\":\"ak016cq6b8ie\"},\\n{\"type\":\"Feature\",\"properties\":{\"mag\":0.44,\"place\":\"14km SE of Mammoth Lakes, California\",\"time\":1475467486040,\"updated\":1486779719446,\"tz\":-420,\"url\":\"https://earthquake.usgs.gov/earthquakes/eventpage/nc72706726\",\"detail\":\"https://earthquake.usgs.gov/fdsnws/event/1/query?eventid=nc72706726&format=geojson\",\"felt\":null,\"cdi\":null,\"mmi\":null,\"alert\":null,\"status\":\"reviewed\",\"tsunami\":0,\"sig\":3,\"net\":\"nc\",\"code\":\"72706726\",\"ids\":\",nc72706726,\",\"sources\":\",nc,\",\"types\":\",cap,geoserve,nearby-cities,origin,phase-data,\",\"nst\":11,\"dmin\":0.04775,\"rms\":0.07,\"gap\":258,\"magType\":\"md\",\"type\":\"earthquake\",\"title\":\"M 0.4 - 14km SE of Mammoth Lakes, California\"},\"geometry\":{\"type\":\"Point\",\"coordinates\":[-118.8595,37.5485,6.09]},\"id\":\"nc72706726\"},\\n{\"type\":\"Feature\",\"properties\":{\"mag\":2.1,\"place\":\"95km SSE of King Salmon, Alaska\",\"time\":1475467481815,\"updated\":1560794139490,\"tz\":-480,\"url\":\"https://earthquake.usgs.gov/earthquakes/eventpage/ak016cq69tat\",\"detail\":\"https://earthquake.usgs.gov/fdsnws/event/1/query?eventid=ak016cq69tat&format=geojson\",\"felt\":null,\"cdi\":null,\"mmi\":null,\"alert\":null,\"status\":\"reviewed\",\"tsunami\":0,\"sig\":68,\"net\":\"ak\",\"code\":\"016cq69tat\",\"ids\":\",ak14189998,ak016cq69tat,\",\"sources\":\",ak,ak,\",\"types\":\",associate,geoserve,origin,phase-data,\",\"nst\":null,\"dmin\":null,\"rms\":0.36,\"gap\":null,\"magType\":\"ml\",\"type\":\"earthquake\",\"title\":\"M 2.1 - 95km SSE of King Salmon, Alaska\"},\"geometry\":{\"type\":\"Point\",\"coordinates\":[-156.2912,57.8545,125.6]},\"id\":\"ak016cq69tat\"},\\n{\"type\":\"Feature\",\"properties\":{\"mag\":4,\"place\":\"70km NNW of Colchani, Bolivia\",\"time\":1475467458230,\"updated\":1483477842040,\"tz\":-240,\"url\":\"https://earthquake.usgs.gov/earthquakes/eventpage/us10006ulf\",\"detail\":\"https://earthquake.usgs.gov/fdsnws/event/1/query?eventid=us10006ulf&format=geojson\",\"felt\":null,\"cdi\":null,\"mmi\":null,\"alert\":null,\"status\":\"reviewed\",\"tsunami\":0,\"sig\":246,\"net\":\"us\",\"code\":\"10006ulf\",\"ids\":\",us10006ulf,\",\"sources\":\",us,\",\"types\":\",geoserve,origin,phase-data,\",\"nst\":null,\"dmin\":1.884,\"rms\":0.53,\"gap\":59,\"magType\":\"mb\",\"type\":\"earthquake\",\"title\":\"M 4.0 - 70km NNW of Colchani, Bolivia\"},\"geometry\":{\"type\":\"Point\",\"coordinates\":[-67.1949,-19.7149,267.47]},\"id\":\"us10006ulf\"},\\n{\"type\":\"Feature\",\"properties\":{\"mag\":0.18,\"place\":\"9km NW of The Geysers, California\",\"time\":1475467082130,\"updated\":1486779713764,\"tz\":-420,\"url\":\"https://earthquake.usgs.gov/earthquakes/eventpage/nc72706716\",\"detail\":\"https://earthquake.usgs.gov/fdsnws/event/1/query?eventid=nc72706716&format=geojson\",\"felt\":null,\"cdi\":null,\"mmi\":null,\"alert\":null,\"status\":\"automatic\",\"tsunami\":0,\"sig\":0,\"net\":\"nc\",\"code\":\"72706716\",\"ids\":\",nc72706716,\",\"sources\":\",nc,\",\"types\":\",geoserve,nearby-cities,origin,phase-data,\",\"nst\":8,\"dmin\":0.003604,\"rms\":0.02,\"gap\":166,\"magType\":\"md\",\"type\":\"earthquake\",\"title\":\"M 0.2 - 9km NW of The Geysers, California\"},\"geometry\":{\"type\":\"Point\",\"coordinates\":[-122.8398361,38.8390007,1.81]},\"id\":\"nc72706716\"},\\n{\"type\":\"Feature\",\"properties\":{\"mag\":1,\"place\":\"104km NNW of Larsen Bay, Alaska\",\"time\":1475466940219,\"updated\":1560794138797,\"tz\":-480,\"url\":\"https://earthquake.usgs.gov/earthquakes/eventpage/ak016cq5zb39\",\"detail\":\"https://earthquake.usgs.gov/fdsnws/event/1/query?eventid=ak016cq5zb39&format=geojson\",\"felt\":null,\"cdi\":null,\"mmi\":null,\"alert\":null,\"status\":\"reviewed\",\"tsunami\":0,\"sig\":15,\"net\":\"ak\",\"code\":\"016cq5zb39\",\"ids\":\",ak14189997,ak016cq5zb39,\",\"sources\":\",ak,ak,\",\"types\":\",associate,geoserve,origin,phase-data,\",\"nst\":null,\"dmin\":null,\"rms\":0.42,\"gap\":null,\"magType\":\"ml\",\"type\":\"earthquake\",\"title\":\"M 1.0 - 104km NNW of Larsen Bay, Alaska\"},\"geometry\":{\"type\":\"Point\",\"coordinates\":[-154.921,58.3351,2.9]},\"id\":\"ak016cq5zb39\"},\\n{\"type\":\"Feature\",\"properties\":{\"mag\":0.3,\"place\":\"32km N of Beatty, Nevada\",\"time\":1475466330509,\"updated\":1530554686247,\"tz\":-420,\"url\":\"https://earthquake.usgs.gov/earthquakes/eventpage/nn00562343\",\"detail\":\"https://earthquake.usgs.gov/fdsnws/event/1/query?eventid=nn00562343&format=geojson\",\"felt\":null,\"cdi\":null,\"mmi\":null,\"alert\":null,\"status\":\"reviewed\",\"tsunami\":0,\"sig\":1,\"net\":\"nn\",\"code\":\"00562343\",\"ids\":\",nn00562343,\",\"sources\":\",nn,\",\"types\":\",cap,geoserve,origin,phase-data,\",\"nst\":12,\"dmin\":0.063,\"rms\":0.2408,\"gap\":203.61,\"magType\":\"ml\",\"type\":\"earthquake\",\"title\":\"M 0.3 - 32km N of Beatty, Nevada\"},\"geometry\":{\"type\":\"Point\",\"coordinates\":[-116.7406,37.2053,6.7]},\"id\":\"nn00562343\"},\\n{\"type\":\"Feature\",\"properties\":{\"mag\":0.86,\"place\":\"7km W of Cobb, California\",\"time\":1475465783710,\"updated\":1486779707821,\"tz\":-420,\"url\":\"https://earthquake.usgs.gov/earthquakes/eventpage/nc72706711\",\"detail\":\"https://earthquake.usgs.gov/fdsnws/event/1/query?eventid=nc72706711&format=geojson\",\"felt\":null,\"cdi\":null,\"mmi\":null,\"alert\":null,\"status\":\"automatic\",\"tsunami\":0,\"sig\":11,\"net\":\"nc\",\"code\":\"72706711\",\"ids\":\",nc72706711,\",\"sources\":\",nc,\",\"types\":\",geoserve,nearby-cities,origin,phase-data,\",\"nst\":13,\"dmin\":0.002703,\"rms\":0.03,\"gap\":66,\"magType\":\"md\",\"type\":\"earthquake\",\"title\":\"M 0.9 - 7km W of Cobb, California\"},\"geometry\":{\"type\":\"Point\",\"coordinates\":[-122.8106689,38.8263321,1.15]},\"id\":\"nc72706711\"},\\n{\"type\":\"Feature\",\"properties\":{\"mag\":1.2,\"place\":\"4km WSW of Tanaina, Alaska\",\"time\":1475465759941,\"updated\":1560794138369,\"tz\":-480,\"url\":\"https://earthquake.usgs.gov/earthquakes/eventpage/ak016cq5v2ai\",\"detail\":\"https://earthquake.usgs.gov/fdsnws/event/1/query?eventid=ak016cq5v2ai&format=geojson\",\"felt\":null,\"cdi\":null,\"mmi\":null,\"alert\":null,\"status\":\"reviewed\",\"tsunami\":0,\"sig\":22,\"net\":\"ak\",\"code\":\"016cq5v2ai\",\"ids\":\",ak14149143,ak016cq5v2ai,\",\"sources\":\",ak,ak,\",\"types\":\",associate,geoserve,origin,phase-data,\",\"nst\":null,\"dmin\":null,\"rms\":0.32,\"gap\":null,\"magType\":\"ml\",\"type\":\"earthquake\",\"title\":\"M 1.2 - 4km WSW of Tanaina, Alaska\"},\"geometry\":{\"type\":\"Point\",\"coordinates\":[-149.5065,61.6133,35.2]},\"id\":\"ak016cq5v2ai\"},\\n{\"type\":\"Feature\",\"properties\":{\"mag\":0.7,\"place\":\"49km ESE of Healy, Alaska\",\"time\":1475465569858,\"updated\":1560794137947,\"tz\":-480,\"url\":\"https://earthquake.usgs.gov/earthquakes/eventpage/ak016cq5ued5\",\"detail\":\"https://earthquake.usgs.gov/fdsnws/event/1/query?eventid=ak016cq5ued5&format=geojson\",\"felt\":null,\"cdi\":null,\"mmi\":null,\"alert\":null,\"status\":\"reviewed\",\"tsunami\":0,\"sig\":8,\"net\":\"ak\",\"code\":\"016cq5ued5\",\"ids\":\",ak14149142,ak016cq5ued5,\",\"sources\":\",ak,ak,\",\"types\":\",associate,geoserve,origin,phase-data,\",\"nst\":null,\"dmin\":null,\"rms\":0.49,\"gap\":null,\"magType\":\"ml\",\"type\":\"earthquake\",\"title\":\"M 0.7 - 49km ESE of Healy, Alaska\"},\"geometry\":{\"type\":\"Point\",\"coordinates\":[-147.9978,63.7545,4.6]},\"id\":\"ak016cq5ued5\"},\\n{\"type\":\"Feature\",\"properties\":{\"mag\":4.6,\"place\":\"58km W of Ishigaki, Japan\",\"time\":1475465040610,\"updated\":1483477842040,\"tz\":480,\"url\":\"https://earthquake.usgs.gov/earthquakes/eventpage/us20007dnc\",\"detail\":\"https://earthquake.usgs.gov/fdsnws/event/1/query?eventid=us20007dnc&format=geojson\",\"felt\":null,\"cdi\":null,\"mmi\":null,\"alert\":null,\"status\":\"reviewed\",\"tsunami\":0,\"sig\":326,\"net\":\"us\",\"code\":\"20007dnc\",\"ids\":\",us20007dnc,\",\"sources\":\",us,\",\"types\":\",geoserve,impact-text,origin,phase-data,\",\"nst\":null,\"dmin\":0.562,\"rms\":0.53,\"gap\":109,\"magType\":\"mb\",\"type\":\"earthquake\",\"title\":\"M 4.6 - 58km W of Ishigaki, Japan\"},\"geometry\":{\"type\":\"Point\",\"coordinates\":[123.587,24.2648,18.17]},\"id\":\"us20007dnc\"},\\n{\"type\":\"Feature\",\"properties\":{\"mag\":1.3,\"place\":\"26km WNW of Goldfield, Nevada\",\"time\":1475464511810,\"updated\":1530554686024,\"tz\":-420,\"url\":\"https://earthquake.usgs.gov/earthquakes/eventpage/nn00562342\",\"detail\":\"https://earthquake.usgs.gov/fdsnws/event/1/query?eventid=nn00562342&format=geojson\",\"felt\":null,\"cdi\":null,\"mmi\":null,\"alert\":null,\"status\":\"reviewed\",\"tsunami\":0,\"sig\":26,\"net\":\"nn\",\"code\":\"00562342\",\"ids\":\",nn00562342,\",\"sources\":\",nn,\",\"types\":\",cap,geoserve,origin,phase-data,\",\"nst\":14,\"dmin\":0.149,\"rms\":0.1708,\"gap\":93.34,\"magType\":\"ml\",\"type\":\"earthquake\",\"title\":\"M 1.3 - 26km WNW of Goldfield, Nevada\"},\"geometry\":{\"type\":\"Point\",\"coordinates\":[-117.5075,37.813,5.4]},\"id\":\"nn00562342\"},\\n{\"type\":\"Feature\",\"properties\":{\"mag\":2.2,\"place\":\"58km SSE of Nikolski, Alaska\",\"time\":1475464343054,\"updated\":1560794137418,\"tz\":-660,\"url\":\"https://earthquake.usgs.gov/earthquakes/eventpage/ak016cq5q1z5\",\"detail\":\"https://earthquake.usgs.gov/fdsnws/event/1/query?eventid=ak016cq5q1z5&format=geojson\",\"felt\":null,\"cdi\":null,\"mmi\":null,\"alert\":null,\"status\":\"reviewed\",\"tsunami\":0,\"sig\":74,\"net\":\"ak\",\"code\":\"016cq5q1z5\",\"ids\":\",ak14189993,ak016cq5q1z5,\",\"sources\":\",ak,ak,\",\"types\":\",associate,geoserve,origin,phase-data,\",\"nst\":null,\"dmin\":null,\"rms\":0.31,\"gap\":null,\"magType\":\"ml\",\"type\":\"earthquake\",\"title\":\"M 2.2 - 58km SSE of Nikolski, Alaska\"},\"geometry\":{\"type\":\"Point\",\"coordinates\":[-168.4678,52.47,34.4]},\"id\":\"ak016cq5q1z5\"},\\n{\"type\":\"Feature\",\"properties\":{\"mag\":0.79,\"place\":\"8km ESE of Valle Vista, CA\",\"time\":1475464092010,\"updated\":1475501849540,\"tz\":-420,\"url\":\"https://earthquake.usgs.gov/earthquakes/eventpage/ci37708896\",\"detail\":\"https://earthquake.usgs.gov/fdsnws/event/1/query?eventid=ci37708896&format=geojson\",\"felt\":null,\"cdi\":null,\"mmi\":null,\"alert\":null,\"status\":\"reviewed\",\"tsunami\":0,\"sig\":10,\"net\":\"ci\",\"code\":\"37708896\",\"ids\":\",ci37708896,\",\"sources\":\",ci,\",\"types\":\",cap,focal-mechanism,general-link,geoserve,nearby-cities,origin,phase-data,scitech-link,\",\"nst\":31,\"dmin\":0.08915,\"rms\":0.17,\"gap\":47,\"magType\":\"ml\",\"type\":\"earthquake\",\"title\":\"M 0.8 - 8km ESE of Valle Vista, CA\"},\"geometry\":{\"type\":\"Point\",\"coordinates\":[-116.8208333,33.7176667,2.03]},\"id\":\"ci37708896\"},\\n{\"type\":\"Feature\",\"properties\":{\"mag\":1.69,\"place\":\"7km NNE of Banning, CA\",\"time\":1475464050350,\"updated\":1475501812770,\"tz\":-420,\"url\":\"https://earthquake.usgs.gov/earthquakes/eventpage/ci37708888\",\"detail\":\"https://earthquake.usgs.gov/fdsnws/event/1/query?eventid=ci37708888&format=geojson\",\"felt\":null,\"cdi\":null,\"mmi\":null,\"alert\":null,\"status\":\"reviewed\",\"tsunami\":0,\"sig\":44,\"net\":\"ci\",\"code\":\"37708888\",\"ids\":\",ci37708888,\",\"sources\":\",ci,\",\"types\":\",cap,general-link,geoserve,nearby-cities,origin,phase-data,scitech-link,\",\"nst\":64,\"dmin\":0.06419,\"rms\":0.18,\"gap\":24,\"magType\":\"ml\",\"type\":\"earthquake\",\"title\":\"M 1.7 - 7km NNE of Banning, CA\"},\"geometry\":{\"type\":\"Point\",\"coordinates\":[-116.8595,33.9873333,13.65]},\"id\":\"ci37708888\"},\\n{\"type\":\"Feature\",\"properties\":{\"mag\":1.1,\"place\":\"39km E of Hawthorne, Nevada\",\"time\":1475463590469,\"updated\":1530554685932,\"tz\":-420,\"url\":\"https://earthquake.usgs.gov/earthquakes/eventpage/nn00562340\",\"detail\":\"https://earthquake.usgs.gov/fdsnws/event/1/query?eventid=nn00562340&format=geojson\",\"felt\":null,\"cdi\":null,\"mmi\":null,\"alert\":null,\"status\":\"reviewed\",\"tsunami\":0,\"sig\":19,\"net\":\"nn\",\"code\":\"00562340\",\"ids\":\",nn00562340,\",\"sources\":\",nn,\",\"types\":\",cap,geoserve,origin,phase-data,\",\"nst\":9,\"dmin\":0.039,\"rms\":0.126,\"gap\":102.53,\"magType\":\"ml\",\"type\":\"earthquake\",\"title\":\"M 1.1 - 39km E of Hawthorne, Nevada\"},\"geometry\":{\"type\":\"Point\",\"coordinates\":[-118.1722,38.4697,7.7]},\"id\":\"nn00562340\"},\\n{\"type\":\"Feature\",\"properties\":{\"mag\":4.6,\"place\":\"137km S of Ngulung Wetan, Indonesia\",\"time\":1475463250190,\"updated\":1483477842040,\"tz\":420,\"url\":\"https://earthquake.usgs.gov/earthquakes/eventpage/us10006ulc\",\"detail\":\"https://earthquake.usgs.gov/fdsnws/event/1/query?eventid=us10006ulc&format=geojson\",\"felt\":null,\"cdi\":null,\"mmi\":null,\"alert\":null,\"status\":\"reviewed\",\"tsunami\":0,\"sig\":326,\"net\":\"us\",\"code\":\"10006ulc\",\"ids\":\",us10006ulc,\",\"sources\":\",us,\",\"types\":\",cap,geoserve,origin,phase-data,\",\"nst\":null,\"dmin\":1.982,\"rms\":0.96,\"gap\":92,\"magType\":\"mb\",\"type\":\"earthquake\",\"title\":\"M 4.6 - 137km S of Ngulung Wetan, Indonesia\"},\"geometry\":{\"type\":\"Point\",\"coordinates\":[111.7207,-9.5129,35]},\"id\":\"us10006ulc\"},\\n{\"type\":\"Feature\",\"properties\":{\"mag\":0.56,\"place\":\"Northern California\",\"time\":1475463179840,\"updated\":1486779701877,\"tz\":null,\"url\":\"https://earthquake.usgs.gov/earthquakes/eventpage/nc72706686\",\"detail\":\"https://earthquake.usgs.gov/fdsnws/event/1/query?eventid=nc72706686&format=geojson\",\"felt\":null,\"cdi\":null,\"mmi\":null,\"alert\":null,\"status\":\"automatic\",\"tsunami\":0,\"sig\":5,\"net\":\"nc\",\"code\":\"72706686\",\"ids\":\",nc72706686,\",\"sources\":\",nc,\",\"types\":\",nearby-cities,origin,phase-data,\",\"nst\":5,\"dmin\":0.01081,\"rms\":0.01,\"gap\":108,\"magType\":\"md\",\"type\":\"earthquake\",\"title\":\"M 0.6 - Northern California\"},\"geometry\":{\"type\":\"Point\",\"coordinates\":[-122.7871704,38.8361664,0.9]},\"id\":\"nc72706686\"},\\n{\"type\":\"Feature\",\"properties\":{\"mag\":1.2,\"place\":\"54km ENE of Cape Yakataga, Alaska\",\"time\":1475463090131,\"updated\":1560794136991,\"tz\":-480,\"url\":\"https://earthquake.usgs.gov/earthquakes/eventpage/ak016cq5czud\",\"detail\":\"https://earthquake.usgs.gov/fdsnws/event/1/query?eventid=ak016cq5czud&format=geojson\",\"felt\":null,\"cdi\":null,\"mmi\":null,\"alert\":null,\"status\":\"reviewed\",\"tsunami\":0,\"sig\":22,\"net\":\"ak\",\"code\":\"016cq5czud\",\"ids\":\",ak14148003,ak016cq5czud,\",\"sources\":\",ak,ak,\",\"types\":\",associate,geoserve,origin,phase-data,\",\"nst\":null,\"dmin\":null,\"rms\":0.71,\"gap\":null,\"magType\":\"ml\",\"type\":\"ice quake\",\"title\":\"M 1.2 Ice Quake - 54km ENE of Cape Yakataga, Alaska\"},\"geometry\":{\"type\":\"Point\",\"coordinates\":[-141.4772,60.1919,0]},\"id\":\"ak016cq5czud\"},\\n{\"type\":\"Feature\",\"properties\":{\"mag\":1.7,\"place\":\"61km ENE of Cape Yakataga, Alaska\",\"time\":1475462833501,\"updated\":1560794136593,\"tz\":-480,\"url\":\"https://earthquake.usgs.gov/earthquakes/eventpage/ak016cq5c3p2\",\"detail\":\"https://earthquake.usgs.gov/fdsnws/event/1/query?eventid=ak016cq5c3p2&format=geojson\",\"felt\":null,\"cdi\":null,\"mmi\":null,\"alert\":null,\"status\":\"reviewed\",\"tsunami\":0,\"sig\":44,\"net\":\"ak\",\"code\":\"016cq5c3p2\",\"ids\":\",ak14147999,ak016cq5c3p2,\",\"sources\":\",ak,ak,\",\"types\":\",associate,geoserve,origin,phase-data,\",\"nst\":null,\"dmin\":null,\"rms\":0.69,\"gap\":null,\"magType\":\"ml\",\"type\":\"ice quake\",\"title\":\"M 1.7 Ice Quake - 61km ENE of Cape Yakataga, Alaska\"},\"geometry\":{\"type\":\"Point\",\"coordinates\":[-141.3651,60.2036,0]},\"id\":\"ak016cq5c3p2\"},\\n{\"type\":\"Feature\",\"properties\":{\"mag\":1.27,\"place\":\"6km NW of The Geysers, California\",\"time\":1475462825590,\"updated\":1486779695900,\"tz\":-420,\"url\":\"https://earthquake.usgs.gov/earthquakes/eventpage/nc72706681\",\"detail\":\"https://earthquake.usgs.gov/fdsnws/event/1/query?eventid=nc72706681&format=geojson\",\"felt\":null,\"cdi\":null,\"mmi\":null,\"alert\":null,\"status\":\"reviewed\",\"tsunami\":0,\"sig\":25,\"net\":\"nc\",\"code\":\"72706681\",\"ids\":\",nc72706681,\",\"sources\":\",nc,\",\"types\":\",cap,geoserve,nearby-cities,origin,phase-data,\",\"nst\":39,\"dmin\":0.01081,\"rms\":0.04,\"gap\":48,\"magType\":\"md\",\"type\":\"earthquake\",\"title\":\"M 1.3 - 6km NW of The Geysers, California\"},\"geometry\":{\"type\":\"Point\",\"coordinates\":[-122.8163333,38.8138333,2.58]},\"id\":\"nc72706681\"},\\n{\"type\":\"Feature\",\"properties\":{\"mag\":2.9,\"place\":\"106km SSE of Yunaska Island, Alaska\",\"time\":1475462821000,\"updated\":1560794136178,\"tz\":-660,\"url\":\"https://earthquake.usgs.gov/earthquakes/eventpage/us20007cq0\",\"detail\":\"https://earthquake.usgs.gov/fdsnws/event/1/query?eventid=us20007cq0&format=geojson\",\"felt\":null,\"cdi\":null,\"mmi\":null,\"alert\":null,\"status\":\"reviewed\",\"tsunami\":0,\"sig\":129,\"net\":\"us\",\"code\":\"20007cq0\",\"ids\":\",ak14189990,us20007cq0,ak016cq5c2qg,\",\"sources\":\",ak,us,ak,\",\"types\":\",associate,geoserve,origin,phase-data,\",\"nst\":null,\"dmin\":null,\"rms\":0.64,\"gap\":null,\"magType\":\"ml\",\"type\":\"earthquake\",\"title\":\"M 2.9 - 106km SSE of Yunaska Island, Alaska\"},\"geometry\":{\"type\":\"Point\",\"coordinates\":[-170.2063,51.7236,24.1]},\"id\":\"us20007cq0\"},\\n{\"type\":\"Feature\",\"properties\":{\"mag\":0.56,\"place\":\"22km SW of Avenal, California\",\"time\":1475462666430,\"updated\":1486779689835,\"tz\":-420,\"url\":\"https://earthquake.usgs.gov/earthquakes/eventpage/nc72706671\",\"detail\":\"https://earthquake.usgs.gov/fdsnws/event/1/query?eventid=nc72706671&format=geojson\",\"felt\":null,\"cdi\":null,\"mmi\":null,\"alert\":null,\"status\":\"reviewed\",\"tsunami\":0,\"sig\":5,\"net\":\"nc\",\"code\":\"72706671\",\"ids\":\",nc72706671,\",\"sources\":\",nc,\",\"types\":\",cap,geoserve,nearby-cities,origin,phase-data,\",\"nst\":24,\"dmin\":0.03243,\"rms\":0.06,\"gap\":120,\"magType\":\"md\",\"type\":\"earthquake\",\"title\":\"M 0.6 - 22km SW of Avenal, California\"},\"geometry\":{\"type\":\"Point\",\"coordinates\":[-120.3188333,35.8663333,4.87]},\"id\":\"nc72706671\"},\\n{\"type\":\"Feature\",\"properties\":{\"mag\":1.1,\"place\":\"60km ENE of Cape Yakataga, Alaska\",\"time\":1475462599996,\"updated\":1560794135761,\"tz\":-480,\"url\":\"https://earthquake.usgs.gov/earthquakes/eventpage/ak016cq5b9bz\",\"detail\":\"https://earthquake.usgs.gov/fdsnws/event/1/query?eventid=ak016cq5b9bz&format=geojson\",\"felt\":null,\"cdi\":null,\"mmi\":null,\"alert\":null,\"status\":\"reviewed\",\"tsunami\":0,\"sig\":19,\"net\":\"ak\",\"code\":\"016cq5b9bz\",\"ids\":\",ak14147998,ak016cq5b9bz,\",\"sources\":\",ak,ak,\",\"types\":\",associate,geoserve,origin,phase-data,\",\"nst\":null,\"dmin\":null,\"rms\":0.55,\"gap\":null,\"magType\":\"ml\",\"type\":\"ice quake\",\"title\":\"M 1.1 Ice Quake - 60km ENE of Cape Yakataga, Alaska\"},\"geometry\":{\"type\":\"Point\",\"coordinates\":[-141.4088,60.26,0]},\"id\":\"ak016cq5b9bz\"},\\n{\"type\":\"Feature\",\"properties\":{\"mag\":4.3,\"place\":\"125km ESE of Sarangani, Philippines\",\"time\":1475462461550,\"updated\":1483477842040,\"tz\":480,\"url\":\"https://earthquake.usgs.gov/earthquakes/eventpage/us20007dna\",\"detail\":\"https://earthquake.usgs.gov/fdsnws/event/1/query?eventid=us20007dna&format=geojson\",\"felt\":null,\"cdi\":null,\"mmi\":null,\"alert\":null,\"status\":\"reviewed\",\"tsunami\":0,\"sig\":284,\"net\":\"us\",\"code\":\"20007dna\",\"ids\":\",us20007dna,\",\"sources\":\",us,\",\"types\":\",geoserve,origin,phase-data,\",\"nst\":null,\"dmin\":2.307,\"rms\":0.85,\"gap\":109,\"magType\":\"mb\",\"type\":\"earthquake\",\"title\":\"M 4.3 - 125km ESE of Sarangani, Philippines\"},\"geometry\":{\"type\":\"Point\",\"coordinates\":[126.4899,4.9332,80.47]},\"id\":\"us20007dna\"},\\n{\"type\":\"Feature\",\"properties\":{\"mag\":4.5,\"place\":\"14km S of Ayios Nikolaos, Greece\",\"time\":1475462082610,\"updated\":1483477842040,\"tz\":180,\"url\":\"https://earthquake.usgs.gov/earthquakes/eventpage/us10006ul9\",\"detail\":\"https://earthquake.usgs.gov/fdsnws/event/1/query?eventid=us10006ul9&format=geojson\",\"felt\":30,\"cdi\":4.1,\"mmi\":null,\"alert\":null,\"status\":\"reviewed\",\"tsunami\":0,\"sig\":324,\"net\":\"us\",\"code\":\"10006ul9\",\"ids\":\",us10006ul9,\",\"sources\":\",us,\",\"types\":\",cap,dyfi,geoserve,impact-text,moment-tensor,origin,phase-data,\",\"nst\":null,\"dmin\":0.825,\"rms\":0.72,\"gap\":90,\"magType\":\"mwr\",\"type\":\"earthquake\",\"title\":\"M 4.5 - 14km S of Ayios Nikolaos, Greece\"},\"geometry\":{\"type\":\"Point\",\"coordinates\":[21.1372,37.716,11.77]},\"id\":\"us10006ul9\"},\\n{\"type\":\"Feature\",\"properties\":{\"mag\":1.66,\"place\":\"14km N of Ocotillo Wells, CA\",\"time\":1475461993100,\"updated\":1475778245320,\"tz\":-420,\"url\":\"https://earthquake.usgs.gov/earthquakes/eventpage/ci37708872\",\"detail\":\"https://earthquake.usgs.gov/fdsnws/event/1/query?eventid=ci37708872&format=geojson\",\"felt\":null,\"cdi\":null,\"mmi\":null,\"alert\":null,\"status\":\"reviewed\",\"tsunami\":0,\"sig\":42,\"net\":\"ci\",\"code\":\"37708872\",\"ids\":\",ci37708872,\",\"sources\":\",ci,\",\"types\":\",cap,focal-mechanism,general-link,geoserve,nearby-cities,origin,phase-data,scitech-link,\",\"nst\":63,\"dmin\":0.1023,\"rms\":0.2,\"gap\":40,\"magType\":\"ml\",\"type\":\"earthquake\",\"title\":\"M 1.7 - 14km N of Ocotillo Wells, CA\"},\"geometry\":{\"type\":\"Point\",\"coordinates\":[-116.107,33.2675,3.17]},\"id\":\"ci37708872\"},\\n{\"type\":\"Feature\",\"properties\":{\"mag\":1.9,\"place\":\"2km NW of La Parguera, Puerto Rico\",\"time\":1475461671800,\"updated\":1475464855190,\"tz\":-240,\"url\":\"https://earthquake.usgs.gov/earthquakes/eventpage/pr16277000\",\"detail\":\"https://earthquake.usgs.gov/fdsnws/event/1/query?eventid=pr16277000&format=geojson\",\"felt\":null,\"cdi\":null,\"mmi\":null,\"alert\":null,\"status\":\"REVIEWED\",\"tsunami\":0,\"sig\":56,\"net\":\"pr\",\"code\":\"16277000\",\"ids\":\",pr16277000,\",\"sources\":\",pr,\",\"types\":\",cap,geoserve,origin,\",\"nst\":3,\"dmin\":0.02425451,\"rms\":0.07,\"gap\":147.6,\"magType\":\"Md\",\"type\":\"earthquake\",\"title\":\"M 1.9 - 2km NW of La Parguera, Puerto Rico\"},\"geometry\":{\"type\":\"Point\",\"coordinates\":[-67.0609,17.989,14]},\"id\":\"pr16277000\"},\\n{\"type\":\"Feature\",\"properties\":{\"mag\":3.5,\"place\":\"5km ESE of Cordero, Venezuela\",\"time\":1475461380700,\"updated\":1483477842040,\"tz\":-270,\"url\":\"https://earthquake.usgs.gov/earthquakes/eventpage/us10006ul8\",\"detail\":\"https://earthquake.usgs.gov/fdsnws/event/1/query?eventid=us10006ul8&format=geojson\",\"felt\":6,\"cdi\":3.4,\"mmi\":null,\"alert\":null,\"status\":\"reviewed\",\"tsunami\":0,\"sig\":191,\"net\":\"us\",\"code\":\"10006ul8\",\"ids\":\",us10006ul8,\",\"sources\":\",us,\",\"types\":\",cap,dyfi,geoserve,impact-text,origin,phase-data,\",\"nst\":null,\"dmin\":null,\"rms\":0.79,\"gap\":null,\"magType\":\"mwr\",\"type\":\"earthquake\",\"title\":\"M 3.5 - 5km ESE of Cordero, Venezuela\"},\"geometry\":{\"type\":\"Point\",\"coordinates\":[-72.14,7.83,5]},\"id\":\"us10006ul8\"},\\n{\"type\":\"Feature\",\"properties\":{\"mag\":0.8,\"place\":\"80km E of Cantwell, Alaska\",\"time\":1475461148670,\"updated\":1560794135355,\"tz\":-480,\"url\":\"https://earthquake.usgs.gov/earthquakes/eventpage/ak016cq5639v\",\"detail\":\"https://earthquake.usgs.gov/fdsnws/event/1/query?eventid=ak016cq5639v&format=geojson\",\"felt\":null,\"cdi\":null,\"mmi\":null,\"alert\":null,\"status\":\"reviewed\",\"tsunami\":0,\"sig\":10,\"net\":\"ak\",\"code\":\"016cq5639v\",\"ids\":\",ak14147996,ak016cq5639v,\",\"sources\":\",ak,ak,\",\"types\":\",associate,geoserve,origin,phase-data,\",\"nst\":null,\"dmin\":null,\"rms\":0.73,\"gap\":null,\"magType\":\"ml\",\"type\":\"earthquake\",\"title\":\"M 0.8 - 80km E of Cantwell, Alaska\"},\"geometry\":{\"type\":\"Point\",\"coordinates\":[-147.3683,63.5223,15]},\"id\":\"ak016cq5639v\"},\\n{\"type\":\"Feature\",\"properties\":{\"mag\":4.4,\"place\":\"28km ENE of Port-Olry, Vanuatu\",\"time\":1475460924580,\"updated\":1483477842040,\"tz\":660,\"url\":\"https://earthquake.usgs.gov/earthquakes/eventpage/us20007dn9\",\"detail\":\"https://earthquake.usgs.gov/fdsnws/event/1/query?eventid=us20007dn9&format=geojson\",\"felt\":null,\"cdi\":null,\"mmi\":null,\"alert\":null,\"status\":\"reviewed\",\"tsunami\":0,\"sig\":298,\"net\":\"us\",\"code\":\"20007dn9\",\"ids\":\",us20007dn9,\",\"sources\":\",us,\",\"types\":\",geoserve,origin,phase-data,\",\"nst\":null,\"dmin\":5.833,\"rms\":0.47,\"gap\":143,\"magType\":\"mb\",\"type\":\"earthquake\",\"title\":\"M 4.4 - 28km ENE of Port-Olry, Vanuatu\"},\"geometry\":{\"type\":\"Point\",\"coordinates\":[167.2744,-14.9115,131.73]},\"id\":\"us20007dn9\"},\\n{\"type\":\"Feature\",\"properties\":{\"mag\":1.1,\"place\":\"113km NW of Talkeetna, Alaska\",\"time\":1475460658602,\"updated\":1560794134898,\"tz\":-480,\"url\":\"https://earthquake.usgs.gov/earthquakes/eventpage/ak016cq549ok\",\"detail\":\"https://earthquake.usgs.gov/fdsnws/event/1/query?eventid=ak016cq549ok&format=geojson\",\"felt\":null,\"cdi\":null,\"mmi\":null,\"alert\":null,\"status\":\"reviewed\",\"tsunami\":0,\"sig\":19,\"net\":\"ak\",\"code\":\"016cq549ok\",\"ids\":\",ak14147994,ak016cq549ok,\",\"sources\":\",ak,ak,\",\"types\":\",associate,geoserve,origin,phase-data,\",\"nst\":null,\"dmin\":null,\"rms\":0.51,\"gap\":null,\"magType\":\"ml\",\"type\":\"earthquake\",\"title\":\"M 1.1 - 113km NW of Talkeetna, Alaska\"},\"geometry\":{\"type\":\"Point\",\"coordinates\":[-151.4955,63.1137,6.1]},\"id\":\"ak016cq549ok\"},\\n{\"type\":\"Feature\",\"properties\":{\"mag\":4.2,\"place\":\"200km NE of Ndoi Island, Fiji\",\"time\":1475460141940,\"updated\":1483477842040,\"tz\":-720,\"url\":\"https://earthquake.usgs.gov/earthquakes/eventpage/us10006ul7\",\"detail\":\"https://earthquake.usgs.gov/fdsnws/event/1/query?eventid=us10006ul7&format=geojson\",\"felt\":null,\"cdi\":null,\"mmi\":null,\"alert\":null,\"status\":\"reviewed\",\"tsunami\":0,\"sig\":271,\"net\":\"us\",\"code\":\"10006ul7\",\"ids\":\",us10006ul7,\",\"sources\":\",us,\",\"types\":\",cap,geoserve,origin,phase-data,\",\"nst\":null,\"dmin\":4.452,\"rms\":0.61,\"gap\":90,\"magType\":\"mb\",\"type\":\"earthquake\",\"title\":\"M 4.2 - 200km NE of Ndoi Island, Fiji\"},\"geometry\":{\"type\":\"Point\",\"coordinates\":[-177.5206,-19.2274,554.74]},\"id\":\"us10006ul7\"},\\n{\"type\":\"Feature\",\"properties\":{\"mag\":1.06,\"place\":\"5km ESE of Beaumont, CA\",\"time\":1475459973360,\"updated\":1475501886813,\"tz\":-420,\"url\":\"https://earthquake.usgs.gov/earthquakes/eventpage/ci37708864\",\"detail\":\"https://earthquake.usgs.gov/fdsnws/event/1/query?eventid=ci37708864&format=geojson\",\"felt\":null,\"cdi\":null,\"mmi\":null,\"alert\":null,\"status\":\"reviewed\",\"tsunami\":0,\"sig\":17,\"net\":\"ci\",\"code\":\"37708864\",\"ids\":\",ci37708864,\",\"sources\":\",ci,\",\"types\":\",cap,general-link,geoserve,nearby-cities,origin,phase-data,scitech-link,\",\"nst\":41,\"dmin\":0.1353,\"rms\":0.2,\"gap\":55,\"magType\":\"ml\",\"type\":\"earthquake\",\"title\":\"M 1.1 - 5km ESE of Beaumont, CA\"},\"geometry\":{\"type\":\"Point\",\"coordinates\":[-116.9338333,33.9073333,9.37]},\"id\":\"ci37708864\"},\\n{\"type\":\"Feature\",\"properties\":{\"mag\":2.7,\"place\":\"5km NE of Big Lake, Alaska\",\"time\":1475459320673,\"updated\":1560794134439,\"tz\":-480,\"url\":\"https://earthquake.usgs.gov/earthquakes/eventpage/ak016cq4qxwj\",\"detail\":\"https://earthquake.usgs.gov/fdsnws/event/1/query?eventid=ak016cq4qxwj&format=geojson\",\"felt\":1,\"cdi\":2,\"mmi\":null,\"alert\":null,\"status\":\"reviewed\",\"tsunami\":0,\"sig\":112,\"net\":\"ak\",\"code\":\"016cq4qxwj\",\"ids\":\",ak14147972,us10006ul6,ak016cq4qxwj,\",\"sources\":\",ak,us,ak,\",\"types\":\",associate,dyfi,geoserve,impact-text,origin,phase-data,\",\"nst\":null,\"dmin\":null,\"rms\":0.44,\"gap\":null,\"magType\":\"ml\",\"type\":\"earthquake\",\"title\":\"M 2.7 - 5km NE of Big Lake, Alaska\"},\"geometry\":{\"type\":\"Point\",\"coordinates\":[-149.8916,61.5563,54.3]},\"id\":\"ak016cq4qxwj\"},\\n{\"type\":\"Feature\",\"properties\":{\"mag\":0.88,\"place\":\"6km NW of The Geysers, California\",\"time\":1475458336350,\"updated\":1486779684253,\"tz\":-420,\"url\":\"https://earthquake.usgs.gov/earthquakes/eventpage/nc72706646\",\"detail\":\"https://earthquake.usgs.gov/fdsnws/event/1/query?eventid=nc72706646&format=geojson\",\"felt\":null,\"cdi\":null,\"mmi\":null,\"alert\":null,\"status\":\"automatic\",\"tsunami\":0,\"sig\":12,\"net\":\"nc\",\"code\":\"72706646\",\"ids\":\",nc72706646,\",\"sources\":\",nc,\",\"types\":\",geoserve,nearby-cities,origin,phase-data,\",\"nst\":12,\"dmin\":0.004505,\"rms\":0.03,\"gap\":124,\"magType\":\"md\",\"type\":\"earthquake\",\"title\":\"M 0.9 - 6km NW of The Geysers, California\"},\"geometry\":{\"type\":\"Point\",\"coordinates\":[-122.8143311,38.8201675,2.58]},\"id\":\"nc72706646\"},\\n{\"type\":\"Feature\",\"properties\":{\"mag\":0.6,\"place\":\"68km S of Deltana, Alaska\",\"time\":1475458159387,\"updated\":1560794133941,\"tz\":-480,\"url\":\"https://earthquake.usgs.gov/earthquakes/eventpage/ak016cq4mtnm\",\"detail\":\"https://earthquake.usgs.gov/fdsnws/event/1/query?eventid=ak016cq4mtnm&format=geojson\",\"felt\":null,\"cdi\":null,\"mmi\":null,\"alert\":null,\"status\":\"reviewed\",\"tsunami\":0,\"sig\":6,\"net\":\"ak\",\"code\":\"016cq4mtnm\",\"ids\":\",ak14146855,ak016cq4mtnm,\",\"sources\":\",ak,ak,\",\"types\":\",associate,geoserve,origin,phase-data,\",\"nst\":null,\"dmin\":null,\"rms\":0.35,\"gap\":null,\"magType\":\"ml\",\"type\":\"earthquake\",\"title\":\"M 0.6 - 68km S of Deltana, Alaska\"},\"geometry\":{\"type\":\"Point\",\"coordinates\":[-144.9727,63.27,3.5]},\"id\":\"ak016cq4mtnm\"},\\n{\"type\":\"Feature\",\"properties\":{\"mag\":1.73,\"place\":\"5km NE of Sudden Valley, Washington\",\"time\":1475457293840,\"updated\":1475516424157,\"tz\":-420,\"url\":\"https://earthquake.usgs.gov/earthquakes/eventpage/uw61201607\",\"detail\":\"https://earthquake.usgs.gov/fdsnws/event/1/query?eventid=uw61201607&format=geojson\",\"felt\":null,\"cdi\":null,\"mmi\":null,\"alert\":null,\"status\":\"reviewed\",\"tsunami\":0,\"sig\":46,\"net\":\"uw\",\"code\":\"61201607\",\"ids\":\",uw61201607,\",\"sources\":\",uw,\",\"types\":\",cap,general-link,geoserve,origin,phase-data,\",\"nst\":16,\"dmin\":0.1932,\"rms\":0.24,\"gap\":128,\"magType\":\"ml\",\"type\":\"earthquake\",\"title\":\"M 1.7 - 5km NE of Sudden Valley, Washington\"},\"geometry\":{\"type\":\"Point\",\"coordinates\":[-122.2935,48.7513333,16.73]},\"id\":\"uw61201607\"},\\n{\"type\":\"Feature\",\"properties\":{\"mag\":1.1,\"place\":\"165km WNW of Haines Junction, Canada\",\"time\":1475456144000,\"updated\":1560794133536,\"tz\":-420,\"url\":\"https://earthquake.usgs.gov/earthquakes/eventpage/ak14146853\",\"detail\":\"https://earthquake.usgs.gov/fdsnws/event/1/query?eventid=ak14146853&format=geojson\",\"felt\":null,\"cdi\":null,\"mmi\":null,\"alert\":null,\"status\":\"reviewed\",\"tsunami\":0,\"sig\":19,\"net\":\"ak\",\"code\":\"14146853\",\"ids\":\",ak14146853,ak016cq470lo,\",\"sources\":\",ak,ak,\",\"types\":\",associate,geoserve,origin,phase-data,\",\"nst\":11,\"dmin\":null,\"rms\":0.24,\"gap\":71.999994240001,\"magType\":\"ml\",\"type\":\"earthquake\",\"title\":\"M 1.1 - 165km WNW of Haines Junction, Canada\"},\"geometry\":{\"type\":\"Point\",\"coordinates\":[-140.2514,61.424,4]},\"id\":\"ak14146853\"},\\n{\"type\":\"Feature\",\"properties\":{\"mag\":1.7,\"place\":\"14km WSW of Pawnee, Oklahoma\",\"time\":1475455874170,\"updated\":1483477842040,\"tz\":-300,\"url\":\"https://earthquake.usgs.gov/earthquakes/eventpage/us10006ul4\",\"detail\":\"https://earthquake.usgs.gov/fdsnws/event/1/query?eventid=us10006ul4&format=geojson\",\"felt\":null,\"cdi\":null,\"mmi\":null,\"alert\":null,\"status\":\"reviewed\",\"tsunami\":0,\"sig\":44,\"net\":\"us\",\"code\":\"10006ul4\",\"ids\":\",us10006ul4,\",\"sources\":\",us,\",\"types\":\",cap,geoserve,origin,phase-data,\",\"nst\":null,\"dmin\":0.123,\"rms\":0.14,\"gap\":60,\"magType\":\"ml\",\"type\":\"earthquake\",\"title\":\"M 1.7 - 14km WSW of Pawnee, Oklahoma\"},\"geometry\":{\"type\":\"Point\",\"coordinates\":[-96.9471,36.2737,8.72]},\"id\":\"us10006ul4\"},\\n{\"type\":\"Feature\",\"properties\":{\"mag\":1.8,\"place\":\"49km SSE of Tanaga Volcano, Alaska\",\"time\":1475455736319,\"updated\":1560794133062,\"tz\":-540,\"url\":\"https://earthquake.usgs.gov/earthquakes/eventpage/ak016cq45ji7\",\"detail\":\"https://earthquake.usgs.gov/fdsnws/event/1/query?eventid=ak016cq45ji7&format=geojson\",\"felt\":null,\"cdi\":null,\"mmi\":null,\"alert\":null,\"status\":\"reviewed\",\"tsunami\":0,\"sig\":50,\"net\":\"ak\",\"code\":\"016cq45ji7\",\"ids\":\",ak14189981,ak016cq45ji7,\",\"sources\":\",ak,ak,\",\"types\":\",associate,geoserve,origin,phase-data,\",\"nst\":null,\"dmin\":null,\"rms\":0.28,\"gap\":null,\"magType\":\"ml\",\"type\":\"earthquake\",\"title\":\"M 1.8 - 49km SSE of Tanaga Volcano, Alaska\"},\"geometry\":{\"type\":\"Point\",\"coordinates\":[-177.7963,51.4991,43.5]},\"id\":\"ak016cq45ji7\"},\\n{\"type\":\"Feature\",\"properties\":{\"mag\":4.2,\"place\":\"Vanuatu region\",\"time\":1475455537830,\"updated\":1483477842040,\"tz\":720,\"url\":\"https://earthquake.usgs.gov/earthquakes/eventpage/us20007dn8\",\"detail\":\"https://earthquake.usgs.gov/fdsnws/event/1/query?eventid=us20007dn8&format=geojson\",\"felt\":null,\"cdi\":null,\"mmi\":null,\"alert\":null,\"status\":\"reviewed\",\"tsunami\":0,\"sig\":271,\"net\":\"us\",\"code\":\"20007dn8\",\"ids\":\",us20007dn8,\",\"sources\":\",us,\",\"types\":\",geoserve,origin,phase-data,\",\"nst\":null,\"dmin\":4.861,\"rms\":1.31,\"gap\":114,\"magType\":\"mb\",\"type\":\"earthquake\",\"title\":\"M 4.2 - Vanuatu region\"},\"geometry\":{\"type\":\"Point\",\"coordinates\":[172.9527,-17.933,35.69]},\"id\":\"us20007dn8\"},\\n{\"type\":\"Feature\",\"properties\":{\"mag\":1.2,\"place\":\"41km WSW of Healy, Alaska\",\"time\":1475455362643,\"updated\":1560794132660,\"tz\":-480,\"url\":\"https://earthquake.usgs.gov/earthquakes/eventpage/ak016cq4485k\",\"detail\":\"https://earthquake.usgs.gov/fdsnws/event/1/query?eventid=ak016cq4485k&format=geojson\",\"felt\":null,\"cdi\":null,\"mmi\":null,\"alert\":null,\"status\":\"reviewed\",\"tsunami\":0,\"sig\":22,\"net\":\"ak\",\"code\":\"016cq4485k\",\"ids\":\",ak14189980,ak016cq4485k,\",\"sources\":\",ak,ak,\",\"types\":\",associate,geoserve,origin,phase-data,\",\"nst\":null,\"dmin\":null,\"rms\":0.31,\"gap\":null,\"magType\":\"ml\",\"type\":\"earthquake\",\"title\":\"M 1.2 - 41km WSW of Healy, Alaska\"},\"geometry\":{\"type\":\"Point\",\"coordinates\":[-149.6724,63.6561,123.2]},\"id\":\"ak016cq4485k\"},\\n{\"type\":\"Feature\",\"properties\":{\"mag\":2.02,\"place\":\"42km SW of Ferndale, California\",\"time\":1475454771460,\"updated\":1486779679174,\"tz\":-480,\"url\":\"https://earthquake.usgs.gov/earthquakes/eventpage/nc72706641\",\"detail\":\"https://earthquake.usgs.gov/fdsnws/event/1/query?eventid=nc72706641&format=geojson\",\"felt\":null,\"cdi\":null,\"mmi\":null,\"alert\":null,\"status\":\"reviewed\",\"tsunami\":0,\"sig\":63,\"net\":\"nc\",\"code\":\"72706641\",\"ids\":\",nc72706641,\",\"sources\":\",nc,\",\"types\":\",cap,geoserve,nearby-cities,origin,phase-data,\",\"nst\":15,\"dmin\":0.2577,\"rms\":0.14,\"gap\":267,\"magType\":\"md\",\"type\":\"earthquake\",\"title\":\"M 2.0 - 42km SW of Ferndale, California\"},\"geometry\":{\"type\":\"Point\",\"coordinates\":[-124.6208333,40.3091667,18.57]},\"id\":\"nc72706641\"},\\n{\"type\":\"Feature\",\"properties\":{\"mag\":1.22,\"place\":\"1km E of Universal City, CA\",\"time\":1475454446120,\"updated\":1475541997498,\"tz\":-420,\"url\":\"https://earthquake.usgs.gov/earthquakes/eventpage/ci37708840\",\"detail\":\"https://earthquake.usgs.gov/fdsnws/event/1/query?eventid=ci37708840&format=geojson\",\"felt\":null,\"cdi\":null,\"mmi\":null,\"alert\":null,\"status\":\"reviewed\",\"tsunami\":0,\"sig\":23,\"net\":\"ci\",\"code\":\"37708840\",\"ids\":\",ci37708840,\",\"sources\":\",ci,\",\"types\":\",cap,general-link,geoserve,nearby-cities,origin,phase-data,scitech-link,\",\"nst\":14,\"dmin\":0.03764,\"rms\":0.17,\"gap\":118,\"magType\":\"ml\",\"type\":\"earthquake\",\"title\":\"M 1.2 - 1km E of Universal City, CA\"},\"geometry\":{\"type\":\"Point\",\"coordinates\":[-118.3396667,34.1368333,15.61]},\"id\":\"ci37708840\"},\\n{\"type\":\"Feature\",\"properties\":{\"mag\":0.9,\"place\":\"113km NW of Talkeetna, Alaska\",\"time\":1475453567299,\"updated\":1560794132248,\"tz\":-480,\"url\":\"https://earthquake.usgs.gov/earthquakes/eventpage/ak016cq3xt15\",\"detail\":\"https://earthquake.usgs.gov/fdsnws/event/1/query?eventid=ak016cq3xt15&format=geojson\",\"felt\":null,\"cdi\":null,\"mmi\":null,\"alert\":null,\"status\":\"reviewed\",\"tsunami\":0,\"sig\":12,\"net\":\"ak\",\"code\":\"016cq3xt15\",\"ids\":\",ak14189979,ak016cq3xt15,\",\"sources\":\",ak,ak,\",\"types\":\",associate,geoserve,origin,phase-data,\",\"nst\":null,\"dmin\":null,\"rms\":0.65,\"gap\":null,\"magType\":\"ml\",\"type\":\"earthquake\",\"title\":\"M 0.9 - 113km NW of Talkeetna, Alaska\"},\"geometry\":{\"type\":\"Point\",\"coordinates\":[-151.5164,63.1104,9.1]},\"id\":\"ak016cq3xt15\"},\\n{\"type\":\"Feature\",\"properties\":{\"mag\":1.13,\"place\":\"5km W of Cobb, California\",\"time\":1475453429320,\"updated\":1486779673933,\"tz\":-420,\"url\":\"https://earthquake.usgs.gov/earthquakes/eventpage/nc72706636\",\"detail\":\"https://earthquake.usgs.gov/fdsnws/event/1/query?eventid=nc72706636&format=geojson\",\"felt\":null,\"cdi\":null,\"mmi\":null,\"alert\":null,\"status\":\"automatic\",\"tsunami\":0,\"sig\":20,\"net\":\"nc\",\"code\":\"72706636\",\"ids\":\",nc72706636,\",\"sources\":\",nc,\",\"types\":\",geoserve,nearby-cities,origin,phase-data,\",\"nst\":11,\"dmin\":0.005405,\"rms\":0.02,\"gap\":88,\"magType\":\"md\",\"type\":\"earthquake\",\"title\":\"M 1.1 - 5km W of Cobb, California\"},\"geometry\":{\"type\":\"Point\",\"coordinates\":[-122.7853317,38.8170013,1.33]},\"id\":\"nc72706636\"},\\n{\"type\":\"Feature\",\"properties\":{\"mag\":0.8,\"place\":\"5km W of Cobb, California\",\"time\":1475453303760,\"updated\":1486779668850,\"tz\":-420,\"url\":\"https://earthquake.usgs.gov/earthquakes/eventpage/nc72706631\",\"detail\":\"https://earthquake.usgs.gov/fdsnws/event/1/query?eventid=nc72706631&format=geojson\",\"felt\":null,\"cdi\":null,\"mmi\":null,\"alert\":null,\"status\":\"automatic\",\"tsunami\":0,\"sig\":10,\"net\":\"nc\",\"code\":\"72706631\",\"ids\":\",nc72706631,\",\"sources\":\",nc,\",\"types\":\",geoserve,nearby-cities,origin,phase-data,\",\"nst\":11,\"dmin\":0.005405,\"rms\":0.02,\"gap\":93,\"magType\":\"md\",\"type\":\"earthquake\",\"title\":\"M 0.8 - 5km W of Cobb, California\"},\"geometry\":{\"type\":\"Point\",\"coordinates\":[-122.7856674,38.8165016,1.33]},\"id\":\"nc72706631\"},\\n{\"type\":\"Feature\",\"properties\":{\"mag\":0.48,\"place\":\"5km W of Cobb, California\",\"time\":1475453281790,\"updated\":1486779663646,\"tz\":-420,\"url\":\"https://earthquake.usgs.gov/earthquakes/eventpage/nc72706626\",\"detail\":\"https://earthquake.usgs.gov/fdsnws/event/1/query?eventid=nc72706626&format=geojson\",\"felt\":null,\"cdi\":null,\"mmi\":null,\"alert\":null,\"status\":\"automatic\",\"tsunami\":0,\"sig\":4,\"net\":\"nc\",\"code\":\"72706626\",\"ids\":\",nc72706626,\",\"sources\":\",nc,\",\"types\":\",geoserve,nearby-cities,origin,phase-data,\",\"nst\":9,\"dmin\":0.005405,\"rms\":0.01,\"gap\":83,\"magType\":\"md\",\"type\":\"earthquake\",\"title\":\"M 0.5 - 5km W of Cobb, California\"},\"geometry\":{\"type\":\"Point\",\"coordinates\":[-122.7854996,38.8175011,1.27]},\"id\":\"nc72706626\"},\\n{\"type\":\"Feature\",\"properties\":{\"mag\":0.8,\"place\":\"130km NW of Talkeetna, Alaska\",\"time\":1475453027739,\"updated\":1560794131858,\"tz\":-480,\"url\":\"https://earthquake.usgs.gov/earthquakes/eventpage/ak016cq3vvmd\",\"detail\":\"https://earthquake.usgs.gov/fdsnws/event/1/query?eventid=ak016cq3vvmd&format=geojson\",\"felt\":null,\"cdi\":null,\"mmi\":null,\"alert\":null,\"status\":\"reviewed\",\"tsunami\":0,\"sig\":10,\"net\":\"ak\",\"code\":\"016cq3vvmd\",\"ids\":\",ak14189978,ak016cq3vvmd,\",\"sources\":\",ak,ak,\",\"types\":\",associate,geoserve,origin,phase-data,\",\"nst\":null,\"dmin\":null,\"rms\":0.76,\"gap\":null,\"magType\":\"ml\",\"type\":\"earthquake\",\"title\":\"M 0.8 - 130km NW of Talkeetna, Alaska\"},\"geometry\":{\"type\":\"Point\",\"coordinates\":[-151.6706,63.2478,3.2]},\"id\":\"ak016cq3vvmd\"}],\"bbox\":[-179.8664,-37.3812,-1.71,179.743,65.828,554.74]}'"
      ]
     },
     "execution_count": 14,
     "metadata": {},
     "output_type": "execute_result"
    }
   ],
   "source": [
    "a.text"
   ]
  },
  {
   "cell_type": "code",
   "execution_count": 15,
   "metadata": {},
   "outputs": [],
   "source": [
    "import json"
   ]
  },
  {
   "cell_type": "code",
   "execution_count": 16,
   "metadata": {},
   "outputs": [],
   "source": [
    "resp=json.loads(a.text)"
   ]
  },
  {
   "cell_type": "code",
   "execution_count": 18,
   "metadata": {},
   "outputs": [
    {
     "data": {
      "text/plain": [
       "dict_keys(['type', 'metadata', 'features', 'bbox'])"
      ]
     },
     "execution_count": 18,
     "metadata": {},
     "output_type": "execute_result"
    }
   ],
   "source": [
    "resp.keys()"
   ]
  },
  {
   "cell_type": "code",
   "execution_count": 20,
   "metadata": {},
   "outputs": [],
   "source": [
    "### SQL style joins, df\n",
    "#pd.merge(table1,table2,on=,how=left/right/inner/outer)"
   ]
  },
  {
   "cell_type": "code",
   "execution_count": 21,
   "metadata": {},
   "outputs": [],
   "source": [
    "a=pd.read_excel(path,sheet_name=\"Sheet1\")"
   ]
  },
  {
   "cell_type": "code",
   "execution_count": 22,
   "metadata": {},
   "outputs": [
    {
     "data": {
      "text/html": [
       "<div>\n",
       "<style scoped>\n",
       "    .dataframe tbody tr th:only-of-type {\n",
       "        vertical-align: middle;\n",
       "    }\n",
       "\n",
       "    .dataframe tbody tr th {\n",
       "        vertical-align: top;\n",
       "    }\n",
       "\n",
       "    .dataframe thead th {\n",
       "        text-align: right;\n",
       "    }\n",
       "</style>\n",
       "<table border=\"1\" class=\"dataframe\">\n",
       "  <thead>\n",
       "    <tr style=\"text-align: right;\">\n",
       "      <th></th>\n",
       "      <th>Name</th>\n",
       "      <th>Age</th>\n",
       "    </tr>\n",
       "  </thead>\n",
       "  <tbody>\n",
       "    <tr>\n",
       "      <th>0</th>\n",
       "      <td>A</td>\n",
       "      <td>10</td>\n",
       "    </tr>\n",
       "    <tr>\n",
       "      <th>1</th>\n",
       "      <td>B</td>\n",
       "      <td>20</td>\n",
       "    </tr>\n",
       "    <tr>\n",
       "      <th>2</th>\n",
       "      <td>C</td>\n",
       "      <td>30</td>\n",
       "    </tr>\n",
       "  </tbody>\n",
       "</table>\n",
       "</div>"
      ],
      "text/plain": [
       "  Name  Age\n",
       "0    A   10\n",
       "1    B   20\n",
       "2    C   30"
      ]
     },
     "execution_count": 22,
     "metadata": {},
     "output_type": "execute_result"
    }
   ],
   "source": [
    "a"
   ]
  },
  {
   "cell_type": "code",
   "execution_count": 23,
   "metadata": {},
   "outputs": [],
   "source": [
    "b=pd.read_excel(path,sheet_name=\"Sheet2\")"
   ]
  },
  {
   "cell_type": "code",
   "execution_count": 24,
   "metadata": {},
   "outputs": [
    {
     "data": {
      "text/html": [
       "<div>\n",
       "<style scoped>\n",
       "    .dataframe tbody tr th:only-of-type {\n",
       "        vertical-align: middle;\n",
       "    }\n",
       "\n",
       "    .dataframe tbody tr th {\n",
       "        vertical-align: top;\n",
       "    }\n",
       "\n",
       "    .dataframe thead th {\n",
       "        text-align: right;\n",
       "    }\n",
       "</style>\n",
       "<table border=\"1\" class=\"dataframe\">\n",
       "  <thead>\n",
       "    <tr style=\"text-align: right;\">\n",
       "      <th></th>\n",
       "      <th>Name</th>\n",
       "      <th>Location</th>\n",
       "    </tr>\n",
       "  </thead>\n",
       "  <tbody>\n",
       "    <tr>\n",
       "      <th>0</th>\n",
       "      <td>A</td>\n",
       "      <td>D</td>\n",
       "    </tr>\n",
       "    <tr>\n",
       "      <th>1</th>\n",
       "      <td>B</td>\n",
       "      <td>E</td>\n",
       "    </tr>\n",
       "    <tr>\n",
       "      <th>2</th>\n",
       "      <td>C</td>\n",
       "      <td>F</td>\n",
       "    </tr>\n",
       "    <tr>\n",
       "      <th>3</th>\n",
       "      <td>D</td>\n",
       "      <td>a</td>\n",
       "    </tr>\n",
       "    <tr>\n",
       "      <th>4</th>\n",
       "      <td>E</td>\n",
       "      <td>b</td>\n",
       "    </tr>\n",
       "    <tr>\n",
       "      <th>5</th>\n",
       "      <td>F</td>\n",
       "      <td>c</td>\n",
       "    </tr>\n",
       "  </tbody>\n",
       "</table>\n",
       "</div>"
      ],
      "text/plain": [
       "  Name Location\n",
       "0    A        D\n",
       "1    B        E\n",
       "2    C        F\n",
       "3    D        a\n",
       "4    E        b\n",
       "5    F        c"
      ]
     },
     "execution_count": 24,
     "metadata": {},
     "output_type": "execute_result"
    }
   ],
   "source": [
    "b"
   ]
  },
  {
   "cell_type": "code",
   "execution_count": 25,
   "metadata": {},
   "outputs": [
    {
     "data": {
      "text/html": [
       "<div>\n",
       "<style scoped>\n",
       "    .dataframe tbody tr th:only-of-type {\n",
       "        vertical-align: middle;\n",
       "    }\n",
       "\n",
       "    .dataframe tbody tr th {\n",
       "        vertical-align: top;\n",
       "    }\n",
       "\n",
       "    .dataframe thead th {\n",
       "        text-align: right;\n",
       "    }\n",
       "</style>\n",
       "<table border=\"1\" class=\"dataframe\">\n",
       "  <thead>\n",
       "    <tr style=\"text-align: right;\">\n",
       "      <th></th>\n",
       "      <th>Name</th>\n",
       "      <th>Location</th>\n",
       "      <th>Age</th>\n",
       "    </tr>\n",
       "  </thead>\n",
       "  <tbody>\n",
       "    <tr>\n",
       "      <th>0</th>\n",
       "      <td>A</td>\n",
       "      <td>D</td>\n",
       "      <td>10</td>\n",
       "    </tr>\n",
       "    <tr>\n",
       "      <th>1</th>\n",
       "      <td>B</td>\n",
       "      <td>E</td>\n",
       "      <td>20</td>\n",
       "    </tr>\n",
       "    <tr>\n",
       "      <th>2</th>\n",
       "      <td>C</td>\n",
       "      <td>F</td>\n",
       "      <td>30</td>\n",
       "    </tr>\n",
       "  </tbody>\n",
       "</table>\n",
       "</div>"
      ],
      "text/plain": [
       "  Name Location  Age\n",
       "0    A        D   10\n",
       "1    B        E   20\n",
       "2    C        F   30"
      ]
     },
     "execution_count": 25,
     "metadata": {},
     "output_type": "execute_result"
    }
   ],
   "source": [
    "## inner join\n",
    "pd.merge(b,a,on=\"Name\",how=\"inner\")"
   ]
  },
  {
   "cell_type": "code",
   "execution_count": 27,
   "metadata": {},
   "outputs": [],
   "source": [
    "d=pd.merge(b,a,on=\"Name\",how=\"left\")"
   ]
  },
  {
   "cell_type": "code",
   "execution_count": 28,
   "metadata": {},
   "outputs": [
    {
     "data": {
      "text/plain": [
       "Name        0\n",
       "Location    0\n",
       "Age         3\n",
       "dtype: int64"
      ]
     },
     "execution_count": 28,
     "metadata": {},
     "output_type": "execute_result"
    }
   ],
   "source": [
    "d.isnull().sum()"
   ]
  },
  {
   "cell_type": "code",
   "execution_count": 29,
   "metadata": {},
   "outputs": [
    {
     "data": {
      "text/html": [
       "<div>\n",
       "<style scoped>\n",
       "    .dataframe tbody tr th:only-of-type {\n",
       "        vertical-align: middle;\n",
       "    }\n",
       "\n",
       "    .dataframe tbody tr th {\n",
       "        vertical-align: top;\n",
       "    }\n",
       "\n",
       "    .dataframe thead th {\n",
       "        text-align: right;\n",
       "    }\n",
       "</style>\n",
       "<table border=\"1\" class=\"dataframe\">\n",
       "  <thead>\n",
       "    <tr style=\"text-align: right;\">\n",
       "      <th></th>\n",
       "      <th>Name</th>\n",
       "      <th>Location</th>\n",
       "      <th>Age</th>\n",
       "    </tr>\n",
       "  </thead>\n",
       "  <tbody>\n",
       "    <tr>\n",
       "      <th>0</th>\n",
       "      <td>A</td>\n",
       "      <td>D</td>\n",
       "      <td>10.0</td>\n",
       "    </tr>\n",
       "    <tr>\n",
       "      <th>1</th>\n",
       "      <td>B</td>\n",
       "      <td>E</td>\n",
       "      <td>20.0</td>\n",
       "    </tr>\n",
       "    <tr>\n",
       "      <th>2</th>\n",
       "      <td>C</td>\n",
       "      <td>F</td>\n",
       "      <td>30.0</td>\n",
       "    </tr>\n",
       "    <tr>\n",
       "      <th>3</th>\n",
       "      <td>D</td>\n",
       "      <td>a</td>\n",
       "      <td>NaN</td>\n",
       "    </tr>\n",
       "    <tr>\n",
       "      <th>4</th>\n",
       "      <td>E</td>\n",
       "      <td>b</td>\n",
       "      <td>NaN</td>\n",
       "    </tr>\n",
       "    <tr>\n",
       "      <th>5</th>\n",
       "      <td>F</td>\n",
       "      <td>c</td>\n",
       "      <td>NaN</td>\n",
       "    </tr>\n",
       "  </tbody>\n",
       "</table>\n",
       "</div>"
      ],
      "text/plain": [
       "  Name Location   Age\n",
       "0    A        D  10.0\n",
       "1    B        E  20.0\n",
       "2    C        F  30.0\n",
       "3    D        a   NaN\n",
       "4    E        b   NaN\n",
       "5    F        c   NaN"
      ]
     },
     "execution_count": 29,
     "metadata": {},
     "output_type": "execute_result"
    }
   ],
   "source": [
    "d"
   ]
  },
  {
   "cell_type": "code",
   "execution_count": 30,
   "metadata": {},
   "outputs": [],
   "source": [
    "path_forest='/Users/gunnvantsaini/Desktop/Bootcamp 5/Data Manipulation R1/Data/forest_fires.csv'"
   ]
  },
  {
   "cell_type": "code",
   "execution_count": 31,
   "metadata": {},
   "outputs": [],
   "source": [
    "forest=pd.read_csv(path_forest)"
   ]
  },
  {
   "cell_type": "code",
   "execution_count": 32,
   "metadata": {},
   "outputs": [
    {
     "data": {
      "text/html": [
       "<div>\n",
       "<style scoped>\n",
       "    .dataframe tbody tr th:only-of-type {\n",
       "        vertical-align: middle;\n",
       "    }\n",
       "\n",
       "    .dataframe tbody tr th {\n",
       "        vertical-align: top;\n",
       "    }\n",
       "\n",
       "    .dataframe thead th {\n",
       "        text-align: right;\n",
       "    }\n",
       "</style>\n",
       "<table border=\"1\" class=\"dataframe\">\n",
       "  <thead>\n",
       "    <tr style=\"text-align: right;\">\n",
       "      <th></th>\n",
       "      <th>X</th>\n",
       "      <th>Y</th>\n",
       "      <th>month</th>\n",
       "      <th>day</th>\n",
       "      <th>FFMC</th>\n",
       "      <th>DMC</th>\n",
       "      <th>DC</th>\n",
       "      <th>ISI</th>\n",
       "      <th>temp</th>\n",
       "      <th>RH</th>\n",
       "      <th>wind</th>\n",
       "      <th>rain</th>\n",
       "      <th>area</th>\n",
       "    </tr>\n",
       "  </thead>\n",
       "  <tbody>\n",
       "    <tr>\n",
       "      <th>0</th>\n",
       "      <td>7</td>\n",
       "      <td>5</td>\n",
       "      <td>mar</td>\n",
       "      <td>fri</td>\n",
       "      <td>86.2</td>\n",
       "      <td>26.2</td>\n",
       "      <td>94.3</td>\n",
       "      <td>5.1</td>\n",
       "      <td>8.2</td>\n",
       "      <td>51</td>\n",
       "      <td>6.7</td>\n",
       "      <td>0.0</td>\n",
       "      <td>0.0</td>\n",
       "    </tr>\n",
       "    <tr>\n",
       "      <th>1</th>\n",
       "      <td>7</td>\n",
       "      <td>4</td>\n",
       "      <td>oct</td>\n",
       "      <td>tue</td>\n",
       "      <td>90.6</td>\n",
       "      <td>35.4</td>\n",
       "      <td>669.1</td>\n",
       "      <td>6.7</td>\n",
       "      <td>18.0</td>\n",
       "      <td>33</td>\n",
       "      <td>0.9</td>\n",
       "      <td>0.0</td>\n",
       "      <td>0.0</td>\n",
       "    </tr>\n",
       "    <tr>\n",
       "      <th>2</th>\n",
       "      <td>7</td>\n",
       "      <td>4</td>\n",
       "      <td>oct</td>\n",
       "      <td>sat</td>\n",
       "      <td>90.6</td>\n",
       "      <td>43.7</td>\n",
       "      <td>686.9</td>\n",
       "      <td>6.7</td>\n",
       "      <td>14.6</td>\n",
       "      <td>33</td>\n",
       "      <td>1.3</td>\n",
       "      <td>0.0</td>\n",
       "      <td>0.0</td>\n",
       "    </tr>\n",
       "    <tr>\n",
       "      <th>3</th>\n",
       "      <td>8</td>\n",
       "      <td>6</td>\n",
       "      <td>mar</td>\n",
       "      <td>fri</td>\n",
       "      <td>91.7</td>\n",
       "      <td>33.3</td>\n",
       "      <td>77.5</td>\n",
       "      <td>9.0</td>\n",
       "      <td>8.3</td>\n",
       "      <td>97</td>\n",
       "      <td>4.0</td>\n",
       "      <td>0.2</td>\n",
       "      <td>0.0</td>\n",
       "    </tr>\n",
       "    <tr>\n",
       "      <th>4</th>\n",
       "      <td>8</td>\n",
       "      <td>6</td>\n",
       "      <td>mar</td>\n",
       "      <td>sun</td>\n",
       "      <td>89.3</td>\n",
       "      <td>51.3</td>\n",
       "      <td>102.2</td>\n",
       "      <td>9.6</td>\n",
       "      <td>11.4</td>\n",
       "      <td>99</td>\n",
       "      <td>1.8</td>\n",
       "      <td>0.0</td>\n",
       "      <td>0.0</td>\n",
       "    </tr>\n",
       "  </tbody>\n",
       "</table>\n",
       "</div>"
      ],
      "text/plain": [
       "   X  Y month  day  FFMC   DMC     DC  ISI  temp  RH  wind  rain  area\n",
       "0  7  5   mar  fri  86.2  26.2   94.3  5.1   8.2  51   6.7   0.0   0.0\n",
       "1  7  4   oct  tue  90.6  35.4  669.1  6.7  18.0  33   0.9   0.0   0.0\n",
       "2  7  4   oct  sat  90.6  43.7  686.9  6.7  14.6  33   1.3   0.0   0.0\n",
       "3  8  6   mar  fri  91.7  33.3   77.5  9.0   8.3  97   4.0   0.2   0.0\n",
       "4  8  6   mar  sun  89.3  51.3  102.2  9.6  11.4  99   1.8   0.0   0.0"
      ]
     },
     "execution_count": 32,
     "metadata": {},
     "output_type": "execute_result"
    }
   ],
   "source": [
    "forest.head()"
   ]
  },
  {
   "cell_type": "code",
   "execution_count": 33,
   "metadata": {},
   "outputs": [
    {
     "data": {
      "text/plain": [
       "54"
      ]
     },
     "execution_count": 33,
     "metadata": {},
     "output_type": "execute_result"
    }
   ],
   "source": [
    "forest.query(\"month=='mar'\").shape[0]"
   ]
  },
  {
   "cell_type": "code",
   "execution_count": 34,
   "metadata": {},
   "outputs": [
    {
     "data": {
      "text/plain": [
       "aug    184\n",
       "sep    172\n",
       "mar     54\n",
       "jul     32\n",
       "feb     20\n",
       "jun     17\n",
       "oct     15\n",
       "dec      9\n",
       "apr      9\n",
       "may      2\n",
       "jan      2\n",
       "nov      1\n",
       "Name: month, dtype: int64"
      ]
     },
     "execution_count": 34,
     "metadata": {},
     "output_type": "execute_result"
    }
   ],
   "source": [
    "forest['month'].value_counts()"
   ]
  },
  {
   "cell_type": "code",
   "execution_count": 35,
   "metadata": {},
   "outputs": [
    {
     "data": {
      "text/plain": [
       "array(['mar', 'oct', 'aug', 'sep', 'apr', 'jun', 'jul', 'feb', 'jan',\n",
       "       'dec', 'may', 'nov'], dtype=object)"
      ]
     },
     "execution_count": 35,
     "metadata": {},
     "output_type": "execute_result"
    }
   ],
   "source": [
    "forest['month'].unique()"
   ]
  },
  {
   "cell_type": "code",
   "execution_count": 36,
   "metadata": {},
   "outputs": [
    {
     "data": {
      "text/plain": [
       "12.489076086956521"
      ]
     },
     "execution_count": 36,
     "metadata": {},
     "output_type": "execute_result"
    }
   ],
   "source": [
    "forest.query(\"month=='aug'\")['area'].mean()"
   ]
  },
  {
   "cell_type": "code",
   "execution_count": 37,
   "metadata": {},
   "outputs": [
    {
     "data": {
      "text/plain": [
       "area    12.489076\n",
       "dtype: float64"
      ]
     },
     "execution_count": 37,
     "metadata": {},
     "output_type": "execute_result"
    }
   ],
   "source": [
    "forest.query(\"month=='aug'\").agg({'area':'mean'})"
   ]
  },
  {
   "cell_type": "code",
   "execution_count": 39,
   "metadata": {},
   "outputs": [
    {
     "data": {
      "text/html": [
       "<div>\n",
       "<style scoped>\n",
       "    .dataframe tbody tr th:only-of-type {\n",
       "        vertical-align: middle;\n",
       "    }\n",
       "\n",
       "    .dataframe tbody tr th {\n",
       "        vertical-align: top;\n",
       "    }\n",
       "\n",
       "    .dataframe thead th {\n",
       "        text-align: right;\n",
       "    }\n",
       "</style>\n",
       "<table border=\"1\" class=\"dataframe\">\n",
       "  <thead>\n",
       "    <tr style=\"text-align: right;\">\n",
       "      <th></th>\n",
       "      <th>X</th>\n",
       "      <th>Y</th>\n",
       "      <th>month</th>\n",
       "      <th>day</th>\n",
       "      <th>FFMC</th>\n",
       "      <th>DMC</th>\n",
       "      <th>DC</th>\n",
       "      <th>ISI</th>\n",
       "      <th>temp</th>\n",
       "      <th>RH</th>\n",
       "      <th>wind</th>\n",
       "      <th>rain</th>\n",
       "      <th>area</th>\n",
       "    </tr>\n",
       "  </thead>\n",
       "  <tbody>\n",
       "    <tr>\n",
       "      <th>415</th>\n",
       "      <td>8</td>\n",
       "      <td>6</td>\n",
       "      <td>aug</td>\n",
       "      <td>thu</td>\n",
       "      <td>94.8</td>\n",
       "      <td>222.4</td>\n",
       "      <td>698.6</td>\n",
       "      <td>13.9</td>\n",
       "      <td>27.5</td>\n",
       "      <td>27</td>\n",
       "      <td>4.9</td>\n",
       "      <td>0.0</td>\n",
       "      <td>746.28</td>\n",
       "    </tr>\n",
       "    <tr>\n",
       "      <th>235</th>\n",
       "      <td>8</td>\n",
       "      <td>6</td>\n",
       "      <td>aug</td>\n",
       "      <td>sun</td>\n",
       "      <td>91.4</td>\n",
       "      <td>142.4</td>\n",
       "      <td>601.4</td>\n",
       "      <td>10.6</td>\n",
       "      <td>19.6</td>\n",
       "      <td>41</td>\n",
       "      <td>5.8</td>\n",
       "      <td>0.0</td>\n",
       "      <td>196.48</td>\n",
       "    </tr>\n",
       "    <tr>\n",
       "      <th>420</th>\n",
       "      <td>8</td>\n",
       "      <td>8</td>\n",
       "      <td>aug</td>\n",
       "      <td>wed</td>\n",
       "      <td>91.7</td>\n",
       "      <td>191.4</td>\n",
       "      <td>635.9</td>\n",
       "      <td>7.8</td>\n",
       "      <td>26.2</td>\n",
       "      <td>36</td>\n",
       "      <td>4.5</td>\n",
       "      <td>0.0</td>\n",
       "      <td>185.76</td>\n",
       "    </tr>\n",
       "    <tr>\n",
       "      <th>377</th>\n",
       "      <td>2</td>\n",
       "      <td>2</td>\n",
       "      <td>aug</td>\n",
       "      <td>sat</td>\n",
       "      <td>93.7</td>\n",
       "      <td>231.1</td>\n",
       "      <td>715.1</td>\n",
       "      <td>8.4</td>\n",
       "      <td>21.9</td>\n",
       "      <td>42</td>\n",
       "      <td>2.2</td>\n",
       "      <td>0.0</td>\n",
       "      <td>174.63</td>\n",
       "    </tr>\n",
       "    <tr>\n",
       "      <th>457</th>\n",
       "      <td>1</td>\n",
       "      <td>4</td>\n",
       "      <td>aug</td>\n",
       "      <td>wed</td>\n",
       "      <td>91.7</td>\n",
       "      <td>191.4</td>\n",
       "      <td>635.9</td>\n",
       "      <td>7.8</td>\n",
       "      <td>19.9</td>\n",
       "      <td>50</td>\n",
       "      <td>4.0</td>\n",
       "      <td>0.0</td>\n",
       "      <td>82.75</td>\n",
       "    </tr>\n",
       "  </tbody>\n",
       "</table>\n",
       "</div>"
      ],
      "text/plain": [
       "     X  Y month  day  FFMC    DMC     DC   ISI  temp  RH  wind  rain    area\n",
       "415  8  6   aug  thu  94.8  222.4  698.6  13.9  27.5  27   4.9   0.0  746.28\n",
       "235  8  6   aug  sun  91.4  142.4  601.4  10.6  19.6  41   5.8   0.0  196.48\n",
       "420  8  8   aug  wed  91.7  191.4  635.9   7.8  26.2  36   4.5   0.0  185.76\n",
       "377  2  2   aug  sat  93.7  231.1  715.1   8.4  21.9  42   2.2   0.0  174.63\n",
       "457  1  4   aug  wed  91.7  191.4  635.9   7.8  19.9  50   4.0   0.0   82.75"
      ]
     },
     "execution_count": 39,
     "metadata": {},
     "output_type": "execute_result"
    }
   ],
   "source": [
    "forest.query(\"month=='aug'\").sort_values(['area','temp'],ascending=[False,True]).head()"
   ]
  },
  {
   "cell_type": "code",
   "execution_count": 42,
   "metadata": {},
   "outputs": [],
   "source": [
    "import numpy as np"
   ]
  },
  {
   "cell_type": "code",
   "execution_count": 47,
   "metadata": {},
   "outputs": [
    {
     "data": {
      "text/plain": [
       "[(-0.001, 6.4]]\n",
       "Categories (1, interval[float64]): [(-0.001, 6.4]]"
      ]
     },
     "execution_count": 47,
     "metadata": {},
     "output_type": "execute_result"
    }
   ],
   "source": [
    "pd.qcut(forest['rain'],q=10,duplicates='drop')"
   ]
  },
  {
   "cell_type": "code",
   "execution_count": 49,
   "metadata": {},
   "outputs": [
    {
     "data": {
      "text/html": [
       "<div>\n",
       "<style scoped>\n",
       "    .dataframe tbody tr th:only-of-type {\n",
       "        vertical-align: middle;\n",
       "    }\n",
       "\n",
       "    .dataframe tbody tr th {\n",
       "        vertical-align: top;\n",
       "    }\n",
       "\n",
       "    .dataframe thead th {\n",
       "        text-align: right;\n",
       "    }\n",
       "</style>\n",
       "<table border=\"1\" class=\"dataframe\">\n",
       "  <thead>\n",
       "    <tr style=\"text-align: right;\">\n",
       "      <th></th>\n",
       "      <th>X</th>\n",
       "      <th>Y</th>\n",
       "      <th>month</th>\n",
       "      <th>day</th>\n",
       "      <th>FFMC</th>\n",
       "      <th>DMC</th>\n",
       "      <th>DC</th>\n",
       "      <th>ISI</th>\n",
       "      <th>temp</th>\n",
       "      <th>RH</th>\n",
       "      <th>wind</th>\n",
       "      <th>rain</th>\n",
       "      <th>area</th>\n",
       "    </tr>\n",
       "  </thead>\n",
       "  <tbody>\n",
       "    <tr>\n",
       "      <th>499</th>\n",
       "      <td>7</td>\n",
       "      <td>5</td>\n",
       "      <td>aug</td>\n",
       "      <td>tue</td>\n",
       "      <td>96.1</td>\n",
       "      <td>181.1</td>\n",
       "      <td>671.2</td>\n",
       "      <td>14.3</td>\n",
       "      <td>27.3</td>\n",
       "      <td>63</td>\n",
       "      <td>4.9</td>\n",
       "      <td>6.4</td>\n",
       "      <td>10.82</td>\n",
       "    </tr>\n",
       "    <tr>\n",
       "      <th>509</th>\n",
       "      <td>5</td>\n",
       "      <td>4</td>\n",
       "      <td>aug</td>\n",
       "      <td>fri</td>\n",
       "      <td>91.0</td>\n",
       "      <td>166.9</td>\n",
       "      <td>752.6</td>\n",
       "      <td>7.1</td>\n",
       "      <td>21.1</td>\n",
       "      <td>71</td>\n",
       "      <td>7.6</td>\n",
       "      <td>1.4</td>\n",
       "      <td>2.17</td>\n",
       "    </tr>\n",
       "    <tr>\n",
       "      <th>243</th>\n",
       "      <td>7</td>\n",
       "      <td>4</td>\n",
       "      <td>aug</td>\n",
       "      <td>sun</td>\n",
       "      <td>91.8</td>\n",
       "      <td>175.1</td>\n",
       "      <td>700.7</td>\n",
       "      <td>13.8</td>\n",
       "      <td>21.9</td>\n",
       "      <td>73</td>\n",
       "      <td>7.6</td>\n",
       "      <td>1.0</td>\n",
       "      <td>0.00</td>\n",
       "    </tr>\n",
       "    <tr>\n",
       "      <th>500</th>\n",
       "      <td>8</td>\n",
       "      <td>6</td>\n",
       "      <td>aug</td>\n",
       "      <td>tue</td>\n",
       "      <td>96.1</td>\n",
       "      <td>181.1</td>\n",
       "      <td>671.2</td>\n",
       "      <td>14.3</td>\n",
       "      <td>21.6</td>\n",
       "      <td>65</td>\n",
       "      <td>4.9</td>\n",
       "      <td>0.8</td>\n",
       "      <td>0.00</td>\n",
       "    </tr>\n",
       "    <tr>\n",
       "      <th>501</th>\n",
       "      <td>7</td>\n",
       "      <td>5</td>\n",
       "      <td>aug</td>\n",
       "      <td>tue</td>\n",
       "      <td>96.1</td>\n",
       "      <td>181.1</td>\n",
       "      <td>671.2</td>\n",
       "      <td>14.3</td>\n",
       "      <td>21.6</td>\n",
       "      <td>65</td>\n",
       "      <td>4.9</td>\n",
       "      <td>0.8</td>\n",
       "      <td>0.00</td>\n",
       "    </tr>\n",
       "  </tbody>\n",
       "</table>\n",
       "</div>"
      ],
      "text/plain": [
       "     X  Y month  day  FFMC    DMC     DC   ISI  temp  RH  wind  rain   area\n",
       "499  7  5   aug  tue  96.1  181.1  671.2  14.3  27.3  63   4.9   6.4  10.82\n",
       "509  5  4   aug  fri  91.0  166.9  752.6   7.1  21.1  71   7.6   1.4   2.17\n",
       "243  7  4   aug  sun  91.8  175.1  700.7  13.8  21.9  73   7.6   1.0   0.00\n",
       "500  8  6   aug  tue  96.1  181.1  671.2  14.3  21.6  65   4.9   0.8   0.00\n",
       "501  7  5   aug  tue  96.1  181.1  671.2  14.3  21.6  65   4.9   0.8   0.00"
      ]
     },
     "execution_count": 49,
     "metadata": {},
     "output_type": "execute_result"
    }
   ],
   "source": [
    "forest.sort_values('rain',ascending=False).head()"
   ]
  },
  {
   "cell_type": "code",
   "execution_count": 50,
   "metadata": {},
   "outputs": [],
   "source": [
    "contributions=pd.read_csv('/Users/gunnvantsaini/Desktop/Bootcamp 5/Data Manipulation R1/Data/contributions.csv')\n",
    "candidates=pd.read_csv('/Users/gunnvantsaini/Desktop/Bootcamp 5/Data Manipulation R1/Data/candidates.csv')"
   ]
  },
  {
   "cell_type": "code",
   "execution_count": 51,
   "metadata": {},
   "outputs": [
    {
     "data": {
      "text/html": [
       "<div>\n",
       "<style scoped>\n",
       "    .dataframe tbody tr th:only-of-type {\n",
       "        vertical-align: middle;\n",
       "    }\n",
       "\n",
       "    .dataframe tbody tr th {\n",
       "        vertical-align: top;\n",
       "    }\n",
       "\n",
       "    .dataframe thead th {\n",
       "        text-align: right;\n",
       "    }\n",
       "</style>\n",
       "<table border=\"1\" class=\"dataframe\">\n",
       "  <thead>\n",
       "    <tr style=\"text-align: right;\">\n",
       "      <th></th>\n",
       "      <th>id</th>\n",
       "      <th>last_name</th>\n",
       "      <th>first_name</th>\n",
       "      <th>middle_name</th>\n",
       "      <th>street_1</th>\n",
       "      <th>street_2</th>\n",
       "      <th>city</th>\n",
       "      <th>state</th>\n",
       "      <th>zip</th>\n",
       "      <th>amount</th>\n",
       "      <th>date</th>\n",
       "      <th>candidate_id</th>\n",
       "    </tr>\n",
       "  </thead>\n",
       "  <tbody>\n",
       "    <tr>\n",
       "      <th>0</th>\n",
       "      <td>NaN</td>\n",
       "      <td>Agee</td>\n",
       "      <td>Steven</td>\n",
       "      <td>NaN</td>\n",
       "      <td>549 Laurel Branch Road</td>\n",
       "      <td>NaN</td>\n",
       "      <td>Floyd</td>\n",
       "      <td>VA</td>\n",
       "      <td>24091</td>\n",
       "      <td>500.0</td>\n",
       "      <td>2007-06-30</td>\n",
       "      <td>16</td>\n",
       "    </tr>\n",
       "    <tr>\n",
       "      <th>1</th>\n",
       "      <td>NaN</td>\n",
       "      <td>Ahrens</td>\n",
       "      <td>Don</td>\n",
       "      <td>NaN</td>\n",
       "      <td>4034 Rennellwood Way</td>\n",
       "      <td>NaN</td>\n",
       "      <td>Pleasanton</td>\n",
       "      <td>CA</td>\n",
       "      <td>94566</td>\n",
       "      <td>250.0</td>\n",
       "      <td>2007-05-16</td>\n",
       "      <td>16</td>\n",
       "    </tr>\n",
       "    <tr>\n",
       "      <th>2</th>\n",
       "      <td>NaN</td>\n",
       "      <td>Ahrens</td>\n",
       "      <td>Don</td>\n",
       "      <td>NaN</td>\n",
       "      <td>4034 Rennellwood Way</td>\n",
       "      <td>NaN</td>\n",
       "      <td>Pleasanton</td>\n",
       "      <td>CA</td>\n",
       "      <td>94566</td>\n",
       "      <td>50.0</td>\n",
       "      <td>2007-06-18</td>\n",
       "      <td>16</td>\n",
       "    </tr>\n",
       "    <tr>\n",
       "      <th>3</th>\n",
       "      <td>NaN</td>\n",
       "      <td>Ahrens</td>\n",
       "      <td>Don</td>\n",
       "      <td>NaN</td>\n",
       "      <td>4034 Rennellwood Way</td>\n",
       "      <td>NaN</td>\n",
       "      <td>Pleasanton</td>\n",
       "      <td>CA</td>\n",
       "      <td>94566</td>\n",
       "      <td>100.0</td>\n",
       "      <td>2007-06-21</td>\n",
       "      <td>16</td>\n",
       "    </tr>\n",
       "    <tr>\n",
       "      <th>4</th>\n",
       "      <td>NaN</td>\n",
       "      <td>Akin</td>\n",
       "      <td>Charles</td>\n",
       "      <td>NaN</td>\n",
       "      <td>10187 Sugar Creek Road</td>\n",
       "      <td>NaN</td>\n",
       "      <td>Bentonville</td>\n",
       "      <td>AR</td>\n",
       "      <td>72712</td>\n",
       "      <td>100.0</td>\n",
       "      <td>2007-06-16</td>\n",
       "      <td>16</td>\n",
       "    </tr>\n",
       "  </tbody>\n",
       "</table>\n",
       "</div>"
      ],
      "text/plain": [
       "   id last_name first_name middle_name                street_1 street_2  \\\n",
       "0 NaN      Agee     Steven         NaN  549 Laurel Branch Road      NaN   \n",
       "1 NaN    Ahrens        Don         NaN    4034 Rennellwood Way      NaN   \n",
       "2 NaN    Ahrens        Don         NaN    4034 Rennellwood Way      NaN   \n",
       "3 NaN    Ahrens        Don         NaN    4034 Rennellwood Way      NaN   \n",
       "4 NaN      Akin    Charles         NaN  10187 Sugar Creek Road      NaN   \n",
       "\n",
       "          city state    zip  amount        date  candidate_id  \n",
       "0        Floyd    VA  24091   500.0  2007-06-30            16  \n",
       "1   Pleasanton    CA  94566   250.0  2007-05-16            16  \n",
       "2   Pleasanton    CA  94566    50.0  2007-06-18            16  \n",
       "3   Pleasanton    CA  94566   100.0  2007-06-21            16  \n",
       "4  Bentonville    AR  72712   100.0  2007-06-16            16  "
      ]
     },
     "execution_count": 51,
     "metadata": {},
     "output_type": "execute_result"
    }
   ],
   "source": [
    "contributions.head()"
   ]
  },
  {
   "cell_type": "code",
   "execution_count": 52,
   "metadata": {},
   "outputs": [
    {
     "data": {
      "text/html": [
       "<div>\n",
       "<style scoped>\n",
       "    .dataframe tbody tr th:only-of-type {\n",
       "        vertical-align: middle;\n",
       "    }\n",
       "\n",
       "    .dataframe tbody tr th {\n",
       "        vertical-align: top;\n",
       "    }\n",
       "\n",
       "    .dataframe thead th {\n",
       "        text-align: right;\n",
       "    }\n",
       "</style>\n",
       "<table border=\"1\" class=\"dataframe\">\n",
       "  <thead>\n",
       "    <tr style=\"text-align: right;\">\n",
       "      <th></th>\n",
       "      <th>id</th>\n",
       "      <th>first_name</th>\n",
       "      <th>last_name</th>\n",
       "      <th>middle_name</th>\n",
       "      <th>party</th>\n",
       "    </tr>\n",
       "  </thead>\n",
       "  <tbody>\n",
       "    <tr>\n",
       "      <th>0</th>\n",
       "      <td>33</td>\n",
       "      <td>Joseph</td>\n",
       "      <td>Biden</td>\n",
       "      <td>NaN</td>\n",
       "      <td>D</td>\n",
       "    </tr>\n",
       "    <tr>\n",
       "      <th>1</th>\n",
       "      <td>36</td>\n",
       "      <td>Samuel</td>\n",
       "      <td>Brownback</td>\n",
       "      <td>NaN</td>\n",
       "      <td>R</td>\n",
       "    </tr>\n",
       "  </tbody>\n",
       "</table>\n",
       "</div>"
      ],
      "text/plain": [
       "   id first_name  last_name middle_name party\n",
       "0  33     Joseph      Biden         NaN     D\n",
       "1  36     Samuel  Brownback         NaN     R"
      ]
     },
     "execution_count": 52,
     "metadata": {},
     "output_type": "execute_result"
    }
   ],
   "source": [
    "candidates.head(2)"
   ]
  },
  {
   "cell_type": "code",
   "execution_count": 54,
   "metadata": {},
   "outputs": [],
   "source": [
    "merged=pd.merge(candidates,contributions,left_on='id',right_on='candidate_id')"
   ]
  },
  {
   "cell_type": "code",
   "execution_count": 55,
   "metadata": {},
   "outputs": [
    {
     "data": {
      "text/html": [
       "<div>\n",
       "<style scoped>\n",
       "    .dataframe tbody tr th:only-of-type {\n",
       "        vertical-align: middle;\n",
       "    }\n",
       "\n",
       "    .dataframe tbody tr th {\n",
       "        vertical-align: top;\n",
       "    }\n",
       "\n",
       "    .dataframe thead th {\n",
       "        text-align: right;\n",
       "    }\n",
       "</style>\n",
       "<table border=\"1\" class=\"dataframe\">\n",
       "  <thead>\n",
       "    <tr style=\"text-align: right;\">\n",
       "      <th></th>\n",
       "      <th>id_x</th>\n",
       "      <th>first_name_x</th>\n",
       "      <th>last_name_x</th>\n",
       "      <th>middle_name_x</th>\n",
       "      <th>party</th>\n",
       "      <th>id_y</th>\n",
       "      <th>last_name_y</th>\n",
       "      <th>first_name_y</th>\n",
       "      <th>middle_name_y</th>\n",
       "      <th>street_1</th>\n",
       "      <th>street_2</th>\n",
       "      <th>city</th>\n",
       "      <th>state</th>\n",
       "      <th>zip</th>\n",
       "      <th>amount</th>\n",
       "      <th>date</th>\n",
       "      <th>candidate_id</th>\n",
       "    </tr>\n",
       "  </thead>\n",
       "  <tbody>\n",
       "    <tr>\n",
       "      <th>0</th>\n",
       "      <td>34</td>\n",
       "      <td>Hillary</td>\n",
       "      <td>Clinton</td>\n",
       "      <td>R.</td>\n",
       "      <td>D</td>\n",
       "      <td>NaN</td>\n",
       "      <td>Aaronson</td>\n",
       "      <td>Rebecca</td>\n",
       "      <td>NaN</td>\n",
       "      <td>2000 Village Green Dr Apt 12</td>\n",
       "      <td>NaN</td>\n",
       "      <td>Mill Creek</td>\n",
       "      <td>WA</td>\n",
       "      <td>980125787</td>\n",
       "      <td>100.0</td>\n",
       "      <td>2008-02-08</td>\n",
       "      <td>34</td>\n",
       "    </tr>\n",
       "    <tr>\n",
       "      <th>1</th>\n",
       "      <td>34</td>\n",
       "      <td>Hillary</td>\n",
       "      <td>Clinton</td>\n",
       "      <td>R.</td>\n",
       "      <td>D</td>\n",
       "      <td>NaN</td>\n",
       "      <td>Aarons</td>\n",
       "      <td>Elaine</td>\n",
       "      <td>NaN</td>\n",
       "      <td>481 Buck Island Rd Apt 17A</td>\n",
       "      <td>APT 17A</td>\n",
       "      <td>West Yarmouth</td>\n",
       "      <td>MA</td>\n",
       "      <td>26733300</td>\n",
       "      <td>25.0</td>\n",
       "      <td>2008-02-26</td>\n",
       "      <td>34</td>\n",
       "    </tr>\n",
       "  </tbody>\n",
       "</table>\n",
       "</div>"
      ],
      "text/plain": [
       "   id_x first_name_x last_name_x middle_name_x party  id_y last_name_y  \\\n",
       "0    34      Hillary     Clinton            R.     D   NaN    Aaronson   \n",
       "1    34      Hillary     Clinton            R.     D   NaN      Aarons   \n",
       "\n",
       "  first_name_y middle_name_y                      street_1 street_2  \\\n",
       "0      Rebecca           NaN  2000 Village Green Dr Apt 12      NaN   \n",
       "1       Elaine           NaN    481 Buck Island Rd Apt 17A  APT 17A   \n",
       "\n",
       "            city state        zip  amount        date  candidate_id  \n",
       "0     Mill Creek    WA  980125787   100.0  2008-02-08            34  \n",
       "1  West Yarmouth    MA   26733300    25.0  2008-02-26            34  "
      ]
     },
     "execution_count": 55,
     "metadata": {},
     "output_type": "execute_result"
    }
   ],
   "source": [
    "merged.head(2)"
   ]
  },
  {
   "cell_type": "code",
   "execution_count": 56,
   "metadata": {},
   "outputs": [
    {
     "data": {
      "text/html": [
       "<div>\n",
       "<style scoped>\n",
       "    .dataframe tbody tr th:only-of-type {\n",
       "        vertical-align: middle;\n",
       "    }\n",
       "\n",
       "    .dataframe tbody tr th {\n",
       "        vertical-align: top;\n",
       "    }\n",
       "\n",
       "    .dataframe thead th {\n",
       "        text-align: right;\n",
       "    }\n",
       "</style>\n",
       "<table border=\"1\" class=\"dataframe\">\n",
       "  <thead>\n",
       "    <tr style=\"text-align: right;\">\n",
       "      <th></th>\n",
       "      <th>amount</th>\n",
       "    </tr>\n",
       "    <tr>\n",
       "      <th>party</th>\n",
       "      <th></th>\n",
       "    </tr>\n",
       "  </thead>\n",
       "  <tbody>\n",
       "    <tr>\n",
       "      <th>D</th>\n",
       "      <td>261.51780</td>\n",
       "    </tr>\n",
       "    <tr>\n",
       "      <th>R</th>\n",
       "      <td>-99.82176</td>\n",
       "    </tr>\n",
       "  </tbody>\n",
       "</table>\n",
       "</div>"
      ],
      "text/plain": [
       "          amount\n",
       "party           \n",
       "D      261.51780\n",
       "R      -99.82176"
      ]
     },
     "execution_count": 56,
     "metadata": {},
     "output_type": "execute_result"
    }
   ],
   "source": [
    "merged.groupby('party').agg({'amount':'mean'})"
   ]
  },
  {
   "cell_type": "code",
   "execution_count": null,
   "metadata": {},
   "outputs": [],
   "source": []
  }
 ],
 "metadata": {
  "kernelspec": {
   "display_name": "Python 3",
   "language": "python",
   "name": "python3"
  },
  "language_info": {
   "codemirror_mode": {
    "name": "ipython",
    "version": 3
   },
   "file_extension": ".py",
   "mimetype": "text/x-python",
   "name": "python",
   "nbconvert_exporter": "python",
   "pygments_lexer": "ipython3",
   "version": "3.7.2"
  }
 },
 "nbformat": 4,
 "nbformat_minor": 2
}
