{
 "cells": [
  {
   "cell_type": "code",
   "execution_count": 1,
   "metadata": {},
   "outputs": [],
   "source": [
    "####\n",
    "# Filter: indexers+query\n",
    "# Sort+Groupby\n",
    "# Misc: Running a loop for a table \n",
    "# .map(), .apply()\n",
    "# Rowise, Columnwise"
   ]
  },
  {
   "cell_type": "code",
   "execution_count": 2,
   "metadata": {},
   "outputs": [],
   "source": [
    "import pandas as pd\n",
    "path=\"/Users/gunnvantsaini/Store.csv\"\n",
    "data=pd.read_csv(path)"
   ]
  },
  {
   "cell_type": "code",
   "execution_count": 4,
   "metadata": {},
   "outputs": [
    {
     "data": {
      "text/html": [
       "<div>\n",
       "<style scoped>\n",
       "    .dataframe tbody tr th:only-of-type {\n",
       "        vertical-align: middle;\n",
       "    }\n",
       "\n",
       "    .dataframe tbody tr th {\n",
       "        vertical-align: top;\n",
       "    }\n",
       "\n",
       "    .dataframe thead th {\n",
       "        text-align: right;\n",
       "    }\n",
       "</style>\n",
       "<table border=\"1\" class=\"dataframe\">\n",
       "  <thead>\n",
       "    <tr style=\"text-align: right;\">\n",
       "      <th></th>\n",
       "      <th>Unnamed: 0</th>\n",
       "      <th>Row ID</th>\n",
       "      <th>Order ID</th>\n",
       "      <th>Order Date</th>\n",
       "      <th>Ship Date</th>\n",
       "      <th>Ship Mode</th>\n",
       "      <th>Customer ID</th>\n",
       "      <th>Customer Name</th>\n",
       "      <th>Segment</th>\n",
       "      <th>Country</th>\n",
       "      <th>...</th>\n",
       "      <th>Postal Code</th>\n",
       "      <th>Region</th>\n",
       "      <th>Product ID</th>\n",
       "      <th>Category</th>\n",
       "      <th>Sub-Category</th>\n",
       "      <th>Product Name</th>\n",
       "      <th>Sales</th>\n",
       "      <th>Quantity</th>\n",
       "      <th>Discount</th>\n",
       "      <th>Profit</th>\n",
       "    </tr>\n",
       "  </thead>\n",
       "  <tbody>\n",
       "    <tr>\n",
       "      <th>0</th>\n",
       "      <td>0</td>\n",
       "      <td>1</td>\n",
       "      <td>CA-2013-152156</td>\n",
       "      <td>11/9/2013</td>\n",
       "      <td>11/12/2013</td>\n",
       "      <td>Second Class</td>\n",
       "      <td>CG-12520</td>\n",
       "      <td>Claire Gute</td>\n",
       "      <td>Consumer</td>\n",
       "      <td>United States</td>\n",
       "      <td>...</td>\n",
       "      <td>42420</td>\n",
       "      <td>South</td>\n",
       "      <td>FUR-BO-10001798</td>\n",
       "      <td>Furniture</td>\n",
       "      <td>Bookcases</td>\n",
       "      <td>Bush Somerset Collection Bookcase</td>\n",
       "      <td>261.96</td>\n",
       "      <td>2</td>\n",
       "      <td>0.0</td>\n",
       "      <td>41.9136</td>\n",
       "    </tr>\n",
       "    <tr>\n",
       "      <th>1</th>\n",
       "      <td>1</td>\n",
       "      <td>2</td>\n",
       "      <td>CA-2013-152156</td>\n",
       "      <td>11/9/2013</td>\n",
       "      <td>11/12/2013</td>\n",
       "      <td>Second Class</td>\n",
       "      <td>CG-12520</td>\n",
       "      <td>Claire Gute</td>\n",
       "      <td>Consumer</td>\n",
       "      <td>United States</td>\n",
       "      <td>...</td>\n",
       "      <td>42420</td>\n",
       "      <td>South</td>\n",
       "      <td>FUR-CH-10000454</td>\n",
       "      <td>Furniture</td>\n",
       "      <td>Chairs</td>\n",
       "      <td>Hon Deluxe Fabric Upholstered Stacking Chairs,...</td>\n",
       "      <td>731.94</td>\n",
       "      <td>3</td>\n",
       "      <td>0.0</td>\n",
       "      <td>219.5820</td>\n",
       "    </tr>\n",
       "  </tbody>\n",
       "</table>\n",
       "<p>2 rows × 22 columns</p>\n",
       "</div>"
      ],
      "text/plain": [
       "   Unnamed: 0  Row ID        Order ID Order Date   Ship Date     Ship Mode  \\\n",
       "0           0       1  CA-2013-152156  11/9/2013  11/12/2013  Second Class   \n",
       "1           1       2  CA-2013-152156  11/9/2013  11/12/2013  Second Class   \n",
       "\n",
       "  Customer ID Customer Name   Segment        Country  ... Postal Code Region  \\\n",
       "0    CG-12520   Claire Gute  Consumer  United States  ...       42420  South   \n",
       "1    CG-12520   Claire Gute  Consumer  United States  ...       42420  South   \n",
       "\n",
       "        Product ID   Category Sub-Category  \\\n",
       "0  FUR-BO-10001798  Furniture    Bookcases   \n",
       "1  FUR-CH-10000454  Furniture       Chairs   \n",
       "\n",
       "                                        Product Name   Sales Quantity  \\\n",
       "0                  Bush Somerset Collection Bookcase  261.96        2   \n",
       "1  Hon Deluxe Fabric Upholstered Stacking Chairs,...  731.94        3   \n",
       "\n",
       "   Discount    Profit  \n",
       "0       0.0   41.9136  \n",
       "1       0.0  219.5820  \n",
       "\n",
       "[2 rows x 22 columns]"
      ]
     },
     "execution_count": 4,
     "metadata": {},
     "output_type": "execute_result"
    }
   ],
   "source": [
    "data.head(2)"
   ]
  },
  {
   "cell_type": "code",
   "execution_count": 16,
   "metadata": {},
   "outputs": [],
   "source": [
    "### I want to count how many high profit customers I have in the furniture category:\n",
    "# high profit: Buy at least 4 items+I don't have to give any discount+From Southern \n",
    "# region\n",
    "## No filter to be used? \n",
    "# apply()\n",
    "def get_cat(x):\n",
    "    if x['Quantity']>=4 and x['Discount']==0 and x['Region']=='South':\n",
    "        return \"High\"\n",
    "    else:\n",
    "        return \"Low\""
   ]
  },
  {
   "cell_type": "code",
   "execution_count": 17,
   "metadata": {},
   "outputs": [
    {
     "data": {
      "text/plain": [
       "Office Supplies    6026\n",
       "Furniture          2121\n",
       "Technology         1847\n",
       "Name: Category, dtype: int64"
      ]
     },
     "execution_count": 17,
     "metadata": {},
     "output_type": "execute_result"
    }
   ],
   "source": [
    "data['Category'].value_counts()"
   ]
  },
  {
   "cell_type": "code",
   "execution_count": 18,
   "metadata": {},
   "outputs": [
    {
     "data": {
      "text/plain": [
       "Low     9623\n",
       "High     371\n",
       "dtype: int64"
      ]
     },
     "execution_count": 18,
     "metadata": {},
     "output_type": "execute_result"
    }
   ],
   "source": [
    "data.apply(get_cat,axis=1).value_counts()"
   ]
  },
  {
   "cell_type": "code",
   "execution_count": 11,
   "metadata": {},
   "outputs": [
    {
     "data": {
      "text/plain": [
       "0        Low\n",
       "1        Low\n",
       "2        Low\n",
       "3        Low\n",
       "4        Low\n",
       "5        Low\n",
       "6        Low\n",
       "7        Low\n",
       "8        Low\n",
       "9        Low\n",
       "10       Low\n",
       "11       Low\n",
       "12       Low\n",
       "13       Low\n",
       "14       Low\n",
       "15       Low\n",
       "16       Low\n",
       "17       Low\n",
       "18       Low\n",
       "19       Low\n",
       "20       Low\n",
       "21       Low\n",
       "22       Low\n",
       "23       Low\n",
       "24       Low\n",
       "25       Low\n",
       "26       Low\n",
       "27       Low\n",
       "28       Low\n",
       "29       Low\n",
       "        ... \n",
       "9964     Low\n",
       "9965     Low\n",
       "9966     Low\n",
       "9967     Low\n",
       "9968     Low\n",
       "9969     Low\n",
       "9970     Low\n",
       "9971    High\n",
       "9972     Low\n",
       "9973     Low\n",
       "9974     Low\n",
       "9975     Low\n",
       "9976     Low\n",
       "9977     Low\n",
       "9978     Low\n",
       "9979     Low\n",
       "9980     Low\n",
       "9981     Low\n",
       "9982     Low\n",
       "9983     Low\n",
       "9984     Low\n",
       "9985     Low\n",
       "9986     Low\n",
       "9987     Low\n",
       "9988    High\n",
       "9989     Low\n",
       "9990     Low\n",
       "9991     Low\n",
       "9992     Low\n",
       "9993     Low\n",
       "Length: 9994, dtype: object"
      ]
     },
     "execution_count": 11,
     "metadata": {},
     "output_type": "execute_result"
    }
   ],
   "source": [
    "data.apply(get_cat,axis=1)"
   ]
  },
  {
   "cell_type": "code",
   "execution_count": 19,
   "metadata": {},
   "outputs": [],
   "source": [
    "## value_counts df or series?\n",
    "path2=\"/Users/gunnvantsaini/Data/Work/Python Trainings/PythonForModellers/Data/comey.csv\""
   ]
  },
  {
   "cell_type": "code",
   "execution_count": 22,
   "metadata": {},
   "outputs": [],
   "source": [
    "comey=pd.read_csv(path2)"
   ]
  },
  {
   "cell_type": "code",
   "execution_count": 23,
   "metadata": {},
   "outputs": [
    {
     "data": {
      "text/html": [
       "<div>\n",
       "<style scoped>\n",
       "    .dataframe tbody tr th:only-of-type {\n",
       "        vertical-align: middle;\n",
       "    }\n",
       "\n",
       "    .dataframe tbody tr th {\n",
       "        vertical-align: top;\n",
       "    }\n",
       "\n",
       "    .dataframe thead th {\n",
       "        text-align: right;\n",
       "    }\n",
       "</style>\n",
       "<table border=\"1\" class=\"dataframe\">\n",
       "  <thead>\n",
       "    <tr style=\"text-align: right;\">\n",
       "      <th></th>\n",
       "      <th>Senator</th>\n",
       "      <th>Party Affiliation</th>\n",
       "      <th>Full Question</th>\n",
       "      <th>Comey</th>\n",
       "      <th>Comey Response</th>\n",
       "    </tr>\n",
       "  </thead>\n",
       "  <tbody>\n",
       "    <tr>\n",
       "      <th>0</th>\n",
       "      <td>BURR</td>\n",
       "      <td>Republican</td>\n",
       "      <td>Do you have any doubt that Russia attempted to...</td>\n",
       "      <td>COMEY</td>\n",
       "      <td>None.</td>\n",
       "    </tr>\n",
       "    <tr>\n",
       "      <th>1</th>\n",
       "      <td>BURR</td>\n",
       "      <td>Republican</td>\n",
       "      <td>Do you have any doubt that the Russian governm...</td>\n",
       "      <td>COMEY</td>\n",
       "      <td>No, no doubt.</td>\n",
       "    </tr>\n",
       "    <tr>\n",
       "      <th>2</th>\n",
       "      <td>BURR</td>\n",
       "      <td>Republican</td>\n",
       "      <td>Do you have any doubt the Russian government w...</td>\n",
       "      <td>COMEY</td>\n",
       "      <td>No.</td>\n",
       "    </tr>\n",
       "    <tr>\n",
       "      <th>3</th>\n",
       "      <td>BURR</td>\n",
       "      <td>Republican</td>\n",
       "      <td>Are you confident that no votes cast in the 20...</td>\n",
       "      <td>COMEY</td>\n",
       "      <td>I'm confident. When I left as director I had s...</td>\n",
       "    </tr>\n",
       "    <tr>\n",
       "      <th>4</th>\n",
       "      <td>BURR</td>\n",
       "      <td>Republican</td>\n",
       "      <td>Director Comey, did the president at any time ...</td>\n",
       "      <td>COMEY</td>\n",
       "      <td>Not to my understanding, no.</td>\n",
       "    </tr>\n",
       "  </tbody>\n",
       "</table>\n",
       "</div>"
      ],
      "text/plain": [
       "  Senator Party Affiliation  \\\n",
       "0    BURR        Republican   \n",
       "1    BURR        Republican   \n",
       "2    BURR        Republican   \n",
       "3    BURR        Republican   \n",
       "4    BURR        Republican   \n",
       "\n",
       "                                       Full Question  Comey  \\\n",
       "0  Do you have any doubt that Russia attempted to...  COMEY   \n",
       "1  Do you have any doubt that the Russian governm...  COMEY   \n",
       "2  Do you have any doubt the Russian government w...  COMEY   \n",
       "3  Are you confident that no votes cast in the 20...  COMEY   \n",
       "4  Director Comey, did the president at any time ...  COMEY   \n",
       "\n",
       "                                      Comey Response  \n",
       "0                                              None.  \n",
       "1                                      No, no doubt.  \n",
       "2                                                No.  \n",
       "3  I'm confident. When I left as director I had s...  \n",
       "4                       Not to my understanding, no.  "
      ]
     },
     "execution_count": 23,
     "metadata": {},
     "output_type": "execute_result"
    }
   ],
   "source": [
    "comey.head()"
   ]
  },
  {
   "cell_type": "code",
   "execution_count": 24,
   "metadata": {},
   "outputs": [],
   "source": [
    "def get_len(x):\n",
    "    return len(x.split(\" \"))"
   ]
  },
  {
   "cell_type": "code",
   "execution_count": 26,
   "metadata": {},
   "outputs": [],
   "source": [
    "comey['Len_Q']=comey['Full Question'].map(get_len)"
   ]
  },
  {
   "cell_type": "code",
   "execution_count": 28,
   "metadata": {},
   "outputs": [],
   "source": [
    "comey['Len_A']=comey['Comey Response'].map(get_len)"
   ]
  },
  {
   "cell_type": "code",
   "execution_count": 29,
   "metadata": {},
   "outputs": [
    {
     "data": {
      "text/html": [
       "<div>\n",
       "<style scoped>\n",
       "    .dataframe tbody tr th:only-of-type {\n",
       "        vertical-align: middle;\n",
       "    }\n",
       "\n",
       "    .dataframe tbody tr th {\n",
       "        vertical-align: top;\n",
       "    }\n",
       "\n",
       "    .dataframe thead th {\n",
       "        text-align: right;\n",
       "    }\n",
       "</style>\n",
       "<table border=\"1\" class=\"dataframe\">\n",
       "  <thead>\n",
       "    <tr style=\"text-align: right;\">\n",
       "      <th></th>\n",
       "      <th>Senator</th>\n",
       "      <th>Party Affiliation</th>\n",
       "      <th>Full Question</th>\n",
       "      <th>Comey</th>\n",
       "      <th>Comey Response</th>\n",
       "      <th>Len_Q</th>\n",
       "      <th>Len_A</th>\n",
       "    </tr>\n",
       "  </thead>\n",
       "  <tbody>\n",
       "    <tr>\n",
       "      <th>0</th>\n",
       "      <td>BURR</td>\n",
       "      <td>Republican</td>\n",
       "      <td>Do you have any doubt that Russia attempted to...</td>\n",
       "      <td>COMEY</td>\n",
       "      <td>None.</td>\n",
       "      <td>14</td>\n",
       "      <td>1</td>\n",
       "    </tr>\n",
       "    <tr>\n",
       "      <th>1</th>\n",
       "      <td>BURR</td>\n",
       "      <td>Republican</td>\n",
       "      <td>Do you have any doubt that the Russian governm...</td>\n",
       "      <td>COMEY</td>\n",
       "      <td>No, no doubt.</td>\n",
       "      <td>26</td>\n",
       "      <td>3</td>\n",
       "    </tr>\n",
       "    <tr>\n",
       "      <th>2</th>\n",
       "      <td>BURR</td>\n",
       "      <td>Republican</td>\n",
       "      <td>Do you have any doubt the Russian government w...</td>\n",
       "      <td>COMEY</td>\n",
       "      <td>No.</td>\n",
       "      <td>18</td>\n",
       "      <td>1</td>\n",
       "    </tr>\n",
       "    <tr>\n",
       "      <th>3</th>\n",
       "      <td>BURR</td>\n",
       "      <td>Republican</td>\n",
       "      <td>Are you confident that no votes cast in the 20...</td>\n",
       "      <td>COMEY</td>\n",
       "      <td>I'm confident. When I left as director I had s...</td>\n",
       "      <td>14</td>\n",
       "      <td>15</td>\n",
       "    </tr>\n",
       "    <tr>\n",
       "      <th>4</th>\n",
       "      <td>BURR</td>\n",
       "      <td>Republican</td>\n",
       "      <td>Director Comey, did the president at any time ...</td>\n",
       "      <td>COMEY</td>\n",
       "      <td>Not to my understanding, no.</td>\n",
       "      <td>23</td>\n",
       "      <td>5</td>\n",
       "    </tr>\n",
       "  </tbody>\n",
       "</table>\n",
       "</div>"
      ],
      "text/plain": [
       "  Senator Party Affiliation  \\\n",
       "0    BURR        Republican   \n",
       "1    BURR        Republican   \n",
       "2    BURR        Republican   \n",
       "3    BURR        Republican   \n",
       "4    BURR        Republican   \n",
       "\n",
       "                                       Full Question  Comey  \\\n",
       "0  Do you have any doubt that Russia attempted to...  COMEY   \n",
       "1  Do you have any doubt that the Russian governm...  COMEY   \n",
       "2  Do you have any doubt the Russian government w...  COMEY   \n",
       "3  Are you confident that no votes cast in the 20...  COMEY   \n",
       "4  Director Comey, did the president at any time ...  COMEY   \n",
       "\n",
       "                                      Comey Response  Len_Q  Len_A  \n",
       "0                                              None.     14      1  \n",
       "1                                      No, no doubt.     26      3  \n",
       "2                                                No.     18      1  \n",
       "3  I'm confident. When I left as director I had s...     14     15  \n",
       "4                       Not to my understanding, no.     23      5  "
      ]
     },
     "execution_count": 29,
     "metadata": {},
     "output_type": "execute_result"
    }
   ],
   "source": [
    "comey.head()"
   ]
  },
  {
   "cell_type": "code",
   "execution_count": 30,
   "metadata": {},
   "outputs": [
    {
     "data": {
      "text/html": [
       "<div>\n",
       "<style scoped>\n",
       "    .dataframe tbody tr th:only-of-type {\n",
       "        vertical-align: middle;\n",
       "    }\n",
       "\n",
       "    .dataframe tbody tr th {\n",
       "        vertical-align: top;\n",
       "    }\n",
       "\n",
       "    .dataframe thead th {\n",
       "        text-align: right;\n",
       "    }\n",
       "</style>\n",
       "<table border=\"1\" class=\"dataframe\">\n",
       "  <thead>\n",
       "    <tr style=\"text-align: right;\">\n",
       "      <th></th>\n",
       "      <th>Len_Q</th>\n",
       "      <th>Len_A</th>\n",
       "    </tr>\n",
       "    <tr>\n",
       "      <th>Party Affiliation</th>\n",
       "      <th></th>\n",
       "      <th></th>\n",
       "    </tr>\n",
       "  </thead>\n",
       "  <tbody>\n",
       "    <tr>\n",
       "      <th>Democrat</th>\n",
       "      <td>37.236364</td>\n",
       "      <td>43.309091</td>\n",
       "    </tr>\n",
       "    <tr>\n",
       "      <th>Independent</th>\n",
       "      <td>29.500000</td>\n",
       "      <td>23.350000</td>\n",
       "    </tr>\n",
       "    <tr>\n",
       "      <th>Republican</th>\n",
       "      <td>39.839286</td>\n",
       "      <td>25.875000</td>\n",
       "    </tr>\n",
       "  </tbody>\n",
       "</table>\n",
       "</div>"
      ],
      "text/plain": [
       "                       Len_Q      Len_A\n",
       "Party Affiliation                      \n",
       "Democrat           37.236364  43.309091\n",
       "Independent        29.500000  23.350000\n",
       "Republican         39.839286  25.875000"
      ]
     },
     "execution_count": 30,
     "metadata": {},
     "output_type": "execute_result"
    }
   ],
   "source": [
    "comey.groupby(\"Party Affiliation\").agg({'Len_Q':'mean','Len_A':'mean'})"
   ]
  },
  {
   "cell_type": "code",
   "execution_count": 31,
   "metadata": {},
   "outputs": [
    {
     "data": {
      "text/plain": [
       "0       14\n",
       "1       26\n",
       "2       18\n",
       "3       14\n",
       "4       23\n",
       "5       18\n",
       "6       91\n",
       "7       32\n",
       "8       23\n",
       "9       46\n",
       "10      70\n",
       "11      46\n",
       "12      20\n",
       "13      13\n",
       "14      54\n",
       "15      19\n",
       "16      10\n",
       "17      19\n",
       "18      19\n",
       "19      10\n",
       "20      20\n",
       "21      11\n",
       "22      45\n",
       "23       3\n",
       "24      12\n",
       "25      38\n",
       "26      16\n",
       "27      80\n",
       "28     201\n",
       "29      63\n",
       "      ... \n",
       "268     52\n",
       "269     24\n",
       "270     70\n",
       "271      9\n",
       "272    116\n",
       "273      4\n",
       "274    108\n",
       "275     25\n",
       "276     25\n",
       "277     49\n",
       "278     43\n",
       "279      4\n",
       "280     23\n",
       "281    160\n",
       "282     45\n",
       "283     87\n",
       "284      4\n",
       "285     14\n",
       "286     15\n",
       "287    145\n",
       "288      2\n",
       "289     60\n",
       "290     58\n",
       "291    112\n",
       "292     19\n",
       "293     91\n",
       "294      5\n",
       "295     42\n",
       "296     49\n",
       "297     50\n",
       "Name: Full Question, Length: 298, dtype: int64"
      ]
     },
     "execution_count": 31,
     "metadata": {},
     "output_type": "execute_result"
    }
   ],
   "source": [
    "comey['Full Question'].map(lambda x:len(x.split(\" \")))"
   ]
  },
  {
   "cell_type": "code",
   "execution_count": 32,
   "metadata": {},
   "outputs": [
    {
     "data": {
      "text/html": [
       "<div>\n",
       "<style scoped>\n",
       "    .dataframe tbody tr th:only-of-type {\n",
       "        vertical-align: middle;\n",
       "    }\n",
       "\n",
       "    .dataframe tbody tr th {\n",
       "        vertical-align: top;\n",
       "    }\n",
       "\n",
       "    .dataframe thead th {\n",
       "        text-align: right;\n",
       "    }\n",
       "</style>\n",
       "<table border=\"1\" class=\"dataframe\">\n",
       "  <thead>\n",
       "    <tr style=\"text-align: right;\">\n",
       "      <th></th>\n",
       "      <th>Unnamed: 0</th>\n",
       "      <th>Row ID</th>\n",
       "      <th>Order ID</th>\n",
       "      <th>Order Date</th>\n",
       "      <th>Ship Date</th>\n",
       "      <th>Ship Mode</th>\n",
       "      <th>Customer ID</th>\n",
       "      <th>Customer Name</th>\n",
       "      <th>Segment</th>\n",
       "      <th>Country</th>\n",
       "      <th>...</th>\n",
       "      <th>Postal Code</th>\n",
       "      <th>Region</th>\n",
       "      <th>Product ID</th>\n",
       "      <th>Category</th>\n",
       "      <th>Sub-Category</th>\n",
       "      <th>Product Name</th>\n",
       "      <th>Sales</th>\n",
       "      <th>Quantity</th>\n",
       "      <th>Discount</th>\n",
       "      <th>Profit</th>\n",
       "    </tr>\n",
       "  </thead>\n",
       "  <tbody>\n",
       "    <tr>\n",
       "      <th>0</th>\n",
       "      <td>0</td>\n",
       "      <td>1</td>\n",
       "      <td>CA-2013-152156</td>\n",
       "      <td>11/9/2013</td>\n",
       "      <td>11/12/2013</td>\n",
       "      <td>Second Class</td>\n",
       "      <td>CG-12520</td>\n",
       "      <td>Claire Gute</td>\n",
       "      <td>Consumer</td>\n",
       "      <td>United States</td>\n",
       "      <td>...</td>\n",
       "      <td>42420</td>\n",
       "      <td>South</td>\n",
       "      <td>FUR-BO-10001798</td>\n",
       "      <td>Furniture</td>\n",
       "      <td>Bookcases</td>\n",
       "      <td>Bush Somerset Collection Bookcase</td>\n",
       "      <td>261.9600</td>\n",
       "      <td>2</td>\n",
       "      <td>0.00</td>\n",
       "      <td>41.9136</td>\n",
       "    </tr>\n",
       "    <tr>\n",
       "      <th>1</th>\n",
       "      <td>1</td>\n",
       "      <td>2</td>\n",
       "      <td>CA-2013-152156</td>\n",
       "      <td>11/9/2013</td>\n",
       "      <td>11/12/2013</td>\n",
       "      <td>Second Class</td>\n",
       "      <td>CG-12520</td>\n",
       "      <td>Claire Gute</td>\n",
       "      <td>Consumer</td>\n",
       "      <td>United States</td>\n",
       "      <td>...</td>\n",
       "      <td>42420</td>\n",
       "      <td>South</td>\n",
       "      <td>FUR-CH-10000454</td>\n",
       "      <td>Furniture</td>\n",
       "      <td>Chairs</td>\n",
       "      <td>Hon Deluxe Fabric Upholstered Stacking Chairs,...</td>\n",
       "      <td>731.9400</td>\n",
       "      <td>3</td>\n",
       "      <td>0.00</td>\n",
       "      <td>219.5820</td>\n",
       "    </tr>\n",
       "    <tr>\n",
       "      <th>2</th>\n",
       "      <td>2</td>\n",
       "      <td>3</td>\n",
       "      <td>CA-2013-138688</td>\n",
       "      <td>6/13/2013</td>\n",
       "      <td>6/17/2013</td>\n",
       "      <td>Second Class</td>\n",
       "      <td>DV-13045</td>\n",
       "      <td>Darrin Van Huff</td>\n",
       "      <td>Corporate</td>\n",
       "      <td>United States</td>\n",
       "      <td>...</td>\n",
       "      <td>90036</td>\n",
       "      <td>West</td>\n",
       "      <td>OFF-LA-10000240</td>\n",
       "      <td>Office Supplies</td>\n",
       "      <td>Labels</td>\n",
       "      <td>Self-Adhesive Address Labels for Typewriters b...</td>\n",
       "      <td>14.6200</td>\n",
       "      <td>2</td>\n",
       "      <td>0.00</td>\n",
       "      <td>6.8714</td>\n",
       "    </tr>\n",
       "    <tr>\n",
       "      <th>3</th>\n",
       "      <td>3</td>\n",
       "      <td>4</td>\n",
       "      <td>US-2012-108966</td>\n",
       "      <td>10/11/2012</td>\n",
       "      <td>10/18/2012</td>\n",
       "      <td>Standard Class</td>\n",
       "      <td>SO-20335</td>\n",
       "      <td>Sean O'Donnell</td>\n",
       "      <td>Consumer</td>\n",
       "      <td>United States</td>\n",
       "      <td>...</td>\n",
       "      <td>33311</td>\n",
       "      <td>South</td>\n",
       "      <td>FUR-TA-10000577</td>\n",
       "      <td>Furniture</td>\n",
       "      <td>Tables</td>\n",
       "      <td>Bretford CR4500 Series Slim Rectangular Table</td>\n",
       "      <td>957.5775</td>\n",
       "      <td>5</td>\n",
       "      <td>0.45</td>\n",
       "      <td>-383.0310</td>\n",
       "    </tr>\n",
       "    <tr>\n",
       "      <th>4</th>\n",
       "      <td>4</td>\n",
       "      <td>5</td>\n",
       "      <td>US-2012-108966</td>\n",
       "      <td>10/11/2012</td>\n",
       "      <td>10/18/2012</td>\n",
       "      <td>Standard Class</td>\n",
       "      <td>SO-20335</td>\n",
       "      <td>Sean O'Donnell</td>\n",
       "      <td>Consumer</td>\n",
       "      <td>United States</td>\n",
       "      <td>...</td>\n",
       "      <td>33311</td>\n",
       "      <td>South</td>\n",
       "      <td>OFF-ST-10000760</td>\n",
       "      <td>Office Supplies</td>\n",
       "      <td>Storage</td>\n",
       "      <td>Eldon Fold 'N Roll Cart System</td>\n",
       "      <td>22.3680</td>\n",
       "      <td>2</td>\n",
       "      <td>0.20</td>\n",
       "      <td>2.5164</td>\n",
       "    </tr>\n",
       "  </tbody>\n",
       "</table>\n",
       "<p>5 rows × 22 columns</p>\n",
       "</div>"
      ],
      "text/plain": [
       "   Unnamed: 0  Row ID        Order ID  Order Date   Ship Date       Ship Mode  \\\n",
       "0           0       1  CA-2013-152156   11/9/2013  11/12/2013    Second Class   \n",
       "1           1       2  CA-2013-152156   11/9/2013  11/12/2013    Second Class   \n",
       "2           2       3  CA-2013-138688   6/13/2013   6/17/2013    Second Class   \n",
       "3           3       4  US-2012-108966  10/11/2012  10/18/2012  Standard Class   \n",
       "4           4       5  US-2012-108966  10/11/2012  10/18/2012  Standard Class   \n",
       "\n",
       "  Customer ID    Customer Name    Segment        Country  ... Postal Code  \\\n",
       "0    CG-12520      Claire Gute   Consumer  United States  ...       42420   \n",
       "1    CG-12520      Claire Gute   Consumer  United States  ...       42420   \n",
       "2    DV-13045  Darrin Van Huff  Corporate  United States  ...       90036   \n",
       "3    SO-20335   Sean O'Donnell   Consumer  United States  ...       33311   \n",
       "4    SO-20335   Sean O'Donnell   Consumer  United States  ...       33311   \n",
       "\n",
       "  Region       Product ID         Category Sub-Category  \\\n",
       "0  South  FUR-BO-10001798        Furniture    Bookcases   \n",
       "1  South  FUR-CH-10000454        Furniture       Chairs   \n",
       "2   West  OFF-LA-10000240  Office Supplies       Labels   \n",
       "3  South  FUR-TA-10000577        Furniture       Tables   \n",
       "4  South  OFF-ST-10000760  Office Supplies      Storage   \n",
       "\n",
       "                                        Product Name     Sales Quantity  \\\n",
       "0                  Bush Somerset Collection Bookcase  261.9600        2   \n",
       "1  Hon Deluxe Fabric Upholstered Stacking Chairs,...  731.9400        3   \n",
       "2  Self-Adhesive Address Labels for Typewriters b...   14.6200        2   \n",
       "3      Bretford CR4500 Series Slim Rectangular Table  957.5775        5   \n",
       "4                     Eldon Fold 'N Roll Cart System   22.3680        2   \n",
       "\n",
       "   Discount    Profit  \n",
       "0      0.00   41.9136  \n",
       "1      0.00  219.5820  \n",
       "2      0.00    6.8714  \n",
       "3      0.45 -383.0310  \n",
       "4      0.20    2.5164  \n",
       "\n",
       "[5 rows x 22 columns]"
      ]
     },
     "execution_count": 32,
     "metadata": {},
     "output_type": "execute_result"
    }
   ],
   "source": [
    "data.head()"
   ]
  },
  {
   "cell_type": "code",
   "execution_count": 33,
   "metadata": {},
   "outputs": [
    {
     "data": {
      "text/plain": [
       "Unnamed: 0         int64\n",
       "Row ID             int64\n",
       "Order ID          object\n",
       "Order Date        object\n",
       "Ship Date         object\n",
       "Ship Mode         object\n",
       "Customer ID       object\n",
       "Customer Name     object\n",
       "Segment           object\n",
       "Country           object\n",
       "City              object\n",
       "State             object\n",
       "Postal Code        int64\n",
       "Region            object\n",
       "Product ID        object\n",
       "Category          object\n",
       "Sub-Category      object\n",
       "Product Name      object\n",
       "Sales            float64\n",
       "Quantity           int64\n",
       "Discount         float64\n",
       "Profit           float64\n",
       "dtype: object"
      ]
     },
     "execution_count": 33,
     "metadata": {},
     "output_type": "execute_result"
    }
   ],
   "source": [
    "### weekdays, months, years, min, secs\n",
    "# convert the column with datestring into a date type\n",
    "data.dtypes"
   ]
  },
  {
   "cell_type": "code",
   "execution_count": 35,
   "metadata": {},
   "outputs": [],
   "source": [
    "data['Order Date']=pd.to_datetime(data['Order Date'])"
   ]
  },
  {
   "cell_type": "code",
   "execution_count": 36,
   "metadata": {},
   "outputs": [
    {
     "data": {
      "text/plain": [
       "Unnamed: 0                int64\n",
       "Row ID                    int64\n",
       "Order ID                 object\n",
       "Order Date       datetime64[ns]\n",
       "Ship Date                object\n",
       "Ship Mode                object\n",
       "Customer ID              object\n",
       "Customer Name            object\n",
       "Segment                  object\n",
       "Country                  object\n",
       "City                     object\n",
       "State                    object\n",
       "Postal Code               int64\n",
       "Region                   object\n",
       "Product ID               object\n",
       "Category                 object\n",
       "Sub-Category             object\n",
       "Product Name             object\n",
       "Sales                   float64\n",
       "Quantity                  int64\n",
       "Discount                float64\n",
       "Profit                  float64\n",
       "dtype: object"
      ]
     },
     "execution_count": 36,
     "metadata": {},
     "output_type": "execute_result"
    }
   ],
   "source": [
    "data.dtypes"
   ]
  },
  {
   "cell_type": "code",
   "execution_count": 40,
   "metadata": {},
   "outputs": [
    {
     "data": {
      "text/plain": [
       "0    2013\n",
       "1    2013\n",
       "Name: Order Date, dtype: int64"
      ]
     },
     "execution_count": 40,
     "metadata": {},
     "output_type": "execute_result"
    }
   ],
   "source": [
    "data['Order Date'].dt.year.head(2)"
   ]
  },
  {
   "cell_type": "code",
   "execution_count": 41,
   "metadata": {},
   "outputs": [],
   "source": [
    "data['Ship Date']=pd.to_datetime(data['Ship Date'])"
   ]
  },
  {
   "cell_type": "code",
   "execution_count": 43,
   "metadata": {},
   "outputs": [],
   "source": [
    "data['duration']=data['Ship Date']-data['Order Date']"
   ]
  },
  {
   "cell_type": "code",
   "execution_count": 46,
   "metadata": {},
   "outputs": [
    {
     "data": {
      "text/html": [
       "<div>\n",
       "<style scoped>\n",
       "    .dataframe tbody tr th:only-of-type {\n",
       "        vertical-align: middle;\n",
       "    }\n",
       "\n",
       "    .dataframe tbody tr th {\n",
       "        vertical-align: top;\n",
       "    }\n",
       "\n",
       "    .dataframe thead th {\n",
       "        text-align: right;\n",
       "    }\n",
       "</style>\n",
       "<table border=\"1\" class=\"dataframe\">\n",
       "  <thead>\n",
       "    <tr style=\"text-align: right;\">\n",
       "      <th></th>\n",
       "      <th>Unnamed: 0</th>\n",
       "      <th>Row ID</th>\n",
       "      <th>Order ID</th>\n",
       "      <th>Order Date</th>\n",
       "      <th>Ship Date</th>\n",
       "      <th>Ship Mode</th>\n",
       "      <th>Customer ID</th>\n",
       "      <th>Customer Name</th>\n",
       "      <th>Segment</th>\n",
       "      <th>Country</th>\n",
       "      <th>...</th>\n",
       "      <th>Region</th>\n",
       "      <th>Product ID</th>\n",
       "      <th>Category</th>\n",
       "      <th>Sub-Category</th>\n",
       "      <th>Product Name</th>\n",
       "      <th>Sales</th>\n",
       "      <th>Quantity</th>\n",
       "      <th>Discount</th>\n",
       "      <th>Profit</th>\n",
       "      <th>duration</th>\n",
       "    </tr>\n",
       "  </thead>\n",
       "  <tbody>\n",
       "    <tr>\n",
       "      <th>2</th>\n",
       "      <td>2</td>\n",
       "      <td>3</td>\n",
       "      <td>CA-2013-138688</td>\n",
       "      <td>2013-06-13</td>\n",
       "      <td>2013-06-17</td>\n",
       "      <td>Second Class</td>\n",
       "      <td>DV-13045</td>\n",
       "      <td>Darrin Van Huff</td>\n",
       "      <td>Corporate</td>\n",
       "      <td>United States</td>\n",
       "      <td>...</td>\n",
       "      <td>West</td>\n",
       "      <td>OFF-LA-10000240</td>\n",
       "      <td>Office Supplies</td>\n",
       "      <td>Labels</td>\n",
       "      <td>Self-Adhesive Address Labels for Typewriters b...</td>\n",
       "      <td>14.6200</td>\n",
       "      <td>2</td>\n",
       "      <td>0.00</td>\n",
       "      <td>6.8714</td>\n",
       "      <td>4 days</td>\n",
       "    </tr>\n",
       "    <tr>\n",
       "      <th>3</th>\n",
       "      <td>3</td>\n",
       "      <td>4</td>\n",
       "      <td>US-2012-108966</td>\n",
       "      <td>2012-10-11</td>\n",
       "      <td>2012-10-18</td>\n",
       "      <td>Standard Class</td>\n",
       "      <td>SO-20335</td>\n",
       "      <td>Sean O'Donnell</td>\n",
       "      <td>Consumer</td>\n",
       "      <td>United States</td>\n",
       "      <td>...</td>\n",
       "      <td>South</td>\n",
       "      <td>FUR-TA-10000577</td>\n",
       "      <td>Furniture</td>\n",
       "      <td>Tables</td>\n",
       "      <td>Bretford CR4500 Series Slim Rectangular Table</td>\n",
       "      <td>957.5775</td>\n",
       "      <td>5</td>\n",
       "      <td>0.45</td>\n",
       "      <td>-383.0310</td>\n",
       "      <td>7 days</td>\n",
       "    </tr>\n",
       "  </tbody>\n",
       "</table>\n",
       "<p>2 rows × 23 columns</p>\n",
       "</div>"
      ],
      "text/plain": [
       "   Unnamed: 0  Row ID        Order ID Order Date  Ship Date       Ship Mode  \\\n",
       "2           2       3  CA-2013-138688 2013-06-13 2013-06-17    Second Class   \n",
       "3           3       4  US-2012-108966 2012-10-11 2012-10-18  Standard Class   \n",
       "\n",
       "  Customer ID    Customer Name    Segment        Country  ... Region  \\\n",
       "2    DV-13045  Darrin Van Huff  Corporate  United States  ...   West   \n",
       "3    SO-20335   Sean O'Donnell   Consumer  United States  ...  South   \n",
       "\n",
       "        Product ID         Category Sub-Category  \\\n",
       "2  OFF-LA-10000240  Office Supplies       Labels   \n",
       "3  FUR-TA-10000577        Furniture       Tables   \n",
       "\n",
       "                                        Product Name     Sales Quantity  \\\n",
       "2  Self-Adhesive Address Labels for Typewriters b...   14.6200        2   \n",
       "3      Bretford CR4500 Series Slim Rectangular Table  957.5775        5   \n",
       "\n",
       "  Discount    Profit  duration  \n",
       "2     0.00    6.8714    4 days  \n",
       "3     0.45 -383.0310    7 days  \n",
       "\n",
       "[2 rows x 23 columns]"
      ]
     },
     "execution_count": 46,
     "metadata": {},
     "output_type": "execute_result"
    }
   ],
   "source": [
    "data[data['duration']>'3 day'].head(2)"
   ]
  },
  {
   "cell_type": "code",
   "execution_count": 49,
   "metadata": {},
   "outputs": [
    {
     "data": {
      "text/plain": [
       "0    5\n",
       "1    5\n",
       "2    3\n",
       "3    3\n",
       "4    3\n",
       "Name: Order Date, dtype: int64"
      ]
     },
     "execution_count": 49,
     "metadata": {},
     "output_type": "execute_result"
    }
   ],
   "source": [
    "data['Order Date'].dt.weekday.head()"
   ]
  },
  {
   "cell_type": "code",
   "execution_count": 50,
   "metadata": {},
   "outputs": [
    {
     "name": "stdout",
     "output_type": "stream",
     "text": [
      "Object `data['Order Date'].dt.weekday` not found.\n"
     ]
    }
   ],
   "source": [
    "?data['Order Date'].dt.weekday"
   ]
  },
  {
   "cell_type": "code",
   "execution_count": 53,
   "metadata": {},
   "outputs": [
    {
     "data": {
      "text/plain": [
       "0    Saturday\n",
       "1    Saturday\n",
       "2    Thursday\n",
       "3    Thursday\n",
       "4    Thursday\n",
       "Name: Order Date, dtype: object"
      ]
     },
     "execution_count": 53,
     "metadata": {},
     "output_type": "execute_result"
    }
   ],
   "source": [
    "data['Order Date'].dt.weekday_name.head()"
   ]
  },
  {
   "cell_type": "code",
   "execution_count": 54,
   "metadata": {},
   "outputs": [],
   "source": [
    "#1. Find out the number of delayed flights for all weekdays\n",
    "#2. Find the average distance, total distance and count for all delayed flights on Friday.\n",
    "#3. Find out how many flights were on time on Week days and Weekends (Consider Saturday and Sunday as weekends)\n",
    "#4. Find out the number of flights for each destination across all weekdays\n",
    "#5. Find out the number of times weather was bad across all weekdays. (1 indicates bad weather)\n"
   ]
  },
  {
   "cell_type": "code",
   "execution_count": 55,
   "metadata": {},
   "outputs": [],
   "source": [
    "path3=\"/Users/gunnvantsaini/Data/Work/Python Trainings/PythonForModellers/Data/FlightDelays.csv\""
   ]
  },
  {
   "cell_type": "code",
   "execution_count": 56,
   "metadata": {},
   "outputs": [],
   "source": [
    "flt=pd.read_csv(path3)"
   ]
  },
  {
   "cell_type": "code",
   "execution_count": 57,
   "metadata": {},
   "outputs": [
    {
     "data": {
      "text/html": [
       "<div>\n",
       "<style scoped>\n",
       "    .dataframe tbody tr th:only-of-type {\n",
       "        vertical-align: middle;\n",
       "    }\n",
       "\n",
       "    .dataframe tbody tr th {\n",
       "        vertical-align: top;\n",
       "    }\n",
       "\n",
       "    .dataframe thead th {\n",
       "        text-align: right;\n",
       "    }\n",
       "</style>\n",
       "<table border=\"1\" class=\"dataframe\">\n",
       "  <thead>\n",
       "    <tr style=\"text-align: right;\">\n",
       "      <th></th>\n",
       "      <th>schedtime</th>\n",
       "      <th>carrier</th>\n",
       "      <th>deptime</th>\n",
       "      <th>dest</th>\n",
       "      <th>distance</th>\n",
       "      <th>date</th>\n",
       "      <th>flightnumber</th>\n",
       "      <th>origin</th>\n",
       "      <th>weather</th>\n",
       "      <th>tailnu</th>\n",
       "      <th>delay</th>\n",
       "    </tr>\n",
       "  </thead>\n",
       "  <tbody>\n",
       "    <tr>\n",
       "      <th>0</th>\n",
       "      <td>1455</td>\n",
       "      <td>OH</td>\n",
       "      <td>1455</td>\n",
       "      <td>JFK</td>\n",
       "      <td>184</td>\n",
       "      <td>01-01-2004</td>\n",
       "      <td>5935</td>\n",
       "      <td>BWI</td>\n",
       "      <td>0</td>\n",
       "      <td>N940CA</td>\n",
       "      <td>ontime</td>\n",
       "    </tr>\n",
       "    <tr>\n",
       "      <th>1</th>\n",
       "      <td>1640</td>\n",
       "      <td>DH</td>\n",
       "      <td>1640</td>\n",
       "      <td>JFK</td>\n",
       "      <td>213</td>\n",
       "      <td>01-01-2004</td>\n",
       "      <td>6155</td>\n",
       "      <td>DCA</td>\n",
       "      <td>0</td>\n",
       "      <td>N405FJ</td>\n",
       "      <td>ontime</td>\n",
       "    </tr>\n",
       "  </tbody>\n",
       "</table>\n",
       "</div>"
      ],
      "text/plain": [
       "   schedtime carrier  deptime dest  distance        date  flightnumber origin  \\\n",
       "0       1455      OH     1455  JFK       184  01-01-2004          5935    BWI   \n",
       "1       1640      DH     1640  JFK       213  01-01-2004          6155    DCA   \n",
       "\n",
       "   weather  tailnu   delay  \n",
       "0        0  N940CA  ontime  \n",
       "1        0  N405FJ  ontime  "
      ]
     },
     "execution_count": 57,
     "metadata": {},
     "output_type": "execute_result"
    }
   ],
   "source": [
    "flt.head(2)"
   ]
  },
  {
   "cell_type": "code",
   "execution_count": 60,
   "metadata": {},
   "outputs": [
    {
     "data": {
      "text/plain": [
       "array(['ontime', 'delayed'], dtype=object)"
      ]
     },
     "execution_count": 60,
     "metadata": {},
     "output_type": "execute_result"
    }
   ],
   "source": [
    "flt['delay'].unique()"
   ]
  },
  {
   "cell_type": "code",
   "execution_count": 58,
   "metadata": {},
   "outputs": [],
   "source": [
    "flt['date']=pd.to_datetime(flt['date'])"
   ]
  },
  {
   "cell_type": "code",
   "execution_count": 59,
   "metadata": {},
   "outputs": [],
   "source": [
    "flt['weekdays']=flt['date'].dt.weekday"
   ]
  },
  {
   "cell_type": "code",
   "execution_count": 63,
   "metadata": {},
   "outputs": [],
   "source": [
    "q=\"delay=='delayed' and weekdays<=4\""
   ]
  },
  {
   "cell_type": "code",
   "execution_count": 64,
   "metadata": {},
   "outputs": [
    {
     "data": {
      "text/plain": [
       "336"
      ]
     },
     "execution_count": 64,
     "metadata": {},
     "output_type": "execute_result"
    }
   ],
   "source": [
    "flt.query(q).shape[0]"
   ]
  },
  {
   "cell_type": "code",
   "execution_count": 65,
   "metadata": {},
   "outputs": [],
   "source": [
    "q=\"delay=='delayed' and weekdays==4\""
   ]
  },
  {
   "cell_type": "code",
   "execution_count": 66,
   "metadata": {},
   "outputs": [
    {
     "data": {
      "text/plain": [
       "210.28"
      ]
     },
     "execution_count": 66,
     "metadata": {},
     "output_type": "execute_result"
    }
   ],
   "source": [
    "flt.query(q)['distance'].mean()"
   ]
  },
  {
   "cell_type": "code",
   "execution_count": 67,
   "metadata": {},
   "outputs": [
    {
     "data": {
      "text/plain": [
       "15771"
      ]
     },
     "execution_count": 67,
     "metadata": {},
     "output_type": "execute_result"
    }
   ],
   "source": [
    "flt.query(q)['distance'].sum()"
   ]
  },
  {
   "cell_type": "code",
   "execution_count": 68,
   "metadata": {},
   "outputs": [
    {
     "data": {
      "text/plain": [
       "75"
      ]
     },
     "execution_count": 68,
     "metadata": {},
     "output_type": "execute_result"
    }
   ],
   "source": [
    "flt.query(q)['distance'].shape[0]"
   ]
  },
  {
   "cell_type": "code",
   "execution_count": 69,
   "metadata": {},
   "outputs": [
    {
     "data": {
      "text/html": [
       "<div>\n",
       "<style scoped>\n",
       "    .dataframe tbody tr th:only-of-type {\n",
       "        vertical-align: middle;\n",
       "    }\n",
       "\n",
       "    .dataframe tbody tr th {\n",
       "        vertical-align: top;\n",
       "    }\n",
       "\n",
       "    .dataframe thead th {\n",
       "        text-align: right;\n",
       "    }\n",
       "</style>\n",
       "<table border=\"1\" class=\"dataframe\">\n",
       "  <thead>\n",
       "    <tr style=\"text-align: right;\">\n",
       "      <th></th>\n",
       "      <th>distance</th>\n",
       "    </tr>\n",
       "  </thead>\n",
       "  <tbody>\n",
       "    <tr>\n",
       "      <th>mean</th>\n",
       "      <td>210.28</td>\n",
       "    </tr>\n",
       "    <tr>\n",
       "      <th>sum</th>\n",
       "      <td>15771.00</td>\n",
       "    </tr>\n",
       "    <tr>\n",
       "      <th>size</th>\n",
       "      <td>75.00</td>\n",
       "    </tr>\n",
       "  </tbody>\n",
       "</table>\n",
       "</div>"
      ],
      "text/plain": [
       "      distance\n",
       "mean    210.28\n",
       "sum   15771.00\n",
       "size     75.00"
      ]
     },
     "execution_count": 69,
     "metadata": {},
     "output_type": "execute_result"
    }
   ],
   "source": [
    "flt.query(q).agg({'distance':['mean','sum','size']})"
   ]
  },
  {
   "cell_type": "code",
   "execution_count": 72,
   "metadata": {},
   "outputs": [],
   "source": [
    "q1=\"delay=='ontime' and weekdays<=4\"\n",
    "q2=\"delay=='ontime' and weekdays>=5\""
   ]
  },
  {
   "cell_type": "code",
   "execution_count": 73,
   "metadata": {},
   "outputs": [
    {
     "data": {
      "text/plain": [
       "1362"
      ]
     },
     "execution_count": 73,
     "metadata": {},
     "output_type": "execute_result"
    }
   ],
   "source": [
    "flt.query(q1).shape[0]"
   ]
  },
  {
   "cell_type": "code",
   "execution_count": 74,
   "metadata": {},
   "outputs": [
    {
     "data": {
      "text/plain": [
       "411"
      ]
     },
     "execution_count": 74,
     "metadata": {},
     "output_type": "execute_result"
    }
   ],
   "source": [
    "flt.query(q2).shape[0]"
   ]
  },
  {
   "cell_type": "code",
   "execution_count": 75,
   "metadata": {},
   "outputs": [],
   "source": [
    "def get_wk_day(x):\n",
    "    if x<=4:\n",
    "        return \"weekday\"\n",
    "    else:\n",
    "        return \"weekend\"\n",
    "flt['is_weekday']=flt['weekdays'].map(get_wk_day)"
   ]
  },
  {
   "cell_type": "code",
   "execution_count": 76,
   "metadata": {},
   "outputs": [
    {
     "data": {
      "text/plain": [
       "weekday    1362\n",
       "weekend     411\n",
       "Name: is_weekday, dtype: int64"
      ]
     },
     "execution_count": 76,
     "metadata": {},
     "output_type": "execute_result"
    }
   ],
   "source": [
    "flt.query(\"delay=='ontime'\")['is_weekday'].value_counts()"
   ]
  },
  {
   "cell_type": "code",
   "execution_count": 77,
   "metadata": {},
   "outputs": [
    {
     "data": {
      "text/plain": [
       "dest\n",
       "EWR    507\n",
       "JFK    272\n",
       "LGA    919\n",
       "dtype: int64"
      ]
     },
     "execution_count": 77,
     "metadata": {},
     "output_type": "execute_result"
    }
   ],
   "source": [
    "flt.query(\"weekdays<=4\").groupby(\"dest\").size()"
   ]
  },
  {
   "cell_type": "code",
   "execution_count": 78,
   "metadata": {},
   "outputs": [
    {
     "data": {
      "text/plain": [
       "LGA    919\n",
       "EWR    507\n",
       "JFK    272\n",
       "Name: dest, dtype: int64"
      ]
     },
     "execution_count": 78,
     "metadata": {},
     "output_type": "execute_result"
    }
   ],
   "source": [
    "flt.query(\"weekdays<=4\")['dest'].value_counts()"
   ]
  },
  {
   "cell_type": "code",
   "execution_count": null,
   "metadata": {},
   "outputs": [],
   "source": []
  }
 ],
 "metadata": {
  "kernelspec": {
   "display_name": "Python 3",
   "language": "python",
   "name": "python3"
  },
  "language_info": {
   "codemirror_mode": {
    "name": "ipython",
    "version": 3
   },
   "file_extension": ".py",
   "mimetype": "text/x-python",
   "name": "python",
   "nbconvert_exporter": "python",
   "pygments_lexer": "ipython3",
   "version": "3.7.2"
  }
 },
 "nbformat": 4,
 "nbformat_minor": 2
}
